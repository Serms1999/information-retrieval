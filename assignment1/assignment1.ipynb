{
 "cells": [
  {
   "cell_type": "code",
   "id": "initial_id",
   "metadata": {
    "collapsed": true,
    "ExecuteTime": {
     "end_time": "2024-04-08T17:42:01.166290Z",
     "start_time": "2024-04-08T17:42:01.163584Z"
    }
   },
   "source": [
    "import numpy as np\n",
    "%%capture\n",
    "!pip install pandas nltk scikit-learn"
   ],
   "outputs": [
    {
     "name": "stderr",
     "output_type": "stream",
     "text": [
      "UsageError: Line magic function `%%capture` not found.\n"
     ]
    }
   ],
   "execution_count": 71
  },
  {
   "cell_type": "code",
   "id": "8b7d3377bdb5e1af",
   "metadata": {
    "collapsed": false,
    "ExecuteTime": {
     "end_time": "2024-04-08T17:42:01.181339Z",
     "start_time": "2024-04-08T17:42:01.178194Z"
    }
   },
   "source": [
    "import pandas as pd\n",
    "import nltk\n",
    "from preprocessing import lowercase_data, remove_punctuation, remove_stopwords, LemmatizerOrStemmer, WordSimplification\n",
    "from typing import Tuple, Dict, List, Union, Set\n",
    "\n",
    "nltk.download('punkt')\n",
    "nltk.download('wordnet')\n",
    "nltk.download('stopwords')"
   ],
   "outputs": [
    {
     "name": "stderr",
     "output_type": "stream",
     "text": [
      "[nltk_data] Downloading package punkt to\n",
      "[nltk_data]     /Users/serms/.config/nltk_data...\n",
      "[nltk_data]   Package punkt is already up-to-date!\n",
      "[nltk_data] Downloading package wordnet to\n",
      "[nltk_data]     /Users/serms/.config/nltk_data...\n",
      "[nltk_data]   Package wordnet is already up-to-date!\n",
      "[nltk_data] Downloading package stopwords to\n",
      "[nltk_data]     /Users/serms/.config/nltk_data...\n",
      "[nltk_data]   Package stopwords is already up-to-date!\n"
     ]
    },
    {
     "data": {
      "text/plain": [
       "True"
      ]
     },
     "execution_count": 72,
     "metadata": {},
     "output_type": "execute_result"
    }
   ],
   "execution_count": 72
  },
  {
   "cell_type": "code",
   "id": "88d221b76ddf2d70",
   "metadata": {
    "collapsed": false,
    "ExecuteTime": {
     "end_time": "2024-04-08T17:42:01.242419Z",
     "start_time": "2024-04-08T17:42:01.197121Z"
    }
   },
   "source": [
    "dtypes = {\n",
    "    'ArticleId': 'int32',\n",
    "    'Text': 'str',\n",
    "    'Category': 'category'\n",
    "}\n",
    "data_train = pd.read_csv('data/BBC News Train.csv', dtype=dtypes, encoding='utf-8', index_col='ArticleId')\n",
    "data_test = pd.read_csv('data/BBC News Test.csv', dtype={'ArticleId': 'int32', 'Text': 'str'}, encoding='utf-8', index_col='ArticleId')\n",
    "data_test_solution = pd.read_csv('data/BBC News Sample Solution.csv', dtype={'ArticleId': 'int32', 'Category': 'category'}, encoding='utf-8', index_col='ArticleId')\n",
    "data_test['Category'] = data_test_solution['Category']\n",
    "data = pd.concat([data_train, data_test])\n",
    "data.head(10)"
   ],
   "outputs": [
    {
     "data": {
      "text/plain": [
       "                                                                                                                                                                                                                                                                                                                                                                                                                                                                                                                                                                                                                                                                                                                                                                                                                                                                                                                                                                                                                                                                                                                                                                                                                                                                                                                                                                                                                                                                                                                                                                                                                                                                                                                                                                                                                                                                                                                                                                                                                                                                                                                                                                                                                                                                                                                                                                                                                                                                                                                                                                                                                                                                                                                                                                                                                                                                                                                                                                                                                                                                                                                                                                                                                                                                                                                                                                                                                                                                                                                                                                                                                                                                                                                                                                         Text  \\\n",
       "ArticleId                                                                                                                                                                                                                                                                                                                                                                                                                                                                                                                                                                                                                                                                                                                                                                                                                                                                                                                                                                                                                                                                                                                                                                                                                                                                                                                                                                                                                                                                                                                                                                                                                                                                                                                                                                                                                                                                                                                                                                                                                                                                                                                                                                                                                                                                                                                                                                                                                                                                                                                                                                                                                                                                                                                                                                                                                                                                                                                                                                                                                                                                                                                                                                                                                                                                                                                                                                                                                                                                                                                                                                                                                                                                                                                                                                       \n",
       "1833                                                                                                                                                                                                                                                                                                                                                                                                                                                                                                                                                                                                                                                                                                                                                                                                                                                                                                                                                                                                                                                                                                                                                                                                                                                                                                                                                                                                                                                                                                                                                                                                                                                                                                                                                                                                                               worldcom ex-boss launches defence lawyers defending former worldcom chief bernie ebbers against a battery of fraud charges have called a company whistleblower as their first witness.  cynthia cooper  worldcom s ex-head of internal accounting  alerted directors to irregular accounting practices at the us telecoms giant in 2002. her warnings led to the collapse of the firm following the discovery of an $11bn (£5.7bn) accounting fraud. mr ebbers has pleaded not guilty to charges of fraud and conspiracy.  prosecution lawyers have argued that mr ebbers orchestrated a series of accounting tricks at worldcom  ordering employees to hide expenses and inflate revenues to meet wall street earnings estimates. but ms cooper  who now runs her own consulting business  told a jury in new york on wednesday that external auditors arthur andersen had approved worldcom s accounting in early 2001 and 2002. she said andersen had given a  green light  to the procedures and practices used by worldcom. mr ebber s lawyers have said he was unaware of the fraud  arguing that auditors did not alert him to any problems.  ms cooper also said that during shareholder meetings mr ebbers often passed over technical questions to the company s finance chief  giving only  brief  answers himself. the prosecution s star witness  former worldcom financial chief scott sullivan  has said that mr ebbers ordered accounting adjustments at the firm  telling him to  hit our books . however  ms cooper said mr sullivan had not mentioned  anything uncomfortable  about worldcom s accounting during a 2001 audit committee meeting. mr ebbers could face a jail sentence of 85 years if convicted of all the charges he is facing. worldcom emerged from bankruptcy protection in 2004  and is now known as mci. last week  mci agreed to a buyout by verizon communications in a deal valued at $6.75bn.   \n",
       "154                                                                                                                                                                                                                                                                                                                                                                                                                                                                                                                                                                                                                                                                                                                                                                                                                                                                                                                                                                                                                                                                                                                                                                                                                                                                                                                                                                                                                                                                                                                                                                                                                                                                          german business confidence slides german business confidence fell in february knocking hopes of a speedy recovery in europe s largest economy.  munich-based research institute ifo said that its confidence index fell to 95.5 in february from 97.5 in january  its first decline in three months. the study found that the outlook in both the manufacturing and retail sectors had worsened. observers had been hoping that a more confident business sector would signal that economic activity was picking up.   we re surprised that the ifo index has taken such a knock   said dz bank economist bernd weidensteiner.  the main reason is probably that the domestic economy is still weak  particularly in the retail trade.  economy and labour minister wolfgang clement called the dip in february s ifo confidence figure  a very mild decline . he said that despite the retreat  the index remained at a relatively high level and that he expected  a modest economic upswing  to continue.  germany s economy grew 1.6% last year after shrinking in 2003. however  the economy contracted by 0.2% during the last three months of 2004  mainly due to the reluctance of consumers to spend. latest indications are that growth is still proving elusive and ifo president hans-werner sinn said any improvement in german domestic demand was sluggish. exports had kept things going during the first half of 2004  but demand for exports was then hit as the value of the euro hit record levels making german products less competitive overseas. on top of that  the unemployment rate has been stuck at close to 10% and manufacturing firms  including daimlerchrysler  siemens and volkswagen  have been negotiating with unions over cost cutting measures. analysts said that the ifo figures and germany s continuing problems may delay an interest rate rise by the european central bank. eurozone interest rates are at 2%  but comments from senior officials have recently focused on the threat of inflation  prompting fears that interest rates may rise.   \n",
       "1101                                                                                                                                                                                                                                                                                                                                                                                                                                                                                                                                         bbc poll indicates economic gloom citizens in a majority of nations surveyed in a bbc world service poll believe the world economy is worsening.  most respondents also said their national economy was getting worse. but when asked about their own family s financial outlook  a majority in 14 countries said they were positive about the future. almost 23 000 people in 22 countries were questioned for the poll  which was mostly conducted before the asian tsunami disaster. the poll found that a majority or plurality of people in 13 countries believed the economy was going downhill  compared with respondents in nine countries who believed it was improving. those surveyed in three countries were split. in percentage terms  an average of 44% of respondents in each country said the world economy was getting worse  compared to 34% who said it was improving. similarly  48% were pessimistic about their national economy  while 41% were optimistic. and 47% saw their family s economic conditions improving  as against 36% who said they were getting worse.  the poll of 22 953 people was conducted by the international polling firm globescan  together with the program on international policy attitudes (pipa) at the university of maryland.  while the world economy has picked up from difficult times just a few years ago  people seem to not have fully absorbed this development  though they are personally experiencing its effects   said pipa director steven kull.  people around the world are saying:  i m ok  but the world isn t .  there may be a perception that war  terrorism and religious and political divisions are making the world a worse place  even though that has not so far been reflected in global economic performance  says the bbc s elizabeth blunt.  the countries where people were most optimistic  both for the world and for their own families  were two fast-growing developing economies  china and india  followed by indonesia. china has seen two decades of blistering economic growth  which has led to wealth creation on a huge scale  says the bbc s louisa lim in beijing. but the results also may reflect the untrammelled confidence of people who are subject to endless government propaganda about their country s rosy economic future  our correspondent says. south korea was the most pessimistic  while respondents in italy and mexico were also quite gloomy. the bbc s david willey in rome says one reason for that result is the changeover from the lira to the euro in 2001  which is widely viewed as the biggest reason why their wages and salaries are worth less than they used to be. the philippines was among the most upbeat countries on prospects for respondents  families  but one of the most pessimistic about the world economy. pipa conducted the poll from 15 november 2004 to 3 january 2005 across 22 countries in face-to-face or telephone interviews. the interviews took place between 15 november 2004 and 5 january 2005. the margin of error is between 2.5 and 4 points  depending on the country. in eight of the countries  the sample was limited to major metropolitan areas.   \n",
       "1976       lifestyle  governs mobile choice  faster  better or funkier hardware alone is not going to help phone firms sell more handsets  research suggests.  instead  phone firms keen to get more out of their customers should not just be pushing the technology for its own sake. consumers are far more interested in how handsets fit in with their lifestyle than they are in screen size  onboard memory or the chip inside  shows an in-depth study by handset maker ericsson.  historically in the industry there has been too much focus on using technology   said dr michael bjorn  senior advisor on mobile media at ericsson s consumer and enterprise lab.  we have to stop saying that these technologies will change their lives   he said.  we should try to speak to consumers in their own language and help them see how it fits in with what they are doing   he told the bbc news website.  for the study  ericsson interviewed 14 000 mobile phone owners on the ways they use their phone.  people s habits remain the same   said dr bjorn.  they just move the activity into the mobile phone as it s a much more convenient way to do it.   one good example of this was diary-writing among younger people  he said. while diaries have always been popular  a mobile phone -- especially one equipped with a camera -- helps them keep it in a different form. youngsters  use of text messages also reflects their desire to chat and keep in contact with friends and again just lets them do it in a slightly changed way. dr bjorn said that although consumers do what they always did but use a phone to do it  the sheer variety of what the new handset technologies make possible does gradually drive new habits and lifestyles. ericsson s research has shown that consumers divide into different  tribes  that use phones in different ways. dr bjorn said groups dubbed  pioneers  and  materialists  were most interested in trying new things and were behind the start of many trends in phone use.  for instance   he said   older people are using sms much more than they did five years ago.  this was because younger users  often the children of ageing mobile owners  encouraged older people to try it so they could keep in touch.  another factor governing the speed of change in mobile phone use was the simple speed with which new devices are bought by pioneers and materialists. only when about 25% of people have handsets with new innovations on them  such as cameras  can consumers stop worrying that if they send a picture message the person at the other end will be able to see it.  once this significant number of users is passed  use of new innovations tends to take off. dr bjorn said that early reports of camera phone usage in japan seemed to imply that the innovation was going to be a flop. however  he said  now 45% of the japanese people ericsson questioned use their camera phone at least once a month. in 2003 the figure was 29%. similarly  across europe the numbers of people taking snaps with cameras is starting to rise. in 2003 only 4% of the people in the uk took a phonecam snap at least once a month. now the figure is 14%. similar rises have been seen in many other european nations. dr bjorn said that people also used their camera phones in very different ways to film and even digital cameras.  usage patterns for digital cameras are almost exactly replacing usage patterns for analogue cameras   he said. digital cameras tend to be used on significant events such as weddings  holidays and birthdays. by contrast  he said  camera phones were being used much more to capture a moment and were being woven into everyday life.   \n",
       "917                                                                                                                                                                                                                                                                                                                                                                                                                                                                                                                                                                                                                                                                                                                                                                                                                                                                                                                                                                                                                                                                                                                                                                                                                                                                                                                                                                                                                                                                                            enron bosses in $168m payout eighteen former enron directors have agreed a $168m (£89m) settlement deal in a shareholder lawsuit over the collapse of the energy firm.  leading plaintiff  the university of california  announced the news  adding that 10 of the former directors will pay $13m from their own pockets. the settlement will be put to the courts for approval next week. enron went bankrupt in 2001 after it emerged it had hidden hundreds of millions of dollars in debt.  before its collapse  the firm was the seventh biggest public us company by revenue. its demise sent shockwaves through financial markets and dented investor confidence in corporate america.   the settlement is very significant in holding these outside directors at least partially personally responsible   william lerach  the lawyer leading the class action suit against enron  said.  hopefully  this will help send a message to corporate boardrooms of the importance of directors performing their legal duties   he added. under the terms of the $168m settlement - $155m of which will be covered by insurance - none of the 18 former directors will admit any wrongdoing. the deal is the fourth major settlement negotiated by lawyers who filed a class action on behalf of enron s shareholders almost three years ago. so far  including the latest deal  just under $500m (£378.8m) has been retrieved for investors.  however  the latest deal does not include former enron chief executives ken lay and jeff skilling. both men are facing criminal charges for their alleged misconduct in the run up to the firm s collapse. neither does it cover andrew fastow  who has pleaded guilty to taking part in an illegal conspiracy while he was chief financial officer at the group. enron s shareholders are still seeking damages from a long list of other big name defendants including the financial institutions jp morgan chase  citigroup  merrill lynch and credit suisse first boston. the university of california said the trial in the case is scheduled to begin in october 2006. it joined the lawsuit in december 2001alleging  massive insider trading  and fraud  claiming it had lost $145m on its investments in the company.   \n",
       "1582                                                                                                                                                                                                                                                                                                                                                                                                                                                                                                                                                                                                                                                                                                                                                                                                                                                                                                                                                                                                                                                                                                                                                                                                                                                                                                                                                                                                                                                                                                                                                                                                                                                                                                                                                                                                                                                                                                                                                                                                                                                                                                                     howard  truanted to play snooker  conservative leader michael howard has admitted he used to play truant to spend time with his school friends at a snooker hall.  mr howard said his time at jack s snooker hall in llanelli in the 1950s had not done him  any lasting damage . but he told the times educational supplement that truancy was  very bad  and said  firm action  was needed. mr howard also called for a return to o-levels and more classroom discipline.  mr howard eventually left llanelli grammar school - and the snooker hall - to go to cambridge university. he said:  i don t think it s done me any lasting damage. nor has it made me a snooker world champion.  there might have been some occasions when we left early of an afternoon.   i m just being honest. i think truancy is a very bad thing and that firm action should be taken to deal with it.  another player who has failed to win snooker s world championship - jimmy  the whirlwind   white - has previously admitted missing lessons  instead spending his days in smoky halls.  tony meo [another player] and me used to spend all of our spare time there   mr white said   we loved the game and the atmosphere.  school went out of the window. i went for a while and then started taking time off.  mr howard s fellow welshman ray reardon - known by his fellow professionals as  dracula  - won the snooker world championship six times  having left school at 14 to work as a miner. and terry griffiths  like mr howard from llanelli  won the tournament in 1979. it is not known whether the two of them ever clashed cues at jack s.   \n",
       "651                                                                                                                                                                                                                                                                                                                                                                                                                                                                                                                                                                                                                                                                                                                                                                                                                                                                                                                                                                                                                                                                                                                                                                                                                                                                                                                                                                                                                                                                                                                                                                                                                                                                                                      wales silent on grand slam talk rhys williams says wales are still not thinking of winning the grand slam despite a third six nations win.   that s the last thing on our minds at the moment   said williams  a second- half replacement in saturday s 24-18 win over france in paris.  we all realise how difficult a task it is to go up to scotland and beat them.  we ve come unstuck there a couple of times recently so our focus is on that game and we ll worry about ireland hopefully after we ve beaten scotland.  with captain gareth thomas ruled out of the rest of the campaign with a broken thumb  williams is vying for his first start in the championship so far.  kevin morgan is probably favourite to replace thomas at full-back  leaving williams and hal luscombe to battle for the right wing berth. a hamstring injury denied luscombe the opportunity to make a third successive start  but the dragons winger is expected to be fit for the trip to murrayfield on 13 march. hooker robin mcbryde is doubtful after picking up a knee injury in paris  but centre sonny parker and flanker colin charvis are set to recover from injury to be in contention for selection. said wales assistant coach scott johnson:  they ve worked through the weekend and the reports are a bit more positive.  so we re getting a couple back and that adds to the depth of the squad.  scotland secured their first win of the campaign on saturday by grinding out an 18-10 win over italy.  matt williams  side has shown little in attack  but johnson insisted the scots will be difficult opposition to break down.  italy are really brave opposition and sometimes it s very hard to win   he said.  so an ugly win can be just as effective as a 30 or 40 point victory.  scotland are a hard side and very underrated so we re not taking anything for granted.  we re not basking in the glory of winning our first three games. we ve got to be diligent in our preparation.  that s my job and we ve got to make sure we re focused.   \n",
       "1797                                                                                                                                                                                                                                                                                                                                                                                                                                                                                                                                                                                                                                                                                                                                                                                                                                                                                                                                                                                                                                                                                                                                                                                                                                                                                                                                                                                                                                                                                                                                                                                                                                                                                                                                                                                                                                                                                                                                                                                                                                                                                                                                                                                                                                                                                                                                                                           french honour for director parker british film director sir alan parker has been made an officer in the order of arts and letters  one of france s highest cultural honours.  sir alan received his decoration in paris on wednesday from french culture minister renaud donnedieu de vabres.  you have explored the possibilities of film with an immense talent   mr de vabres said as he presented the award. parker praised french films  saying:  hollywood  which created modern cinema  uses it only as a commodity.  he told the minister:  i am honoured to be thus distinguished by france  the flag carrier of cinema throughout the world.  sir alan s films include oscar-winning fame plus midnight express and the commitments.  a founding member of the director s guild of great britain  he is a former chairman of the uk film council and on the board of the british film institute.  through your work and your campaigns  you have shown us how the artist occupies an essential place in our contemporary society   mr de vabres said.  through your dreams which you show us  through the links that you weave  you question the world through the mirror of your work.  he also cited the director s 2003 film the life of david gale  in which kevin spacey played a man on death row  as proof of his  veritable artistic commitment against the death sentence .   \n",
       "2034                                                                                                                                                                                                                                                                                                                                                                                                                                                                                                                                                                                                                                                                                                                                                                                                                                                                                                                                                                                                                                                        car giant hit by mercedes slump a slump in profitability at luxury car maker mercedes has prompted a big drop in profits at parent daimlerchrysler.  the german-us carmaker saw fourth quarter operating profits fall to 785m euros ($1bn) from 2.4bn euros in 2003. mercedes-benz s woes - its profits slid to just 20m euros - obscured a strong performance from the chrysler group whose returns met market expectations. mercedes faces fierce competition in the luxury car sector from bmw and but hopes to revive its fortunes by 2006.  mercedes  profits over the period compared unfavourably with 2003 s 784m euro figure and were well below analyst expectations of 374m euros. for the year as a whole  its operating profits fell 46% to 1.6bn euros. sales of mercedes  brands fell 2% as demand cooled  while revenues were affected by the weakness of the us dollar.  the carmaker blamed the fall in profits on high launch costs for new models and losses from its mercedes smart mini-car range. mercedes is hoping to increase productivity by 3bn euros  having negotiated 500m euros in annual savings with german workers last year. the firm said it was determined to retain mercedes  position as the world s most successful luxury brand. however  daimlerchrysler s shares fell 1.5% on the news.  while all these divisions are doing well the big worries continue to surround mercedes-benz   michael rabb  an analyst with bank sal oppenheim  told reuters.  in contrast  chrysler enjoyed a 5% annual increase in unit sales while revenues - calculated in us dollars - rose 10%. the us division - whose marques include dodge and jeep - transformed a full year operating loss of 506m euros in 2003 into a 1.4bn euros profit last year.  overall  daimlerchrysler saw worldwide vehicle sales rise 8% to 4.7 million in 2004 while total revenues added 4% to 142bn euros. chrysler s strong performance helped the world s fifth largest carmaker boost net income by 400m euros to 2.5bn euros.   the year 2004 shows that our strategy works well - even in such a challenging competitive environment   said jurgen schrempp  daimlerchrysler s chairman. daimlerchrysler took a 475m euro hit in costs stemming from a defects scandal at its joint venture  japanese subsidiary fuso. daimlerchrysler last week agreed a compensation package with partner mitsubishi motors which will see it buy out its stake in fuso. looking forward  daimerchrysler s profits are expected to be slightly higher in 2005. however  it is expecting  significant improvements  in profitability in 2006 as a result of a major investment in the mercedes product range.   \n",
       "1866                                                                                                                                                                                                                                                                                                                                                                                                                                                                                                                                                                                                                                                                                                                                                                                                                                                                                                                                                                                                                                                                                                                                                                                                                                                                                                                                                                                                                                                                                                                                                                                                                                                                                                                                                                                                                                                                                                                                                                                                                                                                                                                                                                                                                                                                                                                                                 fockers fuel festive film chart comedy meet the fockers topped the festive box office in north america  setting a new record for christmas day.  the sequel took $44.7m (£23.2m) between 24 and 26 december  according to studio estimates. it took $19.1m (£9.9m) on christmas day alone  the highest takings on that day in box office history. meet the fockers is the sequel to ben stiller comedy meet the parents  also starring robert de niro  blythe danner  dustin hoffman and barbra streisand. despite the success of meet the fockers  takings were down 26.5% on 2003 s figures - which was blamed on christmas falling over a weekend this year.   when christmas falls on a weekend  it s bad for business   said paul dergarabedian  president of exhibitor relations  which compiles box office statistics. the weekend s top 12 films took an estimated $121.9m (£63.3m)  compared with $165.8m (£86.1m) last year  when the third lord of the rings film dominated the box office. meet the fockers knocked last week s top film  lemony snicket s a series of unfortunate events  down to third place  with $12.5m (£6.5m). comedy fat albert - co-written by bill cosby - entered the chart in second place after opening on christmas day  taking $12.7m (£6.6m). the aviator  starring leonardo dicaprio as howard hughes  took $9.4m after expanding from 40 to 1 796 cinemas on christmas day.   \n",
       "\n",
       "                Category  \n",
       "ArticleId                 \n",
       "1833            business  \n",
       "154             business  \n",
       "1101            business  \n",
       "1976                tech  \n",
       "917             business  \n",
       "1582            politics  \n",
       "651                sport  \n",
       "1797       entertainment  \n",
       "2034            business  \n",
       "1866       entertainment  "
      ],
      "text/html": [
       "<div>\n",
       "<style scoped>\n",
       "    .dataframe tbody tr th:only-of-type {\n",
       "        vertical-align: middle;\n",
       "    }\n",
       "\n",
       "    .dataframe tbody tr th {\n",
       "        vertical-align: top;\n",
       "    }\n",
       "\n",
       "    .dataframe thead th {\n",
       "        text-align: right;\n",
       "    }\n",
       "</style>\n",
       "<table border=\"1\" class=\"dataframe\">\n",
       "  <thead>\n",
       "    <tr style=\"text-align: right;\">\n",
       "      <th></th>\n",
       "      <th>Text</th>\n",
       "      <th>Category</th>\n",
       "    </tr>\n",
       "    <tr>\n",
       "      <th>ArticleId</th>\n",
       "      <th></th>\n",
       "      <th></th>\n",
       "    </tr>\n",
       "  </thead>\n",
       "  <tbody>\n",
       "    <tr>\n",
       "      <th>1833</th>\n",
       "      <td>worldcom ex-boss launches defence lawyers defending former worldcom chief bernie ebbers against a battery of fraud charges have called a company whistleblower as their first witness.  cynthia cooper  worldcom s ex-head of internal accounting  alerted directors to irregular accounting practices at the us telecoms giant in 2002. her warnings led to the collapse of the firm following the discovery of an $11bn (£5.7bn) accounting fraud. mr ebbers has pleaded not guilty to charges of fraud and conspiracy.  prosecution lawyers have argued that mr ebbers orchestrated a series of accounting tricks at worldcom  ordering employees to hide expenses and inflate revenues to meet wall street earnings estimates. but ms cooper  who now runs her own consulting business  told a jury in new york on wednesday that external auditors arthur andersen had approved worldcom s accounting in early 2001 and 2002. she said andersen had given a  green light  to the procedures and practices used by worldcom. mr ebber s lawyers have said he was unaware of the fraud  arguing that auditors did not alert him to any problems.  ms cooper also said that during shareholder meetings mr ebbers often passed over technical questions to the company s finance chief  giving only  brief  answers himself. the prosecution s star witness  former worldcom financial chief scott sullivan  has said that mr ebbers ordered accounting adjustments at the firm  telling him to  hit our books . however  ms cooper said mr sullivan had not mentioned  anything uncomfortable  about worldcom s accounting during a 2001 audit committee meeting. mr ebbers could face a jail sentence of 85 years if convicted of all the charges he is facing. worldcom emerged from bankruptcy protection in 2004  and is now known as mci. last week  mci agreed to a buyout by verizon communications in a deal valued at $6.75bn.</td>\n",
       "      <td>business</td>\n",
       "    </tr>\n",
       "    <tr>\n",
       "      <th>154</th>\n",
       "      <td>german business confidence slides german business confidence fell in february knocking hopes of a speedy recovery in europe s largest economy.  munich-based research institute ifo said that its confidence index fell to 95.5 in february from 97.5 in january  its first decline in three months. the study found that the outlook in both the manufacturing and retail sectors had worsened. observers had been hoping that a more confident business sector would signal that economic activity was picking up.   we re surprised that the ifo index has taken such a knock   said dz bank economist bernd weidensteiner.  the main reason is probably that the domestic economy is still weak  particularly in the retail trade.  economy and labour minister wolfgang clement called the dip in february s ifo confidence figure  a very mild decline . he said that despite the retreat  the index remained at a relatively high level and that he expected  a modest economic upswing  to continue.  germany s economy grew 1.6% last year after shrinking in 2003. however  the economy contracted by 0.2% during the last three months of 2004  mainly due to the reluctance of consumers to spend. latest indications are that growth is still proving elusive and ifo president hans-werner sinn said any improvement in german domestic demand was sluggish. exports had kept things going during the first half of 2004  but demand for exports was then hit as the value of the euro hit record levels making german products less competitive overseas. on top of that  the unemployment rate has been stuck at close to 10% and manufacturing firms  including daimlerchrysler  siemens and volkswagen  have been negotiating with unions over cost cutting measures. analysts said that the ifo figures and germany s continuing problems may delay an interest rate rise by the european central bank. eurozone interest rates are at 2%  but comments from senior officials have recently focused on the threat of inflation  prompting fears that interest rates may rise.</td>\n",
       "      <td>business</td>\n",
       "    </tr>\n",
       "    <tr>\n",
       "      <th>1101</th>\n",
       "      <td>bbc poll indicates economic gloom citizens in a majority of nations surveyed in a bbc world service poll believe the world economy is worsening.  most respondents also said their national economy was getting worse. but when asked about their own family s financial outlook  a majority in 14 countries said they were positive about the future. almost 23 000 people in 22 countries were questioned for the poll  which was mostly conducted before the asian tsunami disaster. the poll found that a majority or plurality of people in 13 countries believed the economy was going downhill  compared with respondents in nine countries who believed it was improving. those surveyed in three countries were split. in percentage terms  an average of 44% of respondents in each country said the world economy was getting worse  compared to 34% who said it was improving. similarly  48% were pessimistic about their national economy  while 41% were optimistic. and 47% saw their family s economic conditions improving  as against 36% who said they were getting worse.  the poll of 22 953 people was conducted by the international polling firm globescan  together with the program on international policy attitudes (pipa) at the university of maryland.  while the world economy has picked up from difficult times just a few years ago  people seem to not have fully absorbed this development  though they are personally experiencing its effects   said pipa director steven kull.  people around the world are saying:  i m ok  but the world isn t .  there may be a perception that war  terrorism and religious and political divisions are making the world a worse place  even though that has not so far been reflected in global economic performance  says the bbc s elizabeth blunt.  the countries where people were most optimistic  both for the world and for their own families  were two fast-growing developing economies  china and india  followed by indonesia. china has seen two decades of blistering economic growth  which has led to wealth creation on a huge scale  says the bbc s louisa lim in beijing. but the results also may reflect the untrammelled confidence of people who are subject to endless government propaganda about their country s rosy economic future  our correspondent says. south korea was the most pessimistic  while respondents in italy and mexico were also quite gloomy. the bbc s david willey in rome says one reason for that result is the changeover from the lira to the euro in 2001  which is widely viewed as the biggest reason why their wages and salaries are worth less than they used to be. the philippines was among the most upbeat countries on prospects for respondents  families  but one of the most pessimistic about the world economy. pipa conducted the poll from 15 november 2004 to 3 january 2005 across 22 countries in face-to-face or telephone interviews. the interviews took place between 15 november 2004 and 5 january 2005. the margin of error is between 2.5 and 4 points  depending on the country. in eight of the countries  the sample was limited to major metropolitan areas.</td>\n",
       "      <td>business</td>\n",
       "    </tr>\n",
       "    <tr>\n",
       "      <th>1976</th>\n",
       "      <td>lifestyle  governs mobile choice  faster  better or funkier hardware alone is not going to help phone firms sell more handsets  research suggests.  instead  phone firms keen to get more out of their customers should not just be pushing the technology for its own sake. consumers are far more interested in how handsets fit in with their lifestyle than they are in screen size  onboard memory or the chip inside  shows an in-depth study by handset maker ericsson.  historically in the industry there has been too much focus on using technology   said dr michael bjorn  senior advisor on mobile media at ericsson s consumer and enterprise lab.  we have to stop saying that these technologies will change their lives   he said.  we should try to speak to consumers in their own language and help them see how it fits in with what they are doing   he told the bbc news website.  for the study  ericsson interviewed 14 000 mobile phone owners on the ways they use their phone.  people s habits remain the same   said dr bjorn.  they just move the activity into the mobile phone as it s a much more convenient way to do it.   one good example of this was diary-writing among younger people  he said. while diaries have always been popular  a mobile phone -- especially one equipped with a camera -- helps them keep it in a different form. youngsters  use of text messages also reflects their desire to chat and keep in contact with friends and again just lets them do it in a slightly changed way. dr bjorn said that although consumers do what they always did but use a phone to do it  the sheer variety of what the new handset technologies make possible does gradually drive new habits and lifestyles. ericsson s research has shown that consumers divide into different  tribes  that use phones in different ways. dr bjorn said groups dubbed  pioneers  and  materialists  were most interested in trying new things and were behind the start of many trends in phone use.  for instance   he said   older people are using sms much more than they did five years ago.  this was because younger users  often the children of ageing mobile owners  encouraged older people to try it so they could keep in touch.  another factor governing the speed of change in mobile phone use was the simple speed with which new devices are bought by pioneers and materialists. only when about 25% of people have handsets with new innovations on them  such as cameras  can consumers stop worrying that if they send a picture message the person at the other end will be able to see it.  once this significant number of users is passed  use of new innovations tends to take off. dr bjorn said that early reports of camera phone usage in japan seemed to imply that the innovation was going to be a flop. however  he said  now 45% of the japanese people ericsson questioned use their camera phone at least once a month. in 2003 the figure was 29%. similarly  across europe the numbers of people taking snaps with cameras is starting to rise. in 2003 only 4% of the people in the uk took a phonecam snap at least once a month. now the figure is 14%. similar rises have been seen in many other european nations. dr bjorn said that people also used their camera phones in very different ways to film and even digital cameras.  usage patterns for digital cameras are almost exactly replacing usage patterns for analogue cameras   he said. digital cameras tend to be used on significant events such as weddings  holidays and birthdays. by contrast  he said  camera phones were being used much more to capture a moment and were being woven into everyday life.</td>\n",
       "      <td>tech</td>\n",
       "    </tr>\n",
       "    <tr>\n",
       "      <th>917</th>\n",
       "      <td>enron bosses in $168m payout eighteen former enron directors have agreed a $168m (£89m) settlement deal in a shareholder lawsuit over the collapse of the energy firm.  leading plaintiff  the university of california  announced the news  adding that 10 of the former directors will pay $13m from their own pockets. the settlement will be put to the courts for approval next week. enron went bankrupt in 2001 after it emerged it had hidden hundreds of millions of dollars in debt.  before its collapse  the firm was the seventh biggest public us company by revenue. its demise sent shockwaves through financial markets and dented investor confidence in corporate america.   the settlement is very significant in holding these outside directors at least partially personally responsible   william lerach  the lawyer leading the class action suit against enron  said.  hopefully  this will help send a message to corporate boardrooms of the importance of directors performing their legal duties   he added. under the terms of the $168m settlement - $155m of which will be covered by insurance - none of the 18 former directors will admit any wrongdoing. the deal is the fourth major settlement negotiated by lawyers who filed a class action on behalf of enron s shareholders almost three years ago. so far  including the latest deal  just under $500m (£378.8m) has been retrieved for investors.  however  the latest deal does not include former enron chief executives ken lay and jeff skilling. both men are facing criminal charges for their alleged misconduct in the run up to the firm s collapse. neither does it cover andrew fastow  who has pleaded guilty to taking part in an illegal conspiracy while he was chief financial officer at the group. enron s shareholders are still seeking damages from a long list of other big name defendants including the financial institutions jp morgan chase  citigroup  merrill lynch and credit suisse first boston. the university of california said the trial in the case is scheduled to begin in october 2006. it joined the lawsuit in december 2001alleging  massive insider trading  and fraud  claiming it had lost $145m on its investments in the company.</td>\n",
       "      <td>business</td>\n",
       "    </tr>\n",
       "    <tr>\n",
       "      <th>1582</th>\n",
       "      <td>howard  truanted to play snooker  conservative leader michael howard has admitted he used to play truant to spend time with his school friends at a snooker hall.  mr howard said his time at jack s snooker hall in llanelli in the 1950s had not done him  any lasting damage . but he told the times educational supplement that truancy was  very bad  and said  firm action  was needed. mr howard also called for a return to o-levels and more classroom discipline.  mr howard eventually left llanelli grammar school - and the snooker hall - to go to cambridge university. he said:  i don t think it s done me any lasting damage. nor has it made me a snooker world champion.  there might have been some occasions when we left early of an afternoon.   i m just being honest. i think truancy is a very bad thing and that firm action should be taken to deal with it.  another player who has failed to win snooker s world championship - jimmy  the whirlwind   white - has previously admitted missing lessons  instead spending his days in smoky halls.  tony meo [another player] and me used to spend all of our spare time there   mr white said   we loved the game and the atmosphere.  school went out of the window. i went for a while and then started taking time off.  mr howard s fellow welshman ray reardon - known by his fellow professionals as  dracula  - won the snooker world championship six times  having left school at 14 to work as a miner. and terry griffiths  like mr howard from llanelli  won the tournament in 1979. it is not known whether the two of them ever clashed cues at jack s.</td>\n",
       "      <td>politics</td>\n",
       "    </tr>\n",
       "    <tr>\n",
       "      <th>651</th>\n",
       "      <td>wales silent on grand slam talk rhys williams says wales are still not thinking of winning the grand slam despite a third six nations win.   that s the last thing on our minds at the moment   said williams  a second- half replacement in saturday s 24-18 win over france in paris.  we all realise how difficult a task it is to go up to scotland and beat them.  we ve come unstuck there a couple of times recently so our focus is on that game and we ll worry about ireland hopefully after we ve beaten scotland.  with captain gareth thomas ruled out of the rest of the campaign with a broken thumb  williams is vying for his first start in the championship so far.  kevin morgan is probably favourite to replace thomas at full-back  leaving williams and hal luscombe to battle for the right wing berth. a hamstring injury denied luscombe the opportunity to make a third successive start  but the dragons winger is expected to be fit for the trip to murrayfield on 13 march. hooker robin mcbryde is doubtful after picking up a knee injury in paris  but centre sonny parker and flanker colin charvis are set to recover from injury to be in contention for selection. said wales assistant coach scott johnson:  they ve worked through the weekend and the reports are a bit more positive.  so we re getting a couple back and that adds to the depth of the squad.  scotland secured their first win of the campaign on saturday by grinding out an 18-10 win over italy.  matt williams  side has shown little in attack  but johnson insisted the scots will be difficult opposition to break down.  italy are really brave opposition and sometimes it s very hard to win   he said.  so an ugly win can be just as effective as a 30 or 40 point victory.  scotland are a hard side and very underrated so we re not taking anything for granted.  we re not basking in the glory of winning our first three games. we ve got to be diligent in our preparation.  that s my job and we ve got to make sure we re focused.</td>\n",
       "      <td>sport</td>\n",
       "    </tr>\n",
       "    <tr>\n",
       "      <th>1797</th>\n",
       "      <td>french honour for director parker british film director sir alan parker has been made an officer in the order of arts and letters  one of france s highest cultural honours.  sir alan received his decoration in paris on wednesday from french culture minister renaud donnedieu de vabres.  you have explored the possibilities of film with an immense talent   mr de vabres said as he presented the award. parker praised french films  saying:  hollywood  which created modern cinema  uses it only as a commodity.  he told the minister:  i am honoured to be thus distinguished by france  the flag carrier of cinema throughout the world.  sir alan s films include oscar-winning fame plus midnight express and the commitments.  a founding member of the director s guild of great britain  he is a former chairman of the uk film council and on the board of the british film institute.  through your work and your campaigns  you have shown us how the artist occupies an essential place in our contemporary society   mr de vabres said.  through your dreams which you show us  through the links that you weave  you question the world through the mirror of your work.  he also cited the director s 2003 film the life of david gale  in which kevin spacey played a man on death row  as proof of his  veritable artistic commitment against the death sentence .</td>\n",
       "      <td>entertainment</td>\n",
       "    </tr>\n",
       "    <tr>\n",
       "      <th>2034</th>\n",
       "      <td>car giant hit by mercedes slump a slump in profitability at luxury car maker mercedes has prompted a big drop in profits at parent daimlerchrysler.  the german-us carmaker saw fourth quarter operating profits fall to 785m euros ($1bn) from 2.4bn euros in 2003. mercedes-benz s woes - its profits slid to just 20m euros - obscured a strong performance from the chrysler group whose returns met market expectations. mercedes faces fierce competition in the luxury car sector from bmw and but hopes to revive its fortunes by 2006.  mercedes  profits over the period compared unfavourably with 2003 s 784m euro figure and were well below analyst expectations of 374m euros. for the year as a whole  its operating profits fell 46% to 1.6bn euros. sales of mercedes  brands fell 2% as demand cooled  while revenues were affected by the weakness of the us dollar.  the carmaker blamed the fall in profits on high launch costs for new models and losses from its mercedes smart mini-car range. mercedes is hoping to increase productivity by 3bn euros  having negotiated 500m euros in annual savings with german workers last year. the firm said it was determined to retain mercedes  position as the world s most successful luxury brand. however  daimlerchrysler s shares fell 1.5% on the news.  while all these divisions are doing well the big worries continue to surround mercedes-benz   michael rabb  an analyst with bank sal oppenheim  told reuters.  in contrast  chrysler enjoyed a 5% annual increase in unit sales while revenues - calculated in us dollars - rose 10%. the us division - whose marques include dodge and jeep - transformed a full year operating loss of 506m euros in 2003 into a 1.4bn euros profit last year.  overall  daimlerchrysler saw worldwide vehicle sales rise 8% to 4.7 million in 2004 while total revenues added 4% to 142bn euros. chrysler s strong performance helped the world s fifth largest carmaker boost net income by 400m euros to 2.5bn euros.   the year 2004 shows that our strategy works well - even in such a challenging competitive environment   said jurgen schrempp  daimlerchrysler s chairman. daimlerchrysler took a 475m euro hit in costs stemming from a defects scandal at its joint venture  japanese subsidiary fuso. daimlerchrysler last week agreed a compensation package with partner mitsubishi motors which will see it buy out its stake in fuso. looking forward  daimerchrysler s profits are expected to be slightly higher in 2005. however  it is expecting  significant improvements  in profitability in 2006 as a result of a major investment in the mercedes product range.</td>\n",
       "      <td>business</td>\n",
       "    </tr>\n",
       "    <tr>\n",
       "      <th>1866</th>\n",
       "      <td>fockers fuel festive film chart comedy meet the fockers topped the festive box office in north america  setting a new record for christmas day.  the sequel took $44.7m (£23.2m) between 24 and 26 december  according to studio estimates. it took $19.1m (£9.9m) on christmas day alone  the highest takings on that day in box office history. meet the fockers is the sequel to ben stiller comedy meet the parents  also starring robert de niro  blythe danner  dustin hoffman and barbra streisand. despite the success of meet the fockers  takings were down 26.5% on 2003 s figures - which was blamed on christmas falling over a weekend this year.   when christmas falls on a weekend  it s bad for business   said paul dergarabedian  president of exhibitor relations  which compiles box office statistics. the weekend s top 12 films took an estimated $121.9m (£63.3m)  compared with $165.8m (£86.1m) last year  when the third lord of the rings film dominated the box office. meet the fockers knocked last week s top film  lemony snicket s a series of unfortunate events  down to third place  with $12.5m (£6.5m). comedy fat albert - co-written by bill cosby - entered the chart in second place after opening on christmas day  taking $12.7m (£6.6m). the aviator  starring leonardo dicaprio as howard hughes  took $9.4m after expanding from 40 to 1 796 cinemas on christmas day.</td>\n",
       "      <td>entertainment</td>\n",
       "    </tr>\n",
       "  </tbody>\n",
       "</table>\n",
       "</div>"
      ]
     },
     "execution_count": 73,
     "metadata": {},
     "output_type": "execute_result"
    }
   ],
   "execution_count": 73
  },
  {
   "cell_type": "code",
   "id": "96ce9018b2a8fbac",
   "metadata": {
    "collapsed": false,
    "ExecuteTime": {
     "end_time": "2024-04-08T17:42:01.246822Z",
     "start_time": "2024-04-08T17:42:01.243519Z"
    }
   },
   "source": [
    "data.info()"
   ],
   "outputs": [
    {
     "name": "stdout",
     "output_type": "stream",
     "text": [
      "<class 'pandas.core.frame.DataFrame'>\n",
      "Index: 2225 entries, 1833 to 471\n",
      "Data columns (total 2 columns):\n",
      " #   Column    Non-Null Count  Dtype   \n",
      "---  ------    --------------  -----   \n",
      " 0   Text      2225 non-null   object  \n",
      " 1   Category  2225 non-null   category\n",
      "dtypes: category(1), object(1)\n",
      "memory usage: 28.5+ KB\n"
     ]
    }
   ],
   "execution_count": 74
  },
  {
   "cell_type": "code",
   "id": "2b05d327a4857f09",
   "metadata": {
    "collapsed": false,
    "ExecuteTime": {
     "end_time": "2024-04-08T17:42:01.250735Z",
     "start_time": "2024-04-08T17:42:01.247570Z"
    }
   },
   "source": [
    "data.Category.value_counts()"
   ],
   "outputs": [
    {
     "data": {
      "text/plain": [
       "Category\n",
       "sport            493\n",
       "business         483\n",
       "politics         421\n",
       "entertainment    420\n",
       "tech             408\n",
       "Name: count, dtype: int64"
      ]
     },
     "execution_count": 75,
     "metadata": {},
     "output_type": "execute_result"
    }
   ],
   "execution_count": 75
  },
  {
   "metadata": {},
   "cell_type": "markdown",
   "source": "## Preprocessing",
   "id": "62aea5ef4addb347"
  },
  {
   "metadata": {
    "ExecuteTime": {
     "end_time": "2024-04-08T17:42:01.253763Z",
     "start_time": "2024-04-08T17:42:01.252015Z"
    }
   },
   "cell_type": "code",
   "source": [
    "def data_preprocessing(data: Union[pd.Series, List[str], str], stopwords: Set[str]) -> Union[pd.Series, List[str], str]:\n",
    "    data = lowercase_data(data)\n",
    "    data = remove_punctuation(data)\n",
    "    data = remove_stopwords(data, stopwords)\n",
    "    return data"
   ],
   "id": "4dc9b0109f3de7fe",
   "outputs": [],
   "execution_count": 76
  },
  {
   "metadata": {
    "ExecuteTime": {
     "end_time": "2024-04-08T17:42:01.437675Z",
     "start_time": "2024-04-08T17:42:01.254519Z"
    }
   },
   "cell_type": "code",
   "source": [
    "from nltk.corpus import stopwords\n",
    "\n",
    "english_stopwords = set(stopwords.words('english'))\n",
    "\n",
    "data['Text'] = data_preprocessing(data['Text'], english_stopwords)\n",
    "data.head(10)"
   ],
   "id": "969d7854343f0a9b",
   "outputs": [
    {
     "data": {
      "text/plain": [
       "                                                                                                                                                                                                                                                                                                                                                                                                                                                                                                                                                                                                                                                                                                                                                                                                                                                                                                                                                                                                                                                                                                                                                                                                                                                                                                                                                                                                                                                                                                                                                                                                                                                                                                                                                                                                                                                                                                                                                                                                                                                                                                                                                                                                                                                                                                                                                                                                                                                                                   Text  \\\n",
       "ArticleId                                                                                                                                                                                                                                                                                                                                                                                                                                                                                                                                                                                                                                                                                                                                                                                                                                                                                                                                                                                                                                                                                                                                                                                                                                                                                                                                                                                                                                                                                                                                                                                                                                                                                                                                                                                                                                                                                                                                                                                                                                                                                                                                                                                                                                                                                                                                                                                                                                                                                 \n",
       "1833                                                                                                                                                                                                                                                                                                                                                                                                                                                                                                                                                                                                                                                                                                                                                                                                                                                                                                                                                                                                                                     worldcom ex boss launches defence lawyers defending former worldcom chief bernie ebbers battery fraud charges called company whistleblower first witness cynthia cooper worldcom ex head internal accounting alerted directors irregular accounting practices us telecoms giant warnings led collapse firm following discovery bn bn accounting fraud mr ebbers pleaded guilty charges fraud conspiracy prosecution lawyers argued mr ebbers orchestrated series accounting tricks worldcom ordering employees hide expenses inflate revenues meet wall street earnings estimates ms cooper runs consulting business told jury new york wednesday external auditors arthur andersen approved worldcom accounting early said andersen given green light procedures practices used worldcom mr ebber lawyers said unaware fraud arguing auditors alert problems ms cooper also said shareholder meetings mr ebbers often passed technical questions company finance chief giving brief answers prosecution star witness former worldcom financial chief scott sullivan said mr ebbers ordered accounting adjustments firm telling hit books however ms cooper said mr sullivan mentioned anything uncomfortable worldcom accounting audit committee meeting mr ebbers could face jail sentence years convicted charges facing worldcom emerged bankruptcy protection known mci last week mci agreed buyout verizon communications deal valued bn   \n",
       "154                                                                                                                                                                                                                                                                                                                                                                                                                                                                                                                                                                                                                                                                                                                                                                                                                                                                                                                                                german business confidence slides german business confidence fell february knocking hopes speedy recovery europe largest economy munich based research institute ifo said confidence index fell february january first decline three months study found outlook manufacturing retail sectors worsened observers hoping confident business sector would signal economic activity picking surprised ifo index taken knock said dz bank economist bernd weidensteiner main reason probably domestic economy still weak particularly retail trade economy labour minister wolfgang clement called dip february ifo confidence figure mild decline said despite retreat index remained relatively high level expected modest economic upswing continue germany economy grew last year shrinking however economy contracted last three months mainly due reluctance consumers spend latest indications growth still proving elusive ifo president hans werner sinn said improvement german domestic demand sluggish exports kept things going first half demand exports hit value euro hit record levels making german products less competitive overseas top unemployment rate stuck close manufacturing firms including daimlerchrysler siemens volkswagen negotiating unions cost cutting measures analysts said ifo figures germany continuing problems may delay interest rate rise european central bank eurozone interest rates comments senior officials recently focused threat inflation prompting fears interest rates may rise   \n",
       "1101                                                                                                                                                                                                                                                                                                                                      bbc poll indicates economic gloom citizens majority nations surveyed bbc world service poll believe world economy worsening respondents also said national economy getting worse asked family financial outlook majority countries said positive future almost people countries questioned poll mostly conducted asian tsunami disaster poll found majority plurality people countries believed economy going downhill compared respondents nine countries believed improving surveyed three countries split percentage terms average respondents country said world economy getting worse compared said improving similarly pessimistic national economy optimistic saw family economic conditions improving said getting worse poll people conducted international polling firm globescan together program international policy attitudes pipa university maryland world economy picked difficult times years ago people seem fully absorbed development though personally experiencing effects said pipa director steven kull people around world saying ok world may perception war terrorism religious political divisions making world worse place even though far reflected global economic performance says bbc elizabeth blunt countries people optimistic world families two fast growing developing economies china india followed indonesia china seen two decades blistering economic growth led wealth creation huge scale says bbc louisa lim beijing results also may reflect untrammelled confidence people subject endless government propaganda country rosy economic future correspondent says south korea pessimistic respondents italy mexico also quite gloomy bbc david willey rome says one reason result changeover lira euro widely viewed biggest reason wages salaries worth less used philippines among upbeat countries prospects respondents families one pessimistic world economy pipa conducted poll november january across countries face face telephone interviews interviews took place november january margin error points depending country eight countries sample limited major metropolitan areas   \n",
       "1976       lifestyle governs mobile choice faster better funkier hardware alone going help phone firms sell handsets research suggests instead phone firms keen get customers pushing technology sake consumers far interested handsets fit lifestyle screen size onboard memory chip inside shows depth study handset maker ericsson historically industry much focus using technology said dr michael bjorn senior advisor mobile media ericsson consumer enterprise lab stop saying technologies change lives said try speak consumers language help see fits told bbc news website study ericsson interviewed mobile phone owners ways use phone people habits remain said dr bjorn move activity mobile phone much convenient way one good example diary writing among younger people said diaries always popular mobile phone especially one equipped camera helps keep different form youngsters use text messages also reflects desire chat keep contact friends lets slightly changed way dr bjorn said although consumers always use phone sheer variety new handset technologies make possible gradually drive new habits lifestyles ericsson research shown consumers divide different tribes use phones different ways dr bjorn said groups dubbed pioneers materialists interested trying new things behind start many trends phone use instance said older people using sms much five years ago younger users often children ageing mobile owners encouraged older people try could keep touch another factor governing speed change mobile phone use simple speed new devices bought pioneers materialists people handsets new innovations cameras consumers stop worrying send picture message person end able see significant number users passed use new innovations tends take dr bjorn said early reports camera phone usage japan seemed imply innovation going flop however said japanese people ericsson questioned use camera phone least month figure similarly across europe numbers people taking snaps cameras starting rise people uk took phonecam snap least month figure similar rises seen many european nations dr bjorn said people also used camera phones different ways film even digital cameras usage patterns digital cameras almost exactly replacing usage patterns analogue cameras said digital cameras tend used significant events weddings holidays birthdays contrast said camera phones used much capture moment woven everyday life   \n",
       "917                                                                                                                                                                                                                                                                                                                                                                                                                                                                                                                                                                                                                                                                                                                                                                                                                                                                                                       enron bosses payout eighteen former enron directors agreed settlement deal shareholder lawsuit collapse energy firm leading plaintiff university california announced news adding former directors pay pockets settlement put courts approval next week enron went bankrupt emerged hidden hundreds millions dollars debt collapse firm seventh biggest public us company revenue demise sent shockwaves financial markets dented investor confidence corporate america settlement significant holding outside directors least partially personally responsible william lerach lawyer leading class action suit enron said hopefully help send message corporate boardrooms importance directors performing legal duties added terms settlement covered insurance none former directors admit wrongdoing deal fourth major settlement negotiated lawyers filed class action behalf enron shareholders almost three years ago far including latest deal retrieved investors however latest deal include former enron chief executives ken lay jeff skilling men facing criminal charges alleged misconduct run firm collapse neither cover andrew fastow pleaded guilty taking part illegal conspiracy chief financial officer group enron shareholders still seeking damages long list big name defendants including financial institutions jp morgan chase citigroup merrill lynch credit suisse first boston university california said trial case scheduled begin october joined lawsuit december alleging massive insider trading fraud claiming lost investments company   \n",
       "1582                                                                                                                                                                                                                                                                                                                                                                                                                                                                                                                                                                                                                                                                                                                                                                                                                                                                                                                                                                                                                                                                                                                                                                                                                                                                                                                                                                                    howard truanted play snooker conservative leader michael howard admitted used play truant spend time school friends snooker hall mr howard said time jack snooker hall llanelli done lasting damage told times educational supplement truancy bad said firm action needed mr howard also called return levels classroom discipline mr howard eventually left llanelli grammar school snooker hall go cambridge university said think done lasting damage made snooker world champion might occasions left early afternoon honest think truancy bad thing firm action taken deal another player failed win snooker world championship jimmy whirlwind white previously admitted missing lessons instead spending days smoky halls tony meo another player used spend spare time mr white said loved game atmosphere school went window went started taking time mr howard fellow welshman ray reardon known fellow professionals dracula snooker world championship six times left school work miner terry griffiths like mr howard llanelli tournament known whether two ever clashed cues jack   \n",
       "651                                                                                                                                                                                                                                                                                                                                                                                                                                                                                                                                                                                                                                                                                                                                                                                                                                                                                                                                                                                                                                                                                                                              wales silent grand slam talk rhys williams says wales still thinking winning grand slam despite third six nations win last thing minds moment said williams second half replacement saturday win france paris realise difficult task go scotland beat come unstuck couple times recently focus game worry ireland hopefully beaten scotland captain gareth thomas ruled rest campaign broken thumb williams vying first start championship far kevin morgan probably favourite replace thomas full back leaving williams hal luscombe battle right wing berth hamstring injury denied luscombe opportunity make third successive start dragons winger expected fit trip murrayfield march hooker robin mcbryde doubtful picking knee injury paris centre sonny parker flanker colin charvis set recover injury contention selection said wales assistant coach scott johnson worked weekend reports bit positive getting couple back adds depth squad scotland secured first win campaign saturday grinding win italy matt williams side shown little attack johnson insisted scots difficult opposition break italy really brave opposition sometimes hard win said ugly win effective point victory scotland hard side underrated taking anything granted basking glory winning first three games got diligent preparation job got make sure focused   \n",
       "1797                                                                                                                                                                                                                                                                                                                                                                                                                                                                                                                                                                                                                                                                                                                                                                                                                                                                                                                                                                                                                                                                                                                                                                                                                                                                                                                                                                                                                                                                                                              french honour director parker british film director sir alan parker made officer order arts letters one france highest cultural honours sir alan received decoration paris wednesday french culture minister renaud donnedieu de vabres explored possibilities film immense talent mr de vabres said presented award parker praised french films saying hollywood created modern cinema uses commodity told minister honoured thus distinguished france flag carrier cinema throughout world sir alan films include oscar winning fame plus midnight express commitments founding member director guild great britain former chairman uk film council board british film institute work campaigns shown us artist occupies essential place contemporary society mr de vabres said dreams show us links weave question world mirror work also cited director film life david gale kevin spacey played man death row proof veritable artistic commitment death sentence   \n",
       "2034                                                                                                                                                                                                                                                                                                                                                                                                                                                                                      car giant hit mercedes slump slump profitability luxury car maker mercedes prompted big drop profits parent daimlerchrysler german us carmaker saw fourth quarter operating profits fall euros bn bn euros mercedes benz woes profits slid euros obscured strong performance chrysler group whose returns met market expectations mercedes faces fierce competition luxury car sector bmw hopes revive fortunes mercedes profits period compared unfavourably euro figure well analyst expectations euros year whole operating profits fell bn euros sales mercedes brands fell demand cooled revenues affected weakness us dollar carmaker blamed fall profits high launch costs new models losses mercedes smart mini car range mercedes hoping increase productivity bn euros negotiated euros annual savings german workers last year firm said determined retain mercedes position world successful luxury brand however daimlerchrysler shares fell news divisions well big worries continue surround mercedes benz michael rabb analyst bank sal oppenheim told reuters contrast chrysler enjoyed annual increase unit sales revenues calculated us dollars rose us division whose marques include dodge jeep transformed full year operating loss euros bn euros profit last year overall daimlerchrysler saw worldwide vehicle sales rise million total revenues added bn euros chrysler strong performance helped world fifth largest carmaker boost net income euros bn euros year shows strategy works well even challenging competitive environment said jurgen schrempp daimlerchrysler chairman daimlerchrysler took euro hit costs stemming defects scandal joint venture japanese subsidiary fuso daimlerchrysler last week agreed compensation package partner mitsubishi motors see buy stake fuso looking forward daimerchrysler profits expected slightly higher however expecting significant improvements profitability result major investment mercedes product range   \n",
       "1866                                                                                                                                                                                                                                                                                                                                                                                                                                                                                                                                                                                                                                                                                                                                                                                                                                                                                                                                                                                                                                                                                                                                                                                                                                                                                                                                                                                                                                                                                                         fockers fuel festive film chart comedy meet fockers topped festive box office north america setting new record christmas day sequel took december according studio estimates took christmas day alone highest takings day box office history meet fockers sequel ben stiller comedy meet parents also starring robert de niro blythe danner dustin hoffman barbra streisand despite success meet fockers takings figures blamed christmas falling weekend year christmas falls weekend bad business said paul dergarabedian president exhibitor relations compiles box office statistics weekend top films took estimated compared last year third lord rings film dominated box office meet fockers knocked last week top film lemony snicket series unfortunate events third place comedy fat albert co written bill cosby entered chart second place opening christmas day taking aviator starring leonardo dicaprio howard hughes took expanding cinemas christmas day   \n",
       "\n",
       "                Category  \n",
       "ArticleId                 \n",
       "1833            business  \n",
       "154             business  \n",
       "1101            business  \n",
       "1976                tech  \n",
       "917             business  \n",
       "1582            politics  \n",
       "651                sport  \n",
       "1797       entertainment  \n",
       "2034            business  \n",
       "1866       entertainment  "
      ],
      "text/html": [
       "<div>\n",
       "<style scoped>\n",
       "    .dataframe tbody tr th:only-of-type {\n",
       "        vertical-align: middle;\n",
       "    }\n",
       "\n",
       "    .dataframe tbody tr th {\n",
       "        vertical-align: top;\n",
       "    }\n",
       "\n",
       "    .dataframe thead th {\n",
       "        text-align: right;\n",
       "    }\n",
       "</style>\n",
       "<table border=\"1\" class=\"dataframe\">\n",
       "  <thead>\n",
       "    <tr style=\"text-align: right;\">\n",
       "      <th></th>\n",
       "      <th>Text</th>\n",
       "      <th>Category</th>\n",
       "    </tr>\n",
       "    <tr>\n",
       "      <th>ArticleId</th>\n",
       "      <th></th>\n",
       "      <th></th>\n",
       "    </tr>\n",
       "  </thead>\n",
       "  <tbody>\n",
       "    <tr>\n",
       "      <th>1833</th>\n",
       "      <td>worldcom ex boss launches defence lawyers defending former worldcom chief bernie ebbers battery fraud charges called company whistleblower first witness cynthia cooper worldcom ex head internal accounting alerted directors irregular accounting practices us telecoms giant warnings led collapse firm following discovery bn bn accounting fraud mr ebbers pleaded guilty charges fraud conspiracy prosecution lawyers argued mr ebbers orchestrated series accounting tricks worldcom ordering employees hide expenses inflate revenues meet wall street earnings estimates ms cooper runs consulting business told jury new york wednesday external auditors arthur andersen approved worldcom accounting early said andersen given green light procedures practices used worldcom mr ebber lawyers said unaware fraud arguing auditors alert problems ms cooper also said shareholder meetings mr ebbers often passed technical questions company finance chief giving brief answers prosecution star witness former worldcom financial chief scott sullivan said mr ebbers ordered accounting adjustments firm telling hit books however ms cooper said mr sullivan mentioned anything uncomfortable worldcom accounting audit committee meeting mr ebbers could face jail sentence years convicted charges facing worldcom emerged bankruptcy protection known mci last week mci agreed buyout verizon communications deal valued bn</td>\n",
       "      <td>business</td>\n",
       "    </tr>\n",
       "    <tr>\n",
       "      <th>154</th>\n",
       "      <td>german business confidence slides german business confidence fell february knocking hopes speedy recovery europe largest economy munich based research institute ifo said confidence index fell february january first decline three months study found outlook manufacturing retail sectors worsened observers hoping confident business sector would signal economic activity picking surprised ifo index taken knock said dz bank economist bernd weidensteiner main reason probably domestic economy still weak particularly retail trade economy labour minister wolfgang clement called dip february ifo confidence figure mild decline said despite retreat index remained relatively high level expected modest economic upswing continue germany economy grew last year shrinking however economy contracted last three months mainly due reluctance consumers spend latest indications growth still proving elusive ifo president hans werner sinn said improvement german domestic demand sluggish exports kept things going first half demand exports hit value euro hit record levels making german products less competitive overseas top unemployment rate stuck close manufacturing firms including daimlerchrysler siemens volkswagen negotiating unions cost cutting measures analysts said ifo figures germany continuing problems may delay interest rate rise european central bank eurozone interest rates comments senior officials recently focused threat inflation prompting fears interest rates may rise</td>\n",
       "      <td>business</td>\n",
       "    </tr>\n",
       "    <tr>\n",
       "      <th>1101</th>\n",
       "      <td>bbc poll indicates economic gloom citizens majority nations surveyed bbc world service poll believe world economy worsening respondents also said national economy getting worse asked family financial outlook majority countries said positive future almost people countries questioned poll mostly conducted asian tsunami disaster poll found majority plurality people countries believed economy going downhill compared respondents nine countries believed improving surveyed three countries split percentage terms average respondents country said world economy getting worse compared said improving similarly pessimistic national economy optimistic saw family economic conditions improving said getting worse poll people conducted international polling firm globescan together program international policy attitudes pipa university maryland world economy picked difficult times years ago people seem fully absorbed development though personally experiencing effects said pipa director steven kull people around world saying ok world may perception war terrorism religious political divisions making world worse place even though far reflected global economic performance says bbc elizabeth blunt countries people optimistic world families two fast growing developing economies china india followed indonesia china seen two decades blistering economic growth led wealth creation huge scale says bbc louisa lim beijing results also may reflect untrammelled confidence people subject endless government propaganda country rosy economic future correspondent says south korea pessimistic respondents italy mexico also quite gloomy bbc david willey rome says one reason result changeover lira euro widely viewed biggest reason wages salaries worth less used philippines among upbeat countries prospects respondents families one pessimistic world economy pipa conducted poll november january across countries face face telephone interviews interviews took place november january margin error points depending country eight countries sample limited major metropolitan areas</td>\n",
       "      <td>business</td>\n",
       "    </tr>\n",
       "    <tr>\n",
       "      <th>1976</th>\n",
       "      <td>lifestyle governs mobile choice faster better funkier hardware alone going help phone firms sell handsets research suggests instead phone firms keen get customers pushing technology sake consumers far interested handsets fit lifestyle screen size onboard memory chip inside shows depth study handset maker ericsson historically industry much focus using technology said dr michael bjorn senior advisor mobile media ericsson consumer enterprise lab stop saying technologies change lives said try speak consumers language help see fits told bbc news website study ericsson interviewed mobile phone owners ways use phone people habits remain said dr bjorn move activity mobile phone much convenient way one good example diary writing among younger people said diaries always popular mobile phone especially one equipped camera helps keep different form youngsters use text messages also reflects desire chat keep contact friends lets slightly changed way dr bjorn said although consumers always use phone sheer variety new handset technologies make possible gradually drive new habits lifestyles ericsson research shown consumers divide different tribes use phones different ways dr bjorn said groups dubbed pioneers materialists interested trying new things behind start many trends phone use instance said older people using sms much five years ago younger users often children ageing mobile owners encouraged older people try could keep touch another factor governing speed change mobile phone use simple speed new devices bought pioneers materialists people handsets new innovations cameras consumers stop worrying send picture message person end able see significant number users passed use new innovations tends take dr bjorn said early reports camera phone usage japan seemed imply innovation going flop however said japanese people ericsson questioned use camera phone least month figure similarly across europe numbers people taking snaps cameras starting rise people uk took phonecam snap least month figure similar rises seen many european nations dr bjorn said people also used camera phones different ways film even digital cameras usage patterns digital cameras almost exactly replacing usage patterns analogue cameras said digital cameras tend used significant events weddings holidays birthdays contrast said camera phones used much capture moment woven everyday life</td>\n",
       "      <td>tech</td>\n",
       "    </tr>\n",
       "    <tr>\n",
       "      <th>917</th>\n",
       "      <td>enron bosses payout eighteen former enron directors agreed settlement deal shareholder lawsuit collapse energy firm leading plaintiff university california announced news adding former directors pay pockets settlement put courts approval next week enron went bankrupt emerged hidden hundreds millions dollars debt collapse firm seventh biggest public us company revenue demise sent shockwaves financial markets dented investor confidence corporate america settlement significant holding outside directors least partially personally responsible william lerach lawyer leading class action suit enron said hopefully help send message corporate boardrooms importance directors performing legal duties added terms settlement covered insurance none former directors admit wrongdoing deal fourth major settlement negotiated lawyers filed class action behalf enron shareholders almost three years ago far including latest deal retrieved investors however latest deal include former enron chief executives ken lay jeff skilling men facing criminal charges alleged misconduct run firm collapse neither cover andrew fastow pleaded guilty taking part illegal conspiracy chief financial officer group enron shareholders still seeking damages long list big name defendants including financial institutions jp morgan chase citigroup merrill lynch credit suisse first boston university california said trial case scheduled begin october joined lawsuit december alleging massive insider trading fraud claiming lost investments company</td>\n",
       "      <td>business</td>\n",
       "    </tr>\n",
       "    <tr>\n",
       "      <th>1582</th>\n",
       "      <td>howard truanted play snooker conservative leader michael howard admitted used play truant spend time school friends snooker hall mr howard said time jack snooker hall llanelli done lasting damage told times educational supplement truancy bad said firm action needed mr howard also called return levels classroom discipline mr howard eventually left llanelli grammar school snooker hall go cambridge university said think done lasting damage made snooker world champion might occasions left early afternoon honest think truancy bad thing firm action taken deal another player failed win snooker world championship jimmy whirlwind white previously admitted missing lessons instead spending days smoky halls tony meo another player used spend spare time mr white said loved game atmosphere school went window went started taking time mr howard fellow welshman ray reardon known fellow professionals dracula snooker world championship six times left school work miner terry griffiths like mr howard llanelli tournament known whether two ever clashed cues jack</td>\n",
       "      <td>politics</td>\n",
       "    </tr>\n",
       "    <tr>\n",
       "      <th>651</th>\n",
       "      <td>wales silent grand slam talk rhys williams says wales still thinking winning grand slam despite third six nations win last thing minds moment said williams second half replacement saturday win france paris realise difficult task go scotland beat come unstuck couple times recently focus game worry ireland hopefully beaten scotland captain gareth thomas ruled rest campaign broken thumb williams vying first start championship far kevin morgan probably favourite replace thomas full back leaving williams hal luscombe battle right wing berth hamstring injury denied luscombe opportunity make third successive start dragons winger expected fit trip murrayfield march hooker robin mcbryde doubtful picking knee injury paris centre sonny parker flanker colin charvis set recover injury contention selection said wales assistant coach scott johnson worked weekend reports bit positive getting couple back adds depth squad scotland secured first win campaign saturday grinding win italy matt williams side shown little attack johnson insisted scots difficult opposition break italy really brave opposition sometimes hard win said ugly win effective point victory scotland hard side underrated taking anything granted basking glory winning first three games got diligent preparation job got make sure focused</td>\n",
       "      <td>sport</td>\n",
       "    </tr>\n",
       "    <tr>\n",
       "      <th>1797</th>\n",
       "      <td>french honour director parker british film director sir alan parker made officer order arts letters one france highest cultural honours sir alan received decoration paris wednesday french culture minister renaud donnedieu de vabres explored possibilities film immense talent mr de vabres said presented award parker praised french films saying hollywood created modern cinema uses commodity told minister honoured thus distinguished france flag carrier cinema throughout world sir alan films include oscar winning fame plus midnight express commitments founding member director guild great britain former chairman uk film council board british film institute work campaigns shown us artist occupies essential place contemporary society mr de vabres said dreams show us links weave question world mirror work also cited director film life david gale kevin spacey played man death row proof veritable artistic commitment death sentence</td>\n",
       "      <td>entertainment</td>\n",
       "    </tr>\n",
       "    <tr>\n",
       "      <th>2034</th>\n",
       "      <td>car giant hit mercedes slump slump profitability luxury car maker mercedes prompted big drop profits parent daimlerchrysler german us carmaker saw fourth quarter operating profits fall euros bn bn euros mercedes benz woes profits slid euros obscured strong performance chrysler group whose returns met market expectations mercedes faces fierce competition luxury car sector bmw hopes revive fortunes mercedes profits period compared unfavourably euro figure well analyst expectations euros year whole operating profits fell bn euros sales mercedes brands fell demand cooled revenues affected weakness us dollar carmaker blamed fall profits high launch costs new models losses mercedes smart mini car range mercedes hoping increase productivity bn euros negotiated euros annual savings german workers last year firm said determined retain mercedes position world successful luxury brand however daimlerchrysler shares fell news divisions well big worries continue surround mercedes benz michael rabb analyst bank sal oppenheim told reuters contrast chrysler enjoyed annual increase unit sales revenues calculated us dollars rose us division whose marques include dodge jeep transformed full year operating loss euros bn euros profit last year overall daimlerchrysler saw worldwide vehicle sales rise million total revenues added bn euros chrysler strong performance helped world fifth largest carmaker boost net income euros bn euros year shows strategy works well even challenging competitive environment said jurgen schrempp daimlerchrysler chairman daimlerchrysler took euro hit costs stemming defects scandal joint venture japanese subsidiary fuso daimlerchrysler last week agreed compensation package partner mitsubishi motors see buy stake fuso looking forward daimerchrysler profits expected slightly higher however expecting significant improvements profitability result major investment mercedes product range</td>\n",
       "      <td>business</td>\n",
       "    </tr>\n",
       "    <tr>\n",
       "      <th>1866</th>\n",
       "      <td>fockers fuel festive film chart comedy meet fockers topped festive box office north america setting new record christmas day sequel took december according studio estimates took christmas day alone highest takings day box office history meet fockers sequel ben stiller comedy meet parents also starring robert de niro blythe danner dustin hoffman barbra streisand despite success meet fockers takings figures blamed christmas falling weekend year christmas falls weekend bad business said paul dergarabedian president exhibitor relations compiles box office statistics weekend top films took estimated compared last year third lord rings film dominated box office meet fockers knocked last week top film lemony snicket series unfortunate events third place comedy fat albert co written bill cosby entered chart second place opening christmas day taking aviator starring leonardo dicaprio howard hughes took expanding cinemas christmas day</td>\n",
       "      <td>entertainment</td>\n",
       "    </tr>\n",
       "  </tbody>\n",
       "</table>\n",
       "</div>"
      ]
     },
     "execution_count": 77,
     "metadata": {},
     "output_type": "execute_result"
    }
   ],
   "execution_count": 77
  },
  {
   "metadata": {
    "ExecuteTime": {
     "end_time": "2024-04-08T17:42:01.448331Z",
     "start_time": "2024-04-08T17:42:01.438424Z"
    }
   },
   "cell_type": "code",
   "source": [
    "word_simplifier_type = WordSimplification.LEMMATIZER\n",
    "word_simplifier = LemmatizerOrStemmer(WordSimplification.LEMMATIZER)\n",
    "\n",
    "data['Text'] = word_simplifier.simplify(data['Text'])\n",
    "data.head(10)"
   ],
   "id": "2090a16086585b0a",
   "outputs": [
    {
     "data": {
      "text/plain": [
       "                                                                                                                                                                                                                                                                                                                                                                                                                                                                                                                                                                                                                                                                                                                                                                                                                                                                                                                                                                                                                                                                                                                                                                                                                                                                                                                                                                                                                                                                                                                                                                                                                                                                                                                                                                                                                                                                                                                                                                                                                                                                                                                                                                                                                                                                                                                                                                                                                                                                                   Text  \\\n",
       "ArticleId                                                                                                                                                                                                                                                                                                                                                                                                                                                                                                                                                                                                                                                                                                                                                                                                                                                                                                                                                                                                                                                                                                                                                                                                                                                                                                                                                                                                                                                                                                                                                                                                                                                                                                                                                                                                                                                                                                                                                                                                                                                                                                                                                                                                                                                                                                                                                                                                                                                                                 \n",
       "1833                                                                                                                                                                                                                                                                                                                                                                                                                                                                                                                                                                                                                                                                                                                                                                                                                                                                                                                                                                                                                                     worldcom ex boss launches defence lawyers defending former worldcom chief bernie ebbers battery fraud charges called company whistleblower first witness cynthia cooper worldcom ex head internal accounting alerted directors irregular accounting practices us telecoms giant warnings led collapse firm following discovery bn bn accounting fraud mr ebbers pleaded guilty charges fraud conspiracy prosecution lawyers argued mr ebbers orchestrated series accounting tricks worldcom ordering employees hide expenses inflate revenues meet wall street earnings estimates ms cooper runs consulting business told jury new york wednesday external auditors arthur andersen approved worldcom accounting early said andersen given green light procedures practices used worldcom mr ebber lawyers said unaware fraud arguing auditors alert problems ms cooper also said shareholder meetings mr ebbers often passed technical questions company finance chief giving brief answers prosecution star witness former worldcom financial chief scott sullivan said mr ebbers ordered accounting adjustments firm telling hit books however ms cooper said mr sullivan mentioned anything uncomfortable worldcom accounting audit committee meeting mr ebbers could face jail sentence years convicted charges facing worldcom emerged bankruptcy protection known mci last week mci agreed buyout verizon communications deal valued bn   \n",
       "154                                                                                                                                                                                                                                                                                                                                                                                                                                                                                                                                                                                                                                                                                                                                                                                                                                                                                                                                                german business confidence slides german business confidence fell february knocking hopes speedy recovery europe largest economy munich based research institute ifo said confidence index fell february january first decline three months study found outlook manufacturing retail sectors worsened observers hoping confident business sector would signal economic activity picking surprised ifo index taken knock said dz bank economist bernd weidensteiner main reason probably domestic economy still weak particularly retail trade economy labour minister wolfgang clement called dip february ifo confidence figure mild decline said despite retreat index remained relatively high level expected modest economic upswing continue germany economy grew last year shrinking however economy contracted last three months mainly due reluctance consumers spend latest indications growth still proving elusive ifo president hans werner sinn said improvement german domestic demand sluggish exports kept things going first half demand exports hit value euro hit record levels making german products less competitive overseas top unemployment rate stuck close manufacturing firms including daimlerchrysler siemens volkswagen negotiating unions cost cutting measures analysts said ifo figures germany continuing problems may delay interest rate rise european central bank eurozone interest rates comments senior officials recently focused threat inflation prompting fears interest rates may rise   \n",
       "1101                                                                                                                                                                                                                                                                                                                                      bbc poll indicates economic gloom citizens majority nations surveyed bbc world service poll believe world economy worsening respondents also said national economy getting worse asked family financial outlook majority countries said positive future almost people countries questioned poll mostly conducted asian tsunami disaster poll found majority plurality people countries believed economy going downhill compared respondents nine countries believed improving surveyed three countries split percentage terms average respondents country said world economy getting worse compared said improving similarly pessimistic national economy optimistic saw family economic conditions improving said getting worse poll people conducted international polling firm globescan together program international policy attitudes pipa university maryland world economy picked difficult times years ago people seem fully absorbed development though personally experiencing effects said pipa director steven kull people around world saying ok world may perception war terrorism religious political divisions making world worse place even though far reflected global economic performance says bbc elizabeth blunt countries people optimistic world families two fast growing developing economies china india followed indonesia china seen two decades blistering economic growth led wealth creation huge scale says bbc louisa lim beijing results also may reflect untrammelled confidence people subject endless government propaganda country rosy economic future correspondent says south korea pessimistic respondents italy mexico also quite gloomy bbc david willey rome says one reason result changeover lira euro widely viewed biggest reason wages salaries worth less used philippines among upbeat countries prospects respondents families one pessimistic world economy pipa conducted poll november january across countries face face telephone interviews interviews took place november january margin error points depending country eight countries sample limited major metropolitan areas   \n",
       "1976       lifestyle governs mobile choice faster better funkier hardware alone going help phone firms sell handsets research suggests instead phone firms keen get customers pushing technology sake consumers far interested handsets fit lifestyle screen size onboard memory chip inside shows depth study handset maker ericsson historically industry much focus using technology said dr michael bjorn senior advisor mobile media ericsson consumer enterprise lab stop saying technologies change lives said try speak consumers language help see fits told bbc news website study ericsson interviewed mobile phone owners ways use phone people habits remain said dr bjorn move activity mobile phone much convenient way one good example diary writing among younger people said diaries always popular mobile phone especially one equipped camera helps keep different form youngsters use text messages also reflects desire chat keep contact friends lets slightly changed way dr bjorn said although consumers always use phone sheer variety new handset technologies make possible gradually drive new habits lifestyles ericsson research shown consumers divide different tribes use phones different ways dr bjorn said groups dubbed pioneers materialists interested trying new things behind start many trends phone use instance said older people using sms much five years ago younger users often children ageing mobile owners encouraged older people try could keep touch another factor governing speed change mobile phone use simple speed new devices bought pioneers materialists people handsets new innovations cameras consumers stop worrying send picture message person end able see significant number users passed use new innovations tends take dr bjorn said early reports camera phone usage japan seemed imply innovation going flop however said japanese people ericsson questioned use camera phone least month figure similarly across europe numbers people taking snaps cameras starting rise people uk took phonecam snap least month figure similar rises seen many european nations dr bjorn said people also used camera phones different ways film even digital cameras usage patterns digital cameras almost exactly replacing usage patterns analogue cameras said digital cameras tend used significant events weddings holidays birthdays contrast said camera phones used much capture moment woven everyday life   \n",
       "917                                                                                                                                                                                                                                                                                                                                                                                                                                                                                                                                                                                                                                                                                                                                                                                                                                                                                                       enron bosses payout eighteen former enron directors agreed settlement deal shareholder lawsuit collapse energy firm leading plaintiff university california announced news adding former directors pay pockets settlement put courts approval next week enron went bankrupt emerged hidden hundreds millions dollars debt collapse firm seventh biggest public us company revenue demise sent shockwaves financial markets dented investor confidence corporate america settlement significant holding outside directors least partially personally responsible william lerach lawyer leading class action suit enron said hopefully help send message corporate boardrooms importance directors performing legal duties added terms settlement covered insurance none former directors admit wrongdoing deal fourth major settlement negotiated lawyers filed class action behalf enron shareholders almost three years ago far including latest deal retrieved investors however latest deal include former enron chief executives ken lay jeff skilling men facing criminal charges alleged misconduct run firm collapse neither cover andrew fastow pleaded guilty taking part illegal conspiracy chief financial officer group enron shareholders still seeking damages long list big name defendants including financial institutions jp morgan chase citigroup merrill lynch credit suisse first boston university california said trial case scheduled begin october joined lawsuit december alleging massive insider trading fraud claiming lost investments company   \n",
       "1582                                                                                                                                                                                                                                                                                                                                                                                                                                                                                                                                                                                                                                                                                                                                                                                                                                                                                                                                                                                                                                                                                                                                                                                                                                                                                                                                                                                    howard truanted play snooker conservative leader michael howard admitted used play truant spend time school friends snooker hall mr howard said time jack snooker hall llanelli done lasting damage told times educational supplement truancy bad said firm action needed mr howard also called return levels classroom discipline mr howard eventually left llanelli grammar school snooker hall go cambridge university said think done lasting damage made snooker world champion might occasions left early afternoon honest think truancy bad thing firm action taken deal another player failed win snooker world championship jimmy whirlwind white previously admitted missing lessons instead spending days smoky halls tony meo another player used spend spare time mr white said loved game atmosphere school went window went started taking time mr howard fellow welshman ray reardon known fellow professionals dracula snooker world championship six times left school work miner terry griffiths like mr howard llanelli tournament known whether two ever clashed cues jack   \n",
       "651                                                                                                                                                                                                                                                                                                                                                                                                                                                                                                                                                                                                                                                                                                                                                                                                                                                                                                                                                                                                                                                                                                                              wales silent grand slam talk rhys williams says wales still thinking winning grand slam despite third six nations win last thing minds moment said williams second half replacement saturday win france paris realise difficult task go scotland beat come unstuck couple times recently focus game worry ireland hopefully beaten scotland captain gareth thomas ruled rest campaign broken thumb williams vying first start championship far kevin morgan probably favourite replace thomas full back leaving williams hal luscombe battle right wing berth hamstring injury denied luscombe opportunity make third successive start dragons winger expected fit trip murrayfield march hooker robin mcbryde doubtful picking knee injury paris centre sonny parker flanker colin charvis set recover injury contention selection said wales assistant coach scott johnson worked weekend reports bit positive getting couple back adds depth squad scotland secured first win campaign saturday grinding win italy matt williams side shown little attack johnson insisted scots difficult opposition break italy really brave opposition sometimes hard win said ugly win effective point victory scotland hard side underrated taking anything granted basking glory winning first three games got diligent preparation job got make sure focused   \n",
       "1797                                                                                                                                                                                                                                                                                                                                                                                                                                                                                                                                                                                                                                                                                                                                                                                                                                                                                                                                                                                                                                                                                                                                                                                                                                                                                                                                                                                                                                                                                                              french honour director parker british film director sir alan parker made officer order arts letters one france highest cultural honours sir alan received decoration paris wednesday french culture minister renaud donnedieu de vabres explored possibilities film immense talent mr de vabres said presented award parker praised french films saying hollywood created modern cinema uses commodity told minister honoured thus distinguished france flag carrier cinema throughout world sir alan films include oscar winning fame plus midnight express commitments founding member director guild great britain former chairman uk film council board british film institute work campaigns shown us artist occupies essential place contemporary society mr de vabres said dreams show us links weave question world mirror work also cited director film life david gale kevin spacey played man death row proof veritable artistic commitment death sentence   \n",
       "2034                                                                                                                                                                                                                                                                                                                                                                                                                                                                                      car giant hit mercedes slump slump profitability luxury car maker mercedes prompted big drop profits parent daimlerchrysler german us carmaker saw fourth quarter operating profits fall euros bn bn euros mercedes benz woes profits slid euros obscured strong performance chrysler group whose returns met market expectations mercedes faces fierce competition luxury car sector bmw hopes revive fortunes mercedes profits period compared unfavourably euro figure well analyst expectations euros year whole operating profits fell bn euros sales mercedes brands fell demand cooled revenues affected weakness us dollar carmaker blamed fall profits high launch costs new models losses mercedes smart mini car range mercedes hoping increase productivity bn euros negotiated euros annual savings german workers last year firm said determined retain mercedes position world successful luxury brand however daimlerchrysler shares fell news divisions well big worries continue surround mercedes benz michael rabb analyst bank sal oppenheim told reuters contrast chrysler enjoyed annual increase unit sales revenues calculated us dollars rose us division whose marques include dodge jeep transformed full year operating loss euros bn euros profit last year overall daimlerchrysler saw worldwide vehicle sales rise million total revenues added bn euros chrysler strong performance helped world fifth largest carmaker boost net income euros bn euros year shows strategy works well even challenging competitive environment said jurgen schrempp daimlerchrysler chairman daimlerchrysler took euro hit costs stemming defects scandal joint venture japanese subsidiary fuso daimlerchrysler last week agreed compensation package partner mitsubishi motors see buy stake fuso looking forward daimerchrysler profits expected slightly higher however expecting significant improvements profitability result major investment mercedes product range   \n",
       "1866                                                                                                                                                                                                                                                                                                                                                                                                                                                                                                                                                                                                                                                                                                                                                                                                                                                                                                                                                                                                                                                                                                                                                                                                                                                                                                                                                                                                                                                                                                         fockers fuel festive film chart comedy meet fockers topped festive box office north america setting new record christmas day sequel took december according studio estimates took christmas day alone highest takings day box office history meet fockers sequel ben stiller comedy meet parents also starring robert de niro blythe danner dustin hoffman barbra streisand despite success meet fockers takings figures blamed christmas falling weekend year christmas falls weekend bad business said paul dergarabedian president exhibitor relations compiles box office statistics weekend top films took estimated compared last year third lord rings film dominated box office meet fockers knocked last week top film lemony snicket series unfortunate events third place comedy fat albert co written bill cosby entered chart second place opening christmas day taking aviator starring leonardo dicaprio howard hughes took expanding cinemas christmas day   \n",
       "\n",
       "                Category  \n",
       "ArticleId                 \n",
       "1833            business  \n",
       "154             business  \n",
       "1101            business  \n",
       "1976                tech  \n",
       "917             business  \n",
       "1582            politics  \n",
       "651                sport  \n",
       "1797       entertainment  \n",
       "2034            business  \n",
       "1866       entertainment  "
      ],
      "text/html": [
       "<div>\n",
       "<style scoped>\n",
       "    .dataframe tbody tr th:only-of-type {\n",
       "        vertical-align: middle;\n",
       "    }\n",
       "\n",
       "    .dataframe tbody tr th {\n",
       "        vertical-align: top;\n",
       "    }\n",
       "\n",
       "    .dataframe thead th {\n",
       "        text-align: right;\n",
       "    }\n",
       "</style>\n",
       "<table border=\"1\" class=\"dataframe\">\n",
       "  <thead>\n",
       "    <tr style=\"text-align: right;\">\n",
       "      <th></th>\n",
       "      <th>Text</th>\n",
       "      <th>Category</th>\n",
       "    </tr>\n",
       "    <tr>\n",
       "      <th>ArticleId</th>\n",
       "      <th></th>\n",
       "      <th></th>\n",
       "    </tr>\n",
       "  </thead>\n",
       "  <tbody>\n",
       "    <tr>\n",
       "      <th>1833</th>\n",
       "      <td>worldcom ex boss launches defence lawyers defending former worldcom chief bernie ebbers battery fraud charges called company whistleblower first witness cynthia cooper worldcom ex head internal accounting alerted directors irregular accounting practices us telecoms giant warnings led collapse firm following discovery bn bn accounting fraud mr ebbers pleaded guilty charges fraud conspiracy prosecution lawyers argued mr ebbers orchestrated series accounting tricks worldcom ordering employees hide expenses inflate revenues meet wall street earnings estimates ms cooper runs consulting business told jury new york wednesday external auditors arthur andersen approved worldcom accounting early said andersen given green light procedures practices used worldcom mr ebber lawyers said unaware fraud arguing auditors alert problems ms cooper also said shareholder meetings mr ebbers often passed technical questions company finance chief giving brief answers prosecution star witness former worldcom financial chief scott sullivan said mr ebbers ordered accounting adjustments firm telling hit books however ms cooper said mr sullivan mentioned anything uncomfortable worldcom accounting audit committee meeting mr ebbers could face jail sentence years convicted charges facing worldcom emerged bankruptcy protection known mci last week mci agreed buyout verizon communications deal valued bn</td>\n",
       "      <td>business</td>\n",
       "    </tr>\n",
       "    <tr>\n",
       "      <th>154</th>\n",
       "      <td>german business confidence slides german business confidence fell february knocking hopes speedy recovery europe largest economy munich based research institute ifo said confidence index fell february january first decline three months study found outlook manufacturing retail sectors worsened observers hoping confident business sector would signal economic activity picking surprised ifo index taken knock said dz bank economist bernd weidensteiner main reason probably domestic economy still weak particularly retail trade economy labour minister wolfgang clement called dip february ifo confidence figure mild decline said despite retreat index remained relatively high level expected modest economic upswing continue germany economy grew last year shrinking however economy contracted last three months mainly due reluctance consumers spend latest indications growth still proving elusive ifo president hans werner sinn said improvement german domestic demand sluggish exports kept things going first half demand exports hit value euro hit record levels making german products less competitive overseas top unemployment rate stuck close manufacturing firms including daimlerchrysler siemens volkswagen negotiating unions cost cutting measures analysts said ifo figures germany continuing problems may delay interest rate rise european central bank eurozone interest rates comments senior officials recently focused threat inflation prompting fears interest rates may rise</td>\n",
       "      <td>business</td>\n",
       "    </tr>\n",
       "    <tr>\n",
       "      <th>1101</th>\n",
       "      <td>bbc poll indicates economic gloom citizens majority nations surveyed bbc world service poll believe world economy worsening respondents also said national economy getting worse asked family financial outlook majority countries said positive future almost people countries questioned poll mostly conducted asian tsunami disaster poll found majority plurality people countries believed economy going downhill compared respondents nine countries believed improving surveyed three countries split percentage terms average respondents country said world economy getting worse compared said improving similarly pessimistic national economy optimistic saw family economic conditions improving said getting worse poll people conducted international polling firm globescan together program international policy attitudes pipa university maryland world economy picked difficult times years ago people seem fully absorbed development though personally experiencing effects said pipa director steven kull people around world saying ok world may perception war terrorism religious political divisions making world worse place even though far reflected global economic performance says bbc elizabeth blunt countries people optimistic world families two fast growing developing economies china india followed indonesia china seen two decades blistering economic growth led wealth creation huge scale says bbc louisa lim beijing results also may reflect untrammelled confidence people subject endless government propaganda country rosy economic future correspondent says south korea pessimistic respondents italy mexico also quite gloomy bbc david willey rome says one reason result changeover lira euro widely viewed biggest reason wages salaries worth less used philippines among upbeat countries prospects respondents families one pessimistic world economy pipa conducted poll november january across countries face face telephone interviews interviews took place november january margin error points depending country eight countries sample limited major metropolitan areas</td>\n",
       "      <td>business</td>\n",
       "    </tr>\n",
       "    <tr>\n",
       "      <th>1976</th>\n",
       "      <td>lifestyle governs mobile choice faster better funkier hardware alone going help phone firms sell handsets research suggests instead phone firms keen get customers pushing technology sake consumers far interested handsets fit lifestyle screen size onboard memory chip inside shows depth study handset maker ericsson historically industry much focus using technology said dr michael bjorn senior advisor mobile media ericsson consumer enterprise lab stop saying technologies change lives said try speak consumers language help see fits told bbc news website study ericsson interviewed mobile phone owners ways use phone people habits remain said dr bjorn move activity mobile phone much convenient way one good example diary writing among younger people said diaries always popular mobile phone especially one equipped camera helps keep different form youngsters use text messages also reflects desire chat keep contact friends lets slightly changed way dr bjorn said although consumers always use phone sheer variety new handset technologies make possible gradually drive new habits lifestyles ericsson research shown consumers divide different tribes use phones different ways dr bjorn said groups dubbed pioneers materialists interested trying new things behind start many trends phone use instance said older people using sms much five years ago younger users often children ageing mobile owners encouraged older people try could keep touch another factor governing speed change mobile phone use simple speed new devices bought pioneers materialists people handsets new innovations cameras consumers stop worrying send picture message person end able see significant number users passed use new innovations tends take dr bjorn said early reports camera phone usage japan seemed imply innovation going flop however said japanese people ericsson questioned use camera phone least month figure similarly across europe numbers people taking snaps cameras starting rise people uk took phonecam snap least month figure similar rises seen many european nations dr bjorn said people also used camera phones different ways film even digital cameras usage patterns digital cameras almost exactly replacing usage patterns analogue cameras said digital cameras tend used significant events weddings holidays birthdays contrast said camera phones used much capture moment woven everyday life</td>\n",
       "      <td>tech</td>\n",
       "    </tr>\n",
       "    <tr>\n",
       "      <th>917</th>\n",
       "      <td>enron bosses payout eighteen former enron directors agreed settlement deal shareholder lawsuit collapse energy firm leading plaintiff university california announced news adding former directors pay pockets settlement put courts approval next week enron went bankrupt emerged hidden hundreds millions dollars debt collapse firm seventh biggest public us company revenue demise sent shockwaves financial markets dented investor confidence corporate america settlement significant holding outside directors least partially personally responsible william lerach lawyer leading class action suit enron said hopefully help send message corporate boardrooms importance directors performing legal duties added terms settlement covered insurance none former directors admit wrongdoing deal fourth major settlement negotiated lawyers filed class action behalf enron shareholders almost three years ago far including latest deal retrieved investors however latest deal include former enron chief executives ken lay jeff skilling men facing criminal charges alleged misconduct run firm collapse neither cover andrew fastow pleaded guilty taking part illegal conspiracy chief financial officer group enron shareholders still seeking damages long list big name defendants including financial institutions jp morgan chase citigroup merrill lynch credit suisse first boston university california said trial case scheduled begin october joined lawsuit december alleging massive insider trading fraud claiming lost investments company</td>\n",
       "      <td>business</td>\n",
       "    </tr>\n",
       "    <tr>\n",
       "      <th>1582</th>\n",
       "      <td>howard truanted play snooker conservative leader michael howard admitted used play truant spend time school friends snooker hall mr howard said time jack snooker hall llanelli done lasting damage told times educational supplement truancy bad said firm action needed mr howard also called return levels classroom discipline mr howard eventually left llanelli grammar school snooker hall go cambridge university said think done lasting damage made snooker world champion might occasions left early afternoon honest think truancy bad thing firm action taken deal another player failed win snooker world championship jimmy whirlwind white previously admitted missing lessons instead spending days smoky halls tony meo another player used spend spare time mr white said loved game atmosphere school went window went started taking time mr howard fellow welshman ray reardon known fellow professionals dracula snooker world championship six times left school work miner terry griffiths like mr howard llanelli tournament known whether two ever clashed cues jack</td>\n",
       "      <td>politics</td>\n",
       "    </tr>\n",
       "    <tr>\n",
       "      <th>651</th>\n",
       "      <td>wales silent grand slam talk rhys williams says wales still thinking winning grand slam despite third six nations win last thing minds moment said williams second half replacement saturday win france paris realise difficult task go scotland beat come unstuck couple times recently focus game worry ireland hopefully beaten scotland captain gareth thomas ruled rest campaign broken thumb williams vying first start championship far kevin morgan probably favourite replace thomas full back leaving williams hal luscombe battle right wing berth hamstring injury denied luscombe opportunity make third successive start dragons winger expected fit trip murrayfield march hooker robin mcbryde doubtful picking knee injury paris centre sonny parker flanker colin charvis set recover injury contention selection said wales assistant coach scott johnson worked weekend reports bit positive getting couple back adds depth squad scotland secured first win campaign saturday grinding win italy matt williams side shown little attack johnson insisted scots difficult opposition break italy really brave opposition sometimes hard win said ugly win effective point victory scotland hard side underrated taking anything granted basking glory winning first three games got diligent preparation job got make sure focused</td>\n",
       "      <td>sport</td>\n",
       "    </tr>\n",
       "    <tr>\n",
       "      <th>1797</th>\n",
       "      <td>french honour director parker british film director sir alan parker made officer order arts letters one france highest cultural honours sir alan received decoration paris wednesday french culture minister renaud donnedieu de vabres explored possibilities film immense talent mr de vabres said presented award parker praised french films saying hollywood created modern cinema uses commodity told minister honoured thus distinguished france flag carrier cinema throughout world sir alan films include oscar winning fame plus midnight express commitments founding member director guild great britain former chairman uk film council board british film institute work campaigns shown us artist occupies essential place contemporary society mr de vabres said dreams show us links weave question world mirror work also cited director film life david gale kevin spacey played man death row proof veritable artistic commitment death sentence</td>\n",
       "      <td>entertainment</td>\n",
       "    </tr>\n",
       "    <tr>\n",
       "      <th>2034</th>\n",
       "      <td>car giant hit mercedes slump slump profitability luxury car maker mercedes prompted big drop profits parent daimlerchrysler german us carmaker saw fourth quarter operating profits fall euros bn bn euros mercedes benz woes profits slid euros obscured strong performance chrysler group whose returns met market expectations mercedes faces fierce competition luxury car sector bmw hopes revive fortunes mercedes profits period compared unfavourably euro figure well analyst expectations euros year whole operating profits fell bn euros sales mercedes brands fell demand cooled revenues affected weakness us dollar carmaker blamed fall profits high launch costs new models losses mercedes smart mini car range mercedes hoping increase productivity bn euros negotiated euros annual savings german workers last year firm said determined retain mercedes position world successful luxury brand however daimlerchrysler shares fell news divisions well big worries continue surround mercedes benz michael rabb analyst bank sal oppenheim told reuters contrast chrysler enjoyed annual increase unit sales revenues calculated us dollars rose us division whose marques include dodge jeep transformed full year operating loss euros bn euros profit last year overall daimlerchrysler saw worldwide vehicle sales rise million total revenues added bn euros chrysler strong performance helped world fifth largest carmaker boost net income euros bn euros year shows strategy works well even challenging competitive environment said jurgen schrempp daimlerchrysler chairman daimlerchrysler took euro hit costs stemming defects scandal joint venture japanese subsidiary fuso daimlerchrysler last week agreed compensation package partner mitsubishi motors see buy stake fuso looking forward daimerchrysler profits expected slightly higher however expecting significant improvements profitability result major investment mercedes product range</td>\n",
       "      <td>business</td>\n",
       "    </tr>\n",
       "    <tr>\n",
       "      <th>1866</th>\n",
       "      <td>fockers fuel festive film chart comedy meet fockers topped festive box office north america setting new record christmas day sequel took december according studio estimates took christmas day alone highest takings day box office history meet fockers sequel ben stiller comedy meet parents also starring robert de niro blythe danner dustin hoffman barbra streisand despite success meet fockers takings figures blamed christmas falling weekend year christmas falls weekend bad business said paul dergarabedian president exhibitor relations compiles box office statistics weekend top films took estimated compared last year third lord rings film dominated box office meet fockers knocked last week top film lemony snicket series unfortunate events third place comedy fat albert co written bill cosby entered chart second place opening christmas day taking aviator starring leonardo dicaprio howard hughes took expanding cinemas christmas day</td>\n",
       "      <td>entertainment</td>\n",
       "    </tr>\n",
       "  </tbody>\n",
       "</table>\n",
       "</div>"
      ]
     },
     "execution_count": 78,
     "metadata": {},
     "output_type": "execute_result"
    }
   ],
   "execution_count": 78
  },
  {
   "metadata": {
    "ExecuteTime": {
     "end_time": "2024-04-08T17:45:57.683553Z",
     "start_time": "2024-04-08T17:45:57.681007Z"
    }
   },
   "cell_type": "code",
   "source": [
    "user_interests_1: Dict[int, List[str]] = {\n",
    "    1: ['politics'],\n",
    "    2: ['entertainment'],\n",
    "    3: ['sport'],\n",
    "    4: ['tech'],\n",
    "    5: ['business']\n",
    "}\n",
    "\n",
    "user_interests_2 = {\n",
    "    1: ['politics', 'soccer'],\n",
    "    2: ['music', 'films'],\n",
    "    3: ['cars', 'politics'],\n",
    "    4: ['soccer']\n",
    "}"
   ],
   "id": "e7e11e5b17ae3a46",
   "outputs": [],
   "execution_count": 99
  },
  {
   "metadata": {
    "ExecuteTime": {
     "end_time": "2024-04-08T18:01:53.480247Z",
     "start_time": "2024-04-08T18:01:53.476327Z"
    }
   },
   "cell_type": "code",
   "source": [
    "def flatten(xss):\n",
    "    return [x for xs in xss for x in xs]\n",
    "\n",
    "def preprocess_user_interests(user_interests: Dict[int, List[str]]) -> Dict[int, List[str]]:\n",
    "    interests_processed = {}\n",
    "    for user_id, interests in user_interests.items():\n",
    "         interests_processed[user_id] = data_preprocessing(interests, english_stopwords)\n",
    "    return interests_processed\n",
    "\n",
    "num_documents_to_retrieve = 10  # Number of documents to retrieve for each user\n",
    "user_interests = preprocess_user_interests(user_interests_1)\n",
    "user_interests"
   ],
   "id": "44eb38266e66c48d",
   "outputs": [
    {
     "data": {
      "text/plain": [
       "{1: ['politics'],\n",
       " 2: ['entertainment'],\n",
       " 3: ['sport'],\n",
       " 4: ['tech'],\n",
       " 5: ['business']}"
      ]
     },
     "execution_count": 120,
     "metadata": {},
     "output_type": "execute_result"
    }
   ],
   "execution_count": 120
  },
  {
   "metadata": {},
   "cell_type": "markdown",
   "source": "# TF-IDF",
   "id": "a1ee2d5ab3cc1556"
  },
  {
   "cell_type": "code",
   "id": "f27bae2e536b60ad",
   "metadata": {
    "collapsed": false,
    "ExecuteTime": {
     "end_time": "2024-04-08T18:02:02.427630Z",
     "start_time": "2024-04-08T18:02:02.423149Z"
    }
   },
   "source": [
    "from sklearn.feature_extraction.text import TfidfVectorizer\n",
    "from scipy.sparse import csr_matrix\n",
    "\n",
    "def get_tfidf(data: pd.Series, *, min_df: float = None, max_df: float = None, stop_words_language: str = 'english', max_features: int = 100) -> Tuple[TfidfVectorizer, csr_matrix]:\n",
    "    data = data.fillna('')\n",
    "    vectorizer = TfidfVectorizer(min_df=min_df or 0.0, max_df=max_df or 0.0,  stop_words=stop_words_language, max_features=max_features)\n",
    "    vectors = vectorizer.fit_transform(data)\n",
    "    return vectorizer, vectors"
   ],
   "outputs": [],
   "execution_count": 121
  },
  {
   "metadata": {
    "ExecuteTime": {
     "end_time": "2024-04-08T18:02:04.292310Z",
     "start_time": "2024-04-08T18:02:04.087819Z"
    }
   },
   "cell_type": "code",
   "source": "vectorizer, document_vectors = get_tfidf(data['Text'], max_df=0.05, stop_words_language='english', max_features=1000)",
   "id": "7dc6762c81dc0f59",
   "outputs": [],
   "execution_count": 122
  },
  {
   "metadata": {
    "ExecuteTime": {
     "end_time": "2024-04-08T18:02:04.447052Z",
     "start_time": "2024-04-08T18:02:04.444600Z"
    }
   },
   "cell_type": "code",
   "source": "document_vectors.shape",
   "id": "77568c685ee79366",
   "outputs": [
    {
     "data": {
      "text/plain": [
       "(2225, 1000)"
      ]
     },
     "execution_count": 123,
     "metadata": {},
     "output_type": "execute_result"
    }
   ],
   "execution_count": 123
  },
  {
   "metadata": {
    "ExecuteTime": {
     "end_time": "2024-04-08T18:13:48.216504Z",
     "start_time": "2024-04-08T18:13:48.200397Z"
    }
   },
   "cell_type": "code",
   "source": [
    "from sklearn.metrics.pairwise import cosine_similarity\n",
    "\n",
    "user_retrieved_documents: Dict[int, pd.DataFrame] = {\n",
    "    user_id: pd.DataFrame(\n",
    "        index=data.index,\n",
    "        columns=['SimilarityScore']\n",
    "    )\n",
    "    for user_id, _ in user_interests.items()\n",
    "}\n",
    "\n",
    "for user_id, interests in user_interests.items():\n",
    "    print(f'User {user_id} have interests: [{', '.join(interests)}]')\n",
    "    for interest in interests:\n",
    "        query_vector = vectorizer.transform([interest])\n",
    "        similarity_scores = cosine_similarity(query_vector, document_vectors)[0]\n",
    "        print(f\"Similarity scores: {similarity_scores}\")\n",
    "        top_documents_indices = similarity_scores.argsort()[-num_documents_to_retrieve:][::-1]\n",
    "        for document_index in top_documents_indices:\n",
    "            article_id = data.index[document_index]\n",
    "            user_retrieved_documents[user_id].loc[article_id] = similarity_scores[document_index]\n",
    "            print(f\"Document {article_id} with similarity score {similarity_scores[document_index]}\")\n",
    "            \n",
    "user_retrieved_documents[1]"
   ],
   "id": "120d17412e8789cc",
   "outputs": [
    {
     "name": "stdout",
     "output_type": "stream",
     "text": [
      "User 1 have interests: [politics]\n",
      "Similarity scores: [0. 0. 0. ... 0. 0. 0.]\n",
      "Document 642 with similarity score 0.5950719428359025\n",
      "Document 1792 with similarity score 0.578311405315986\n",
      "Document 553 with similarity score 0.4665441969474489\n",
      "Document 825 with similarity score 0.4449098397095696\n",
      "Document 613 with similarity score 0.3428030118435868\n",
      "Document 14 with similarity score 0.3279381543551124\n",
      "Document 86 with similarity score 0.3279381543551124\n",
      "Document 2211 with similarity score 0.3006464417554213\n",
      "Document 1104 with similarity score 0.26068655104605937\n",
      "Document 2204 with similarity score 0.2273985428836941\n",
      "User 2 have interests: [entertainment]\n",
      "Similarity scores: [0. 0. 0. ... 0. 0. 0.]\n",
      "Document 985 with similarity score 0.5966060392716641\n",
      "Document 1147 with similarity score 0.41303112274216996\n",
      "Document 326 with similarity score 0.3283269672954306\n",
      "Document 1493 with similarity score 0.26031826969412664\n",
      "Document 992 with similarity score 0.23288658699423126\n",
      "Document 332 with similarity score 0.22672156773848093\n",
      "Document 84 with similarity score 0.21287585552930796\n",
      "Document 136 with similarity score 0.2086863118673219\n",
      "Document 782 with similarity score 0.2086863118673219\n",
      "Document 1090 with similarity score 0.1987333094958393\n",
      "User 3 have interests: [sport]\n",
      "Similarity scores: [0. 0. 0. ... 0. 0. 0.]\n",
      "Document 471 with similarity score 0.0\n",
      "Document 1280 with similarity score 0.0\n",
      "Document 1555 with similarity score 0.0\n",
      "Document 1234 with similarity score 0.0\n",
      "Document 1874 with similarity score 0.0\n",
      "Document 231 with similarity score 0.0\n",
      "Document 1995 with similarity score 0.0\n",
      "Document 1994 with similarity score 0.0\n",
      "Document 1860 with similarity score 0.0\n",
      "Document 245 with similarity score 0.0\n",
      "User 4 have interests: [tech]\n",
      "Similarity scores: [0. 0. 0. ... 0. 0. 0.]\n",
      "Document 471 with similarity score 0.0\n",
      "Document 1280 with similarity score 0.0\n",
      "Document 1555 with similarity score 0.0\n",
      "Document 1234 with similarity score 0.0\n",
      "Document 1874 with similarity score 0.0\n",
      "Document 231 with similarity score 0.0\n",
      "Document 1995 with similarity score 0.0\n",
      "Document 1994 with similarity score 0.0\n",
      "Document 1860 with similarity score 0.0\n",
      "Document 245 with similarity score 0.0\n",
      "User 5 have interests: [business]\n",
      "Similarity scores: [0. 0. 0. ... 0. 0. 0.]\n",
      "Document 471 with similarity score 0.0\n",
      "Document 1280 with similarity score 0.0\n",
      "Document 1555 with similarity score 0.0\n",
      "Document 1234 with similarity score 0.0\n",
      "Document 1874 with similarity score 0.0\n",
      "Document 231 with similarity score 0.0\n",
      "Document 1995 with similarity score 0.0\n",
      "Document 1994 with similarity score 0.0\n",
      "Document 1860 with similarity score 0.0\n",
      "Document 245 with similarity score 0.0\n"
     ]
    },
    {
     "data": {
      "text/plain": [
       "          SimilarityScore\n",
       "ArticleId                \n",
       "1833                  NaN\n",
       "154                   NaN\n",
       "1101                  NaN\n",
       "1976                  NaN\n",
       "917                   NaN\n",
       "...                   ...\n",
       "1923                  NaN\n",
       "373                   NaN\n",
       "1704                  NaN\n",
       "206                   NaN\n",
       "471                   NaN\n",
       "\n",
       "[2225 rows x 1 columns]"
      ],
      "text/html": [
       "<div>\n",
       "<style scoped>\n",
       "    .dataframe tbody tr th:only-of-type {\n",
       "        vertical-align: middle;\n",
       "    }\n",
       "\n",
       "    .dataframe tbody tr th {\n",
       "        vertical-align: top;\n",
       "    }\n",
       "\n",
       "    .dataframe thead th {\n",
       "        text-align: right;\n",
       "    }\n",
       "</style>\n",
       "<table border=\"1\" class=\"dataframe\">\n",
       "  <thead>\n",
       "    <tr style=\"text-align: right;\">\n",
       "      <th></th>\n",
       "      <th>SimilarityScore</th>\n",
       "    </tr>\n",
       "    <tr>\n",
       "      <th>ArticleId</th>\n",
       "      <th></th>\n",
       "    </tr>\n",
       "  </thead>\n",
       "  <tbody>\n",
       "    <tr>\n",
       "      <th>1833</th>\n",
       "      <td>NaN</td>\n",
       "    </tr>\n",
       "    <tr>\n",
       "      <th>154</th>\n",
       "      <td>NaN</td>\n",
       "    </tr>\n",
       "    <tr>\n",
       "      <th>1101</th>\n",
       "      <td>NaN</td>\n",
       "    </tr>\n",
       "    <tr>\n",
       "      <th>1976</th>\n",
       "      <td>NaN</td>\n",
       "    </tr>\n",
       "    <tr>\n",
       "      <th>917</th>\n",
       "      <td>NaN</td>\n",
       "    </tr>\n",
       "    <tr>\n",
       "      <th>...</th>\n",
       "      <td>...</td>\n",
       "    </tr>\n",
       "    <tr>\n",
       "      <th>1923</th>\n",
       "      <td>NaN</td>\n",
       "    </tr>\n",
       "    <tr>\n",
       "      <th>373</th>\n",
       "      <td>NaN</td>\n",
       "    </tr>\n",
       "    <tr>\n",
       "      <th>1704</th>\n",
       "      <td>NaN</td>\n",
       "    </tr>\n",
       "    <tr>\n",
       "      <th>206</th>\n",
       "      <td>NaN</td>\n",
       "    </tr>\n",
       "    <tr>\n",
       "      <th>471</th>\n",
       "      <td>NaN</td>\n",
       "    </tr>\n",
       "  </tbody>\n",
       "</table>\n",
       "<p>2225 rows × 1 columns</p>\n",
       "</div>"
      ]
     },
     "execution_count": 136,
     "metadata": {},
     "output_type": "execute_result"
    }
   ],
   "execution_count": 136
  }
 ],
 "metadata": {
  "kernelspec": {
   "display_name": "Python 3",
   "language": "python",
   "name": "python3"
  },
  "language_info": {
   "codemirror_mode": {
    "name": "ipython",
    "version": 2
   },
   "file_extension": ".py",
   "mimetype": "text/x-python",
   "name": "python",
   "nbconvert_exporter": "python",
   "pygments_lexer": "ipython2",
   "version": "3.11.5"
  }
 },
 "nbformat": 4,
 "nbformat_minor": 5
}

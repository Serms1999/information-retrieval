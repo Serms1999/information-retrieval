{
 "cells": [
  {
   "cell_type": "code",
   "execution_count": 1,
   "id": "957b8a8e",
   "metadata": {},
   "outputs": [],
   "source": [
    "# jupyter nbconvert --to script assignment1Ander.ipynb\n"
   ]
  },
  {
   "cell_type": "code",
   "execution_count": 2,
   "id": "initial_id",
   "metadata": {
    "ExecuteTime": {
     "end_time": "2024-03-27T17:51:15.343636Z",
     "start_time": "2024-03-27T17:51:14.052073Z"
    }
   },
   "outputs": [
    {
     "name": "stdout",
     "output_type": "stream",
     "text": [
      "Requirement already satisfied: pandas in c:\\users\\irune\\anaconda3\\lib\\site-packages (2.0.3)\n",
      "Requirement already satisfied: nltk in c:\\users\\irune\\anaconda3\\lib\\site-packages (3.6.1)\n",
      "Requirement already satisfied: scikit-learn in c:\\users\\irune\\appdata\\roaming\\python\\python38\\site-packages (1.0.2)\n",
      "Requirement already satisfied: tqdm in c:\\users\\irune\\anaconda3\\lib\\site-packages (from nltk) (4.59.0)\n",
      "Requirement already satisfied: click in c:\\users\\irune\\anaconda3\\lib\\site-packages (from nltk) (7.1.2)\n",
      "Requirement already satisfied: regex in c:\\users\\irune\\anaconda3\\lib\\site-packages (from nltk) (2021.4.4)\n",
      "Requirement already satisfied: joblib in c:\\users\\irune\\anaconda3\\lib\\site-packages (from nltk) (1.0.1)\n",
      "Requirement already satisfied: tzdata>=2022.1 in c:\\users\\irune\\anaconda3\\lib\\site-packages (from pandas) (2023.3)\n",
      "Requirement already satisfied: pytz>=2020.1 in c:\\users\\irune\\anaconda3\\lib\\site-packages (from pandas) (2021.1)\n",
      "Requirement already satisfied: numpy>=1.20.3 in c:\\users\\irune\\anaconda3\\lib\\site-packages (from pandas) (1.22.4)\n",
      "Requirement already satisfied: python-dateutil>=2.8.2 in c:\\users\\irune\\anaconda3\\lib\\site-packages (from pandas) (2.8.2)\n",
      "Requirement already satisfied: six>=1.5 in c:\\users\\irune\\anaconda3\\lib\\site-packages (from python-dateutil>=2.8.2->pandas) (1.15.0)\n",
      "Requirement already satisfied: scipy>=1.1.0 in c:\\users\\irune\\anaconda3\\lib\\site-packages (from scikit-learn) (1.10.1)\n",
      "Requirement already satisfied: threadpoolctl>=2.0.0 in c:\\users\\irune\\anaconda3\\lib\\site-packages (from scikit-learn) (2.1.0)\n"
     ]
    }
   ],
   "source": [
    "!pip install pandas nltk scikit-learn"
   ]
  },
  {
   "cell_type": "code",
   "execution_count": 5,
   "id": "8b7d3377bdb5e1af",
   "metadata": {
    "ExecuteTime": {
     "end_time": "2024-03-27T17:51:15.352167Z",
     "start_time": "2024-03-27T17:51:15.347933Z"
    }
   },
   "outputs": [],
   "source": [
    "import pandas as pd\n",
    "import nltk\n",
    "from sklearn.feature_extraction.text import TfidfVectorizer\n"
   ]
  },
  {
   "cell_type": "code",
   "execution_count": 6,
   "id": "88d221b76ddf2d70",
   "metadata": {
    "ExecuteTime": {
     "end_time": "2024-03-27T17:51:15.423875Z",
     "start_time": "2024-03-27T17:51:15.355546Z"
    },
    "scrolled": false
   },
   "outputs": [
    {
     "data": {
      "text/html": [
       "<div>\n",
       "<style scoped>\n",
       "    .dataframe tbody tr th:only-of-type {\n",
       "        vertical-align: middle;\n",
       "    }\n",
       "\n",
       "    .dataframe tbody tr th {\n",
       "        vertical-align: top;\n",
       "    }\n",
       "\n",
       "    .dataframe thead th {\n",
       "        text-align: right;\n",
       "    }\n",
       "</style>\n",
       "<table border=\"1\" class=\"dataframe\">\n",
       "  <thead>\n",
       "    <tr style=\"text-align: right;\">\n",
       "      <th></th>\n",
       "      <th>Text</th>\n",
       "      <th>Category</th>\n",
       "    </tr>\n",
       "    <tr>\n",
       "      <th>ArticleId</th>\n",
       "      <th></th>\n",
       "      <th></th>\n",
       "    </tr>\n",
       "  </thead>\n",
       "  <tbody>\n",
       "    <tr>\n",
       "      <th>1833</th>\n",
       "      <td>worldcom ex-boss launches defence lawyers defe...</td>\n",
       "      <td>business</td>\n",
       "    </tr>\n",
       "    <tr>\n",
       "      <th>154</th>\n",
       "      <td>german business confidence slides german busin...</td>\n",
       "      <td>business</td>\n",
       "    </tr>\n",
       "    <tr>\n",
       "      <th>1101</th>\n",
       "      <td>bbc poll indicates economic gloom citizens in ...</td>\n",
       "      <td>business</td>\n",
       "    </tr>\n",
       "    <tr>\n",
       "      <th>1976</th>\n",
       "      <td>lifestyle  governs mobile choice  faster  bett...</td>\n",
       "      <td>tech</td>\n",
       "    </tr>\n",
       "    <tr>\n",
       "      <th>917</th>\n",
       "      <td>enron bosses in $168m payout eighteen former e...</td>\n",
       "      <td>business</td>\n",
       "    </tr>\n",
       "    <tr>\n",
       "      <th>1582</th>\n",
       "      <td>howard  truanted to play snooker  conservative...</td>\n",
       "      <td>politics</td>\n",
       "    </tr>\n",
       "    <tr>\n",
       "      <th>651</th>\n",
       "      <td>wales silent on grand slam talk rhys williams ...</td>\n",
       "      <td>sport</td>\n",
       "    </tr>\n",
       "    <tr>\n",
       "      <th>1797</th>\n",
       "      <td>french honour for director parker british film...</td>\n",
       "      <td>entertainment</td>\n",
       "    </tr>\n",
       "    <tr>\n",
       "      <th>2034</th>\n",
       "      <td>car giant hit by mercedes slump a slump in pro...</td>\n",
       "      <td>business</td>\n",
       "    </tr>\n",
       "    <tr>\n",
       "      <th>1866</th>\n",
       "      <td>fockers fuel festive film chart comedy meet th...</td>\n",
       "      <td>entertainment</td>\n",
       "    </tr>\n",
       "  </tbody>\n",
       "</table>\n",
       "</div>"
      ],
      "text/plain": [
       "                                                        Text       Category\n",
       "ArticleId                                                                  \n",
       "1833       worldcom ex-boss launches defence lawyers defe...       business\n",
       "154        german business confidence slides german busin...       business\n",
       "1101       bbc poll indicates economic gloom citizens in ...       business\n",
       "1976       lifestyle  governs mobile choice  faster  bett...           tech\n",
       "917        enron bosses in $168m payout eighteen former e...       business\n",
       "1582       howard  truanted to play snooker  conservative...       politics\n",
       "651        wales silent on grand slam talk rhys williams ...          sport\n",
       "1797       french honour for director parker british film...  entertainment\n",
       "2034       car giant hit by mercedes slump a slump in pro...       business\n",
       "1866       fockers fuel festive film chart comedy meet th...  entertainment"
      ]
     },
     "execution_count": 6,
     "metadata": {},
     "output_type": "execute_result"
    }
   ],
   "source": [
    "dtypes = {\n",
    "    'ArticleId': 'int32',\n",
    "    'Text': 'str',\n",
    "    'Category': 'category'\n",
    "}\n",
    "data_train = pd.read_csv('data/BBC News Train.csv', dtype=dtypes, encoding='utf-8', index_col='ArticleId')\n",
    "data_test = pd.read_csv('data/BBC News Test.csv', dtype={'ArticleId': 'int32', 'Text': 'str'}, encoding='utf-8', index_col='ArticleId')\n",
    "data_test_solution = pd.read_csv('data/BBC News Sample Solution.csv', dtype={'ArticleId': 'int32', 'Category': 'category'}, encoding='utf-8', index_col='ArticleId')\n",
    "data_test['Category'] = data_test_solution['Category']\n",
    "corpus = pd.concat([data_train, data_test])\n",
    "corpus.head(10)"
   ]
  },
  {
   "cell_type": "code",
   "execution_count": 7,
   "id": "96ce9018b2a8fbac",
   "metadata": {
    "ExecuteTime": {
     "end_time": "2024-03-27T17:51:15.429939Z",
     "start_time": "2024-03-27T17:51:15.425334Z"
    },
    "scrolled": false
   },
   "outputs": [
    {
     "name": "stdout",
     "output_type": "stream",
     "text": [
      "<class 'pandas.core.frame.DataFrame'>\n",
      "Int64Index: 2225 entries, 1833 to 471\n",
      "Data columns (total 2 columns):\n",
      " #   Column    Non-Null Count  Dtype   \n",
      "---  ------    --------------  -----   \n",
      " 0   Text      2225 non-null   object  \n",
      " 1   Category  2225 non-null   category\n",
      "dtypes: category(1), object(1)\n",
      "memory usage: 37.1+ KB\n"
     ]
    }
   ],
   "source": [
    "corpus.info()"
   ]
  },
  {
   "cell_type": "code",
   "execution_count": 8,
   "id": "2b05d327a4857f09",
   "metadata": {
    "ExecuteTime": {
     "end_time": "2024-03-27T17:51:15.433899Z",
     "start_time": "2024-03-27T17:51:15.430670Z"
    }
   },
   "outputs": [
    {
     "data": {
      "text/plain": [
       "sport            493\n",
       "business         483\n",
       "politics         421\n",
       "entertainment    420\n",
       "tech             408\n",
       "Name: Category, dtype: int64"
      ]
     },
     "execution_count": 8,
     "metadata": {},
     "output_type": "execute_result"
    }
   ],
   "source": [
    "corpus.Category.value_counts()"
   ]
  },
  {
   "cell_type": "markdown",
   "id": "eb35a3128315a8a1",
   "metadata": {},
   "source": [
    "## Preprocessing\n",
    "\n",
    "### Lowercasing"
   ]
  },
  {
   "cell_type": "code",
   "execution_count": 9,
   "id": "2c02022a24763cd0",
   "metadata": {
    "ExecuteTime": {
     "end_time": "2024-03-27T17:51:15.436626Z",
     "start_time": "2024-03-27T17:51:15.434739Z"
    }
   },
   "outputs": [],
   "source": [
    "def lowercase_data(data: pd.DataFrame):\n",
    "    new_data = data.copy()\n",
    "    new_data = new_data.str.lower()\n",
    "    return new_data"
   ]
  },
  {
   "cell_type": "markdown",
   "id": "f6db4930c7a4763d",
   "metadata": {},
   "source": [
    "### Punctuation Removal"
   ]
  },
  {
   "cell_type": "code",
   "execution_count": 10,
   "id": "fff3a6acf4b32ed5",
   "metadata": {
    "ExecuteTime": {
     "end_time": "2024-03-27T17:51:15.439642Z",
     "start_time": "2024-03-27T17:51:15.437510Z"
    }
   },
   "outputs": [],
   "source": [
    "from nltk.tokenize import RegexpTokenizer\n",
    "def remove_punctuation(data: pd.DataFrame):\n",
    "    tokenizer = RegexpTokenizer(r'[a-z]+')\n",
    "    new_data = data.copy()\n",
    "    new_data = new_data.apply(tokenizer.tokenize)\n",
    "    return new_data, tokenizer"
   ]
  },
  {
   "cell_type": "markdown",
   "id": "583e7f0fb29903",
   "metadata": {},
   "source": [
    "### Stopwords Removal"
   ]
  },
  {
   "cell_type": "code",
   "execution_count": 11,
   "id": "acb1e2b503a01671",
   "metadata": {
    "ExecuteTime": {
     "end_time": "2024-03-27T17:51:15.442665Z",
     "start_time": "2024-03-27T17:51:15.440299Z"
    }
   },
   "outputs": [
    {
     "name": "stderr",
     "output_type": "stream",
     "text": [
      "[nltk_data] Downloading package stopwords to\n",
      "[nltk_data]     C:\\Users\\Irune\\AppData\\Roaming\\nltk_data...\n",
      "[nltk_data]   Package stopwords is already up-to-date!\n"
     ]
    }
   ],
   "source": [
    "from nltk.corpus import stopwords\n",
    "\n",
    "nltk.download('stopwords')\n",
    "\n",
    "def remove_stopwords(data: pd.DataFrame):\n",
    "    stop_words = set(stopwords.words('english'))\n",
    "    new_data = data.copy()\n",
    "    new_data = new_data.apply(lambda x: [word for word in tuple(x) if word not in stop_words and len(word) > 3])\n",
    "    return new_data"
   ]
  },
  {
   "cell_type": "markdown",
   "id": "10682d5495dc5e81",
   "metadata": {},
   "source": [
    "### Lemmatization"
   ]
  },
  {
   "cell_type": "code",
   "execution_count": 12,
   "id": "f241c8565dfa7777",
   "metadata": {
    "ExecuteTime": {
     "end_time": "2024-03-27T17:51:15.445731Z",
     "start_time": "2024-03-27T17:51:15.443299Z"
    }
   },
   "outputs": [
    {
     "name": "stderr",
     "output_type": "stream",
     "text": [
      "[nltk_data] Downloading package wordnet to\n",
      "[nltk_data]     C:\\Users\\Irune\\AppData\\Roaming\\nltk_data...\n",
      "[nltk_data]   Package wordnet is already up-to-date!\n"
     ]
    }
   ],
   "source": [
    "from nltk.stem import WordNetLemmatizer\n",
    "\n",
    "nltk.download('wordnet')\n",
    "def lemmatize_data(data: pd.DataFrame):\n",
    "    lemmatizer = WordNetLemmatizer()\n",
    "    new_data = data.copy()\n",
    "    new_data = new_data.apply(lambda x: ' '.join([lemmatizer.lemmatize(word) for word in x]))\n",
    "    return new_data, lemmatizer"
   ]
  },
  {
   "cell_type": "markdown",
   "id": "cf095e767b5ab599",
   "metadata": {},
   "source": [
    "### Stemming"
   ]
  },
  {
   "cell_type": "code",
   "execution_count": 13,
   "id": "f452ad5f0e0d5e81",
   "metadata": {
    "ExecuteTime": {
     "end_time": "2024-03-27T17:51:15.450561Z",
     "start_time": "2024-03-27T17:51:15.447985Z"
    }
   },
   "outputs": [
    {
     "name": "stderr",
     "output_type": "stream",
     "text": [
      "[nltk_data] Downloading package punkt to\n",
      "[nltk_data]     C:\\Users\\Irune\\AppData\\Roaming\\nltk_data...\n",
      "[nltk_data]   Package punkt is already up-to-date!\n"
     ]
    }
   ],
   "source": [
    "from nltk.stem import PorterStemmer\n",
    "\n",
    "nltk.download('punkt')\n",
    "def stem_data(data: pd.DataFrame):\n",
    "    stemmer = PorterStemmer()\n",
    "    new_data = data.copy()\n",
    "    new_data = new_data.apply(lambda x: ' '.join([stemmer.stem(word) for word in x]))\n",
    "    return new_data, stemmer"
   ]
  },
  {
   "cell_type": "code",
   "execution_count": 12,
   "id": "31bb8d94",
   "metadata": {},
   "outputs": [
    {
     "data": {
      "text/plain": [
       "Index(['Text', 'Category'], dtype='object')"
      ]
     },
     "execution_count": 12,
     "metadata": {},
     "output_type": "execute_result"
    }
   ],
   "source": [
    "corpus.columns"
   ]
  },
  {
   "cell_type": "code",
   "execution_count": 14,
   "id": "f27bae2e536b60ad",
   "metadata": {
    "ExecuteTime": {
     "end_time": "2024-03-27T17:51:15.452959Z",
     "start_time": "2024-03-27T17:51:15.451263Z"
    },
    "collapsed": false
   },
   "outputs": [],
   "source": [
    "def preprocessing(corpus):\n",
    "    data = corpus.copy()\n",
    "    data = lowercase_data(data)\n",
    "    data, punctuationRemover = remove_punctuation(data)\n",
    "    data = remove_stopwords(data)\n",
    "    \n",
    "    return data"
   ]
  },
  {
   "cell_type": "code",
   "execution_count": 15,
   "id": "8daaf06aa595e909",
   "metadata": {
    "ExecuteTime": {
     "end_time": "2024-03-27T17:51:20.278326Z",
     "start_time": "2024-03-27T17:51:15.453540Z"
    }
   },
   "outputs": [],
   "source": [
    "data = preprocessing(corpus['Text'])\n",
    "\n",
    "data, lemmatizer = lemmatize_data(data)\n",
    "# data_stemmed, stemmer = stem_data(data)"
   ]
  },
  {
   "cell_type": "markdown",
   "id": "48951fbf622fc116",
   "metadata": {},
   "source": [
    "# Using tf-idf"
   ]
  },
  {
   "cell_type": "markdown",
   "id": "81be0512",
   "metadata": {},
   "source": [
    "4 different users: the first one being interested in politics and soccer, the second in music and films, the third in cars and politics and the fourth in soccer alone."
   ]
  },
  {
   "cell_type": "code",
   "execution_count": 15,
   "id": "a7f487ef",
   "metadata": {},
   "outputs": [],
   "source": [
    "user_interests = {\n",
    "    1: ['politics', 'soccer'],\n",
    "    2: ['music', 'films'],\n",
    "    3: ['cars', 'politics'],\n",
    "    4: ['soccer']\n",
    "}"
   ]
  },
  {
   "cell_type": "code",
   "execution_count": 16,
   "id": "1385db31",
   "metadata": {},
   "outputs": [],
   "source": [
    "user_interests = {\n",
    "    1: ['kennedy'],\n",
    "    2: ['entertainment'],\n",
    "    3: ['sports'],\n",
    "    4: ['tech'],\n",
    "    5: ['business']\n",
    "}"
   ]
  },
  {
   "cell_type": "code",
   "execution_count": 17,
   "id": "1bd47d9e",
   "metadata": {},
   "outputs": [
    {
     "data": {
      "text/html": [
       "<div>\n",
       "<style scoped>\n",
       "    .dataframe tbody tr th:only-of-type {\n",
       "        vertical-align: middle;\n",
       "    }\n",
       "\n",
       "    .dataframe tbody tr th {\n",
       "        vertical-align: top;\n",
       "    }\n",
       "\n",
       "    .dataframe thead th {\n",
       "        text-align: right;\n",
       "    }\n",
       "</style>\n",
       "<table border=\"1\" class=\"dataframe\">\n",
       "  <thead>\n",
       "    <tr style=\"text-align: right;\">\n",
       "      <th></th>\n",
       "      <th>Text</th>\n",
       "      <th>Category</th>\n",
       "    </tr>\n",
       "    <tr>\n",
       "      <th>ArticleId</th>\n",
       "      <th></th>\n",
       "      <th></th>\n",
       "    </tr>\n",
       "  </thead>\n",
       "  <tbody>\n",
       "    <tr>\n",
       "      <th>1833</th>\n",
       "      <td>worldcom bos launch defence lawyer defending f...</td>\n",
       "      <td>business</td>\n",
       "    </tr>\n",
       "    <tr>\n",
       "      <th>154</th>\n",
       "      <td>german business confidence slide german busine...</td>\n",
       "      <td>business</td>\n",
       "    </tr>\n",
       "    <tr>\n",
       "      <th>1101</th>\n",
       "      <td>poll indicates economic gloom citizen majority...</td>\n",
       "      <td>business</td>\n",
       "    </tr>\n",
       "    <tr>\n",
       "      <th>1976</th>\n",
       "      <td>lifestyle governs mobile choice faster better ...</td>\n",
       "      <td>tech</td>\n",
       "    </tr>\n",
       "    <tr>\n",
       "      <th>917</th>\n",
       "      <td>enron boss payout eighteen former enron direct...</td>\n",
       "      <td>business</td>\n",
       "    </tr>\n",
       "    <tr>\n",
       "      <th>...</th>\n",
       "      <td>...</td>\n",
       "      <td>...</td>\n",
       "    </tr>\n",
       "    <tr>\n",
       "      <th>1923</th>\n",
       "      <td>probe alitalia state european commission offic...</td>\n",
       "      <td>sport</td>\n",
       "    </tr>\n",
       "    <tr>\n",
       "      <th>373</th>\n",
       "      <td>play grammy award show irish rock band play li...</td>\n",
       "      <td>tech</td>\n",
       "    </tr>\n",
       "    <tr>\n",
       "      <th>1704</th>\n",
       "      <td>sport betting rule spotlight group peer called...</td>\n",
       "      <td>business</td>\n",
       "    </tr>\n",
       "    <tr>\n",
       "      <th>206</th>\n",
       "      <td>alfa romeo engine fiat stop making cylinder pe...</td>\n",
       "      <td>entertainment</td>\n",
       "    </tr>\n",
       "    <tr>\n",
       "      <th>471</th>\n",
       "      <td>citizenship event touted citizenship ceremony ...</td>\n",
       "      <td>politics</td>\n",
       "    </tr>\n",
       "  </tbody>\n",
       "</table>\n",
       "<p>2225 rows × 2 columns</p>\n",
       "</div>"
      ],
      "text/plain": [
       "                                                        Text       Category\n",
       "ArticleId                                                                  \n",
       "1833       worldcom bos launch defence lawyer defending f...       business\n",
       "154        german business confidence slide german busine...       business\n",
       "1101       poll indicates economic gloom citizen majority...       business\n",
       "1976       lifestyle governs mobile choice faster better ...           tech\n",
       "917        enron boss payout eighteen former enron direct...       business\n",
       "...                                                      ...            ...\n",
       "1923       probe alitalia state european commission offic...          sport\n",
       "373        play grammy award show irish rock band play li...           tech\n",
       "1704       sport betting rule spotlight group peer called...       business\n",
       "206        alfa romeo engine fiat stop making cylinder pe...  entertainment\n",
       "471        citizenship event touted citizenship ceremony ...       politics\n",
       "\n",
       "[2225 rows x 2 columns]"
      ]
     },
     "execution_count": 17,
     "metadata": {},
     "output_type": "execute_result"
    }
   ],
   "source": [
    "data"
   ]
  },
  {
   "cell_type": "code",
   "execution_count": 18,
   "id": "a00ea52c",
   "metadata": {},
   "outputs": [
    {
     "data": {
      "text/plain": [
       "1000"
      ]
     },
     "execution_count": 18,
     "metadata": {},
     "output_type": "execute_result"
    }
   ],
   "source": [
    "from sklearn.metrics.pairwise import cosine_similarity\n",
    "from sklearn.feature_extraction.text import TfidfVectorizer\n",
    "\n",
    "# Combine all documents into a single list\n",
    "all_documents = data\n",
    "\n",
    "# Vectorize documents using TF-IDF\n",
    "vectorizer = TfidfVectorizer(max_df=0.05,  stop_words='english', max_features=1000)\n",
    "document_vectors = vectorizer.fit_transform(all_documents)\n",
    "len(vectorizer.vocabulary_)"
   ]
  },
  {
   "cell_type": "code",
   "execution_count": 19,
   "id": "c83f1e36",
   "metadata": {},
   "outputs": [],
   "source": [
    "\n",
    "\n",
    "num_documents_to_retrieve = 10  # Number of documents to retrieve for each user\n",
    "user_relevant_documents = {}\n",
    "categories = corpus['Category'].unique()\n",
    "\n",
    "for user_id, interests in user_interests.items():\n",
    "    relevant_documents = []\n",
    "    interests = preprocessing(pd.Series(interests))\n",
    "    for interest in interests:\n",
    "        interests = lemmatizer.lemmatize(''.join(interest))\n",
    "    #     interests = stemmer.stem(''.join(interest))\n",
    "        query_vector = vectorizer.transform(interest)\n",
    "        similarity_scores = cosine_similarity(query_vector, document_vectors)[0]\n",
    "        top_documents_indices = similarity_scores.argsort()[-num_documents_to_retrieve:][::-1]\n",
    "        top_documents = [(corpus.iloc[i]['Text'], similarity_scores[i]) for i in top_documents_indices]\n",
    "        relevant_documents.extend(top_documents)\n",
    "    \n",
    "    # Sort the relevant documents by their similarity scores and select the top 10\n",
    "    relevant_documents.sort(key=lambda x: x[1], reverse=True)\n",
    "    top_10_documents = relevant_documents[:num_documents_to_retrieve]\n",
    "    \n",
    "    user_relevant_documents[user_id] = top_10_documents"
   ]
  },
  {
   "cell_type": "code",
   "execution_count": 136,
   "id": "aca545f7",
   "metadata": {},
   "outputs": [
    {
     "data": {
      "text/plain": [
       "['business', 'tech', 'politics', 'sport', 'entertainment']\n",
       "Categories (5, object): ['business', 'entertainment', 'politics', 'sport', 'tech']"
      ]
     },
     "execution_count": 136,
     "metadata": {},
     "output_type": "execute_result"
    }
   ],
   "source": [
    "categories"
   ]
  },
  {
   "cell_type": "markdown",
   "id": "2462b25c",
   "metadata": {},
   "source": [
    "User 1 Interests: ['politics']\n",
    "     Document: court halt mark morrison album Similarity Score: 0.5719763\n",
    "     Document: confusion high definition crit Similarity Score: 0.55491936\n",
    "     Document: ethiopia crop production ethio Similarity Score: 0.5127802\n",
    "     Document: detention ruling urged governm Similarity Score: 0.5117885\n",
    "     Document: santy worm make unwelcome visi Similarity Score: 0.50219214\n",
    "     Document: ukip candidate suspended euros Similarity Score: 0.5007821\n",
    "     Document: bosvelt optimistic deal manche Similarity Score: 0.49390337\n",
    "     Document: adriano chelsea link rejected  Similarity Score: 0.49390337\n",
    "     Document: copy protection strengthened d Similarity Score: 0.49235088\n",
    "     Document: italy ireland moment magic bri Similarity Score: 0.481332"
   ]
  },
  {
   "cell_type": "code",
   "execution_count": 137,
   "id": "21b6b812",
   "metadata": {},
   "outputs": [
    {
     "name": "stdout",
     "output_type": "stream",
     "text": [
      "User 1 relevant documents:\n",
      "1. Similarity Score: 0.6906\n",
      " dems unveil election slogan liberal democrat present real alternative forthcoming general election campaign charles kennedy said unveiling slogan party spring conference said glass ceiling ambition told delegate labour abused public trust tory failed oppose response conservative insisted party understood forgotten majority speaking harrogate kennedy said people want credible principled political party offer different vision britain liberal democrat stood iraq said also provided strong opposition government plan card anti terror measure taxation said voted conservative good vote wasted people needed party listening concern party prepared stand party said prime minister responding claim tory party chairman liam said like labour dems soft crime support higher tax oppose controlled immigration support giving europe control life kennedy also outlined party plan impose income rate earnings year money would used help policy abolishing university tuition fee scrapping council favour local income providing free care elderly said labour tory claim sum working family would hardest kennedy said britain fourth largest economy world world class business world class workforce million pensioner living poverty line party campaigning hard expected election although prime minister tony blair confirmed timing earlier kennedy told radio today programme possibility forming coalition labour event hung parliament election independent party come independent party said kennedy fire recent day missing monday common vote government controversial anti terrorism law along saturday chief executive said cock kennedy colleague missed vote government majority nobody idea going happen lord rennard told reporter party conference said certain would another chance vote plan\n",
      "\n",
      "2. Similarity Score: 0.6774\n",
      " kennedy begin election tour liberal democrat leader charles kennedy begun week long tour persuade voter real opposition kennedy visiting constituency somerset hampshire monday rural seat party hoping make gain conservative later visit place liverpool labour targeted labour vote could tory tory dems would mean higher tax soft crime law power europe kennedy tour come labour leader tony blair conservative leader michael howard step campaigning ahead next general election widely expected held tuesday kennedy visit leicester south parmjit singh gill overturned labour majority seat last year election stop shrewsbury north dorset liverpool manchester basingstoke west london planned later week liberal democrat northern city race labour southern seat particularly south west tory speaking westminster hour sunday kennedy said upcoming general election widely tipped would much unpredictable others recent experience asked whether realistic assume liberal democrat could general election said limit ambition party responsible credible demonstrate people task kennedy said british public felt labour issue iraq fee conservative asking critical question said people highly sceptical labour conservative promise brushed labour suggestion vote party would mean letting tory back door look four previous parliamentary election liberal democrat demonstrated leapfrog conservative start third place position defeat government going story think coming general election\n",
      "\n",
      "3. Similarity Score: 0.6116\n",
      " kennedy criticises unfair tax gordon brown failed tackle fundamental unfairness system ninth budget charles kennedy said right poorest society still paying proportion income richest leader asked council rebate pensioner nothing unfair added government could patching system added speaking common brown delivered widely thought last budget general election kennedy acknowledged successful economy world criticised chancellor tory failing address ticking bomb council revaluation said recent experience wale indicated seven million household england would significantly revaluation chancellor announcement offer council rebate paid pensioner household merely sticking plaster much bigger problem plan local income would benefit typical household year half pensioner paying local three million better pension kennedy said scandal system discriminated woman missed making national insurance payment child said residency criterion would stroke fundamental iniquity kennedy added party priority free long term care elderly abolishing fee replacing council would funded charging income earning annum contrasted approach brown pledge increase income chancellor went national insurance contribution election individual family household add exactly thing said kennedy wonder people cynical politician give impression election exactly opposite election\n",
      "\n",
      "4. Similarity Score: 0.6028\n",
      " kennedy call iraq exit plan tony blair proper exit strategy iraq wake next sunday election country leader charles kennedy said speech focusing issue arising election george bush kennedy said iraq become crucible militant terrorism want phased withdrawal troop soon situation allows said london exit strategy must augment support democratic process opinion mere presence british american troop iraq feed insurgency said truth especially initial mistake made heavy handedness operation like fallujah well publicised instance abuse hand coalition force kennedy pointed netherlands portugal czech republic troop operating southern sector iraq announced imminent withdrawal regardless situation ground accused blair government le straightforward plan next week prime minister make statement regarding election iraq kennedy said city london speech proper exit strategy including phased withdrawal british troop security situation allows kennedy also argued british troop deployed iraq replaced force country especially islamic country\n",
      "\n",
      "5. Similarity Score: 0.5921\n",
      " kennedy make temple address charles kennedy address people hindu temple part appeal ethnic minority voter liberal democrat leader visit shri swaminarayan mandir temple neasden north west london labour longer exclusive claim vote britain ethnic minority kennedy also highlight anger among people race iraq call balanced approach tackling terrorism saturday speech come day dems launched ethnic minority mini manifesto kennedy tell audience many people britain race culture religion angry taken iraq principled stand liberal democrat took time also dems want restore britain reputation world stage fighting international poverty climate change protecting human right kennedy balanced approach tackling terrorism would mean tough measure make britain safe expense people fundamental legal right like happened belmarsh also mean acting united nation terrorism kennedy held talk tony blair friday government plan hold terror suspect house arrest said afterwards prime minister offered movement address concern plan face trouble lord conservative opposition continues\n",
      "\n",
      "6. Similarity Score: 0.5655\n",
      " dems unveil woman manifesto liberal democrat attempting female voter launch manifesto woman charles kennedy pledging maternity income guarantee pension system based year residence rather national insurance payment also think woman back plan university tuition fee free long term care elderly labour conservative said also plan boost pension improve childcare support kennedy say want deal policy area disadvantage woman million pensioner britain currently live government poverty line third woman said say pension based number year worked ignore contribution woman make caring child citizen pension based length residency national insurance contribution would address imbalance kennedy argues package mother would offered minimum guaranteed maternity week first month birth first child kennedy also belief party plan money saved introducing illiberal card boost police number would appeal woman policy announcement structured package appeal woman kennedy also point fact party candidate stand winnable target seat woman party strategist claim woman candidate replace turnout rise kennedy began pitch female support interview radio woman hour monday interview kennedy revealed planned structure party general election campaign around birth first child expected april baby wife sarah would priority number even arrived middle election campaign said party strategist believe winning significant proportion woman voter electoral success party spokesman said courting female vote tended vote believed considered open minded deciding vote labour deputy minister woman jacqui smith accused dems offering false promise woman said sum said proposal would increase cost public purse drastically year year hard working family dearly either increased tax reduced spending public service labour party committed universal affordable flexible childcare parent year old including childcare centred school available september trade industry secretary patricia hewitt said would like longer paid maternity leave higher paternity extension flexible working right carers labour third term conservative unveil manifesto plan childcare said november would increase maternity child credit cash parent spend like nanny pair even family member grandparent acting carer also consulting making childcare cost deductible\n",
      "\n",
      "7. Similarity Score: 0.5312\n",
      " tax must trusted kennedy public trust tax breaking labour tory straight people issue leader charles kennedy said ahead government budget report kennedy used speech party facing painful economic reality said current level taxation right although would earner party accused dems making uncosted promise kennedy made clear determined counter accusation dems already published full costing plan wednesday speech announce policy speaking commonwealth club kennedy said critical political party economic credibility promised expected deliver said budget tough choice needed public spending dems would priority spending including government card scheme child trust fund cutback would free fund increasing basic state pension putting police street reintroducing dental check said dems argue honest tax past calling rise income simple rise want band earner scrapping university tuition fee providing free personal care elderly disabled people keeping local tax would also local income replace council number change environmental tax ensure polluter pay dems tory laid possible option cutting tax grab headline labour hidden rise kennedy said contract people government fairly spend money wisely sustained political party straightforward plan stealth strategy gordon brown obvious unfairness current system especially council empty promise conservative party issue wonder trust taxation breaking challenged treasury open book national audit office report government performance conservative chairman liam said liam said charles kennedy serious making budget start explaining would fund spending commitment reality dems lack courage tackle waste bureaucracy people would face tough choice would family would worse year chancellor gordon brown said figure accused party claiming would spend le across country committing spend\n",
      "\n",
      "8. Similarity Score: 0.5215\n",
      " dems bold election policy charles kennedy told voter liberal democrat offer honest choice next general election party battling impose lowest tax kennedy going looming election pledged increase taxation bold policy certainly ensures choice dems party previous pledge increase tax penny pound spend public service already adopted government switched tack promising levy modest increase amount earnings year allow finance series pledge scrap student fee finance free long term care elderly replace council local income last policy also well paying others pensioner particular le labour tory attacked policy unworkable properly costed inevitably insist need raise tax fund improvement service tory claim improve service tax efficiency saving labour offered saving precise proposal although little chance propose increase many way argument dems others taxation spending echo sort argument raged labour tory early unlike tory labour debate belief voter ready modest increase well order fund improvement service view partly endorsed recent poll suggesting people would rather cash spent public service cut similarly different tone approach asylum immigration kennedy stressing politician foment artificial debate immigration attacking michael howard proposal quota party singing similar song immigration kennedy stressing different liberal approach party kennedy also buoyant mood party election chance declaring tory going significant player poll repeated pledge post election deal either party election kennedy went suggest election labour government small majority would amount massive vote confidence tony blair government suggests leader belief well find powerful even pivotal position vastly different house common next election dream third party dreamed many time\n",
      "\n",
      "9. Similarity Score: 0.5026\n",
      " kennedy cautious optimism charles kennedy canny make grand claim party fare general election year common seen fair share claim dashed rock bitter experience might political electoral system even caution cannot hide fact party leader belief well something special month time look already said going artificial limit ambition time around said still seems accept likely outcome another labour victory sort general election pitch designed around notion dems real opposition lead jibe party actively bidding come second prepared clear conclusion reached including conservative conservative going election therefore potential liberal democrat advance story election given capacity take labour well take conservative really going first modern three party election experienced suggestion labour finished voter looking alternative labour still naturally gravitate conservative problem geographically conservative party melted away third britain supplanted main alternative labour whole tract mainland britain party ageing declining membership base look vibrant vital touch longer contemporary britain kennedy also eager dispel impression party party left likely attract mostly disillusioned labour voter insists three headline commitment financed increase earning year appeal right across political spectrum replace council local income provide free long term care elderly scrap student fee also belief major party promising increase tax land trouble similar policy labour think argument moved british politics particularly context forthcoming general election said labour government burden would rise tory plan increase spending area also reducing tax incredible claim straightforward people saying know likely increase burden recommending specific rise income scale earner fund three specific policy clear choice people comfortable think distinguish others future clear expected party increase showing election intends next parliament front foot view leading right parliament next election decisive opportunity last remark reflects view gaining ground westminster tory badly fear election next might really historic breakthrough third party perhaps kennedy ready caution side\n",
      "\n",
      "10. Similarity Score: 0.4694\n",
      " kennedy question trust blair leader charles kennedy said voter fundamental lack trust tony blair prime minister said backing party wasted vote adding dems made comment start appearance channel five session wright stuff programme question caller studio audience show presenter covered plan anti terror law immigration kennedy said nearly year parliament seen prime minister party leader come knew pitfall british politics first elected tony blair michael howard class nearly quarter century world changed recognition said actually hear argument longer dems good people reasonable idea thought could around wasted vote hear evidence people sens demonstrates wasted vote said blair lost trust british people fundamental lack trust tony blair prime minister government said party leader party convey people kennedy also used appearance defend party plan increase income earning saying would apply population said extra revenue would allow party tuition fee introduce free personal care elderly replace council local income blair already spent five michael howard booked similar session\n",
      "\n",
      "User 2 relevant documents:\n",
      "1. Similarity Score: 0.6097\n",
      " music mogul fuller sell company idol supremo simon fuller sold entertainment company entrepreneur deal robert sillerman sport entertainment enterprise renamed recently also bought share estate elvis presley fuller appointed board plan implement company creative strategy firm handle roster music artist show strategy star including beckhams deal see fuller receive cash million share sport entertainment also either cash stock financial year june fuller signed long term agreement company continue expand develop entertainment brand said hugely exciting partnership entertainment provide powerful platform global growth allow fully take advantage amazing opportunity ahead cannot wait started fuller creative drive behind idol offspring american idol management run career many successful contestant including young gareth gate kelly clarkson company year fuller taking name first successful single paul hardcastle fuller driving force behind spice girl phenomenon using canny marketing catchy song secure place lucrative girl group history together club show well music career sillerman deal presley estate see control operation graceland well money late star music film presley daughter lisa marie retains possession graceland many father personal effect\n",
      "\n",
      "2. Similarity Score: 0.4109\n",
      " news corp make offer news corporation seeking minority investor entertainment group broadcasting subsidiary medium giant rupert murdoch owns share company home television network century film studio move follows news corp decision register business century recent film release include heart huckabees robot put series term offer minority shareholder receive news corp share return share hold analyst said decision list news corp result firm share trading york rather sydney nullified need retain separate stock market listing entertainment share news corp investor voted october approve transfer company corporate domicile australia state delaware move designed help news corp attract investment largest financial institution make easier raise capital entertainment group generated revenue last year news corp share fell cent share offer announced share cent\n",
      "\n",
      "3. Similarity Score: 0.3851\n",
      " lead interactive bafta win national theatre field year interactive bafta award national theatre stagework website picked prize best learning well factual site collected three award including best online entertainment hitchhiker guide galaxy adventure game spook interactive took best interactive prize annual award recognise best digital medium sport interactive fought competition cbbc newsround guardian take home best news sport trophy coverage england exit euro recognised groundbreaking animation bafta grant dean chair bafta interactive entertainment committee said entrant outstanding quality judging enormously difficult without doubt landmark year bafta interactive award added many award year gone company commonly associate traditional entertainment showing medium film television closing award given different category including interactive film music design well technical social innovation london ceremony music award given sseyo minimixa mobile music sequencer designed people write edit share composition warner bros given prize inspiring effort film interactivity chaplin collection beat oasis really bend like beckham shaun dead today category trauma best film elsewhere fashionista clothes designer alexander mcqueen took accolade best designed website award running since british academy film television decided split separate game interactive ceremony tuesday half life dominated game prize collected baftas including best game best online game\n",
      "\n",
      "4. Similarity Score: 0.3249\n",
      " pour comedy invest developing comedy entertainment programme outside london change come part shake several department create show appeal wider range people change also made team factual daytime department outside london director television jana bennett said change getting best idea screen efficiently effectively structure genre designed ensure happens said number role created department including head comedy commissioning based glasgow person charge budget role develop show outside capital within independent production company jane lush controller entertainment commissioning said entertainment comedy incredibly important audience confident change help best programme screen similar position also created department commissioning editor documentary based bristol daytime commissioning editor birmingham bennett said role would benefit making programme within well making show channel independently strong independent sector flourishing house production base mutually exclusive stimulate competition deliver best idea audience said\n",
      "\n",
      "5. Similarity Score: 0.3077\n",
      " spike back student director film maker spike say black representation stronger ever cinema true power entertainment lie behind camera hate director urged student atlanta university morehouse college seek gatekeeper position behind scene told work corporate ladder everybody actor everybody make record spoke part discussion panel retrospective film returning university educates african american student discussed challenge facing black people entertainment industry even denzel washington getting movie come time movie gatekeeper said told aspiring young film maker audience ignore traditional route getting movie made including raising fund independently releasing film straight huge market year director said something looked upon stepchild made film including jungle fever right thing summer gotta\n",
      "\n",
      "6. Similarity Score: 0.2923\n",
      " create film superhero comic book veteran stan team producer robert evans create movie featuring superhero foreverman focus character face problem everyday life well using special power save world paramount picture studio behind film revealed detail project potential spawn series film best known work spider incredible hulk collaborating script screenwriter peter briggs penned recent comic book adaptation hellboy believe truly whole franchise said gill champion president chief executive entertainment world people looking something different stan idea create concept seen become evergreen franchise paramount many creation including daredevil turned film past five year however spider series biggest office original sequel taking almost worldwide third spider film scheduled release another marvel comic adaptation fantastic four released cinema summer\n",
      "\n",
      "7. Similarity Score: 0.2394\n",
      " cebit fever take hanover thousand product ten thousand visitor make cebit place technology lover welcome cebit message pilot landed message flyer airport message every billboard town cebit fever taken hanover hotel booked month local people letting room home hoard exhibitor visitor journalist cebit huge exhibition site could almost classified town right restaurant shop service hall company showing latest product list given came size weight phone book main theme year digital home buzzword convergence entertainment billed replacement player stereo telephone computer offering solution wirelessly connected throughout house show display modelled prototype digital lifestyle home german magazine computer reseller news wanted show fit living room workplace give people feeling would work home said claudia neulling magazine house webcam security room called high definition connected living room provides home entertainment movie music also linked parked outside kitted processor along player cordless headphone kid back convergence technology transfer data thing make easier convenient consumer said mark brailey director corporate marketing intel real challenge show people easier think firmly belief entertainment future say past people fear frequent crash incompatibility something microsoft trying stand computer running window medium centre edition people mobile phone escape convergence theme samsung showing handset three gigabyte hard drive used watch compressed video player would rather watch live downloaded movie showing phone sale china show analogue colour screen think probable application somewhere like train station want check status soccer game example said koji umemoto manager mobile terminal marketing admitted signal quality good move plan launch europe moment nokia happy demonstrate upgrade popular megapixel camera music player handle multiple format rather also compatible nokia visual radio technology handset receive broadcast user interact compatible broadcast using gprs connection take part competition extra information name song playing company reluctant show prototype preferring display product already sale market portable medium player firm creative showed wireless technology based magnetic inductance rather radio system hearing aid benefit conventional bluetooth lack interference longer battery life said riccardo rinaldini creative european marketing manager firm prototype headset linked micro player transmitter player creates private magnetic bubble around user picked headset range metre suitable personal single battery said last hour creative expects market final form later year even clothing likely part convergence trend adidas trainer according susanne risse company sense understand adapt running style battery processor motor embedded sole button side allow amount cushioning would like adjusting tension cable running heel processor monitor surface running adjusts tension accordingly billed world first intelligent shoe\n",
      "\n",
      "8. Similarity Score: 0.2380\n",
      " china shanda buy stake sina chinese online game operator shanda interactive entertainment bought stake sina country biggest internet portal firm move precursor full takeover analyst saying better known international firm also show interest sina shanda said boost stake sina even buying outright merger would create firm offer online role playing game news entertainment wireless messaging sina said purchase stake shanda would impact business board director said statement would continue best interest company stakeholder including shareholder employee customer company listed york stock exchange nyse technology dominated nasdaq index filing security exchange commission sina said share purchased january february rumour possible takeover boosted sina share friday added extra electronic trading trading session finished gain amid speculation trading resume york tuesday monday public holiday analyst forecast could still potential party could still counter said wallace cheung analyst vickers even though shanda sina still quite long take full control however cheung noted foreign company trying take control chinese internet portal firm ability filter pas news viewed favourably beijing\n",
      "\n",
      "9. Similarity Score: 0.2302\n",
      " school tribute host carson people turned sunday tribute late presenter johnny carson nebraska town grew carson hosted tonight show year died january respiratory disease emphysema lived norfolk nebraska eight joined navy returned regularly donated local cause school friend among crowd school johnny carson theater carson best loved personality asked public memorial angeles lived later life began showbusiness career norfolk performing magic name great carsoni donation included norfolk high school build performing art centre carson died president bush public tribute saying presenter profound influence american life entertainment\n",
      "\n",
      "10. Similarity Score: 0.2276\n",
      " johnny denise lose passport johnny vaughan denise outen saturday night entertainment show passport paradise return screen said breakfast presenter recruited host family variety show last july currently plan another series spokeswoman said added pair brought real warmth saturday night felt done enough format show passport paradise involved combination game outside broadcast high level audience participation first instalment attracted million viewer dropped fewer million time ended spokeswoman said graham norton strictly dance fever would priority much card next year concentrating moment strictly come dancing phenomenally well said\n",
      "\n",
      "User 3 relevant documents:\n",
      "1. Similarity Score: 0.0000\n",
      " citizenship event for 18s touted citizenship ceremonies could be introduced for people celebrating their 18th birthday  charles clarke has said.  the idea will be tried as part of an overhaul of the way government approaches  inclusive citizenship  particularly for ethnic minorities. a pilot scheme based on ceremonies in australia will start in october. mr clarke said it would be a way of recognising young people reaching their voting age when they also gain greater independence from parents. britain s young black and asian people are to be encouraged to learn about the nation s heritage as part of the government s new race strategy which will also target specific issues within different ethnic minority groups. officials say the home secretary wants young people to feel they belong and to understand their  other cultural identities  alongside being british. the launch follows a row about the role of faith schools in britain. on monday school inspection chief david bell  accused some islamic schools of failing to teach pupils about their obligations to british society.  the muslim council of britain said ofsted boss mr bell s comments were  highly irresponsible . the home office started work on its community cohesion and race equality strategy last year and the outcome  launched on wednesday  is called  improving opportunity  strengthening society . it is aimed at tackling racism  exclusion  segregation and the rise in political and religious extremism.  it represents a move away from the one-size-fits-all approach to focus on specifics within cultural groups   said a home office spokesman.  it is not right to say that if you are from a black or ethnic minority group you must be disadvantaged.  the spokesman highlighted specific issues that affect particular communities - for example people of south asian origin tend to suffer from a high incidence of heart disease.   it is about drilling down and focusing on these sorts of problems   the spokesman added. launching the initiative mr clarke said enormous progress had been made on race issues in recent years. he added:  but while many members of black and minority ethnic communities are thriving  some may still find it harder to succeed in employment or gain access to healthcare  education or housing.  this strategy sets out the government s commitment to doing more to identify and respond to the specific needs of minorities in our society.  some 8% of the uk population described themselves as coming from a non-white ethnic minority in the 2001 census.  the downing street strategy unit in 2003 said people from indian and chinese backgrounds were doing well on average  often outperforming white people in education and earnings. but those of pakistani  bangladeshi and black caribbean origin were significantly more likely to be unemployed and earn less than whites  it said. the home office wants more initiatives which try to promote a sense of belonging by encouraging young people to take part in voluntary work. the programmes are designed to support the citizenship lessons already taking place in schools.\n",
      "\n",
      "2. Similarity Score: 0.0000\n",
      " wales want rugby league training wales could follow england s lead by training with a rugby league club.  england have already had a three-day session with leeds rhinos  and wales are thought to be interested in a similar clinic with rivals st helens. saints coach ian millward has given his approval  but if it does happen it is unlikely to be this season. saints have a week s training in portugal next week  while wales will play england in the opening six nations match on 5 february.  we have had an approach from wales   confirmed a saints spokesman.  it s in the very early stages but it is something we are giving serious consideration to.  st helens  who are proud of their welsh connections  are obvious partners for the welsh rugby union  despite a spat in 2001 over the collapse of kieron cunningham s proposed £500 000 move to union side swansea. a similar cross-code deal that took iestyn harris from leeds to cardiff in 2001 did go through  before the talented stand-off returned to the 13-man code with bradford bulls. kel coslett  who famously moved from wales to league in the 1960s  is currently saints  football manager  while clive griffiths - wales  defensive coach - is a former st helens player and is thought to be the man behind the latest initiative. scott gibbs  the former wales and lions centre  played for st helens from 1994-96 and was in the challenge cup-winning team at wembley in 1996.\n",
      "\n",
      "3. Similarity Score: 0.0000\n",
      " gadget market  to grow in 2005  the explosion in consumer technology is to continue into 2005  delegates at the world s largest gadget show  in las vegas  have been told.  the number of gadgets in the shops is predicted to grow by 11%  while devices which talk to each other will become increasingly important.  everything is going digital   kirsten pfeifer from the consumer electronics association  told the bbc news website. the consumer electronics show (ces) featured the pick of 2005 s products.  consumers are controlling what they want and technologies like hdtvs [high-definition tvs]  digital radio  and digital cameras will remain strong in 2005.  all the products on show really showed the breadth and depth of the industry.  despite showing diversity  some delegates attending complained that the showcase lacked as much  wow factor  as in previous years.  the portable technologies on show also reflected one of the buzzwords of ces  which was the  time and place shifting  of multimedia content - being able to watch and listen to video and music anywhere  at any time. at the start of last year s ces  the cea predicted there would be an average growth of 4% in 2004. that figure was surpassed with the rise in popularity of portable digital music players  personal video recorders and digital cameras. it was clear also that gadgets are becoming a lot more about lifestyle choice  with fashion and personalisation becoming increasingly key to the way gadgets are designed. part of this has been the rise in spending power of the  generation x-ers  who have grown up with technology and who now have the spending power and desire for more devices that suit them. more than 57% of the consumer electronics market is made up of female buyers  according to cea research. hybrid devices  which combine a number of multimedia functions  were also in evidence on the show floor.  a lot of this is driven by just the ability to do it   said stephen baker  a consumer electronics analyst with retail research firm npd group.  some of these functions cost next to nothing to add.   as well as the show floor showcasing everything from tiny wearable mp3 players to giant high-definition tvs  several keynote speeches were made by industry leaders  such as microsoft chief bill gates. despite several embarrassing technical glitches during mr gate s pre-show speech  he announced several new partnerships - mainly for the us market. he unveiled new ways of letting people take tv shows recorded on personal video recorders and watch them back on portable devices. he disappointed some  however  by failing to announce any details of the next generation of the xbox games console. another disappointment was the lack of exposure sony s new portable games device  the psp  had at the show. sony said the much-anticipated gadget would most likely start shipping in march for the us and europe. it went on sale in japan before christmas. there were only two psps embedded in glass cabinets at the show though and no representatives to discuss further details. a sony representative told the bbc news website this was because sony did not consider it to be part of their  consumer technology  offering.  elsewhere at the show  there was a plethora of colour and plasma screens  including samsung s 102-inch (2.6 metre) plasma - the largest in the world. industry experts were also excited about high-definition technologies coming to the fore in 2005  with new formats for dvds coming out which will hold six times as much data as conventional dvds. with so many devices on the move there were a lot of products on show offering external storage  like seagate s 5gb pocket sized external hard drive  which won an innovation for engineering and design prize. more than 120 000 trade professionals attended ces in las vegas  which officially ran from 6 to 9 january.\n",
      "\n",
      "4. Similarity Score: 0.0000\n",
      " fear will help france - laporte france coach bernard laporte believes his team will be scared going into their game with england on sunday  but claims it will work in their favour.  the french turned in a stuttering performance as they limped to a 16-9 win against scotland in the opening match of the six nations on saturday.  we will go to twickenham with a little fear and it ll give us a boost   said the french coach. he added:  we are never good enough when we are favourites.  meanwhile  perpignan centre jean-philippe granclaude is delighted to have received his first call-up to the france squad.  it s incredible   the youngster said.  i was not expecting it at all.  playing with the france team has always been a dream and now it has come true and i am about to face england at twickenham in the six nations.  laporte will announce his starting line-up on wednesday at the french team s training centre in marcoussis  near paris.\n",
      "\n",
      "5. Similarity Score: 0.0000\n",
      " bank voted 8-1 for no rate change the decision to keep interest rates on hold at 4.75% earlier this month was passed 8-1 by the bank of england s rate-setting body  minutes have shown.  one member of the bank s monetary policy committee (mpc) - paul tucker - voted to raise rates to 5%. the news surprised some analysts who had expected the latest minutes to show another unanimous decision. worries over growth rates and consumer spending were behind the decision to freeze rates  the minutes showed. the bank s latest inflation report  released last week  had noted that the main reason inflation might fall was weaker consumer spending.  however  mpc member paul tucker voted for a quarter point rise in interest rates to 5%. he argued that economic growth was picking up  and that the equity  credit and housing markets had been stronger than expected.  the bank s minutes said that risks to the inflation forecast were  sufficiently to the downside  to keep rates on hold at its latest meeting. however  the minutes added:  some members noted that an increase might be warranted in due course if the economy evolved in line with the central projection . ross walker  uk economist at royal bank of scotland  said he was surprised that a dissenting vote had been made so soon. he said the minutes appeared to be  trying to get the market to focus on the possibility of a rise in rates .  if the economy pans out as they expect then they are probably going to have to hike rates.  however  he added  any rate increase is not likely to happen until later this year  with mpc members likely to look for a more sustainable pick up in consumer spending before acting.\n",
      "\n",
      "6. Similarity Score: 0.0000\n",
      " tv show unites angolan families angolan families who are attempting to track each other down  after being separated by nearly 30 years of war  are succeeding thanks to a hugely popular tv show.  meeting point has become one of tv angola s most watched programmes  and has reunited hundreds of families. it runs daily  not only on the television but also on the radio. every friday  hundreds of people gather in luanda s independence square to record a message in front of the tv cameras  in the hope that a lost relative will see it. many relatives have been reunited on air.  at the beginning there was an absolute explosion - huge  huge crowds   sergio gera  the programme s chief co-ordinator  told bbc world service s assignment programme.  now things are a little calmer  there are slightly less people - but  after two and a half years of broadcasting  there are still a lot of people going.   the media in the southern african country  twice the size of france  has been gripped by the quest of so many people to find their relatives. hundreds of thousands of people died in angola s 30-year civil war  which finally ended in 2002  and tens of thousands of people are still missing. many have not heard anything for 10 or more years - in all  90% of angolan families have lost someone.  the idea of recording in independence square was modelled on a square in the argentine capital buenos aries  where mothers go to talk about the dead and the missing  and to exchange news. one woman  victoria lapete  found her sister - the only remaining member of her family - in independence square live on meeting point. she had not seen her sibling for 28 years.  when we saw each other  we threw ourselves into each other s arms   she told assignment.  we started to cry. i felt very  very happy  because i d spent so long without any family. suddenly i had a sister again.  however  angola is one of the poorest countries in africa  and the number of people with access to either a television or radio is comparatively few. this means that elsewhere in the country  the task of reuniting families lies primarily with the international committee of the red cross (icrc). in the city of wambo  the icrc runs the gazetta - a 200-page  tabloid-size book which contains 13 000 names of missing or displaced.  their task is made much harder by the huge number of landmines dotted around the country.  it s very difficult - there are many displaced   stated joaquim sahundi  head of tracing in wambo.   as they try to go back [home]  others are trying to relocate their relatives. many people are getting injured because of that - in the villages  in the bush  there has been no clearance of mines.  when people are crossing these areas  they step on mines.  the icrc also uses the media where it can  running four daily broadcasts of their lists of the missing on radio angola. meanwhile  there remain massive challenges to angolan families even once they are reunited.  the programme of family reunification is extremely important  but for these families to remain reunified  there has to be social integration  job access  education  healthcare   said rafael marques of the pro-democracy george soros foundation for southern africa.  essentially the government is waiting for the international community to pay for the reconstruction - that s why it has been persistently calling for a donor s conference. that is just a way of detaching itself from its political responsibilities.\n",
      "\n",
      "7. Similarity Score: 0.0000\n",
      " mourinho plots impressive course chelsea s win at fulham - confirming their position at the premiership summit - proves that they now have everything in place to mount serious challenges on all fronts this season.  they have got strength in depth  great players  an outstanding manager in jose mourinho and finances no other club in the world can match. all they need to add now is the big prizes which  as we all know  is the most difficult part of all. one thing is certain - they have put themselves in a position to make that leap to success very impressively indeed. they beat a very tough everton at stamford bridge  won at newcastle in the carling cup  and then won 4-1 at fulham  which was a great result given that they had been showing good form. as i said  winning the major honours is the hardest task of all  but in mourinho they have a manager who will make it a whole lot easier to handle the anticipation and expectation that will come their way now. mourinho has won the biggest club prize of all  the champions league  and that track record and confidence transmits itself to top players. it is a priceless commodity. no-one can be anything other than highly-impressed by mourinho. he is regarded as a touch arrogant by some people  and maybe he can appear that way  but he has the silverware to back up the talk. mourinho doesn t simply talk a good game - he s won some very big games such as the champions league final with porto. some may criticise his talk  but the words are backed up with actions. i ve also found him to be very realistic whenever i ve heard him. he s spent a lot of money and it seems to be working  and we should remember lots of managers have spent money and it has not worked. the buys are now integrating  and in arjen robben he has the player who is giving them that extra dimension.  in the early games he was slaughtered for defensive tactics  and yet he was winning games. you cannot win titles early on in the season  but you can certainly lose them and those points on the board were vital. i also thought the criticism was very harsh  because even though they were not scoring goals they were creating chances by the hatful. now they are taking those chances  have the double threat of robben and damien duff  and things are looking good. i just wonder if they lack a predator  particularly with didier drogba injured. he was starting to look the part before he was sidelined  but you have to feel if chelsea had a ruud van nistelrooy they would be even more of a safe bet for the title. chelsea also have all the tools to go far in the champions league. i felt they would never have a better chance than last season  but they have swept all before them in europe so far this season. it will now be very interesting to see how mourinho prioritises things  but his life will be made easier by the size of chelsea s squad. i have said i believed chelsea would win the league this season  even when arsenal were flying at the start  and i have seen nothing to make me change me mind.  if anything  what i have seen has confirmed my early impressions. and chelsea would have taken encouragement from arsenal s rocky defensive display at spurs  even though they ran out 5-4 winners. mourinho had his say on that game  complaining:  five-four is a hockey score  not a football score.  in a three-against-three training match  if the score reaches 5-4 i send the players back to the dressing rooms as they are not defending properly.  so to get a result like that in a game of 11 against 11 is disgraceful.   on a more serious note  it was a game that merely confirmed the importance of sol campbell to arsenal. much criticism has been aimed at pascal cygan  but i believe the problem lies with the absence of campbell and its overall effect on arsenal s defence. confidence is a crucial factor in defending. when you start conceding goals  you suddenly get a chill in the bones every time the ball comes into the penalty area. you think  oh no  - then find your worst fears confirmed. arsenal need to reverse the process  with or without campbell  and get some clean sheets on the board. but the return of campbell is key. he solidifies the unit  has pace and is powerful in the air and on the deck. he is vastly experienced and has a calming influence on all around him. campbell pulls it all together at the back and gets the defence playing as a unit. chelsea have no such problems at present  which is why i would still place my money on them to edge out arsenal as champions this season.\n",
      "\n",
      "8. Similarity Score: 0.0000\n",
      " parmalat bank barred from suing bank of america has been banned from suing parmalat  the food group which went bust in 2003 after an accounting scandal.  the bank - along with investors  auditors and the group s managers - wants damages for being a victim of fraud at the hands of the italian firm. but a judge has barred bank of america and two auditors from the case. the bank  and italaudit - formerly the italian arm of auditor grant thornton - face lawsuits and possible prosecution. a second auditor  deloitte & touche  has also been banned from the case. grant thornton - now rid of the italian unit at the centre of the case - is still being permitted to sue  as are consob  italy s stock market regulator  hundreds of small investors and parmalat s new managers. parmalat collapsed in december 2003 after it emerged that the 4bn euros ($5.2bn; £2.8bn) it supposedly held in a bank of american offshore account did not in fact exist.\n",
      "\n",
      "9. Similarity Score: 0.0000\n",
      " camera phones are  must-haves  four times more mobiles with cameras in them will be sold in europe by the end of 2004 than last year  says a report from analysts gartner.  globally  the number sold will reach 159 million  an increase of 104%. the report predicts that nearly 70% of all mobile phones sold will have a built-in camera by 2008. improving imaging technology in mobiles is making them an increasingly  must-have  buy. in europe  cameras on mobiles can take 1.3 megapixel images. but in japan and asia pacific  where camera phone technology is much more advanced  mobiles have already been released which can take 3.2 megapixel images. japan still dominates mobile phone technology  and the uptake there is huge. by 2008  according to gartner  95% of all mobiles sold there will have cameras on them.  camera phones had some teething problems when they were first launched as people struggled with poor quality images and uses for them  as well as the complexity and expense of sending them via mms (multimedia messaging services). this has changed in the last 18 months. handset makers have concentrated on trying to make phones easier to use. realising that people like to use their camera phones in different ways  they have introduced more design features  like rotating screens and viewfinders  removable memory cards and easier controls to send picture messages.  mobile companies have introduced more ways for people to share photos with other people. these have included giving people easier ways to publish them on websites  or mobile blogs - moblogs. but the report suggests that until image quality increases more  people will not be interested in printing out pictures at kiosks. image sensor technology inside cameras phones is improving. the gartner report suggests that by mid-2005  it is likely that the image resolution of most camera phones will be more than two megapixels. consumer digital cameras images range from two to four megapixels in quality  and up to six megapixels on a high-end camera. but a lot of work is being done to make camera phones more like digital cameras. some handsets already feature limited zoom capability  and manufacturers are looking into technological improvements that will let people take more photos in poorly-lit conditions  like nightclubs. other developments include wide-angle modes  basic editing features  and better sensors and processors for recording film clips.  images from camera phones have even made it into the art world. an exhibition next month in aid of the charity mencap  will feature snaps taken from the camera phones of top artists.  the exhibition  fonetography  will feature images taken by photographers david bailey  rankin and nan goldin  and artists sir peter blake  tracey emin and jack vettriano. but some uses for them have worried many organisations. intel  samsung  the uk s foreign office and lawrence livermore national laboratories in the us  have decided to ban camera phones from their buildings for fear of sensitive information being snapped and leaked. many schools  fitness centres and local councils have also banned them over fears about privacy and misuse. italy s information commissioner has also voiced concern and has issued guidelines on where and how the phones can be used. but camera phone fears have not dampened the manufacturers  profits. according to recent figures  sony ericsson s profits tripled in the third-quarter because of new camera phones. over 60% of mobiles sold during the three months through to september featured integrated cameras  it said.\n",
      "\n",
      "10. Similarity Score: 0.0000\n",
      " swiss cement firm in buying spree swiss cement firm holcim has bid $800m (£429m) to buy two indian cement firms and a holding company in the country.  it plans to buy associated cement companies (acc)  ambuja cement eastern and the holding firm  ambuja cement india ltd  a holcim statement said. shares in acc fell 5.5% as investors  who thought the offer was underpriced  decided to sell. meanwhile  uk-based firm aggregate industries said it had agreed a £1.8bn takeover by holcim.  the deal with aggregates will give holcim  the world s second-biggest cement maker  an entry into the uk market and boost its presence in the us. peter tom  who will remain as aggregate chief executive  said the 138p a share offer provided  significant value  for shareholders. the markfield  leicestershire-based company runs 142 quarries in the uk and the us. it also has 164 ready-mixed concrete plants  90 asphalt plants and 32 pre-cast concrete factories.  if the indian deals go ahead  it will give holcim a major presence in the world s fastest-growing market behind china. acc is india s second-largest cement maker with an annual capacity of 18.2 million tonnes and a market share of 13%.  holcim is looking to buy it (acc) very cheap   said kk mittal  a fund manager with escorts mutual fund in new delhi.  the market is not impressed. if they want a substantial chunk  then they should be paying a premium over the market price.  shares in holcim rose by 2.3% on thursday following news of the takeover.\n",
      "\n",
      "User 4 relevant documents:\n",
      "1. Similarity Score: 0.4188\n",
      " bargain call widen softbank loss japanese communication firm softbank widened loss heavy spending rate phone service service launched december dubbed otoku bargain almost order softbank said firm market leader high speed internet operating loss three month december without otoku marketing spend would made profit expects move black firm give figure extent profit expected make next year born tech boom investing widely becoming fast rising star till tech bubble hard recent return high profile came purchase japan telecom country third biggest fixed line telecom firm acquisition spurred broadband internet division pole position japanese market million subscriber december\n",
      "\n",
      "2. Similarity Score: 0.3863\n",
      " dublin tech lab shut dublin tech research laboratory medium lab europe shut research centre started irish government massachusetts institute technology hotbed technology concept since opening centre developed idea implant teeth also aimed digital start area centre supposed self funded failed attract private cash injection need statement medium lab europe said decision close taken neither irish government prestigious based massachusetts institute technology willing fund prime minister bertie ahern wanted centre become draw smaller tech company attempt regenerate area three dozen small firm attracted area thought effect recession damaged lab long term survival lab needed million euro million year corporate sponsor survive deep long recession said simon jones lab managing director pearson futurologist told news website closure real shame company worked lab looking rfid development video conferencing talented creative people came great idea helping ensure greater benefit technology society doubt individual quickly snapped research lab synergy working team lost noel dempsey government communication minister said ahern committed project know disappointed come time seemed right thing said unfortunately model sustainable current climate five year innovative unusual idea technology developed recent month patent application filed lab many concept science engineering psychology well technology thought idea commercially viable near term several research team explored human could react technology way entirely different human connectedness group example developed iband bracelet stored exchanged information relationship information could beamed another wearer people shook hand project looked using human sens like touch interact devoices could embedded environment body project examined brainwave could directly control computer game lab guinness brewery housed around people made staff researcher student collaborator part time undergraduate student thought people lose job lab close february according latest account medium europe said spent million euro million raised million euro million\n",
      "\n",
      "3. Similarity Score: 0.2530\n",
      " ring steel combat attack gambling hugely popular especially tech savvy criminal many extortionist targeting based betting firm threatening cripple website deluge data unless ransom paid deep defence place biggest firm stop attack increasing number attack huge amount data used bump site prompting firm adopt measure firm realising anti virus firewall said paul king chief security architect cisco thing done network protect data centre king said properly combat called distributed denial service attack intelligent based system many gambling site suffering ddos attack offshore data hosting centre large scale data flood could knock access many site criminal targeting said king overspill effect likely grow attack grow size scale malcolm seagrave security expert energis said common type attack site megabyte data short period time bigger attack sending megabyte traffic rarely seen said feel like turning dial traffic gradually growing said attack involving gigabyte data said seagrave however added matter time large attack mounted maria capella spokeswoman provider pipex said ddos attack height customer getting every four five day defence place constantly monitor stream data flowing across network pluck traffic destined target site understanding genuine traffic keeping attack traffic going site said study profile traffic soon anomaly profile start backbone engineering boy going sustain attack said capella traffic hard spot ddos attack typically thousand computer many different country participating machine sends small part entire data flood typically computer infected virus worm report success address compromised machine back malicious hacker tech criminal virus hijacked computer known zombie bot collection called net many spammer rent net help anonymously send junk mail zombie based outside country host target site getting attacking shut difficult often pipex supplier advance notice attack happen serious player tend precede attack kind ransom mail said capella part service provide customer notify anything advance would give forewarning attack spotted dedicated hardware take remove attack traffic ensure site stay energis took similar approach said seagrave technology allows detect attack minute rather network engineer spend hour pulling information together said seagrave also firm starting work closely together problem ddos attack pool information coming information gathered attack originated arrest said energis also intelligence work insight site criminal gang plan target people place monitoring tech site said sometimes though said spotting next victim easy going alphabetically list gambling site trying another said seagrave\n",
      "\n",
      "4. Similarity Score: 0.2530\n",
      " ring steel combat attack gambling hugely popular especially tech savvy criminal many extortionist targeting based betting firm threatening cripple website deluge data unless ransom paid deep defence place biggest firm stop attack increasing number attack huge amount data used bump site prompting firm adopt measure firm realising anti virus firewall said paul king chief security architect cisco thing done network protect data centre king said properly combat called distributed denial service attack intelligent based system many gambling site suffering ddos attack offshore data hosting centre large scale data flood could knock access many site criminal targeting said king overspill effect likely grow attack grow size scale malcolm seagrave security expert energis said common type attack site megabyte data short period time bigger attack sending megabyte traffic rarely seen said feel like turning dial traffic gradually growing said attack involving gigabyte data said seagrave however added matter time large attack mounted maria capella spokeswoman provider pipex said ddos attack height customer getting every four five day defence place constantly monitor stream data flowing across network pluck traffic destined target site understanding genuine traffic keeping attack traffic going site said study profile traffic soon anomaly profile start backbone engineering boy going sustain attack said capella traffic hard spot ddos attack typically thousand computer many different country participating machine sends small part entire data flood typically computer infected virus worm report success address compromised machine back malicious hacker tech criminal virus hijacked computer known zombie bot collection called net many spammer rent net help anonymously send junk mail zombie based outside country host target site getting attacking shut difficult often pipex supplier advance notice attack happen serious player tend precede attack kind ransom mail said capella part service provide customer notify anything advance would give forewarning attack spotted dedicated hardware take remove attack traffic ensure site stay energis took similar approach said seagrave technology allows detect attack minute rather network engineer spend hour pulling information together said seagrave also firm starting work closely together problem ddos attack pool information coming information gathered attack originated arrest said energis also intelligence work insight site criminal gang plan target people place monitoring tech site said sometimes though said spotting next victim easy going alphabetically list gambling site trying another said seagrave\n",
      "\n",
      "5. Similarity Score: 0.2504\n",
      " gadget growth fuel concern technology firm gadget lover urged think environment buying disposing latest tech product consumer electronics show vega earlier month several tech firm recognised strategy help environment ebay also announced rethink project bringing together intel apple among others promote recycling consumer electronics market grow awareness needed gadget recycled well energy efficient said environmental protection agency particular growing concern much energy take recharge portable device fastest growing market technology consumer electronics association predicted shipment consumer technology reach billion nearly billion ebay initiative pull together major technology firm environment group government agency ebay user give information computer send online auction house think already established community loyal user could influential really became aware waste issue million user powerful force good ebay david stern told news website opportunity meet additional demand site used computer opportunity good good environment computer cause problem environment teenager mobile every month adult every month million handset replaced total year actually recycled year predicted billion people worldwide mobile according deloitte report scheme like ripmobile could help targeting younger generation recycling message initiative also launched reward year old returning unused phone system allows transformation drawer full unused mobile phone anything music clothes electronics game said seth heine ripmobile group student collected mobile recycling three month heine told news website important raise awareness amongst young recycling becomes learned behaviour europe undoubtedly advanced term recycling awareness robust life programme although tide change happening rest world intel showcased motherboards chip entirely lead free awareness consumer side whole industry moving towards lead free intel allen wilson told news website still level awareness right rise highest level awareness europe european union directive weee waste electronic electrical equipment come effect august put responsibility electrical manufacturer recycle item returned development also made design better technology energy efficient contain harmful substance element like chromium lead cadmium common consumer electronics good prohibited product recycling either predicted huge growth gadget market mean amount energy used power rise biggest culprit according innocuous power adaptor nicknamed energy vampire provide vital juice billion mobile phone pda personal digital assistant digital camera camcorder digital music player although focus developing efficient improved circuit device technology inside rechargers still outdated energy needed power gadget january efficiency standard external power supply came effect part european commission code conduct also unveiled guideline latest energy star initiative target external power adapter framework developing better adaptor labelled energy star logo meaning efficient initiative global effort manufacturer adaptor brought board made china billion shipped global every year three billion alone already working several company make power supply market increasingly finding company want provide neat tech device also bundle tech efficient power supply andrew fanara said initiative like critical power adaptor continue made used consumer electronics small appliance responsible electricity used home said\n",
      "\n",
      "6. Similarity Score: 0.2464\n",
      " nigeria boost cocoa production government nigeria hoping triple cocoa production next three year launch ambitious development programme agriculture minister adamu bello said scheme aimed boost production expected tonne year tonne government pump naira subsidy farming chemical seedling nigeria currently world fourth largest cocoa producer cocoa main export product nigeria coming government began le attention cocoa sector production began fall peak tonne year launch programme south western city ibadan bello explained additional project encourage processing cocoa country lift local consumption also announced naira funding available earmarked establishing cocoa plant nursery country could looking emulate rival ghana produced bumper crop last year however farmer sceptical proposal people farming hijack subsidy said joshua osagie cocoa farmer state told reuters farmer village never assistance added time nigeria announced initiative ghana world second largest cocoa exporter announced revenue industry broken record country worth bean exported analyst said high tech production technique crop spraying introduced government huge crop pushing production closer level seen country world leading cocoa grower\n",
      "\n",
      "7. Similarity Score: 0.2332\n",
      " putting face brother literally putting face technology could key improving interaction tech gadget imagine surveillance system also present virtual embodiment person screen react behaviour perhaps even alert mail basic version called avatar already exist together speech voice recognition system could replace keyboard mouse near future idea showcased london science museum part future face exhibition avatar jeremiah virtual download free install computer creator richard bowden lecturer centre vision speech signal processing university surrey refers jeremiah rather jeremiah virtual face attempt emulate human responds activity childlike like visual stimulus told news website see child running laughing waving smile ignore get angry leave get also even surprise jeremiah actually intelligent work vision reacting preset information provided surveillance tracker system able talk hear least surrey team already working jeremiah next version replace human face underwater interactive creature finn fish interested interaction providing ability system watch going make decision based explained bowden research come time people cope increasing number tech gadget expert much natural interact device virtual human could make much easier make gizmo three clock morning downstairs probably thing going either going bathroom maybe going make said bowden system watch behaviour time learn would predict going turn light even kettle could switched might even able tell home surveillance system going away holiday could make sure house secure left might sound like scary vision orwellian future might depend face watching surveillance camera centre people unhappy fact system watching said bowden jeremiah camera went nobody minded although still watching could watching\n",
      "\n",
      "8. Similarity Score: 0.2052\n",
      " draft patent proposed european software patent drafted european commission despite request meps proving controversial limbo year major tech firm needed protect invention others fear hurt smaller tech firm say council minister adopt draft version agreed upon last said would review aspect directive directive intended offer patent protection invention software achieve effect word computer implemented invention letter president manuel barroso told president european parliament josep borrell commission intend refer proposal parliament council minister supported agreement reached minister european council agrees draft directive return second reading european parliament guarantee directive become instead probably mean delay controversy directive legislation need approval parliament council minister becomes french green alain lipietz warned week commission ignored parliament request would insult assembly said parliament would reject council version legislation part final conciliation stage decision procedure patenting computer program internet business method permitted mean based amazon hold patent click shopping service example critic concerned directive could lead similar model happening europe fear could hurt small software developer legal financial might larger company fight patent legal action court supporter current law inefficient would serve even playing field without bringing law line\n",
      "\n",
      "9. Similarity Score: 0.2052\n",
      " draft patent proposed european software patent drafted european commission despite request meps proving controversial limbo year major tech firm needed protect invention others fear hurt smaller tech firm say council minister adopt draft version agreed upon last said would review aspect directive directive intended offer patent protection invention software achieve effect word computer implemented invention letter president manuel barroso told president european parliament josep borrell commission intend refer proposal parliament council minister supported agreement reached minister european council agrees draft directive return second reading european parliament guarantee directive become instead probably mean delay controversy directive legislation need approval parliament council minister becomes french green alain lipietz warned week commission ignored parliament request would insult assembly said parliament would reject council version legislation part final conciliation stage decision procedure patenting computer program internet business method permitted mean based amazon hold patent click shopping service example critic concerned directive could lead similar model happening europe fear could hurt small software developer legal financial might larger company fight patent legal action court supporter current law inefficient would serve even playing field without bringing law line\n",
      "\n",
      "10. Similarity Score: 0.2010\n",
      " nasdaq planning share sale owner technology dominated nasdaq stock index plan sell share public list market operates according registration document filed security exchange commission nasdaq stock market plan raise sale observer another step closer full public listing however nasdaq icon technology boom recently poured cold water suggestion company first sold share private placement technically went public stock started trading bulletin board list equity trade occasionally nasdaq make money sale investor bought share private placings filing document said nasdaq made share technology firm company high growth potential potent symbol internet telecom boom nose diving bubble burst recovery fortune tech giant intel survivor amazon helped revive fortune\n",
      "\n",
      "User 5 relevant documents:\n",
      "1. Similarity Score: 0.0000\n",
      " citizenship event touted citizenship ceremony could introduced people celebrating birthday charles clarke said idea tried part overhaul government approach inclusive citizenship particularly ethnic minority pilot scheme based ceremony australia start october clarke said would recognising young people reaching voting also gain greater independence parent britain young black asian people encouraged learn nation heritage part government race strategy also target specific issue within different ethnic minority group official home secretary want young people feel belong understand cultural identity alongside british launch follows role faith school britain monday school inspection chief david bell accused islamic school failing teach pupil obligation british society muslim council britain said ofsted bos bell comment highly irresponsible home office started work community cohesion race equality strategy last year outcome launched wednesday called improving opportunity strengthening society aimed tackling racism exclusion segregation rise political religious extremism represents move away size fit approach focus specific within cultural group said home office spokesman right black ethnic minority group must disadvantaged spokesman highlighted specific issue affect particular community example people south asian origin tend suffer high incidence heart disease drilling focusing sort problem spokesman added launching initiative clarke said enormous progress made race issue recent year added many member black minority ethnic community thriving still find harder succeed employment gain access healthcare education housing strategy set government commitment identify respond specific need minority society population described coming white ethnic minority census downing street strategy unit said people indian chinese background well average often outperforming white people education earnings pakistani bangladeshi black caribbean origin significantly likely unemployed earn le white said home office want initiative promote sense belonging encouraging young people take part voluntary work programme designed support citizenship lesson already taking place school\n",
      "\n",
      "2. Similarity Score: 0.0000\n",
      " wale want rugby league training wale could follow england lead training rugby league club england already three session leeds rhino wale thought interested similar clinic rival helen saint coach millward given approval happen unlikely season saint week training portugal next week wale play england opening nation match february approach wale confirmed saint spokesman early stage something giving serious consideration helen proud welsh connection obvious partner welsh rugby union despite spat collapse kieron cunningham proposed move union side swansea similar cross code deal took iestyn harris leeds cardiff talented stand returned code bradford bull coslett famously moved wale league currently saint football manager clive griffith wale defensive coach former helen player thought behind latest initiative scott gibbs former wale lion centre played helen challenge winning team wembley\n",
      "\n",
      "3. Similarity Score: 0.0000\n",
      " gadget market grow explosion consumer technology continue delegate world largest gadget show vega told number gadget shop predicted grow device talk become increasingly important everything going digital kirsten pfeifer consumer electronics association told news website consumer electronics show featured pick product consumer controlling want technology like hdtv high definition digital radio digital camera remain strong product show really showed breadth depth industry despite showing diversity delegate attending complained showcase lacked much factor previous year portable technology show also reflected buzzword time place shifting multimedia content able watch listen video music anywhere time start last year predicted would average growth figure surpassed rise popularity portable digital music player personal video recorder digital camera clear also gadget becoming lifestyle choice fashion personalisation becoming increasingly gadget designed part rise spending power generation grown technology spending power desire device suit consumer electronics market made female buyer according research hybrid device combine number multimedia function also evidence show floor driven ability said stephen baker consumer electronics analyst retail research firm group function cost next nothing well show floor showcasing everything tiny wearable player giant high definition several keynote speech made industry leader microsoft chief bill gate despite several embarrassing technical glitch gate show speech announced several partnership mainly market unveiled way letting people take show recorded personal video recorder watch back portable device disappointed however failing announce detail next generation xbox game console another disappointment lack exposure sony portable game device show sony said much anticipated gadget would likely start shipping march europe went sale japan christmas psps embedded glass cabinet show though representative discus detail sony representative told news website sony consider part consumer technology offering elsewhere show plethora colour plasma screen including samsung inch metre plasma largest world industry expert also excited high definition technology coming fore format dvd coming hold time much data conventional dvd many device move product show offering external storage like seagate pocket sized external hard drive innovation engineering design prize trade professional attended vega officially january\n",
      "\n",
      "4. Similarity Score: 0.0000\n",
      " fear help france laporte france coach bernard laporte belief team scared going game england sunday claim work favour french turned stuttering performance limped scotland opening match nation saturday twickenham little fear give boost said french coach added never good enough favourite meanwhile perpignan centre jean philippe granclaude delighted received first call france squad incredible youngster said expecting playing france team always dream come true face england twickenham nation laporte announce starting line wednesday french team training centre marcoussis near paris\n",
      "\n",
      "5. Similarity Score: 0.0000\n",
      " bank voted rate change decision keep interest rate hold earlier month passed bank england rate setting body minute shown member bank monetary policy committee paul tucker voted raise rate news surprised analyst expected latest minute show another unanimous decision worry growth rate consumer spending behind decision freeze rate minute showed bank latest inflation report released last week noted main reason inflation might fall weaker consumer spending however member paul tucker voted quarter point rise interest rate argued economic growth picking equity credit housing market stronger expected bank minute said risk inflation forecast sufficiently downside keep rate hold latest meeting however minute added member noted increase might warranted course economy evolved line central projection ross walker economist royal bank scotland said surprised dissenting vote made soon said minute appeared trying market focus possibility rise rate economy pan expect probably going hike rate however added rate increase likely happen later year member likely look sustainable pick consumer spending acting\n",
      "\n",
      "6. Similarity Score: 0.0000\n",
      " show unites angolan family angolan family attempting track separated nearly year succeeding thanks hugely popular show meeting point become angola watched programme reunited hundred family run daily television also radio every friday hundred people gather luanda independence square record message front camera hope lost relative many relative reunited beginning absolute explosion huge huge crowd sergio gera programme chief ordinator told world service assignment programme thing little calmer slightly le people half year broadcasting still people going medium southern african country twice size france gripped quest many people find relative hundred thousand people died angola year civil finally ended ten thousand people still missing many heard anything year angolan family lost someone idea recording independence square modelled square argentine capital buenos aries mother talk dead missing exchange news woman victoria lapete found sister remaining member family independence square live meeting point seen sibling year threw arm told assignment started felt happy spent long without family suddenly sister however angola poorest country africa number people access either television radio comparatively mean elsewhere country task reuniting family lie primarily international committee cross icrc city wambo icrc run gazetta page tabloid size book contains name missing displaced task made much harder huge number landmines dotted around country difficult many displaced stated joaquim sahundi head tracing wambo back home others trying relocate relative many people getting injured village bush clearance mine people crossing area step mine icrc also us medium running four daily broadcast list missing radio angola meanwhile remain massive challenge angolan family even reunited programme family reunification extremely important family remain reunified social integration access education healthcare said rafael marque democracy george soros foundation southern africa essentially government waiting international community reconstruction persistently calling donor conference detaching political responsibility\n",
      "\n",
      "7. Similarity Score: 0.0000\n",
      " mourinho plot impressive course chelsea fulham confirming position premiership summit prof everything place mount serious challenge front season strength depth great player outstanding manager jose mourinho finance club world match need prize know difficult part thing certain position make leap success impressively indeed beat tough everton stamford bridge newcastle carling fulham great result given showing good form said winning major honour hardest task mourinho manager make whole easier handle anticipation expectation come mourinho biggest club prize champion league track record confidence transmits player priceless commodity anything highly impressed mourinho regarded touch arrogant people maybe appear silverware back talk mourinho simply talk good game game champion league final porto criticise talk word backed action also found realistic whenever heard spent money seems working remember lot manager spent money worked buy integrating arjen robben player giving extra dimension early game slaughtered defensive tactic winning game cannot title early season certainly lose point board vital also thought criticism harsh even though scoring goal creating chance hatful taking chance double threat robben damien duff thing looking good wonder lack predator particularly didier drogba injured starting look part sidelined feel chelsea ruud nistelrooy would even safe title chelsea also tool champion league felt would never better chance last season swept europe season interesting mourinho prioritises thing life made easier size chelsea squad said believed chelsea would league season even arsenal flying start seen nothing make change mind anything seen confirmed early impression chelsea would taken encouragement arsenal rocky defensive display spur even though winner mourinho game complaining five four hockey score football score three three training match score reach send player back dressing room defending properly result like game disgraceful serious note game merely confirmed importance campbell arsenal much criticism aimed pascal cygan believe problem lie absence campbell overall effect arsenal defence confidence crucial factor defending start conceding goal suddenly chill bone every time ball come penalty area think find worst fear confirmed arsenal need reverse process without campbell clean sheet board return campbell solidifies unit pace powerful deck vastly experienced calming influence around campbell pull together back get defence playing unit chelsea problem present would still place money edge arsenal champion season\n",
      "\n",
      "8. Similarity Score: 0.0000\n",
      " parmalat bank barred suing bank america banned suing parmalat food group went bust accounting scandal bank along investor auditor group manager want damage victim fraud hand italian firm judge barred bank america auditor case bank italaudit formerly italian auditor grant thornton face lawsuit possible prosecution second auditor deloitte touche also banned case grant thornton italian unit centre case still permitted consob italy stock market regulator hundred small investor parmalat manager parmalat collapsed december emerged euro supposedly held bank american offshore account fact exist\n",
      "\n",
      "9. Similarity Score: 0.0000\n",
      " camera phone must have four time mobile camera sold europe last year say report analyst gartner globally number sold reach million increase report predicts nearly mobile phone sold built camera improving imaging technology mobile making increasingly must europe camera mobile take megapixel image japan asia pacific camera phone technology much advanced mobile already released take megapixel image japan still dominates mobile phone technology uptake huge according gartner mobile sold camera camera phone teething problem first launched people struggled poor quality image us well complexity expense sending multimedia messaging service changed last month handset maker concentrated trying make phone easier realising people like camera phone different way introduced design feature like rotating screen viewfinder removable memory card easier control send picture message mobile company introduced way people share photo people included giving people easier way publish website mobile blog moblogs report suggests image quality increase people interested printing picture kiosk image sensor technology inside camera phone improving gartner report suggests likely image resolution camera phone megapixels consumer digital camera image range four megapixels quality megapixels high camera work done make camera phone like digital camera handset already feature limited zoom capability manufacturer looking technological improvement people take photo poorly condition like nightclub development include wide angle mode basic editing feature better sensor processor recording film clip image camera phone even made world exhibition next month charity mencap feature snap taken camera phone artist exhibition fonetography feature image taken photographer david bailey rankin goldin artist peter blake tracey emin jack vettriano us worried many organisation intel samsung foreign office lawrence livermore national laboratory decided camera phone building fear sensitive information snapped leaked many school fitness centre local council also banned fear privacy misuse italy information commissioner also voiced concern issued guideline phone used camera phone fear dampened manufacturer profit according recent figure sony ericsson profit tripled third quarter camera phone mobile sold three month september featured integrated camera said\n",
      "\n",
      "10. Similarity Score: 0.0000\n",
      " swiss cement firm buying spree swiss cement firm holcim indian cement firm holding company country plan associated cement company ambuja cement eastern holding firm ambuja cement india holcim statement said share fell investor thought offer underpriced decided sell meanwhile based firm aggregate industry said agreed takeover holcim deal aggregate give holcim world second biggest cement maker entry market boost presence peter remain aggregate chief executive said share offer provided significant value shareholder markfield leicestershire based company run quarry also ready mixed concrete plant asphalt plant cast concrete factory indian deal ahead give holcim major presence world fastest growing market behind china india second largest cement maker annual capacity million tonne market share holcim looking cheap said mittal fund manager escort mutual fund delhi market impressed want substantial chunk paying premium market price share holcim rose thursday following news takeover\n",
      "\n"
     ]
    }
   ],
   "source": [
    "# Print or use user_relevant_documents as needed\n",
    "for user_id, relevant_documents in user_relevant_documents.items():\n",
    "    print(f\"User {user_id} relevant documents:\")\n",
    "    for i, (document, similarity_score) in enumerate(relevant_documents, 1):\n",
    "        print(f\"{i}. Similarity Score: {similarity_score:.4f}\\n {document}\\n\")\n"
   ]
  },
  {
   "cell_type": "code",
   "execution_count": 138,
   "id": "fe1617e1",
   "metadata": {},
   "outputs": [
    {
     "name": "stdout",
     "output_type": "stream",
     "text": [
      "User 1 relevant documents:\n",
      "1. Similarity Score: 0.6906\n",
      " dems unveil election slogan liberal democrat present real alternative forthcoming general election campaign charles kennedy said unveiling slogan party spring conference said glass ceiling ambition told delegate labour abused public trust tory failed oppose response conservative insisted party understood forgotten majority speaking harrogate kennedy said people want credible principled political party offer different vision britain liberal democrat stood iraq said also provided strong opposition government plan card anti terror measure taxation said voted conservative good vote wasted people needed party listening concern party prepared stand party said prime minister responding claim tory party chairman liam said like labour dems soft crime support higher tax oppose controlled immigration support giving europe control life kennedy also outlined party plan impose income rate earnings year money would used help policy abolishing university tuition fee scrapping council favour local income providing free care elderly said labour tory claim sum working family would hardest kennedy said britain fourth largest economy world world class business world class workforce million pensioner living poverty line party campaigning hard expected election although prime minister tony blair confirmed timing earlier kennedy told radio today programme possibility forming coalition labour event hung parliament election independent party come independent party said kennedy fire recent day missing monday common vote government controversial anti terrorism law along saturday chief executive said cock kennedy colleague missed vote government majority nobody idea going happen lord rennard told reporter party conference said certain would another chance vote plan\n",
      "\n",
      "2. Similarity Score: 0.6774\n",
      " kennedy begin election tour liberal democrat leader charles kennedy begun week long tour persuade voter real opposition kennedy visiting constituency somerset hampshire monday rural seat party hoping make gain conservative later visit place liverpool labour targeted labour vote could tory tory dems would mean higher tax soft crime law power europe kennedy tour come labour leader tony blair conservative leader michael howard step campaigning ahead next general election widely expected held tuesday kennedy visit leicester south parmjit singh gill overturned labour majority seat last year election stop shrewsbury north dorset liverpool manchester basingstoke west london planned later week liberal democrat northern city race labour southern seat particularly south west tory speaking westminster hour sunday kennedy said upcoming general election widely tipped would much unpredictable others recent experience asked whether realistic assume liberal democrat could general election said limit ambition party responsible credible demonstrate people task kennedy said british public felt labour issue iraq fee conservative asking critical question said people highly sceptical labour conservative promise brushed labour suggestion vote party would mean letting tory back door look four previous parliamentary election liberal democrat demonstrated leapfrog conservative start third place position defeat government going story think coming general election\n",
      "\n",
      "3. Similarity Score: 0.6116\n",
      " kennedy criticises unfair tax gordon brown failed tackle fundamental unfairness system ninth budget charles kennedy said right poorest society still paying proportion income richest leader asked council rebate pensioner nothing unfair added government could patching system added speaking common brown delivered widely thought last budget general election kennedy acknowledged successful economy world criticised chancellor tory failing address ticking bomb council revaluation said recent experience wale indicated seven million household england would significantly revaluation chancellor announcement offer council rebate paid pensioner household merely sticking plaster much bigger problem plan local income would benefit typical household year half pensioner paying local three million better pension kennedy said scandal system discriminated woman missed making national insurance payment child said residency criterion would stroke fundamental iniquity kennedy added party priority free long term care elderly abolishing fee replacing council would funded charging income earning annum contrasted approach brown pledge increase income chancellor went national insurance contribution election individual family household add exactly thing said kennedy wonder people cynical politician give impression election exactly opposite election\n",
      "\n",
      "4. Similarity Score: 0.6028\n",
      " kennedy call iraq exit plan tony blair proper exit strategy iraq wake next sunday election country leader charles kennedy said speech focusing issue arising election george bush kennedy said iraq become crucible militant terrorism want phased withdrawal troop soon situation allows said london exit strategy must augment support democratic process opinion mere presence british american troop iraq feed insurgency said truth especially initial mistake made heavy handedness operation like fallujah well publicised instance abuse hand coalition force kennedy pointed netherlands portugal czech republic troop operating southern sector iraq announced imminent withdrawal regardless situation ground accused blair government le straightforward plan next week prime minister make statement regarding election iraq kennedy said city london speech proper exit strategy including phased withdrawal british troop security situation allows kennedy also argued british troop deployed iraq replaced force country especially islamic country\n",
      "\n",
      "5. Similarity Score: 0.5921\n",
      " kennedy make temple address charles kennedy address people hindu temple part appeal ethnic minority voter liberal democrat leader visit shri swaminarayan mandir temple neasden north west london labour longer exclusive claim vote britain ethnic minority kennedy also highlight anger among people race iraq call balanced approach tackling terrorism saturday speech come day dems launched ethnic minority mini manifesto kennedy tell audience many people britain race culture religion angry taken iraq principled stand liberal democrat took time also dems want restore britain reputation world stage fighting international poverty climate change protecting human right kennedy balanced approach tackling terrorism would mean tough measure make britain safe expense people fundamental legal right like happened belmarsh also mean acting united nation terrorism kennedy held talk tony blair friday government plan hold terror suspect house arrest said afterwards prime minister offered movement address concern plan face trouble lord conservative opposition continues\n",
      "\n",
      "6. Similarity Score: 0.5655\n",
      " dems unveil woman manifesto liberal democrat attempting female voter launch manifesto woman charles kennedy pledging maternity income guarantee pension system based year residence rather national insurance payment also think woman back plan university tuition fee free long term care elderly labour conservative said also plan boost pension improve childcare support kennedy say want deal policy area disadvantage woman million pensioner britain currently live government poverty line third woman said say pension based number year worked ignore contribution woman make caring child citizen pension based length residency national insurance contribution would address imbalance kennedy argues package mother would offered minimum guaranteed maternity week first month birth first child kennedy also belief party plan money saved introducing illiberal card boost police number would appeal woman policy announcement structured package appeal woman kennedy also point fact party candidate stand winnable target seat woman party strategist claim woman candidate replace turnout rise kennedy began pitch female support interview radio woman hour monday interview kennedy revealed planned structure party general election campaign around birth first child expected april baby wife sarah would priority number even arrived middle election campaign said party strategist believe winning significant proportion woman voter electoral success party spokesman said courting female vote tended vote believed considered open minded deciding vote labour deputy minister woman jacqui smith accused dems offering false promise woman said sum said proposal would increase cost public purse drastically year year hard working family dearly either increased tax reduced spending public service labour party committed universal affordable flexible childcare parent year old including childcare centred school available september trade industry secretary patricia hewitt said would like longer paid maternity leave higher paternity extension flexible working right carers labour third term conservative unveil manifesto plan childcare said november would increase maternity child credit cash parent spend like nanny pair even family member grandparent acting carer also consulting making childcare cost deductible\n",
      "\n",
      "7. Similarity Score: 0.5312\n",
      " tax must trusted kennedy public trust tax breaking labour tory straight people issue leader charles kennedy said ahead government budget report kennedy used speech party facing painful economic reality said current level taxation right although would earner party accused dems making uncosted promise kennedy made clear determined counter accusation dems already published full costing plan wednesday speech announce policy speaking commonwealth club kennedy said critical political party economic credibility promised expected deliver said budget tough choice needed public spending dems would priority spending including government card scheme child trust fund cutback would free fund increasing basic state pension putting police street reintroducing dental check said dems argue honest tax past calling rise income simple rise want band earner scrapping university tuition fee providing free personal care elderly disabled people keeping local tax would also local income replace council number change environmental tax ensure polluter pay dems tory laid possible option cutting tax grab headline labour hidden rise kennedy said contract people government fairly spend money wisely sustained political party straightforward plan stealth strategy gordon brown obvious unfairness current system especially council empty promise conservative party issue wonder trust taxation breaking challenged treasury open book national audit office report government performance conservative chairman liam said liam said charles kennedy serious making budget start explaining would fund spending commitment reality dems lack courage tackle waste bureaucracy people would face tough choice would family would worse year chancellor gordon brown said figure accused party claiming would spend le across country committing spend\n",
      "\n",
      "8. Similarity Score: 0.5215\n",
      " dems bold election policy charles kennedy told voter liberal democrat offer honest choice next general election party battling impose lowest tax kennedy going looming election pledged increase taxation bold policy certainly ensures choice dems party previous pledge increase tax penny pound spend public service already adopted government switched tack promising levy modest increase amount earnings year allow finance series pledge scrap student fee finance free long term care elderly replace council local income last policy also well paying others pensioner particular le labour tory attacked policy unworkable properly costed inevitably insist need raise tax fund improvement service tory claim improve service tax efficiency saving labour offered saving precise proposal although little chance propose increase many way argument dems others taxation spending echo sort argument raged labour tory early unlike tory labour debate belief voter ready modest increase well order fund improvement service view partly endorsed recent poll suggesting people would rather cash spent public service cut similarly different tone approach asylum immigration kennedy stressing politician foment artificial debate immigration attacking michael howard proposal quota party singing similar song immigration kennedy stressing different liberal approach party kennedy also buoyant mood party election chance declaring tory going significant player poll repeated pledge post election deal either party election kennedy went suggest election labour government small majority would amount massive vote confidence tony blair government suggests leader belief well find powerful even pivotal position vastly different house common next election dream third party dreamed many time\n",
      "\n",
      "9. Similarity Score: 0.5026\n",
      " kennedy cautious optimism charles kennedy canny make grand claim party fare general election year common seen fair share claim dashed rock bitter experience might political electoral system even caution cannot hide fact party leader belief well something special month time look already said going artificial limit ambition time around said still seems accept likely outcome another labour victory sort general election pitch designed around notion dems real opposition lead jibe party actively bidding come second prepared clear conclusion reached including conservative conservative going election therefore potential liberal democrat advance story election given capacity take labour well take conservative really going first modern three party election experienced suggestion labour finished voter looking alternative labour still naturally gravitate conservative problem geographically conservative party melted away third britain supplanted main alternative labour whole tract mainland britain party ageing declining membership base look vibrant vital touch longer contemporary britain kennedy also eager dispel impression party party left likely attract mostly disillusioned labour voter insists three headline commitment financed increase earning year appeal right across political spectrum replace council local income provide free long term care elderly scrap student fee also belief major party promising increase tax land trouble similar policy labour think argument moved british politics particularly context forthcoming general election said labour government burden would rise tory plan increase spending area also reducing tax incredible claim straightforward people saying know likely increase burden recommending specific rise income scale earner fund three specific policy clear choice people comfortable think distinguish others future clear expected party increase showing election intends next parliament front foot view leading right parliament next election decisive opportunity last remark reflects view gaining ground westminster tory badly fear election next might really historic breakthrough third party perhaps kennedy ready caution side\n",
      "\n",
      "10. Similarity Score: 0.4694\n",
      " kennedy question trust blair leader charles kennedy said voter fundamental lack trust tony blair prime minister said backing party wasted vote adding dems made comment start appearance channel five session wright stuff programme question caller studio audience show presenter covered plan anti terror law immigration kennedy said nearly year parliament seen prime minister party leader come knew pitfall british politics first elected tony blair michael howard class nearly quarter century world changed recognition said actually hear argument longer dems good people reasonable idea thought could around wasted vote hear evidence people sens demonstrates wasted vote said blair lost trust british people fundamental lack trust tony blair prime minister government said party leader party convey people kennedy also used appearance defend party plan increase income earning saying would apply population said extra revenue would allow party tuition fee introduce free personal care elderly replace council local income blair already spent five michael howard booked similar session\n",
      "\n",
      "User 2 relevant documents:\n",
      "1. Similarity Score: 0.6097\n",
      " music mogul fuller sell company idol supremo simon fuller sold entertainment company entrepreneur deal robert sillerman sport entertainment enterprise renamed recently also bought share estate elvis presley fuller appointed board plan implement company creative strategy firm handle roster music artist show strategy star including beckhams deal see fuller receive cash million share sport entertainment also either cash stock financial year june fuller signed long term agreement company continue expand develop entertainment brand said hugely exciting partnership entertainment provide powerful platform global growth allow fully take advantage amazing opportunity ahead cannot wait started fuller creative drive behind idol offspring american idol management run career many successful contestant including young gareth gate kelly clarkson company year fuller taking name first successful single paul hardcastle fuller driving force behind spice girl phenomenon using canny marketing catchy song secure place lucrative girl group history together club show well music career sillerman deal presley estate see control operation graceland well money late star music film presley daughter lisa marie retains possession graceland many father personal effect\n",
      "\n",
      "2. Similarity Score: 0.4109\n",
      " news corp make offer news corporation seeking minority investor entertainment group broadcasting subsidiary medium giant rupert murdoch owns share company home television network century film studio move follows news corp decision register business century recent film release include heart huckabees robot put series term offer minority shareholder receive news corp share return share hold analyst said decision list news corp result firm share trading york rather sydney nullified need retain separate stock market listing entertainment share news corp investor voted october approve transfer company corporate domicile australia state delaware move designed help news corp attract investment largest financial institution make easier raise capital entertainment group generated revenue last year news corp share fell cent share offer announced share cent\n",
      "\n",
      "3. Similarity Score: 0.3851\n",
      " lead interactive bafta win national theatre field year interactive bafta award national theatre stagework website picked prize best learning well factual site collected three award including best online entertainment hitchhiker guide galaxy adventure game spook interactive took best interactive prize annual award recognise best digital medium sport interactive fought competition cbbc newsround guardian take home best news sport trophy coverage england exit euro recognised groundbreaking animation bafta grant dean chair bafta interactive entertainment committee said entrant outstanding quality judging enormously difficult without doubt landmark year bafta interactive award added many award year gone company commonly associate traditional entertainment showing medium film television closing award given different category including interactive film music design well technical social innovation london ceremony music award given sseyo minimixa mobile music sequencer designed people write edit share composition warner bros given prize inspiring effort film interactivity chaplin collection beat oasis really bend like beckham shaun dead today category trauma best film elsewhere fashionista clothes designer alexander mcqueen took accolade best designed website award running since british academy film television decided split separate game interactive ceremony tuesday half life dominated game prize collected baftas including best game best online game\n",
      "\n",
      "4. Similarity Score: 0.3249\n",
      " pour comedy invest developing comedy entertainment programme outside london change come part shake several department create show appeal wider range people change also made team factual daytime department outside london director television jana bennett said change getting best idea screen efficiently effectively structure genre designed ensure happens said number role created department including head comedy commissioning based glasgow person charge budget role develop show outside capital within independent production company jane lush controller entertainment commissioning said entertainment comedy incredibly important audience confident change help best programme screen similar position also created department commissioning editor documentary based bristol daytime commissioning editor birmingham bennett said role would benefit making programme within well making show channel independently strong independent sector flourishing house production base mutually exclusive stimulate competition deliver best idea audience said\n",
      "\n",
      "5. Similarity Score: 0.3077\n",
      " spike back student director film maker spike say black representation stronger ever cinema true power entertainment lie behind camera hate director urged student atlanta university morehouse college seek gatekeeper position behind scene told work corporate ladder everybody actor everybody make record spoke part discussion panel retrospective film returning university educates african american student discussed challenge facing black people entertainment industry even denzel washington getting movie come time movie gatekeeper said told aspiring young film maker audience ignore traditional route getting movie made including raising fund independently releasing film straight huge market year director said something looked upon stepchild made film including jungle fever right thing summer gotta\n",
      "\n",
      "6. Similarity Score: 0.2923\n",
      " create film superhero comic book veteran stan team producer robert evans create movie featuring superhero foreverman focus character face problem everyday life well using special power save world paramount picture studio behind film revealed detail project potential spawn series film best known work spider incredible hulk collaborating script screenwriter peter briggs penned recent comic book adaptation hellboy believe truly whole franchise said gill champion president chief executive entertainment world people looking something different stan idea create concept seen become evergreen franchise paramount many creation including daredevil turned film past five year however spider series biggest office original sequel taking almost worldwide third spider film scheduled release another marvel comic adaptation fantastic four released cinema summer\n",
      "\n",
      "7. Similarity Score: 0.2394\n",
      " cebit fever take hanover thousand product ten thousand visitor make cebit place technology lover welcome cebit message pilot landed message flyer airport message every billboard town cebit fever taken hanover hotel booked month local people letting room home hoard exhibitor visitor journalist cebit huge exhibition site could almost classified town right restaurant shop service hall company showing latest product list given came size weight phone book main theme year digital home buzzword convergence entertainment billed replacement player stereo telephone computer offering solution wirelessly connected throughout house show display modelled prototype digital lifestyle home german magazine computer reseller news wanted show fit living room workplace give people feeling would work home said claudia neulling magazine house webcam security room called high definition connected living room provides home entertainment movie music also linked parked outside kitted processor along player cordless headphone kid back convergence technology transfer data thing make easier convenient consumer said mark brailey director corporate marketing intel real challenge show people easier think firmly belief entertainment future say past people fear frequent crash incompatibility something microsoft trying stand computer running window medium centre edition people mobile phone escape convergence theme samsung showing handset three gigabyte hard drive used watch compressed video player would rather watch live downloaded movie showing phone sale china show analogue colour screen think probable application somewhere like train station want check status soccer game example said koji umemoto manager mobile terminal marketing admitted signal quality good move plan launch europe moment nokia happy demonstrate upgrade popular megapixel camera music player handle multiple format rather also compatible nokia visual radio technology handset receive broadcast user interact compatible broadcast using gprs connection take part competition extra information name song playing company reluctant show prototype preferring display product already sale market portable medium player firm creative showed wireless technology based magnetic inductance rather radio system hearing aid benefit conventional bluetooth lack interference longer battery life said riccardo rinaldini creative european marketing manager firm prototype headset linked micro player transmitter player creates private magnetic bubble around user picked headset range metre suitable personal single battery said last hour creative expects market final form later year even clothing likely part convergence trend adidas trainer according susanne risse company sense understand adapt running style battery processor motor embedded sole button side allow amount cushioning would like adjusting tension cable running heel processor monitor surface running adjusts tension accordingly billed world first intelligent shoe\n",
      "\n",
      "8. Similarity Score: 0.2380\n",
      " china shanda buy stake sina chinese online game operator shanda interactive entertainment bought stake sina country biggest internet portal firm move precursor full takeover analyst saying better known international firm also show interest sina shanda said boost stake sina even buying outright merger would create firm offer online role playing game news entertainment wireless messaging sina said purchase stake shanda would impact business board director said statement would continue best interest company stakeholder including shareholder employee customer company listed york stock exchange nyse technology dominated nasdaq index filing security exchange commission sina said share purchased january february rumour possible takeover boosted sina share friday added extra electronic trading trading session finished gain amid speculation trading resume york tuesday monday public holiday analyst forecast could still potential party could still counter said wallace cheung analyst vickers even though shanda sina still quite long take full control however cheung noted foreign company trying take control chinese internet portal firm ability filter pas news viewed favourably beijing\n",
      "\n",
      "9. Similarity Score: 0.2302\n",
      " school tribute host carson people turned sunday tribute late presenter johnny carson nebraska town grew carson hosted tonight show year died january respiratory disease emphysema lived norfolk nebraska eight joined navy returned regularly donated local cause school friend among crowd school johnny carson theater carson best loved personality asked public memorial angeles lived later life began showbusiness career norfolk performing magic name great carsoni donation included norfolk high school build performing art centre carson died president bush public tribute saying presenter profound influence american life entertainment\n",
      "\n",
      "10. Similarity Score: 0.2276\n",
      " johnny denise lose passport johnny vaughan denise outen saturday night entertainment show passport paradise return screen said breakfast presenter recruited host family variety show last july currently plan another series spokeswoman said added pair brought real warmth saturday night felt done enough format show passport paradise involved combination game outside broadcast high level audience participation first instalment attracted million viewer dropped fewer million time ended spokeswoman said graham norton strictly dance fever would priority much card next year concentrating moment strictly come dancing phenomenally well said\n",
      "\n",
      "User 3 relevant documents:\n",
      "1. Similarity Score: 0.0000\n",
      " citizenship event touted citizenship ceremony could introduced people celebrating birthday charles clarke said idea tried part overhaul government approach inclusive citizenship particularly ethnic minority pilot scheme based ceremony australia start october clarke said would recognising young people reaching voting also gain greater independence parent britain young black asian people encouraged learn nation heritage part government race strategy also target specific issue within different ethnic minority group official home secretary want young people feel belong understand cultural identity alongside british launch follows role faith school britain monday school inspection chief david bell accused islamic school failing teach pupil obligation british society muslim council britain said ofsted bos bell comment highly irresponsible home office started work community cohesion race equality strategy last year outcome launched wednesday called improving opportunity strengthening society aimed tackling racism exclusion segregation rise political religious extremism represents move away size fit approach focus specific within cultural group said home office spokesman right black ethnic minority group must disadvantaged spokesman highlighted specific issue affect particular community example people south asian origin tend suffer high incidence heart disease drilling focusing sort problem spokesman added launching initiative clarke said enormous progress made race issue recent year added many member black minority ethnic community thriving still find harder succeed employment gain access healthcare education housing strategy set government commitment identify respond specific need minority society population described coming white ethnic minority census downing street strategy unit said people indian chinese background well average often outperforming white people education earnings pakistani bangladeshi black caribbean origin significantly likely unemployed earn le white said home office want initiative promote sense belonging encouraging young people take part voluntary work programme designed support citizenship lesson already taking place school\n",
      "\n",
      "2. Similarity Score: 0.0000\n",
      " wale want rugby league training wale could follow england lead training rugby league club england already three session leeds rhino wale thought interested similar clinic rival helen saint coach millward given approval happen unlikely season saint week training portugal next week wale play england opening nation match february approach wale confirmed saint spokesman early stage something giving serious consideration helen proud welsh connection obvious partner welsh rugby union despite spat collapse kieron cunningham proposed move union side swansea similar cross code deal took iestyn harris leeds cardiff talented stand returned code bradford bull coslett famously moved wale league currently saint football manager clive griffith wale defensive coach former helen player thought behind latest initiative scott gibbs former wale lion centre played helen challenge winning team wembley\n",
      "\n",
      "3. Similarity Score: 0.0000\n",
      " gadget market grow explosion consumer technology continue delegate world largest gadget show vega told number gadget shop predicted grow device talk become increasingly important everything going digital kirsten pfeifer consumer electronics association told news website consumer electronics show featured pick product consumer controlling want technology like hdtv high definition digital radio digital camera remain strong product show really showed breadth depth industry despite showing diversity delegate attending complained showcase lacked much factor previous year portable technology show also reflected buzzword time place shifting multimedia content able watch listen video music anywhere time start last year predicted would average growth figure surpassed rise popularity portable digital music player personal video recorder digital camera clear also gadget becoming lifestyle choice fashion personalisation becoming increasingly gadget designed part rise spending power generation grown technology spending power desire device suit consumer electronics market made female buyer according research hybrid device combine number multimedia function also evidence show floor driven ability said stephen baker consumer electronics analyst retail research firm group function cost next nothing well show floor showcasing everything tiny wearable player giant high definition several keynote speech made industry leader microsoft chief bill gate despite several embarrassing technical glitch gate show speech announced several partnership mainly market unveiled way letting people take show recorded personal video recorder watch back portable device disappointed however failing announce detail next generation xbox game console another disappointment lack exposure sony portable game device show sony said much anticipated gadget would likely start shipping march europe went sale japan christmas psps embedded glass cabinet show though representative discus detail sony representative told news website sony consider part consumer technology offering elsewhere show plethora colour plasma screen including samsung inch metre plasma largest world industry expert also excited high definition technology coming fore format dvd coming hold time much data conventional dvd many device move product show offering external storage like seagate pocket sized external hard drive innovation engineering design prize trade professional attended vega officially january\n",
      "\n",
      "4. Similarity Score: 0.0000\n",
      " fear help france laporte france coach bernard laporte belief team scared going game england sunday claim work favour french turned stuttering performance limped scotland opening match nation saturday twickenham little fear give boost said french coach added never good enough favourite meanwhile perpignan centre jean philippe granclaude delighted received first call france squad incredible youngster said expecting playing france team always dream come true face england twickenham nation laporte announce starting line wednesday french team training centre marcoussis near paris\n",
      "\n",
      "5. Similarity Score: 0.0000\n",
      " bank voted rate change decision keep interest rate hold earlier month passed bank england rate setting body minute shown member bank monetary policy committee paul tucker voted raise rate news surprised analyst expected latest minute show another unanimous decision worry growth rate consumer spending behind decision freeze rate minute showed bank latest inflation report released last week noted main reason inflation might fall weaker consumer spending however member paul tucker voted quarter point rise interest rate argued economic growth picking equity credit housing market stronger expected bank minute said risk inflation forecast sufficiently downside keep rate hold latest meeting however minute added member noted increase might warranted course economy evolved line central projection ross walker economist royal bank scotland said surprised dissenting vote made soon said minute appeared trying market focus possibility rise rate economy pan expect probably going hike rate however added rate increase likely happen later year member likely look sustainable pick consumer spending acting\n",
      "\n",
      "6. Similarity Score: 0.0000\n",
      " show unites angolan family angolan family attempting track separated nearly year succeeding thanks hugely popular show meeting point become angola watched programme reunited hundred family run daily television also radio every friday hundred people gather luanda independence square record message front camera hope lost relative many relative reunited beginning absolute explosion huge huge crowd sergio gera programme chief ordinator told world service assignment programme thing little calmer slightly le people half year broadcasting still people going medium southern african country twice size france gripped quest many people find relative hundred thousand people died angola year civil finally ended ten thousand people still missing many heard anything year angolan family lost someone idea recording independence square modelled square argentine capital buenos aries mother talk dead missing exchange news woman victoria lapete found sister remaining member family independence square live meeting point seen sibling year threw arm told assignment started felt happy spent long without family suddenly sister however angola poorest country africa number people access either television radio comparatively mean elsewhere country task reuniting family lie primarily international committee cross icrc city wambo icrc run gazetta page tabloid size book contains name missing displaced task made much harder huge number landmines dotted around country difficult many displaced stated joaquim sahundi head tracing wambo back home others trying relocate relative many people getting injured village bush clearance mine people crossing area step mine icrc also us medium running four daily broadcast list missing radio angola meanwhile remain massive challenge angolan family even reunited programme family reunification extremely important family remain reunified social integration access education healthcare said rafael marque democracy george soros foundation southern africa essentially government waiting international community reconstruction persistently calling donor conference detaching political responsibility\n",
      "\n",
      "7. Similarity Score: 0.0000\n",
      " mourinho plot impressive course chelsea fulham confirming position premiership summit prof everything place mount serious challenge front season strength depth great player outstanding manager jose mourinho finance club world match need prize know difficult part thing certain position make leap success impressively indeed beat tough everton stamford bridge newcastle carling fulham great result given showing good form said winning major honour hardest task mourinho manager make whole easier handle anticipation expectation come mourinho biggest club prize champion league track record confidence transmits player priceless commodity anything highly impressed mourinho regarded touch arrogant people maybe appear silverware back talk mourinho simply talk good game game champion league final porto criticise talk word backed action also found realistic whenever heard spent money seems working remember lot manager spent money worked buy integrating arjen robben player giving extra dimension early game slaughtered defensive tactic winning game cannot title early season certainly lose point board vital also thought criticism harsh even though scoring goal creating chance hatful taking chance double threat robben damien duff thing looking good wonder lack predator particularly didier drogba injured starting look part sidelined feel chelsea ruud nistelrooy would even safe title chelsea also tool champion league felt would never better chance last season swept europe season interesting mourinho prioritises thing life made easier size chelsea squad said believed chelsea would league season even arsenal flying start seen nothing make change mind anything seen confirmed early impression chelsea would taken encouragement arsenal rocky defensive display spur even though winner mourinho game complaining five four hockey score football score three three training match score reach send player back dressing room defending properly result like game disgraceful serious note game merely confirmed importance campbell arsenal much criticism aimed pascal cygan believe problem lie absence campbell overall effect arsenal defence confidence crucial factor defending start conceding goal suddenly chill bone every time ball come penalty area think find worst fear confirmed arsenal need reverse process without campbell clean sheet board return campbell solidifies unit pace powerful deck vastly experienced calming influence around campbell pull together back get defence playing unit chelsea problem present would still place money edge arsenal champion season\n",
      "\n",
      "8. Similarity Score: 0.0000\n",
      " parmalat bank barred suing bank america banned suing parmalat food group went bust accounting scandal bank along investor auditor group manager want damage victim fraud hand italian firm judge barred bank america auditor case bank italaudit formerly italian auditor grant thornton face lawsuit possible prosecution second auditor deloitte touche also banned case grant thornton italian unit centre case still permitted consob italy stock market regulator hundred small investor parmalat manager parmalat collapsed december emerged euro supposedly held bank american offshore account fact exist\n",
      "\n",
      "9. Similarity Score: 0.0000\n",
      " camera phone must have four time mobile camera sold europe last year say report analyst gartner globally number sold reach million increase report predicts nearly mobile phone sold built camera improving imaging technology mobile making increasingly must europe camera mobile take megapixel image japan asia pacific camera phone technology much advanced mobile already released take megapixel image japan still dominates mobile phone technology uptake huge according gartner mobile sold camera camera phone teething problem first launched people struggled poor quality image us well complexity expense sending multimedia messaging service changed last month handset maker concentrated trying make phone easier realising people like camera phone different way introduced design feature like rotating screen viewfinder removable memory card easier control send picture message mobile company introduced way people share photo people included giving people easier way publish website mobile blog moblogs report suggests image quality increase people interested printing picture kiosk image sensor technology inside camera phone improving gartner report suggests likely image resolution camera phone megapixels consumer digital camera image range four megapixels quality megapixels high camera work done make camera phone like digital camera handset already feature limited zoom capability manufacturer looking technological improvement people take photo poorly condition like nightclub development include wide angle mode basic editing feature better sensor processor recording film clip image camera phone even made world exhibition next month charity mencap feature snap taken camera phone artist exhibition fonetography feature image taken photographer david bailey rankin goldin artist peter blake tracey emin jack vettriano us worried many organisation intel samsung foreign office lawrence livermore national laboratory decided camera phone building fear sensitive information snapped leaked many school fitness centre local council also banned fear privacy misuse italy information commissioner also voiced concern issued guideline phone used camera phone fear dampened manufacturer profit according recent figure sony ericsson profit tripled third quarter camera phone mobile sold three month september featured integrated camera said\n",
      "\n",
      "10. Similarity Score: 0.0000\n",
      " swiss cement firm buying spree swiss cement firm holcim indian cement firm holding company country plan associated cement company ambuja cement eastern holding firm ambuja cement india holcim statement said share fell investor thought offer underpriced decided sell meanwhile based firm aggregate industry said agreed takeover holcim deal aggregate give holcim world second biggest cement maker entry market boost presence peter remain aggregate chief executive said share offer provided significant value shareholder markfield leicestershire based company run quarry also ready mixed concrete plant asphalt plant cast concrete factory indian deal ahead give holcim major presence world fastest growing market behind china india second largest cement maker annual capacity million tonne market share holcim looking cheap said mittal fund manager escort mutual fund delhi market impressed want substantial chunk paying premium market price share holcim rose thursday following news takeover\n",
      "\n",
      "User 4 relevant documents:\n",
      "1. Similarity Score: 0.4188\n",
      " bargain call widen softbank loss japanese communication firm softbank widened loss heavy spending rate phone service service launched december dubbed otoku bargain almost order softbank said firm market leader high speed internet operating loss three month december without otoku marketing spend would made profit expects move black firm give figure extent profit expected make next year born tech boom investing widely becoming fast rising star till tech bubble hard recent return high profile came purchase japan telecom country third biggest fixed line telecom firm acquisition spurred broadband internet division pole position japanese market million subscriber december\n",
      "\n",
      "2. Similarity Score: 0.3863\n",
      " dublin tech lab shut dublin tech research laboratory medium lab europe shut research centre started irish government massachusetts institute technology hotbed technology concept since opening centre developed idea implant teeth also aimed digital start area centre supposed self funded failed attract private cash injection need statement medium lab europe said decision close taken neither irish government prestigious based massachusetts institute technology willing fund prime minister bertie ahern wanted centre become draw smaller tech company attempt regenerate area three dozen small firm attracted area thought effect recession damaged lab long term survival lab needed million euro million year corporate sponsor survive deep long recession said simon jones lab managing director pearson futurologist told news website closure real shame company worked lab looking rfid development video conferencing talented creative people came great idea helping ensure greater benefit technology society doubt individual quickly snapped research lab synergy working team lost noel dempsey government communication minister said ahern committed project know disappointed come time seemed right thing said unfortunately model sustainable current climate five year innovative unusual idea technology developed recent month patent application filed lab many concept science engineering psychology well technology thought idea commercially viable near term several research team explored human could react technology way entirely different human connectedness group example developed iband bracelet stored exchanged information relationship information could beamed another wearer people shook hand project looked using human sens like touch interact devoices could embedded environment body project examined brainwave could directly control computer game lab guinness brewery housed around people made staff researcher student collaborator part time undergraduate student thought people lose job lab close february according latest account medium europe said spent million euro million raised million euro million\n",
      "\n",
      "3. Similarity Score: 0.2530\n",
      " ring steel combat attack gambling hugely popular especially tech savvy criminal many extortionist targeting based betting firm threatening cripple website deluge data unless ransom paid deep defence place biggest firm stop attack increasing number attack huge amount data used bump site prompting firm adopt measure firm realising anti virus firewall said paul king chief security architect cisco thing done network protect data centre king said properly combat called distributed denial service attack intelligent based system many gambling site suffering ddos attack offshore data hosting centre large scale data flood could knock access many site criminal targeting said king overspill effect likely grow attack grow size scale malcolm seagrave security expert energis said common type attack site megabyte data short period time bigger attack sending megabyte traffic rarely seen said feel like turning dial traffic gradually growing said attack involving gigabyte data said seagrave however added matter time large attack mounted maria capella spokeswoman provider pipex said ddos attack height customer getting every four five day defence place constantly monitor stream data flowing across network pluck traffic destined target site understanding genuine traffic keeping attack traffic going site said study profile traffic soon anomaly profile start backbone engineering boy going sustain attack said capella traffic hard spot ddos attack typically thousand computer many different country participating machine sends small part entire data flood typically computer infected virus worm report success address compromised machine back malicious hacker tech criminal virus hijacked computer known zombie bot collection called net many spammer rent net help anonymously send junk mail zombie based outside country host target site getting attacking shut difficult often pipex supplier advance notice attack happen serious player tend precede attack kind ransom mail said capella part service provide customer notify anything advance would give forewarning attack spotted dedicated hardware take remove attack traffic ensure site stay energis took similar approach said seagrave technology allows detect attack minute rather network engineer spend hour pulling information together said seagrave also firm starting work closely together problem ddos attack pool information coming information gathered attack originated arrest said energis also intelligence work insight site criminal gang plan target people place monitoring tech site said sometimes though said spotting next victim easy going alphabetically list gambling site trying another said seagrave\n",
      "\n",
      "4. Similarity Score: 0.2530\n",
      " ring steel combat attack gambling hugely popular especially tech savvy criminal many extortionist targeting based betting firm threatening cripple website deluge data unless ransom paid deep defence place biggest firm stop attack increasing number attack huge amount data used bump site prompting firm adopt measure firm realising anti virus firewall said paul king chief security architect cisco thing done network protect data centre king said properly combat called distributed denial service attack intelligent based system many gambling site suffering ddos attack offshore data hosting centre large scale data flood could knock access many site criminal targeting said king overspill effect likely grow attack grow size scale malcolm seagrave security expert energis said common type attack site megabyte data short period time bigger attack sending megabyte traffic rarely seen said feel like turning dial traffic gradually growing said attack involving gigabyte data said seagrave however added matter time large attack mounted maria capella spokeswoman provider pipex said ddos attack height customer getting every four five day defence place constantly monitor stream data flowing across network pluck traffic destined target site understanding genuine traffic keeping attack traffic going site said study profile traffic soon anomaly profile start backbone engineering boy going sustain attack said capella traffic hard spot ddos attack typically thousand computer many different country participating machine sends small part entire data flood typically computer infected virus worm report success address compromised machine back malicious hacker tech criminal virus hijacked computer known zombie bot collection called net many spammer rent net help anonymously send junk mail zombie based outside country host target site getting attacking shut difficult often pipex supplier advance notice attack happen serious player tend precede attack kind ransom mail said capella part service provide customer notify anything advance would give forewarning attack spotted dedicated hardware take remove attack traffic ensure site stay energis took similar approach said seagrave technology allows detect attack minute rather network engineer spend hour pulling information together said seagrave also firm starting work closely together problem ddos attack pool information coming information gathered attack originated arrest said energis also intelligence work insight site criminal gang plan target people place monitoring tech site said sometimes though said spotting next victim easy going alphabetically list gambling site trying another said seagrave\n",
      "\n",
      "5. Similarity Score: 0.2504\n",
      " gadget growth fuel concern technology firm gadget lover urged think environment buying disposing latest tech product consumer electronics show vega earlier month several tech firm recognised strategy help environment ebay also announced rethink project bringing together intel apple among others promote recycling consumer electronics market grow awareness needed gadget recycled well energy efficient said environmental protection agency particular growing concern much energy take recharge portable device fastest growing market technology consumer electronics association predicted shipment consumer technology reach billion nearly billion ebay initiative pull together major technology firm environment group government agency ebay user give information computer send online auction house think already established community loyal user could influential really became aware waste issue million user powerful force good ebay david stern told news website opportunity meet additional demand site used computer opportunity good good environment computer cause problem environment teenager mobile every month adult every month million handset replaced total year actually recycled year predicted billion people worldwide mobile according deloitte report scheme like ripmobile could help targeting younger generation recycling message initiative also launched reward year old returning unused phone system allows transformation drawer full unused mobile phone anything music clothes electronics game said seth heine ripmobile group student collected mobile recycling three month heine told news website important raise awareness amongst young recycling becomes learned behaviour europe undoubtedly advanced term recycling awareness robust life programme although tide change happening rest world intel showcased motherboards chip entirely lead free awareness consumer side whole industry moving towards lead free intel allen wilson told news website still level awareness right rise highest level awareness europe european union directive weee waste electronic electrical equipment come effect august put responsibility electrical manufacturer recycle item returned development also made design better technology energy efficient contain harmful substance element like chromium lead cadmium common consumer electronics good prohibited product recycling either predicted huge growth gadget market mean amount energy used power rise biggest culprit according innocuous power adaptor nicknamed energy vampire provide vital juice billion mobile phone pda personal digital assistant digital camera camcorder digital music player although focus developing efficient improved circuit device technology inside rechargers still outdated energy needed power gadget january efficiency standard external power supply came effect part european commission code conduct also unveiled guideline latest energy star initiative target external power adapter framework developing better adaptor labelled energy star logo meaning efficient initiative global effort manufacturer adaptor brought board made china billion shipped global every year three billion alone already working several company make power supply market increasingly finding company want provide neat tech device also bundle tech efficient power supply andrew fanara said initiative like critical power adaptor continue made used consumer electronics small appliance responsible electricity used home said\n",
      "\n",
      "6. Similarity Score: 0.2464\n",
      " nigeria boost cocoa production government nigeria hoping triple cocoa production next three year launch ambitious development programme agriculture minister adamu bello said scheme aimed boost production expected tonne year tonne government pump naira subsidy farming chemical seedling nigeria currently world fourth largest cocoa producer cocoa main export product nigeria coming government began le attention cocoa sector production began fall peak tonne year launch programme south western city ibadan bello explained additional project encourage processing cocoa country lift local consumption also announced naira funding available earmarked establishing cocoa plant nursery country could looking emulate rival ghana produced bumper crop last year however farmer sceptical proposal people farming hijack subsidy said joshua osagie cocoa farmer state told reuters farmer village never assistance added time nigeria announced initiative ghana world second largest cocoa exporter announced revenue industry broken record country worth bean exported analyst said high tech production technique crop spraying introduced government huge crop pushing production closer level seen country world leading cocoa grower\n",
      "\n",
      "7. Similarity Score: 0.2332\n",
      " putting face brother literally putting face technology could key improving interaction tech gadget imagine surveillance system also present virtual embodiment person screen react behaviour perhaps even alert mail basic version called avatar already exist together speech voice recognition system could replace keyboard mouse near future idea showcased london science museum part future face exhibition avatar jeremiah virtual download free install computer creator richard bowden lecturer centre vision speech signal processing university surrey refers jeremiah rather jeremiah virtual face attempt emulate human responds activity childlike like visual stimulus told news website see child running laughing waving smile ignore get angry leave get also even surprise jeremiah actually intelligent work vision reacting preset information provided surveillance tracker system able talk hear least surrey team already working jeremiah next version replace human face underwater interactive creature finn fish interested interaction providing ability system watch going make decision based explained bowden research come time people cope increasing number tech gadget expert much natural interact device virtual human could make much easier make gizmo three clock morning downstairs probably thing going either going bathroom maybe going make said bowden system watch behaviour time learn would predict going turn light even kettle could switched might even able tell home surveillance system going away holiday could make sure house secure left might sound like scary vision orwellian future might depend face watching surveillance camera centre people unhappy fact system watching said bowden jeremiah camera went nobody minded although still watching could watching\n",
      "\n",
      "8. Similarity Score: 0.2052\n",
      " draft patent proposed european software patent drafted european commission despite request meps proving controversial limbo year major tech firm needed protect invention others fear hurt smaller tech firm say council minister adopt draft version agreed upon last said would review aspect directive directive intended offer patent protection invention software achieve effect word computer implemented invention letter president manuel barroso told president european parliament josep borrell commission intend refer proposal parliament council minister supported agreement reached minister european council agrees draft directive return second reading european parliament guarantee directive become instead probably mean delay controversy directive legislation need approval parliament council minister becomes french green alain lipietz warned week commission ignored parliament request would insult assembly said parliament would reject council version legislation part final conciliation stage decision procedure patenting computer program internet business method permitted mean based amazon hold patent click shopping service example critic concerned directive could lead similar model happening europe fear could hurt small software developer legal financial might larger company fight patent legal action court supporter current law inefficient would serve even playing field without bringing law line\n",
      "\n",
      "9. Similarity Score: 0.2052\n",
      " draft patent proposed european software patent drafted european commission despite request meps proving controversial limbo year major tech firm needed protect invention others fear hurt smaller tech firm say council minister adopt draft version agreed upon last said would review aspect directive directive intended offer patent protection invention software achieve effect word computer implemented invention letter president manuel barroso told president european parliament josep borrell commission intend refer proposal parliament council minister supported agreement reached minister european council agrees draft directive return second reading european parliament guarantee directive become instead probably mean delay controversy directive legislation need approval parliament council minister becomes french green alain lipietz warned week commission ignored parliament request would insult assembly said parliament would reject council version legislation part final conciliation stage decision procedure patenting computer program internet business method permitted mean based amazon hold patent click shopping service example critic concerned directive could lead similar model happening europe fear could hurt small software developer legal financial might larger company fight patent legal action court supporter current law inefficient would serve even playing field without bringing law line\n",
      "\n",
      "10. Similarity Score: 0.2010\n",
      " nasdaq planning share sale owner technology dominated nasdaq stock index plan sell share public list market operates according registration document filed security exchange commission nasdaq stock market plan raise sale observer another step closer full public listing however nasdaq icon technology boom recently poured cold water suggestion company first sold share private placement technically went public stock started trading bulletin board list equity trade occasionally nasdaq make money sale investor bought share private placings filing document said nasdaq made share technology firm company high growth potential potent symbol internet telecom boom nose diving bubble burst recovery fortune tech giant intel survivor amazon helped revive fortune\n",
      "\n",
      "User 5 relevant documents:\n",
      "1. Similarity Score: 0.0000\n",
      " citizenship event touted citizenship ceremony could introduced people celebrating birthday charles clarke said idea tried part overhaul government approach inclusive citizenship particularly ethnic minority pilot scheme based ceremony australia start october clarke said would recognising young people reaching voting also gain greater independence parent britain young black asian people encouraged learn nation heritage part government race strategy also target specific issue within different ethnic minority group official home secretary want young people feel belong understand cultural identity alongside british launch follows role faith school britain monday school inspection chief david bell accused islamic school failing teach pupil obligation british society muslim council britain said ofsted bos bell comment highly irresponsible home office started work community cohesion race equality strategy last year outcome launched wednesday called improving opportunity strengthening society aimed tackling racism exclusion segregation rise political religious extremism represents move away size fit approach focus specific within cultural group said home office spokesman right black ethnic minority group must disadvantaged spokesman highlighted specific issue affect particular community example people south asian origin tend suffer high incidence heart disease drilling focusing sort problem spokesman added launching initiative clarke said enormous progress made race issue recent year added many member black minority ethnic community thriving still find harder succeed employment gain access healthcare education housing strategy set government commitment identify respond specific need minority society population described coming white ethnic minority census downing street strategy unit said people indian chinese background well average often outperforming white people education earnings pakistani bangladeshi black caribbean origin significantly likely unemployed earn le white said home office want initiative promote sense belonging encouraging young people take part voluntary work programme designed support citizenship lesson already taking place school\n",
      "\n",
      "2. Similarity Score: 0.0000\n",
      " wale want rugby league training wale could follow england lead training rugby league club england already three session leeds rhino wale thought interested similar clinic rival helen saint coach millward given approval happen unlikely season saint week training portugal next week wale play england opening nation match february approach wale confirmed saint spokesman early stage something giving serious consideration helen proud welsh connection obvious partner welsh rugby union despite spat collapse kieron cunningham proposed move union side swansea similar cross code deal took iestyn harris leeds cardiff talented stand returned code bradford bull coslett famously moved wale league currently saint football manager clive griffith wale defensive coach former helen player thought behind latest initiative scott gibbs former wale lion centre played helen challenge winning team wembley\n",
      "\n",
      "3. Similarity Score: 0.0000\n",
      " gadget market grow explosion consumer technology continue delegate world largest gadget show vega told number gadget shop predicted grow device talk become increasingly important everything going digital kirsten pfeifer consumer electronics association told news website consumer electronics show featured pick product consumer controlling want technology like hdtv high definition digital radio digital camera remain strong product show really showed breadth depth industry despite showing diversity delegate attending complained showcase lacked much factor previous year portable technology show also reflected buzzword time place shifting multimedia content able watch listen video music anywhere time start last year predicted would average growth figure surpassed rise popularity portable digital music player personal video recorder digital camera clear also gadget becoming lifestyle choice fashion personalisation becoming increasingly gadget designed part rise spending power generation grown technology spending power desire device suit consumer electronics market made female buyer according research hybrid device combine number multimedia function also evidence show floor driven ability said stephen baker consumer electronics analyst retail research firm group function cost next nothing well show floor showcasing everything tiny wearable player giant high definition several keynote speech made industry leader microsoft chief bill gate despite several embarrassing technical glitch gate show speech announced several partnership mainly market unveiled way letting people take show recorded personal video recorder watch back portable device disappointed however failing announce detail next generation xbox game console another disappointment lack exposure sony portable game device show sony said much anticipated gadget would likely start shipping march europe went sale japan christmas psps embedded glass cabinet show though representative discus detail sony representative told news website sony consider part consumer technology offering elsewhere show plethora colour plasma screen including samsung inch metre plasma largest world industry expert also excited high definition technology coming fore format dvd coming hold time much data conventional dvd many device move product show offering external storage like seagate pocket sized external hard drive innovation engineering design prize trade professional attended vega officially january\n",
      "\n",
      "4. Similarity Score: 0.0000\n",
      " fear help france laporte france coach bernard laporte belief team scared going game england sunday claim work favour french turned stuttering performance limped scotland opening match nation saturday twickenham little fear give boost said french coach added never good enough favourite meanwhile perpignan centre jean philippe granclaude delighted received first call france squad incredible youngster said expecting playing france team always dream come true face england twickenham nation laporte announce starting line wednesday french team training centre marcoussis near paris\n",
      "\n",
      "5. Similarity Score: 0.0000\n",
      " bank voted rate change decision keep interest rate hold earlier month passed bank england rate setting body minute shown member bank monetary policy committee paul tucker voted raise rate news surprised analyst expected latest minute show another unanimous decision worry growth rate consumer spending behind decision freeze rate minute showed bank latest inflation report released last week noted main reason inflation might fall weaker consumer spending however member paul tucker voted quarter point rise interest rate argued economic growth picking equity credit housing market stronger expected bank minute said risk inflation forecast sufficiently downside keep rate hold latest meeting however minute added member noted increase might warranted course economy evolved line central projection ross walker economist royal bank scotland said surprised dissenting vote made soon said minute appeared trying market focus possibility rise rate economy pan expect probably going hike rate however added rate increase likely happen later year member likely look sustainable pick consumer spending acting\n",
      "\n",
      "6. Similarity Score: 0.0000\n",
      " show unites angolan family angolan family attempting track separated nearly year succeeding thanks hugely popular show meeting point become angola watched programme reunited hundred family run daily television also radio every friday hundred people gather luanda independence square record message front camera hope lost relative many relative reunited beginning absolute explosion huge huge crowd sergio gera programme chief ordinator told world service assignment programme thing little calmer slightly le people half year broadcasting still people going medium southern african country twice size france gripped quest many people find relative hundred thousand people died angola year civil finally ended ten thousand people still missing many heard anything year angolan family lost someone idea recording independence square modelled square argentine capital buenos aries mother talk dead missing exchange news woman victoria lapete found sister remaining member family independence square live meeting point seen sibling year threw arm told assignment started felt happy spent long without family suddenly sister however angola poorest country africa number people access either television radio comparatively mean elsewhere country task reuniting family lie primarily international committee cross icrc city wambo icrc run gazetta page tabloid size book contains name missing displaced task made much harder huge number landmines dotted around country difficult many displaced stated joaquim sahundi head tracing wambo back home others trying relocate relative many people getting injured village bush clearance mine people crossing area step mine icrc also us medium running four daily broadcast list missing radio angola meanwhile remain massive challenge angolan family even reunited programme family reunification extremely important family remain reunified social integration access education healthcare said rafael marque democracy george soros foundation southern africa essentially government waiting international community reconstruction persistently calling donor conference detaching political responsibility\n",
      "\n",
      "7. Similarity Score: 0.0000\n",
      " mourinho plot impressive course chelsea fulham confirming position premiership summit prof everything place mount serious challenge front season strength depth great player outstanding manager jose mourinho finance club world match need prize know difficult part thing certain position make leap success impressively indeed beat tough everton stamford bridge newcastle carling fulham great result given showing good form said winning major honour hardest task mourinho manager make whole easier handle anticipation expectation come mourinho biggest club prize champion league track record confidence transmits player priceless commodity anything highly impressed mourinho regarded touch arrogant people maybe appear silverware back talk mourinho simply talk good game game champion league final porto criticise talk word backed action also found realistic whenever heard spent money seems working remember lot manager spent money worked buy integrating arjen robben player giving extra dimension early game slaughtered defensive tactic winning game cannot title early season certainly lose point board vital also thought criticism harsh even though scoring goal creating chance hatful taking chance double threat robben damien duff thing looking good wonder lack predator particularly didier drogba injured starting look part sidelined feel chelsea ruud nistelrooy would even safe title chelsea also tool champion league felt would never better chance last season swept europe season interesting mourinho prioritises thing life made easier size chelsea squad said believed chelsea would league season even arsenal flying start seen nothing make change mind anything seen confirmed early impression chelsea would taken encouragement arsenal rocky defensive display spur even though winner mourinho game complaining five four hockey score football score three three training match score reach send player back dressing room defending properly result like game disgraceful serious note game merely confirmed importance campbell arsenal much criticism aimed pascal cygan believe problem lie absence campbell overall effect arsenal defence confidence crucial factor defending start conceding goal suddenly chill bone every time ball come penalty area think find worst fear confirmed arsenal need reverse process without campbell clean sheet board return campbell solidifies unit pace powerful deck vastly experienced calming influence around campbell pull together back get defence playing unit chelsea problem present would still place money edge arsenal champion season\n",
      "\n",
      "8. Similarity Score: 0.0000\n",
      " parmalat bank barred suing bank america banned suing parmalat food group went bust accounting scandal bank along investor auditor group manager want damage victim fraud hand italian firm judge barred bank america auditor case bank italaudit formerly italian auditor grant thornton face lawsuit possible prosecution second auditor deloitte touche also banned case grant thornton italian unit centre case still permitted consob italy stock market regulator hundred small investor parmalat manager parmalat collapsed december emerged euro supposedly held bank american offshore account fact exist\n",
      "\n",
      "9. Similarity Score: 0.0000\n",
      " camera phone must have four time mobile camera sold europe last year say report analyst gartner globally number sold reach million increase report predicts nearly mobile phone sold built camera improving imaging technology mobile making increasingly must europe camera mobile take megapixel image japan asia pacific camera phone technology much advanced mobile already released take megapixel image japan still dominates mobile phone technology uptake huge according gartner mobile sold camera camera phone teething problem first launched people struggled poor quality image us well complexity expense sending multimedia messaging service changed last month handset maker concentrated trying make phone easier realising people like camera phone different way introduced design feature like rotating screen viewfinder removable memory card easier control send picture message mobile company introduced way people share photo people included giving people easier way publish website mobile blog moblogs report suggests image quality increase people interested printing picture kiosk image sensor technology inside camera phone improving gartner report suggests likely image resolution camera phone megapixels consumer digital camera image range four megapixels quality megapixels high camera work done make camera phone like digital camera handset already feature limited zoom capability manufacturer looking technological improvement people take photo poorly condition like nightclub development include wide angle mode basic editing feature better sensor processor recording film clip image camera phone even made world exhibition next month charity mencap feature snap taken camera phone artist exhibition fonetography feature image taken photographer david bailey rankin goldin artist peter blake tracey emin jack vettriano us worried many organisation intel samsung foreign office lawrence livermore national laboratory decided camera phone building fear sensitive information snapped leaked many school fitness centre local council also banned fear privacy misuse italy information commissioner also voiced concern issued guideline phone used camera phone fear dampened manufacturer profit according recent figure sony ericsson profit tripled third quarter camera phone mobile sold three month september featured integrated camera said\n",
      "\n",
      "10. Similarity Score: 0.0000\n",
      " swiss cement firm buying spree swiss cement firm holcim indian cement firm holding company country plan associated cement company ambuja cement eastern holding firm ambuja cement india holcim statement said share fell investor thought offer underpriced decided sell meanwhile based firm aggregate industry said agreed takeover holcim deal aggregate give holcim world second biggest cement maker entry market boost presence peter remain aggregate chief executive said share offer provided significant value shareholder markfield leicestershire based company run quarry also ready mixed concrete plant asphalt plant cast concrete factory indian deal ahead give holcim major presence world fastest growing market behind china india second largest cement maker annual capacity million tonne market share holcim looking cheap said mittal fund manager escort mutual fund delhi market impressed want substantial chunk paying premium market price share holcim rose thursday following news takeover\n",
      "\n"
     ]
    }
   ],
   "source": [
    "# Print or use user_relevant_documents as needed\n",
    "for user_id, relevant_documents in user_relevant_documents.items():\n",
    "    print(f\"User {user_id} relevant documents:\")\n",
    "    for i, (document, similarity_score) in enumerate(relevant_documents, 1):\n",
    "        print(f\"{i}. Similarity Score: {similarity_score:.4f}\\n {document}\\n\")\n"
   ]
  },
  {
   "cell_type": "code",
   "execution_count": 24,
   "id": "0eb21beb",
   "metadata": {},
   "outputs": [
    {
     "ename": "TypeError",
     "evalue": "'type' object is not subscriptable",
     "output_type": "error",
     "traceback": [
      "\u001b[1;31m---------------------------------------------------------------------------\u001b[0m",
      "\u001b[1;31mTypeError\u001b[0m                                 Traceback (most recent call last)",
      "\u001b[1;32m<ipython-input-24-25c3fff0ce46>\u001b[0m in \u001b[0;36m<module>\u001b[1;34m\u001b[0m\n\u001b[1;32m----> 1\u001b[1;33m \u001b[1;32mfrom\u001b[0m \u001b[0mevaltools\u001b[0m \u001b[1;32mimport\u001b[0m \u001b[0mevaluate\u001b[0m\u001b[1;33m,\u001b[0m \u001b[0mgen_eval_dataset\u001b[0m\u001b[1;33m\u001b[0m\u001b[1;33m\u001b[0m\u001b[0m\n\u001b[0m",
      "\u001b[1;32m~\\Documents\\UNIVERSIDAD\\Semestre2\\information extraction\\repository\\information-retrieval\\assignment1\\evaltools\\__init__.py\u001b[0m in \u001b[0;36m<module>\u001b[1;34m\u001b[0m\n\u001b[1;32m----> 1\u001b[1;33m \u001b[1;32mfrom\u001b[0m \u001b[1;33m.\u001b[0m\u001b[0mevaltools\u001b[0m \u001b[1;32mimport\u001b[0m \u001b[0mevaluate\u001b[0m\u001b[1;33m\u001b[0m\u001b[1;33m\u001b[0m\u001b[0m\n\u001b[0m",
      "\u001b[1;32m~\\Documents\\UNIVERSIDAD\\Semestre2\\information extraction\\repository\\information-retrieval\\assignment1\\evaltools\\evaltools.py\u001b[0m in \u001b[0;36m<module>\u001b[1;34m\u001b[0m\n\u001b[0;32m      4\u001b[0m \u001b[1;33m\u001b[0m\u001b[0m\n\u001b[0;32m      5\u001b[0m \u001b[1;33m\u001b[0m\u001b[0m\n\u001b[1;32m----> 6\u001b[1;33m def generate_relevance_array(relevance_map: dict[set[str], set[str]], categories: Series, relevant_value: int = 1,\n\u001b[0m\u001b[0;32m      7\u001b[0m                              non_relevant_value: int = -1) -> np.ndarray[list[int]]:\n\u001b[0;32m      8\u001b[0m     \"\"\"\n",
      "\u001b[1;31mTypeError\u001b[0m: 'type' object is not subscriptable"
     ]
    }
   ],
   "source": [
    "from evaltools import evaluate, gen_eval_dataset"
   ]
  },
  {
   "cell_type": "markdown",
   "id": "fce7f083",
   "metadata": {},
   "source": [
    "evaluar cin la funcion del profesor"
   ]
  },
  {
   "cell_type": "code",
   "execution_count": 25,
   "id": "9063dbb5",
   "metadata": {},
   "outputs": [
    {
     "ename": "NameError",
     "evalue": "name 'gen_eval_dataset' is not defined",
     "output_type": "error",
     "traceback": [
      "\u001b[1;31m---------------------------------------------------------------------------\u001b[0m",
      "\u001b[1;31mNameError\u001b[0m                                 Traceback (most recent call last)",
      "\u001b[1;32m<ipython-input-25-da57f8e09a4c>\u001b[0m in \u001b[0;36m<module>\u001b[1;34m\u001b[0m\n\u001b[0;32m      2\u001b[0m \u001b[1;32mfor\u001b[0m \u001b[0muser_id\u001b[0m\u001b[1;33m,\u001b[0m \u001b[0mrelevant_documents\u001b[0m \u001b[1;32min\u001b[0m \u001b[0muser_relevant_documents\u001b[0m\u001b[1;33m.\u001b[0m\u001b[0mitems\u001b[0m\u001b[1;33m(\u001b[0m\u001b[1;33m)\u001b[0m\u001b[1;33m:\u001b[0m\u001b[1;33m\u001b[0m\u001b[1;33m\u001b[0m\u001b[0m\n\u001b[0;32m      3\u001b[0m     \u001b[1;31m# Extracting query and relevance judgements for evaluation\u001b[0m\u001b[1;33m\u001b[0m\u001b[1;33m\u001b[0m\u001b[1;33m\u001b[0m\u001b[0m\n\u001b[1;32m----> 4\u001b[1;33m     \u001b[0mQ\u001b[0m\u001b[1;33m,\u001b[0m \u001b[0mR\u001b[0m \u001b[1;33m=\u001b[0m \u001b[0mgen_eval_dataset\u001b[0m\u001b[1;33m(\u001b[0m\u001b[0mlen\u001b[0m\u001b[1;33m(\u001b[0m\u001b[0mrelevant_documents\u001b[0m\u001b[1;33m)\u001b[0m\u001b[1;33m,\u001b[0m \u001b[0mnum_documents_to_retrieve\u001b[0m\u001b[1;33m)\u001b[0m\u001b[1;33m\u001b[0m\u001b[1;33m\u001b[0m\u001b[0m\n\u001b[0m\u001b[0;32m      5\u001b[0m \u001b[1;33m\u001b[0m\u001b[0m\n\u001b[0;32m      6\u001b[0m     \u001b[1;31m# Evaluate the recommended documents\u001b[0m\u001b[1;33m\u001b[0m\u001b[1;33m\u001b[0m\u001b[1;33m\u001b[0m\u001b[0m\n",
      "\u001b[1;31mNameError\u001b[0m: name 'gen_eval_dataset' is not defined"
     ]
    }
   ],
   "source": [
    "# Now, let's evaluate the recommended documents for each user\n",
    "for user_id, relevant_documents in user_relevant_documents.items():\n",
    "    # Extracting query and relevance judgements for evaluation\n",
    "    Q, R = gen_eval_dataset(len(relevant_documents), num_documents_to_retrieve)\n",
    "    \n",
    "    # Evaluate the recommended documents\n",
    "    evaluate('all', Q, R)"
   ]
  },
  {
   "cell_type": "markdown",
   "id": "bd92dbc45892251f",
   "metadata": {},
   "source": [
    "# Using word embeddings"
   ]
  },
  {
   "cell_type": "code",
   "execution_count": 20,
   "id": "8284385b",
   "metadata": {},
   "outputs": [],
   "source": [
    "from gensim.models.doc2vec import Doc2Vec, TaggedDocument\n",
    "# Datos de ejemplo (debes reemplazarlos con tus propios datos)\n",
    "documents = all_documents\n",
    "\n",
    "# Tokenizar los documentos y crear objetos TaggedDocument\n",
    "tagged_data = [TaggedDocument(words=doc.split(), tags=[str(i)]) for i, doc in enumerate(documents)]\n",
    "# Entrenar el modelo Doc2Vec\n",
    "\n",
    "model = Doc2Vec(window=5, min_count=1, workers=4, epochs=20)\n",
    "model.build_vocab(tagged_data)\n",
    "model.train(tagged_data, total_examples=model.corpus_count, epochs=model.epochs)\n",
    "\n",
    "document_embeddings = [model.docvecs[str(i)] for i in range(len(documents))]\n",
    "\n",
    "# Process user queries\n",
    "for user_id, interests in user_interests.items():\n",
    "#     interests preprocesamiento\n",
    "    # Aggregate word embeddings for the user's interests to generate the query embedding\n",
    "    interests = lemmatizer.lemmatize(''.join(interests))\n",
    "    #     interests = stemmer.stem(''.join(interests))\n",
    "#     interests = stemmer.(interests)\n",
    "    query_embedding = model.infer_vector([interests])\n",
    "    \n",
    "    cosine_similarities = cosine_similarity([query_embedding], document_embeddings)[0]\n",
    "\n",
    "    top_k=10\n",
    "    top_documents_indices = cosine_similarities.argsort()[-top_k:][::-1]\n",
    "    top_documents = [(documents[i], similarity_scores[i]) for i in top_documents_indices]\n",
    "    \n",
    "    \n",
    "    # Store relevant documents for evaluation\n",
    "    user_relevant_documents[user_id] = top_documents\n",
    "    \n",
    "    # Print or process relevant documents\n",
    "    print(\"User\", user_id, \"Interests:\", interests)\n",
    "    for doc, score in relevant_documents:\n",
    "        print(\"Document:\", doc, \"Similarity Score:\", score)"
   ]
  },
  {
   "cell_type": "markdown",
   "id": "35241b1e",
   "metadata": {},
   "source": [
    "# WORD EMBERDDINGS"
   ]
  },
  {
   "cell_type": "code",
   "execution_count": null,
   "id": "8284385b",
   "metadata": {},
   "outputs": [],
   "source": [
    "import numpy as np\n",
    "from sklearn.metrics.pairwise import cosine_similarity\n",
    "import gensim.downloader as api\n",
    "\n",
    "# Load pre-trained word embeddings\n",
    "word_embeddings_model = api.load(\"word2vec-google-news-300\")\n"
   ]
  },
  {
   "cell_type": "code",
   "execution_count": 26,
   "id": "eb03fa80",
   "metadata": {},
   "outputs": [],
   "source": [
    "# Function to generate document embeddings\n",
    "def generate_document_embeddings(documents, word_embeddings_model):\n",
    "    document_embeddings = []\n",
    "    for doc in documents:\n",
    "        # Aggregate word embeddings (e.g., by averaging)\n",
    "        words = doc.split()\n",
    "        embeddings = [word_embeddings_model[word] for word in words if word in word_embeddings_model]\n",
    "        if embeddings:\n",
    "            doc_embedding = np.mean(embeddings, axis=0)  # Average embeddings\n",
    "            document_embeddings.append(doc_embedding)\n",
    "    return np.array(document_embeddings)\n",
    "\n",
    "# Function to retrieve relevant documents for a query\n",
    "def retrieve_documents(query_embedding, document_embeddings, documents, top_k=10):\n",
    "    similarity_scores = cosine_similarity(query_embedding.reshape(1, -1), document_embeddings)[0]\n",
    "    top_documents_indices = similarity_scores.argsort()[-top_k:][::-1]\n",
    "    top_documents = [(documents[i], similarity_scores[i]) for i in top_documents_indices]\n",
    "    return top_documents"
   ]
  },
  {
   "cell_type": "code",
   "execution_count": 28,
   "id": "93536f59",
   "metadata": {},
   "outputs": [
    {
     "ename": "ValueError",
     "evalue": "setting an array element with a sequence. The requested array has an inhomogeneous shape after 1 dimensions. The detected shape was (2225,) + inhomogeneous part.",
     "output_type": "error",
     "traceback": [
      "\u001b[1;31m---------------------------------------------------------------------------\u001b[0m",
      "\u001b[1;31mValueError\u001b[0m                                Traceback (most recent call last)",
      "Cell \u001b[1;32mIn[28], line 4\u001b[0m\n\u001b[0;32m      2\u001b[0m documents \u001b[38;5;241m=\u001b[39m data[\u001b[38;5;124m'\u001b[39m\u001b[38;5;124mText\u001b[39m\u001b[38;5;124m'\u001b[39m]\n\u001b[0;32m      3\u001b[0m \u001b[38;5;66;03m# Generate document embeddings\u001b[39;00m\n\u001b[1;32m----> 4\u001b[0m document_embeddings \u001b[38;5;241m=\u001b[39m generate_document_embeddings(documents, word_embeddings_model)\n\u001b[0;32m      6\u001b[0m \u001b[38;5;66;03m# Process user queries\u001b[39;00m\n\u001b[0;32m      7\u001b[0m \u001b[38;5;28;01mfor\u001b[39;00m user_id, interests \u001b[38;5;129;01min\u001b[39;00m user_interests\u001b[38;5;241m.\u001b[39mitems():\n\u001b[0;32m      8\u001b[0m     \u001b[38;5;66;03m# Aggregate word embeddings for the user's interests to generate the query embedding\u001b[39;00m\n",
      "Cell \u001b[1;32mIn[26], line 11\u001b[0m, in \u001b[0;36mgenerate_document_embeddings\u001b[1;34m(documents, word_embeddings_model)\u001b[0m\n\u001b[0;32m      9\u001b[0m         doc_embedding \u001b[38;5;241m=\u001b[39m np\u001b[38;5;241m.\u001b[39mmean(embeddings, axis\u001b[38;5;241m=\u001b[39m\u001b[38;5;241m1\u001b[39m)  \u001b[38;5;66;03m# Average embeddings\u001b[39;00m\n\u001b[0;32m     10\u001b[0m         document_embeddings\u001b[38;5;241m.\u001b[39mappend(doc_embedding)\n\u001b[1;32m---> 11\u001b[0m \u001b[38;5;28;01mreturn\u001b[39;00m np\u001b[38;5;241m.\u001b[39marray(document_embeddings)\n",
      "\u001b[1;31mValueError\u001b[0m: setting an array element with a sequence. The requested array has an inhomogeneous shape after 1 dimensions. The detected shape was (2225,) + inhomogeneous part."
     ]
    }
   ],
   "source": [
    "\n",
    "# Example documents \n",
    "documents = data['Text']\n",
    "# Generate document embeddings\n",
    "document_embeddings = generate_document_embeddings(documents, word_embeddings_model)\n",
    "\n",
    "# Process user queries\n",
    "for user_id, interests in user_interests.items():\n",
    "    # Aggregate word embeddings for the user's interests to generate the query embedding\n",
    "    query_embedding = np.mean([word_embeddings_model[word] for interest in interests for word in interest.split() if word in word_embeddings_model], axis=0)\n",
    "    \n",
    "    # Retrieve relevant documents for the user's query\n",
    "    relevant_documents = retrieve_documents(query_embedding, document_embeddings, documents)\n",
    "\n",
    "    # Store relevant documents for evaluation\n",
    "    user_relevant_documents[user_id] = relevant_documents\n",
    "    \n",
    "    # Print or process relevant documents\n",
    "    print(\"User\", user_id, \"Interests:\", interests)\n",
    "    for doc, score in relevant_documents:\n",
    "        print(\"     Document:\", doc, \"Similarity Score:\", score)\n",
    "    "
   ]
  },
  {
   "cell_type": "markdown",
   "id": "cd2dfde4",
   "metadata": {},
   "source": [
    "     Document: munster switched spain munster heineken quarter final biarritz april switched real sociedad paseo anoeta stadium sebastian real ground hold whereas parc sport aguilera biarritz capacity irish province given least ticket decision move difficult considered fan primary objective said biarritz chairman marcel martin hope rewarded huge crowd behaving best rugby tradition match first heineken fixture played spain expected attract biggest ever attendance rugby match country ulster last irish team play paseo anoeta stadium faced euskarians side season tour Similarity Score: 0.5979421\n"
   ]
  },
  {
   "cell_type": "code",
   "execution_count": null,
   "id": "10bda442",
   "metadata": {},
   "outputs": [],
   "source": [
    "user_relevant_documents"
   ]
  },
  {
   "cell_type": "code",
   "execution_count": null,
   "id": "54c8e3fc",
   "metadata": {},
   "outputs": [],
   "source": [
    "for user_id, interests in user_interests.items():\n",
    "    print(interests)"
   ]
  },
  {
   "cell_type": "code",
   "execution_count": null,
   "id": "af0650d3",
   "metadata": {},
   "outputs": [],
   "source": [
    "from evaltools import evaluate\n",
    "# Initialize Q and R\n",
    "Q = []\n",
    "R = []\n",
    "\n",
    "# Process user queries\n",
    "for user_id, interests in user_interests.items():\n",
    "    # Aggregate word embeddings for the user's interests to generate the query embedding\n",
    "    query_embedding = np.mean([word_embeddings_model[word] for interest in interests for word in interest.split() if word in word_embeddings_model], axis=0)\n",
    "    \n",
    "    # Retrieve relevant documents for the user's query\n",
    "    relevant_documents = retrieve_documents(query_embedding, document_embeddings, documents)\n",
    "\n",
    "    # Store relevant documents for evaluation\n",
    "    user_relevant_documents[user_id] = relevant_documents\n",
    "    \n",
    "    # Add user's interests to Q\n",
    "    Q.append(interests)\n",
    "    \n",
    "    # Add relevant documents to R\n",
    "    R.append([score for doc, score in relevant_documents])\n",
    "# Now you can call the evaluate function\n",
    "evaluate('all', Q, R)"
   ]
  }
 ],
 "metadata": {
  "kernelspec": {
   "display_name": "Python 3",
   "language": "python",
   "name": "python3"
  },
  "language_info": {
   "codemirror_mode": {
    "name": "ipython",
    "version": 3
   },
   "file_extension": ".py",
   "mimetype": "text/x-python",
   "name": "python",
   "nbconvert_exporter": "python",
   "pygments_lexer": "ipython3",
   "version": "3.8.8"
  }
 },
 "nbformat": 4,
 "nbformat_minor": 5
}

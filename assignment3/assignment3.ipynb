{
 "cells": [
  {
   "cell_type": "code",
   "execution_count": 276,
   "id": "initial_id",
   "metadata": {
    "collapsed": true,
    "ExecuteTime": {
     "end_time": "2024-03-03T20:00:36.895126Z",
     "start_time": "2024-03-03T20:00:35.790511Z"
    }
   },
   "outputs": [
    {
     "name": "stdout",
     "output_type": "stream",
     "text": [
      "Requirement already satisfied: scikit-learn in /Users/serms/.config/python_envs/information-retrieval/lib/python3.12/site-packages (1.4.1.post1)\r\n",
      "Requirement already satisfied: matplotlib in /Users/serms/.config/python_envs/information-retrieval/lib/python3.12/site-packages (3.8.2)\r\n",
      "Requirement already satisfied: pandas in /Users/serms/.config/python_envs/information-retrieval/lib/python3.12/site-packages (2.2.1)\r\n",
      "Requirement already satisfied: openpyxl in /Users/serms/.config/python_envs/information-retrieval/lib/python3.12/site-packages (3.1.2)\r\n",
      "Requirement already satisfied: numpy<2.0,>=1.19.5 in /Users/serms/.config/python_envs/information-retrieval/lib/python3.12/site-packages (from scikit-learn) (1.26.4)\r\n",
      "Requirement already satisfied: scipy>=1.6.0 in /Users/serms/.config/python_envs/information-retrieval/lib/python3.12/site-packages (from scikit-learn) (1.12.0)\r\n",
      "Requirement already satisfied: joblib>=1.2.0 in /Users/serms/.config/python_envs/information-retrieval/lib/python3.12/site-packages (from scikit-learn) (1.3.2)\r\n",
      "Requirement already satisfied: threadpoolctl>=2.0.0 in /Users/serms/.config/python_envs/information-retrieval/lib/python3.12/site-packages (from scikit-learn) (3.3.0)\r\n",
      "Requirement already satisfied: contourpy>=1.0.1 in /Users/serms/.config/python_envs/information-retrieval/lib/python3.12/site-packages (from matplotlib) (1.2.0)\r\n",
      "Requirement already satisfied: cycler>=0.10 in /Users/serms/.config/python_envs/information-retrieval/lib/python3.12/site-packages (from matplotlib) (0.12.1)\r\n",
      "Requirement already satisfied: fonttools>=4.22.0 in /Users/serms/.config/python_envs/information-retrieval/lib/python3.12/site-packages (from matplotlib) (4.48.1)\r\n",
      "Requirement already satisfied: kiwisolver>=1.3.1 in /Users/serms/.config/python_envs/information-retrieval/lib/python3.12/site-packages (from matplotlib) (1.4.5)\r\n",
      "Requirement already satisfied: packaging>=20.0 in /Users/serms/.config/python_envs/information-retrieval/lib/python3.12/site-packages (from matplotlib) (23.2)\r\n",
      "Requirement already satisfied: pillow>=8 in /Users/serms/.config/python_envs/information-retrieval/lib/python3.12/site-packages (from matplotlib) (10.2.0)\r\n",
      "Requirement already satisfied: pyparsing>=2.3.1 in /Users/serms/.config/python_envs/information-retrieval/lib/python3.12/site-packages (from matplotlib) (3.1.1)\r\n",
      "Requirement already satisfied: python-dateutil>=2.7 in /Users/serms/.config/python_envs/information-retrieval/lib/python3.12/site-packages (from matplotlib) (2.8.2)\r\n",
      "Requirement already satisfied: pytz>=2020.1 in /Users/serms/.config/python_envs/information-retrieval/lib/python3.12/site-packages (from pandas) (2024.1)\r\n",
      "Requirement already satisfied: tzdata>=2022.7 in /Users/serms/.config/python_envs/information-retrieval/lib/python3.12/site-packages (from pandas) (2024.1)\r\n",
      "Requirement already satisfied: et-xmlfile in /Users/serms/.config/python_envs/information-retrieval/lib/python3.12/site-packages (from openpyxl) (1.1.0)\r\n",
      "Requirement already satisfied: six>=1.5 in /Users/serms/.config/python_envs/information-retrieval/lib/python3.12/site-packages (from python-dateutil>=2.7->matplotlib) (1.16.0)\r\n"
     ]
    }
   ],
   "source": [
    "# Install the required packages\n",
    "!pip install scikit-learn matplotlib pandas openpyxl"
   ]
  },
  {
   "cell_type": "markdown",
   "source": [
    "# Set labels for each document"
   ],
   "metadata": {
    "collapsed": false
   },
   "id": "8f6e4896e53bd2f2"
  },
  {
   "cell_type": "code",
   "outputs": [],
   "source": [
    "import pandas as pd\n",
    "from sklearn.feature_extraction.text import TfidfVectorizer\n",
    "from sklearn.metrics.pairwise import cosine_similarity"
   ],
   "metadata": {
    "collapsed": false,
    "ExecuteTime": {
     "end_time": "2024-03-03T20:00:36.899218Z",
     "start_time": "2024-03-03T20:00:36.896699Z"
    }
   },
   "id": "55f5da7402b541f5",
   "execution_count": 277
  },
  {
   "cell_type": "code",
   "outputs": [],
   "source": [
    "def get_similarity(query: str, document: list[str]) -> float:\n",
    "    document_tf_idf = TfidfVectorizer().fit_transform(document)\n",
    "    query_tf_idf = TfidfVectorizer().fit(document)\n",
    "    query_tf_idf = query_tf_idf.transform([query])\n",
    "    \n",
    "    cosine_similarities = cosine_similarity(query_tf_idf, document_tf_idf).flatten()\n",
    "    return max(cosine_similarities)"
   ],
   "metadata": {
    "collapsed": false,
    "ExecuteTime": {
     "end_time": "2024-03-03T20:00:36.902667Z",
     "start_time": "2024-03-03T20:00:36.900212Z"
    }
   },
   "id": "9d17e1e594aa57",
   "execution_count": 278
  },
  {
   "cell_type": "code",
   "outputs": [],
   "source": [
    "def encode_sentence(sentence: str, encoder_model) -> float:\n",
    "    tfidf_array = encoder_model.transform([sentence]).toarray().flatten()\n",
    "    return sum(tfidf_array) / len(tfidf_array)"
   ],
   "metadata": {
    "collapsed": false,
    "ExecuteTime": {
     "end_time": "2024-03-03T20:00:36.906610Z",
     "start_time": "2024-03-03T20:00:36.904383Z"
    }
   },
   "id": "e071728dab740c83",
   "execution_count": 279
  },
  {
   "cell_type": "code",
   "outputs": [
    {
     "data": {
      "text/plain": "                                            long_common_name  \\\nloinc_num                                                      \n1988-5     C reactive protein [Mass/volume] in Serum or P...   \n1959-6                   Bicarbonate [Moles/volume] in Blood   \n10331-7                                   Rh [Type] in Blood   \n18998-5       Trimethoprim+Sulfamethoxazole [Susceptibility]   \n1975-2      Bilirubin.total [Mass/volume] in Serum or Plasma   \n890-4      Blood group antibody screen [Presence] in Seru...   \n20565-8        Carbon dioxide, total [Moles/volume] in Blood   \n18906-8                       Ciprofloxacin [Susceptibility]   \n2143-6             Cortisol [Mass/volume] in Serum or Plasma   \n2075-0            Chloride [Moles/volume] in Serum or Plasma   \n\n                               component    system property  \nloinc_num                                                    \n1988-5                C reactive protein  Ser/Plas     MCnc  \n1959-6                       Bicarbonate       Bld     SCnc  \n10331-7                               Rh       Bld     Type  \n18998-5    Trimethoprim+Sulfamethoxazole   Isolate     Susc  \n1975-2                         Bilirubin  Ser/Plas     MCnc  \n890-4        Blood group antibody screen  Ser/Plas     ACnc  \n20565-8                   Carbon dioxide       Bld     SCnc  \n18906-8                    Ciprofloxacin   Isolate     Susc  \n2143-6                          Cortisol  Ser/Plas     MCnc  \n2075-0                          Chloride  Ser/Plas     SCnc  ",
      "text/html": "<div>\n<style scoped>\n    .dataframe tbody tr th:only-of-type {\n        vertical-align: middle;\n    }\n\n    .dataframe tbody tr th {\n        vertical-align: top;\n    }\n\n    .dataframe thead th {\n        text-align: right;\n    }\n</style>\n<table border=\"1\" class=\"dataframe\">\n  <thead>\n    <tr style=\"text-align: right;\">\n      <th></th>\n      <th>long_common_name</th>\n      <th>component</th>\n      <th>system</th>\n      <th>property</th>\n    </tr>\n    <tr>\n      <th>loinc_num</th>\n      <th></th>\n      <th></th>\n      <th></th>\n      <th></th>\n    </tr>\n  </thead>\n  <tbody>\n    <tr>\n      <th>1988-5</th>\n      <td>C reactive protein [Mass/volume] in Serum or P...</td>\n      <td>C reactive protein</td>\n      <td>Ser/Plas</td>\n      <td>MCnc</td>\n    </tr>\n    <tr>\n      <th>1959-6</th>\n      <td>Bicarbonate [Moles/volume] in Blood</td>\n      <td>Bicarbonate</td>\n      <td>Bld</td>\n      <td>SCnc</td>\n    </tr>\n    <tr>\n      <th>10331-7</th>\n      <td>Rh [Type] in Blood</td>\n      <td>Rh</td>\n      <td>Bld</td>\n      <td>Type</td>\n    </tr>\n    <tr>\n      <th>18998-5</th>\n      <td>Trimethoprim+Sulfamethoxazole [Susceptibility]</td>\n      <td>Trimethoprim+Sulfamethoxazole</td>\n      <td>Isolate</td>\n      <td>Susc</td>\n    </tr>\n    <tr>\n      <th>1975-2</th>\n      <td>Bilirubin.total [Mass/volume] in Serum or Plasma</td>\n      <td>Bilirubin</td>\n      <td>Ser/Plas</td>\n      <td>MCnc</td>\n    </tr>\n    <tr>\n      <th>890-4</th>\n      <td>Blood group antibody screen [Presence] in Seru...</td>\n      <td>Blood group antibody screen</td>\n      <td>Ser/Plas</td>\n      <td>ACnc</td>\n    </tr>\n    <tr>\n      <th>20565-8</th>\n      <td>Carbon dioxide, total [Moles/volume] in Blood</td>\n      <td>Carbon dioxide</td>\n      <td>Bld</td>\n      <td>SCnc</td>\n    </tr>\n    <tr>\n      <th>18906-8</th>\n      <td>Ciprofloxacin [Susceptibility]</td>\n      <td>Ciprofloxacin</td>\n      <td>Isolate</td>\n      <td>Susc</td>\n    </tr>\n    <tr>\n      <th>2143-6</th>\n      <td>Cortisol [Mass/volume] in Serum or Plasma</td>\n      <td>Cortisol</td>\n      <td>Ser/Plas</td>\n      <td>MCnc</td>\n    </tr>\n    <tr>\n      <th>2075-0</th>\n      <td>Chloride [Moles/volume] in Serum or Plasma</td>\n      <td>Chloride</td>\n      <td>Ser/Plas</td>\n      <td>SCnc</td>\n    </tr>\n  </tbody>\n</table>\n</div>"
     },
     "execution_count": 280,
     "metadata": {},
     "output_type": "execute_result"
    }
   ],
   "source": [
    "# Load the datasets and use the keys to store the query\n",
    "sheets = {}\n",
    "queries = []\n",
    "with pd.ExcelFile('data/loinc_dataset-v2_extended.xlsx') as xls:\n",
    "    queries.extend(xls.sheet_names)\n",
    "    for query in queries:\n",
    "        sheets[query] = pd.read_excel(xls, query, skiprows=2, header=0, index_col=0)\n",
    "        \n",
    "sheets[queries[0]].head(10)"
   ],
   "metadata": {
    "collapsed": false,
    "ExecuteTime": {
     "end_time": "2024-03-03T20:00:36.991383Z",
     "start_time": "2024-03-03T20:00:36.907531Z"
    }
   },
   "id": "70e91ff9b5c88cb6",
   "execution_count": 280
  },
  {
   "cell_type": "code",
   "outputs": [],
   "source": [
    "# Compute the similarity for each query\n",
    "for query in queries:\n",
    "    similarities = pd.Series([], dtype=float)\n",
    "    for index in sheets[query].index:\n",
    "        value = sheets[query].loc[index].values.flatten()\n",
    "        similarities[index] = get_similarity(query, value)\n",
    "    sheets[query]['similarity'] = similarities"
   ],
   "metadata": {
    "collapsed": false,
    "ExecuteTime": {
     "end_time": "2024-03-03T20:00:39.783617Z",
     "start_time": "2024-03-03T20:00:36.992272Z"
    }
   },
   "id": "1331dba65079b7c1",
   "execution_count": 281
  },
  {
   "cell_type": "code",
   "outputs": [],
   "source": [
    "# Save the results to a new file\n",
    "with pd.ExcelWriter('data/loinc_dataset-v2_similarity.xlsx') as writer:\n",
    "    for query in queries:\n",
    "        sheets[query].to_excel(writer, sheet_name=query, startrow=2, startcol=0, index=True)"
   ],
   "metadata": {
    "collapsed": false,
    "ExecuteTime": {
     "end_time": "2024-03-03T20:00:39.989160Z",
     "start_time": "2024-03-03T20:00:39.784469Z"
    }
   },
   "id": "efff6dc1503c2989",
   "execution_count": 282
  },
  {
   "cell_type": "markdown",
   "source": [
    "# Train a model to predict the similarity"
   ],
   "metadata": {
    "collapsed": false
   },
   "id": "cb15df4334e43ee8"
  },
  {
   "cell_type": "code",
   "outputs": [],
   "source": [
    "from sklearn.model_selection import train_test_split\n",
    "from sklearn.linear_model import BayesianRidge\n",
    "from sklearn.metrics import root_mean_squared_error"
   ],
   "metadata": {
    "collapsed": false,
    "ExecuteTime": {
     "end_time": "2024-03-03T20:00:39.991867Z",
     "start_time": "2024-03-03T20:00:39.989863Z"
    }
   },
   "id": "7b5affc7a4cb159f",
   "execution_count": 283
  },
  {
   "cell_type": "code",
   "outputs": [],
   "source": [
    "seed = 42"
   ],
   "metadata": {
    "collapsed": false,
    "ExecuteTime": {
     "end_time": "2024-03-03T20:00:39.994973Z",
     "start_time": "2024-03-03T20:00:39.992956Z"
    }
   },
   "id": "736d1ffdd255698d",
   "execution_count": 284
  },
  {
   "cell_type": "code",
   "outputs": [
    {
     "name": "stdout",
     "output_type": "stream",
     "text": [
      "             y_test    y_pred\n",
      "loinc_num                    \n",
      "49926-9    0.470059  0.548572\n",
      "49925-1    0.451421  0.548185\n",
      "15076-3    0.619130  0.745093\n",
      "14423-8    0.388614  0.538383\n",
      "74774-1    0.582846  0.391266\n",
      "23658-8    0.000000  0.527262\n",
      "18928-2    0.000000  0.527262\n",
      "59813-6    0.543812  0.543263\n",
      "94231-8    0.468602  0.476200\n",
      "27353-2    0.505900  0.545562\n",
      "Model for query = \"glucose in blood\" obtains an error: 0.23\n",
      "---------------------------------------------------------------------------\n",
      "             y_test    y_pred\n",
      "loinc_num                    \n",
      "1003-3     0.478651  0.529908\n",
      "14578-9    0.318388  0.478727\n",
      "6768-6     0.492569  0.525832\n",
      "1970-3     0.586489  0.505121\n",
      "934-0      0.000000 -0.166990\n",
      "883-9      0.508672  0.305203\n",
      "26478-8    0.508672  0.281229\n",
      "1988-5     0.525473  0.503351\n",
      "8310-5     0.000000 -0.258991\n",
      "1751-7     0.549584  0.508245\n",
      "Model for query = \"bilirubin in plasma\" obtains an error: 0.15\n",
      "---------------------------------------------------------------------------\n",
      "             y_test    y_pred\n",
      "loinc_num                    \n",
      "71606-8    0.312451  0.338921\n",
      "71695-1    0.516868  0.361645\n",
      "51830-8    0.504280  0.315315\n",
      "71671-2    0.465162  0.397298\n",
      "6290-1     0.000000  0.457370\n",
      "59463-0    0.000000  0.239973\n",
      "75356-6    0.437129  0.326815\n",
      "56960-8    0.351192  0.284878\n",
      "70037-7    0.437129  0.320019\n",
      "71624-1    0.312451  0.337931\n",
      "Model for query = \"White blood cells count\" obtains an error: 0.20\n",
      "---------------------------------------------------------------------------\n"
     ]
    }
   ],
   "source": [
    "models = {}\n",
    "for query in queries:\n",
    "    X = sheets[query].drop(columns=['similarity'])\n",
    "    y = sheets[query]['similarity']\n",
    "    \n",
    "    # Split the data into training and testing sets\n",
    "    X_train, X_test, y_train, y_test = train_test_split(X, y, test_size=0.3, random_state=seed)\n",
    "    \n",
    "    X_encoded = pd.DataFrame()\n",
    "    encoders = {}\n",
    "    for column in X_train.columns:\n",
    "        encoder = TfidfVectorizer()\n",
    "        encoder.fit(X_train[column])\n",
    "        X_encoded[column] = X_train[column].apply(lambda x: encode_sentence(x, encoder))\n",
    "        encoders[column] = encoder\n",
    "    \n",
    "    # Train the model\n",
    "    model = BayesianRidge()\n",
    "    model.fit(X_encoded, y_train)\n",
    "    \n",
    "    X_test_encoded = pd.DataFrame()\n",
    "    for column in X_test.columns:\n",
    "        X_test_encoded[column] = X_test[column].apply(lambda x: encode_sentence(x, encoders[column]))\n",
    "    \n",
    "    # Predict the similarity\n",
    "    y_pred = model.predict(X_test_encoded)\n",
    "    \n",
    "    # Evaluate the model\n",
    "    error = root_mean_squared_error(y_test, y_pred)\n",
    "    \n",
    "    print(pd.DataFrame({'y_test': y_test, 'y_pred': y_pred}).head(10))\n",
    "    \n",
    "    models[query] = model\n",
    "    print(f'Model for query = \\\"{query}\\\" obtains an error: {error:.2f}')\n",
    "    \n",
    "    print('-' * 75)\n",
    "    "
   ],
   "metadata": {
    "collapsed": false,
    "ExecuteTime": {
     "end_time": "2024-03-03T20:00:41.581098Z",
     "start_time": "2024-03-03T20:00:39.997268Z"
    }
   },
   "id": "f546d6181467e39c",
   "execution_count": 285
  }
 ],
 "metadata": {
  "kernelspec": {
   "display_name": "Python 3",
   "language": "python",
   "name": "python3"
  },
  "language_info": {
   "codemirror_mode": {
    "name": "ipython",
    "version": 2
   },
   "file_extension": ".py",
   "mimetype": "text/x-python",
   "name": "python",
   "nbconvert_exporter": "python",
   "pygments_lexer": "ipython2",
   "version": "2.7.6"
  }
 },
 "nbformat": 4,
 "nbformat_minor": 5
}

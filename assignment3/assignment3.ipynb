{
 "cells": [
  {
   "cell_type": "code",
   "execution_count": 77,
   "id": "initial_id",
   "metadata": {
    "collapsed": true,
    "ExecuteTime": {
     "end_time": "2024-03-02T18:39:39.265156Z",
     "start_time": "2024-03-02T18:39:38.043350Z"
    }
   },
   "outputs": [
    {
     "name": "stdout",
     "output_type": "stream",
     "text": [
      "Requirement already satisfied: scikit-learn in /Users/serms/.config/python_envs/information-retrieval/lib/python3.12/site-packages (1.4.1.post1)\r\n",
      "Requirement already satisfied: matplotlib in /Users/serms/.config/python_envs/information-retrieval/lib/python3.12/site-packages (3.8.2)\r\n",
      "Requirement already satisfied: pandas in /Users/serms/.config/python_envs/information-retrieval/lib/python3.12/site-packages (2.2.1)\r\n",
      "Requirement already satisfied: openpyxl in /Users/serms/.config/python_envs/information-retrieval/lib/python3.12/site-packages (3.1.2)\r\n",
      "Requirement already satisfied: numpy<2.0,>=1.19.5 in /Users/serms/.config/python_envs/information-retrieval/lib/python3.12/site-packages (from scikit-learn) (1.26.4)\r\n",
      "Requirement already satisfied: scipy>=1.6.0 in /Users/serms/.config/python_envs/information-retrieval/lib/python3.12/site-packages (from scikit-learn) (1.12.0)\r\n",
      "Requirement already satisfied: joblib>=1.2.0 in /Users/serms/.config/python_envs/information-retrieval/lib/python3.12/site-packages (from scikit-learn) (1.3.2)\r\n",
      "Requirement already satisfied: threadpoolctl>=2.0.0 in /Users/serms/.config/python_envs/information-retrieval/lib/python3.12/site-packages (from scikit-learn) (3.3.0)\r\n",
      "Requirement already satisfied: contourpy>=1.0.1 in /Users/serms/.config/python_envs/information-retrieval/lib/python3.12/site-packages (from matplotlib) (1.2.0)\r\n",
      "Requirement already satisfied: cycler>=0.10 in /Users/serms/.config/python_envs/information-retrieval/lib/python3.12/site-packages (from matplotlib) (0.12.1)\r\n",
      "Requirement already satisfied: fonttools>=4.22.0 in /Users/serms/.config/python_envs/information-retrieval/lib/python3.12/site-packages (from matplotlib) (4.48.1)\r\n",
      "Requirement already satisfied: kiwisolver>=1.3.1 in /Users/serms/.config/python_envs/information-retrieval/lib/python3.12/site-packages (from matplotlib) (1.4.5)\r\n",
      "Requirement already satisfied: packaging>=20.0 in /Users/serms/.config/python_envs/information-retrieval/lib/python3.12/site-packages (from matplotlib) (23.2)\r\n",
      "Requirement already satisfied: pillow>=8 in /Users/serms/.config/python_envs/information-retrieval/lib/python3.12/site-packages (from matplotlib) (10.2.0)\r\n",
      "Requirement already satisfied: pyparsing>=2.3.1 in /Users/serms/.config/python_envs/information-retrieval/lib/python3.12/site-packages (from matplotlib) (3.1.1)\r\n",
      "Requirement already satisfied: python-dateutil>=2.7 in /Users/serms/.config/python_envs/information-retrieval/lib/python3.12/site-packages (from matplotlib) (2.8.2)\r\n",
      "Requirement already satisfied: pytz>=2020.1 in /Users/serms/.config/python_envs/information-retrieval/lib/python3.12/site-packages (from pandas) (2024.1)\r\n",
      "Requirement already satisfied: tzdata>=2022.7 in /Users/serms/.config/python_envs/information-retrieval/lib/python3.12/site-packages (from pandas) (2024.1)\r\n",
      "Requirement already satisfied: et-xmlfile in /Users/serms/.config/python_envs/information-retrieval/lib/python3.12/site-packages (from openpyxl) (1.1.0)\r\n",
      "Requirement already satisfied: six>=1.5 in /Users/serms/.config/python_envs/information-retrieval/lib/python3.12/site-packages (from python-dateutil>=2.7->matplotlib) (1.16.0)\r\n"
     ]
    }
   ],
   "source": [
    "# Install the required packages\n",
    "!pip install scikit-learn matplotlib pandas openpyxl"
   ]
  },
  {
   "cell_type": "markdown",
   "source": [
    "# Set labels for each document"
   ],
   "metadata": {
    "collapsed": false
   },
   "id": "8f6e4896e53bd2f2"
  },
  {
   "cell_type": "code",
   "outputs": [],
   "source": [
    "import pandas as pd\n",
    "from sklearn.feature_extraction.text import TfidfVectorizer\n",
    "from sklearn.metrics.pairwise import cosine_similarity"
   ],
   "metadata": {
    "collapsed": false
   },
   "id": "55f5da7402b541f5"
  },
  {
   "cell_type": "code",
   "outputs": [],
   "source": [
    "def get_similarity(query: str, document: list[str]) -> float:\n",
    "    document_tf_idf = TfidfVectorizer().fit_transform(document)\n",
    "    query_tf_idf = TfidfVectorizer().fit(document)\n",
    "    query_tf_idf = query_tf_idf.transform([query])\n",
    "    \n",
    "    cosine_similarities = cosine_similarity(query_tf_idf, document_tf_idf).flatten()\n",
    "    return max(cosine_similarities)"
   ],
   "metadata": {
    "collapsed": false,
    "ExecuteTime": {
     "end_time": "2024-03-02T18:39:39.272546Z",
     "start_time": "2024-03-02T18:39:39.269967Z"
    }
   },
   "id": "9d17e1e594aa57",
   "execution_count": 79
  },
  {
   "cell_type": "code",
   "outputs": [
    {
     "data": {
      "text/plain": "                                            long_common_name  \\\nloinc_num                                                      \n1988-5     C reactive protein [Mass/volume] in Serum or P...   \n1959-6                   Bicarbonate [Moles/volume] in Blood   \n10331-7                                   Rh [Type] in Blood   \n18998-5       Trimethoprim+Sulfamethoxazole [Susceptibility]   \n1975-2      Bilirubin.total [Mass/volume] in Serum or Plasma   \n890-4      Blood group antibody screen [Presence] in Seru...   \n20565-8        Carbon dioxide, total [Moles/volume] in Blood   \n18906-8                       Ciprofloxacin [Susceptibility]   \n2143-6             Cortisol [Mass/volume] in Serum or Plasma   \n2075-0            Chloride [Moles/volume] in Serum or Plasma   \n\n                               component    system property  \nloinc_num                                                    \n1988-5                C reactive protein  Ser/Plas     MCnc  \n1959-6                       Bicarbonate       Bld     SCnc  \n10331-7                               Rh       Bld     Type  \n18998-5    Trimethoprim+Sulfamethoxazole   Isolate     Susc  \n1975-2                         Bilirubin  Ser/Plas     MCnc  \n890-4        Blood group antibody screen  Ser/Plas     ACnc  \n20565-8                   Carbon dioxide       Bld     SCnc  \n18906-8                    Ciprofloxacin   Isolate     Susc  \n2143-6                          Cortisol  Ser/Plas     MCnc  \n2075-0                          Chloride  Ser/Plas     SCnc  ",
      "text/html": "<div>\n<style scoped>\n    .dataframe tbody tr th:only-of-type {\n        vertical-align: middle;\n    }\n\n    .dataframe tbody tr th {\n        vertical-align: top;\n    }\n\n    .dataframe thead th {\n        text-align: right;\n    }\n</style>\n<table border=\"1\" class=\"dataframe\">\n  <thead>\n    <tr style=\"text-align: right;\">\n      <th></th>\n      <th>long_common_name</th>\n      <th>component</th>\n      <th>system</th>\n      <th>property</th>\n    </tr>\n    <tr>\n      <th>loinc_num</th>\n      <th></th>\n      <th></th>\n      <th></th>\n      <th></th>\n    </tr>\n  </thead>\n  <tbody>\n    <tr>\n      <th>1988-5</th>\n      <td>C reactive protein [Mass/volume] in Serum or P...</td>\n      <td>C reactive protein</td>\n      <td>Ser/Plas</td>\n      <td>MCnc</td>\n    </tr>\n    <tr>\n      <th>1959-6</th>\n      <td>Bicarbonate [Moles/volume] in Blood</td>\n      <td>Bicarbonate</td>\n      <td>Bld</td>\n      <td>SCnc</td>\n    </tr>\n    <tr>\n      <th>10331-7</th>\n      <td>Rh [Type] in Blood</td>\n      <td>Rh</td>\n      <td>Bld</td>\n      <td>Type</td>\n    </tr>\n    <tr>\n      <th>18998-5</th>\n      <td>Trimethoprim+Sulfamethoxazole [Susceptibility]</td>\n      <td>Trimethoprim+Sulfamethoxazole</td>\n      <td>Isolate</td>\n      <td>Susc</td>\n    </tr>\n    <tr>\n      <th>1975-2</th>\n      <td>Bilirubin.total [Mass/volume] in Serum or Plasma</td>\n      <td>Bilirubin</td>\n      <td>Ser/Plas</td>\n      <td>MCnc</td>\n    </tr>\n    <tr>\n      <th>890-4</th>\n      <td>Blood group antibody screen [Presence] in Seru...</td>\n      <td>Blood group antibody screen</td>\n      <td>Ser/Plas</td>\n      <td>ACnc</td>\n    </tr>\n    <tr>\n      <th>20565-8</th>\n      <td>Carbon dioxide, total [Moles/volume] in Blood</td>\n      <td>Carbon dioxide</td>\n      <td>Bld</td>\n      <td>SCnc</td>\n    </tr>\n    <tr>\n      <th>18906-8</th>\n      <td>Ciprofloxacin [Susceptibility]</td>\n      <td>Ciprofloxacin</td>\n      <td>Isolate</td>\n      <td>Susc</td>\n    </tr>\n    <tr>\n      <th>2143-6</th>\n      <td>Cortisol [Mass/volume] in Serum or Plasma</td>\n      <td>Cortisol</td>\n      <td>Ser/Plas</td>\n      <td>MCnc</td>\n    </tr>\n    <tr>\n      <th>2075-0</th>\n      <td>Chloride [Moles/volume] in Serum or Plasma</td>\n      <td>Chloride</td>\n      <td>Ser/Plas</td>\n      <td>SCnc</td>\n    </tr>\n  </tbody>\n</table>\n</div>"
     },
     "execution_count": 80,
     "metadata": {},
     "output_type": "execute_result"
    }
   ],
   "source": [
    "# Load the datasets and use the keys to store the query\n",
    "sheets = {}\n",
    "queries = []\n",
    "with pd.ExcelFile('data/loinc_dataset-v2.xlsx') as xls:\n",
    "    queries.extend(xls.sheet_names)\n",
    "    for query in queries:\n",
    "        sheets[query] = pd.read_excel(xls, query, skiprows=2, header=0, index_col=0)\n",
    "        \n",
    "sheets[queries[0]].head(10)"
   ],
   "metadata": {
    "collapsed": false,
    "ExecuteTime": {
     "end_time": "2024-03-02T18:39:39.295894Z",
     "start_time": "2024-03-02T18:39:39.273870Z"
    }
   },
   "id": "70e91ff9b5c88cb6",
   "execution_count": 80
  },
  {
   "cell_type": "code",
   "outputs": [],
   "source": [
    "# Compute the similarity for each query\n",
    "for query in queries:\n",
    "    similarities = pd.Series([], dtype=float)\n",
    "    for index in sheets[query].index:\n",
    "        value = sheets[query].loc[index].values.flatten()\n",
    "        similarities[index] = get_similarity(query, value)\n",
    "    sheets[query]['similarity'] = similarities"
   ],
   "metadata": {
    "collapsed": false,
    "ExecuteTime": {
     "end_time": "2024-03-02T18:39:39.567135Z",
     "start_time": "2024-03-02T18:39:39.296530Z"
    }
   },
   "id": "1331dba65079b7c1",
   "execution_count": 81
  },
  {
   "cell_type": "code",
   "outputs": [],
   "source": [
    "# Save the results to a new file\n",
    "with pd.ExcelWriter('data/loinc_dataset-v2_similarity.xlsx') as writer:\n",
    "    for query in queries:\n",
    "        sheets[query].to_excel(writer, sheet_name=query, startrow=2, startcol=0, index=True)"
   ],
   "metadata": {
    "collapsed": false,
    "ExecuteTime": {
     "end_time": "2024-03-02T18:39:39.594741Z",
     "start_time": "2024-03-02T18:39:39.567848Z"
    }
   },
   "id": "efff6dc1503c2989",
   "execution_count": 82
  },
  {
   "cell_type": "markdown",
   "source": [
    "# Train a model to predict the similarity"
   ],
   "metadata": {
    "collapsed": false
   },
   "id": "cb15df4334e43ee8"
  },
  {
   "cell_type": "code",
   "outputs": [],
   "source": [
    "from sklearn.preprocessing import LabelEncoder\n",
    "from sklearn.model_selection import train_test_split\n",
    "from sklearn.linear_model import LinearRegression\n",
    "from sklearn.metrics import mean_squared_error"
   ],
   "metadata": {
    "collapsed": false,
    "ExecuteTime": {
     "end_time": "2024-03-02T18:44:44.545374Z",
     "start_time": "2024-03-02T18:44:44.483155Z"
    }
   },
   "id": "7b5affc7a4cb159f",
   "execution_count": 85
  },
  {
   "cell_type": "code",
   "outputs": [],
   "source": [
    "seed = 42"
   ],
   "metadata": {
    "collapsed": false,
    "ExecuteTime": {
     "end_time": "2024-03-02T18:44:45.566132Z",
     "start_time": "2024-03-02T18:44:45.563226Z"
    }
   },
   "id": "736d1ffdd255698d",
   "execution_count": 86
  },
  {
   "cell_type": "code",
   "outputs": [],
   "source": [
    "# Encode the document to convert it to a numerical representation\n",
    "def encode_document(document: list[str]) -> list[int]:\n",
    "    encoder = LabelEncoder()\n",
    "    return encoder.fit_transform(document)"
   ],
   "metadata": {
    "collapsed": false
   },
   "id": "f546d6181467e39c"
  },
  {
   "cell_type": "code",
   "outputs": [],
   "source": [],
   "metadata": {
    "collapsed": false
   },
   "id": "f065d6c2bd6524f1"
  }
 ],
 "metadata": {
  "kernelspec": {
   "display_name": "Python 3",
   "language": "python",
   "name": "python3"
  },
  "language_info": {
   "codemirror_mode": {
    "name": "ipython",
    "version": 2
   },
   "file_extension": ".py",
   "mimetype": "text/x-python",
   "name": "python",
   "nbconvert_exporter": "python",
   "pygments_lexer": "ipython2",
   "version": "2.7.6"
  }
 },
 "nbformat": 4,
 "nbformat_minor": 5
}

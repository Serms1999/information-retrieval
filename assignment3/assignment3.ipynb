{
 "cells": [
  {
   "cell_type": "code",
   "execution_count": 322,
   "id": "initial_id",
   "metadata": {
    "collapsed": true,
    "ExecuteTime": {
     "end_time": "2024-03-02T20:44:18.378659Z",
     "start_time": "2024-03-02T20:44:17.323805Z"
    }
   },
   "outputs": [
    {
     "name": "stdout",
     "output_type": "stream",
     "text": [
      "Requirement already satisfied: scikit-learn in /Users/serms/.config/python_envs/information-retrieval/lib/python3.12/site-packages (1.4.1.post1)\r\n",
      "Requirement already satisfied: matplotlib in /Users/serms/.config/python_envs/information-retrieval/lib/python3.12/site-packages (3.8.2)\r\n",
      "Requirement already satisfied: pandas in /Users/serms/.config/python_envs/information-retrieval/lib/python3.12/site-packages (2.2.1)\r\n",
      "Requirement already satisfied: openpyxl in /Users/serms/.config/python_envs/information-retrieval/lib/python3.12/site-packages (3.1.2)\r\n",
      "Requirement already satisfied: numpy<2.0,>=1.19.5 in /Users/serms/.config/python_envs/information-retrieval/lib/python3.12/site-packages (from scikit-learn) (1.26.4)\r\n",
      "Requirement already satisfied: scipy>=1.6.0 in /Users/serms/.config/python_envs/information-retrieval/lib/python3.12/site-packages (from scikit-learn) (1.12.0)\r\n",
      "Requirement already satisfied: joblib>=1.2.0 in /Users/serms/.config/python_envs/information-retrieval/lib/python3.12/site-packages (from scikit-learn) (1.3.2)\r\n",
      "Requirement already satisfied: threadpoolctl>=2.0.0 in /Users/serms/.config/python_envs/information-retrieval/lib/python3.12/site-packages (from scikit-learn) (3.3.0)\r\n",
      "Requirement already satisfied: contourpy>=1.0.1 in /Users/serms/.config/python_envs/information-retrieval/lib/python3.12/site-packages (from matplotlib) (1.2.0)\r\n",
      "Requirement already satisfied: cycler>=0.10 in /Users/serms/.config/python_envs/information-retrieval/lib/python3.12/site-packages (from matplotlib) (0.12.1)\r\n",
      "Requirement already satisfied: fonttools>=4.22.0 in /Users/serms/.config/python_envs/information-retrieval/lib/python3.12/site-packages (from matplotlib) (4.48.1)\r\n",
      "Requirement already satisfied: kiwisolver>=1.3.1 in /Users/serms/.config/python_envs/information-retrieval/lib/python3.12/site-packages (from matplotlib) (1.4.5)\r\n",
      "Requirement already satisfied: packaging>=20.0 in /Users/serms/.config/python_envs/information-retrieval/lib/python3.12/site-packages (from matplotlib) (23.2)\r\n",
      "Requirement already satisfied: pillow>=8 in /Users/serms/.config/python_envs/information-retrieval/lib/python3.12/site-packages (from matplotlib) (10.2.0)\r\n",
      "Requirement already satisfied: pyparsing>=2.3.1 in /Users/serms/.config/python_envs/information-retrieval/lib/python3.12/site-packages (from matplotlib) (3.1.1)\r\n",
      "Requirement already satisfied: python-dateutil>=2.7 in /Users/serms/.config/python_envs/information-retrieval/lib/python3.12/site-packages (from matplotlib) (2.8.2)\r\n",
      "Requirement already satisfied: pytz>=2020.1 in /Users/serms/.config/python_envs/information-retrieval/lib/python3.12/site-packages (from pandas) (2024.1)\r\n",
      "Requirement already satisfied: tzdata>=2022.7 in /Users/serms/.config/python_envs/information-retrieval/lib/python3.12/site-packages (from pandas) (2024.1)\r\n",
      "Requirement already satisfied: et-xmlfile in /Users/serms/.config/python_envs/information-retrieval/lib/python3.12/site-packages (from openpyxl) (1.1.0)\r\n",
      "Requirement already satisfied: six>=1.5 in /Users/serms/.config/python_envs/information-retrieval/lib/python3.12/site-packages (from python-dateutil>=2.7->matplotlib) (1.16.0)\r\n"
     ]
    }
   ],
   "source": [
    "# Install the required packages\n",
    "!pip install scikit-learn matplotlib pandas openpyxl"
   ]
  },
  {
   "cell_type": "markdown",
   "source": [
    "# Set labels for each document"
   ],
   "metadata": {
    "collapsed": false
   },
   "id": "8f6e4896e53bd2f2"
  },
  {
   "cell_type": "code",
   "outputs": [],
   "source": [
    "import pandas as pd\n",
    "from sklearn.feature_extraction.text import TfidfVectorizer\n",
    "from sklearn.metrics.pairwise import cosine_similarity"
   ],
   "metadata": {
    "collapsed": false,
    "ExecuteTime": {
     "end_time": "2024-03-02T20:44:18.382630Z",
     "start_time": "2024-03-02T20:44:18.380128Z"
    }
   },
   "id": "55f5da7402b541f5",
   "execution_count": 323
  },
  {
   "cell_type": "code",
   "outputs": [],
   "source": [
    "def get_similarity(query: str, document: list[str]) -> float:\n",
    "    document_tf_idf = TfidfVectorizer().fit_transform(document)\n",
    "    query_tf_idf = TfidfVectorizer().fit(document)\n",
    "    query_tf_idf = query_tf_idf.transform([query])\n",
    "    \n",
    "    cosine_similarities = cosine_similarity(query_tf_idf, document_tf_idf).flatten()\n",
    "    return max(cosine_similarities)"
   ],
   "metadata": {
    "collapsed": false,
    "ExecuteTime": {
     "end_time": "2024-03-02T20:44:18.386461Z",
     "start_time": "2024-03-02T20:44:18.383759Z"
    }
   },
   "id": "9d17e1e594aa57",
   "execution_count": 324
  },
  {
   "cell_type": "code",
   "outputs": [
    {
     "data": {
      "text/plain": "                                            long_common_name  \\\nloinc_num                                                      \n1988-5     C reactive protein [Mass/volume] in Serum or P...   \n1959-6                   Bicarbonate [Moles/volume] in Blood   \n10331-7                                   Rh [Type] in Blood   \n18998-5       Trimethoprim+Sulfamethoxazole [Susceptibility]   \n1975-2      Bilirubin.total [Mass/volume] in Serum or Plasma   \n890-4      Blood group antibody screen [Presence] in Seru...   \n20565-8        Carbon dioxide, total [Moles/volume] in Blood   \n18906-8                       Ciprofloxacin [Susceptibility]   \n2143-6             Cortisol [Mass/volume] in Serum or Plasma   \n2075-0            Chloride [Moles/volume] in Serum or Plasma   \n\n                               component    system property  \nloinc_num                                                    \n1988-5                C reactive protein  Ser/Plas     MCnc  \n1959-6                       Bicarbonate       Bld     SCnc  \n10331-7                               Rh       Bld     Type  \n18998-5    Trimethoprim+Sulfamethoxazole   Isolate     Susc  \n1975-2                         Bilirubin  Ser/Plas     MCnc  \n890-4        Blood group antibody screen  Ser/Plas     ACnc  \n20565-8                   Carbon dioxide       Bld     SCnc  \n18906-8                    Ciprofloxacin   Isolate     Susc  \n2143-6                          Cortisol  Ser/Plas     MCnc  \n2075-0                          Chloride  Ser/Plas     SCnc  ",
      "text/html": "<div>\n<style scoped>\n    .dataframe tbody tr th:only-of-type {\n        vertical-align: middle;\n    }\n\n    .dataframe tbody tr th {\n        vertical-align: top;\n    }\n\n    .dataframe thead th {\n        text-align: right;\n    }\n</style>\n<table border=\"1\" class=\"dataframe\">\n  <thead>\n    <tr style=\"text-align: right;\">\n      <th></th>\n      <th>long_common_name</th>\n      <th>component</th>\n      <th>system</th>\n      <th>property</th>\n    </tr>\n    <tr>\n      <th>loinc_num</th>\n      <th></th>\n      <th></th>\n      <th></th>\n      <th></th>\n    </tr>\n  </thead>\n  <tbody>\n    <tr>\n      <th>1988-5</th>\n      <td>C reactive protein [Mass/volume] in Serum or P...</td>\n      <td>C reactive protein</td>\n      <td>Ser/Plas</td>\n      <td>MCnc</td>\n    </tr>\n    <tr>\n      <th>1959-6</th>\n      <td>Bicarbonate [Moles/volume] in Blood</td>\n      <td>Bicarbonate</td>\n      <td>Bld</td>\n      <td>SCnc</td>\n    </tr>\n    <tr>\n      <th>10331-7</th>\n      <td>Rh [Type] in Blood</td>\n      <td>Rh</td>\n      <td>Bld</td>\n      <td>Type</td>\n    </tr>\n    <tr>\n      <th>18998-5</th>\n      <td>Trimethoprim+Sulfamethoxazole [Susceptibility]</td>\n      <td>Trimethoprim+Sulfamethoxazole</td>\n      <td>Isolate</td>\n      <td>Susc</td>\n    </tr>\n    <tr>\n      <th>1975-2</th>\n      <td>Bilirubin.total [Mass/volume] in Serum or Plasma</td>\n      <td>Bilirubin</td>\n      <td>Ser/Plas</td>\n      <td>MCnc</td>\n    </tr>\n    <tr>\n      <th>890-4</th>\n      <td>Blood group antibody screen [Presence] in Seru...</td>\n      <td>Blood group antibody screen</td>\n      <td>Ser/Plas</td>\n      <td>ACnc</td>\n    </tr>\n    <tr>\n      <th>20565-8</th>\n      <td>Carbon dioxide, total [Moles/volume] in Blood</td>\n      <td>Carbon dioxide</td>\n      <td>Bld</td>\n      <td>SCnc</td>\n    </tr>\n    <tr>\n      <th>18906-8</th>\n      <td>Ciprofloxacin [Susceptibility]</td>\n      <td>Ciprofloxacin</td>\n      <td>Isolate</td>\n      <td>Susc</td>\n    </tr>\n    <tr>\n      <th>2143-6</th>\n      <td>Cortisol [Mass/volume] in Serum or Plasma</td>\n      <td>Cortisol</td>\n      <td>Ser/Plas</td>\n      <td>MCnc</td>\n    </tr>\n    <tr>\n      <th>2075-0</th>\n      <td>Chloride [Moles/volume] in Serum or Plasma</td>\n      <td>Chloride</td>\n      <td>Ser/Plas</td>\n      <td>SCnc</td>\n    </tr>\n  </tbody>\n</table>\n</div>"
     },
     "execution_count": 325,
     "metadata": {},
     "output_type": "execute_result"
    }
   ],
   "source": [
    "# Load the datasets and use the keys to store the query\n",
    "sheets = {}\n",
    "queries = []\n",
    "with pd.ExcelFile('data/loinc_dataset-v2.xlsx') as xls:\n",
    "    queries.extend(xls.sheet_names)\n",
    "    for query in queries:\n",
    "        sheets[query] = pd.read_excel(xls, query, skiprows=2, header=0, index_col=0)\n",
    "        \n",
    "sheets[queries[0]].head(10)"
   ],
   "metadata": {
    "collapsed": false,
    "ExecuteTime": {
     "end_time": "2024-03-02T20:44:18.409784Z",
     "start_time": "2024-03-02T20:44:18.387891Z"
    }
   },
   "id": "70e91ff9b5c88cb6",
   "execution_count": 325
  },
  {
   "cell_type": "code",
   "outputs": [],
   "source": [
    "# Compute the similarity for each query\n",
    "for query in queries:\n",
    "    similarities = pd.Series([], dtype=float)\n",
    "    for index in sheets[query].index:\n",
    "        value = sheets[query].loc[index].values.flatten()\n",
    "        similarities[index] = get_similarity(query, value)\n",
    "    sheets[query]['similarity'] = similarities"
   ],
   "metadata": {
    "collapsed": false,
    "ExecuteTime": {
     "end_time": "2024-03-02T20:44:18.660550Z",
     "start_time": "2024-03-02T20:44:18.410578Z"
    }
   },
   "id": "1331dba65079b7c1",
   "execution_count": 326
  },
  {
   "cell_type": "code",
   "outputs": [],
   "source": [
    "# Save the results to a new file\n",
    "with pd.ExcelWriter('data/loinc_dataset-v2_similarity.xlsx') as writer:\n",
    "    for query in queries:\n",
    "        sheets[query].to_excel(writer, sheet_name=query, startrow=2, startcol=0, index=True)"
   ],
   "metadata": {
    "collapsed": false,
    "ExecuteTime": {
     "end_time": "2024-03-02T20:44:18.686996Z",
     "start_time": "2024-03-02T20:44:18.661670Z"
    }
   },
   "id": "efff6dc1503c2989",
   "execution_count": 327
  },
  {
   "cell_type": "markdown",
   "source": [
    "# Train a model to predict the similarity"
   ],
   "metadata": {
    "collapsed": false
   },
   "id": "cb15df4334e43ee8"
  },
  {
   "cell_type": "code",
   "outputs": [],
   "source": [
    "from sklearn.preprocessing import LabelEncoder\n",
    "from sklearn.model_selection import train_test_split\n",
    "from sklearn.linear_model import LinearRegression\n",
    "from sklearn.metrics import root_mean_squared_error"
   ],
   "metadata": {
    "collapsed": false,
    "ExecuteTime": {
     "end_time": "2024-03-02T20:44:18.689356Z",
     "start_time": "2024-03-02T20:44:18.687724Z"
    }
   },
   "id": "7b5affc7a4cb159f",
   "execution_count": 328
  },
  {
   "cell_type": "code",
   "outputs": [],
   "source": [
    "seed = 42"
   ],
   "metadata": {
    "collapsed": false,
    "ExecuteTime": {
     "end_time": "2024-03-02T20:44:18.691723Z",
     "start_time": "2024-03-02T20:44:18.690205Z"
    }
   },
   "id": "736d1ffdd255698d",
   "execution_count": 329
  },
  {
   "cell_type": "code",
   "outputs": [
    {
     "name": "stdout",
     "output_type": "stream",
     "text": [
      "             y_test    y_pred\n",
      "loinc_num                    \n",
      "1250-0     0.000000  0.371335\n",
      "13317-3    0.308807  0.323812\n",
      "1975-2     0.362224  0.411951\n",
      "2075-0     0.388614  0.317757\n",
      "20442-0    0.290315  0.353132\n",
      "6768-6     0.348299  0.442653\n",
      "17861-6    0.388614  0.405318\n",
      "890-4      0.465409  0.436935\n",
      "18928-2    0.000000  0.396889\n",
      "15076-3    0.619130  0.210901\n",
      "Model for query = \"glucose in blood\" obtains an error: 0.20\n",
      "---------------------------------------------------------------------------\n",
      "             y_test    y_pred\n",
      "loinc_num                    \n",
      "3082-5     0.617614  0.415872\n",
      "10331-7    0.555283  0.201716\n",
      "18906-8    0.000000  0.277435\n",
      "1968-7     0.586489  0.549840\n",
      "2132-9     0.377964  0.464527\n",
      "1003-3     0.478651  0.491005\n",
      "54439-5    0.508672  0.514453\n",
      "18865-6    0.000000  0.375757\n",
      "1995-0     0.525473  0.285851\n",
      "18878-9    0.000000  0.297970\n",
      "Model for query = \"bilirubin in plasma\" obtains an error: 0.24\n",
      "---------------------------------------------------------------------------\n",
      "             y_test    y_pred\n",
      "loinc_num                    \n",
      "2093-3     0.000000  0.030944\n",
      "1994-3     0.436719  0.379898\n",
      "19000-9    0.000000  0.185369\n",
      "1751-7     0.000000  0.078129\n",
      "1988-5     0.000000  0.056727\n",
      "2143-6     0.000000  0.026859\n",
      "882-1      0.472120  0.438916\n",
      "14749-6    0.000000  0.049574\n",
      "18864-9    0.000000  0.267868\n",
      "35184-1    0.000000  0.053433\n",
      "Model for query = \"White blood cells count\" obtains an error: 0.21\n",
      "---------------------------------------------------------------------------\n"
     ]
    }
   ],
   "source": [
    "models = {}\n",
    "for query in queries:\n",
    "    X = sheets[query].drop(columns=['similarity'])\n",
    "    y = sheets[query]['similarity']\n",
    "    \n",
    "    # For each row, encode the value of each column\n",
    "    X_encoded = pd.DataFrame()\n",
    "    for column in X.columns:\n",
    "        encoder = LabelEncoder()\n",
    "        X_encoded[column] = encoder.fit_transform(X[column])\n",
    "        \n",
    "    # Split the data into training and testing sets\n",
    "    X_train, X_test, y_train, y_test = train_test_split(X_encoded, y, test_size=0.2, random_state=seed)\n",
    "    \n",
    "    # Train the model\n",
    "    model = LinearRegression()\n",
    "    model.fit(X_train, y_train)\n",
    "    \n",
    "    # Predict the similarity\n",
    "    y_pred = model.predict(X_test)\n",
    "    \n",
    "    # Evaluate the model\n",
    "    error = root_mean_squared_error(y_test, y_pred)\n",
    "    \n",
    "    print(pd.DataFrame({'y_test': y_test, 'y_pred': y_pred}).head(10))\n",
    "    \n",
    "    models[query] = model\n",
    "    print(f'Model for query = \\\"{query}\\\" obtains an error: {error:.2f}')\n",
    "    \n",
    "    print('---' * 25)\n",
    "    "
   ],
   "metadata": {
    "collapsed": false,
    "ExecuteTime": {
     "end_time": "2024-03-02T20:44:18.705937Z",
     "start_time": "2024-03-02T20:44:18.692345Z"
    }
   },
   "id": "f546d6181467e39c",
   "execution_count": 330
  }
 ],
 "metadata": {
  "kernelspec": {
   "display_name": "Python 3",
   "language": "python",
   "name": "python3"
  },
  "language_info": {
   "codemirror_mode": {
    "name": "ipython",
    "version": 2
   },
   "file_extension": ".py",
   "mimetype": "text/x-python",
   "name": "python",
   "nbconvert_exporter": "python",
   "pygments_lexer": "ipython2",
   "version": "2.7.6"
  }
 },
 "nbformat": 4,
 "nbformat_minor": 5
}

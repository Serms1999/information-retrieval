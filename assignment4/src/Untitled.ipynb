{
 "cells": [
  {
   "cell_type": "code",
   "execution_count": 80,
   "id": "1a44e4c7",
   "metadata": {
    "scrolled": true
   },
   "outputs": [],
   "source": [
    "\n",
    "import os\n",
    "import pandas as pd\n",
    "\n",
    "\n",
    "# Si el archivo está en un directorio diferente, proporciona la ruta completa\n",
    "df_adult = pd.read_csv(os.path.join(os.pardir,\"data\",\"adult\",\"adult.csv\"), header = None, index_col = None ,names = [\n",
    "    \"age\",\n",
    "    \"workclass\",\n",
    "    \"fnlwgt\",\n",
    "    \"education\",\n",
    "    \"education-num\",\n",
    "    \"marital-status\",\n",
    "    \"occupation\",\n",
    "    \"relationship\",\n",
    "    \"race\",\n",
    "    \"sex\",\n",
    "    \"capital-gain\",\n",
    "    \"capital-loss\",\n",
    "    \"hours-per-week\",\n",
    "    \"native-country\", \"class\"\n",
    "])\n",
    "\n",
    "df_bank = pd.read_csv(os.path.join(os.pardir,\"data\",\"bank-marketing\",\"bank.csv\"), sep = \";\", index_col = None)\n",
    "\n"
   ]
  },
  {
   "cell_type": "code",
   "execution_count": 88,
   "id": "8dd1e0e1",
   "metadata": {},
   "outputs": [],
   "source": [
    "def mapping(education_level, dicc):\n",
    "    \n",
    "    for key, values in dicc.items():\n",
    "        if education_level in values:\n",
    "            return key\n",
    "        \n",
    "    return None\n"
   ]
  },
  {
   "cell_type": "code",
   "execution_count": 89,
   "id": "8a6fb672",
   "metadata": {},
   "outputs": [],
   "source": [
    "mapeo_education = {\n",
    "        'primary': ['Preschool', ' 1st-4th', ' 5th-6th'],\n",
    "        'secondary': [' 7th-8th', ' 9th', ' 10th', ' 11th', ' 12th', ' HS-grad'],\n",
    "        'tertiary': [' Bachelors', ' Masters', ' Doctorate', ' Prof-school', ' Some-college', ' Assoc-acdm', ' Assoc-voc']\n",
    "    }\n",
    "    \n",
    "df_adult['education'] = df_adult['education'].apply(lambda x: mapping(x, mapeo_education))"
   ]
  },
  {
   "cell_type": "code",
   "execution_count": null,
   "id": "8b222e59",
   "metadata": {},
   "outputs": [],
   "source": [
    "mapeo_education = {\n",
    "    'married': [' Married-civ-spouse', ' Married-spouse-absent', ' Married-AF-spouse'],\n",
    "    'divorced': [' Divorced', ' Separated'],\n",
    "    'single': [' Never-married', ' Widowed']\n",
    "}\n",
    "\n",
    "df_adult['marital_status'] = df_adult['marital_status'].apply(lambda x: mapping(x, mapeo_education))"
   ]
  },
  {
   "cell_type": "code",
   "execution_count": null,
   "id": "ba4f9a58",
   "metadata": {},
   "outputs": [],
   "source": [
    "\n",
    "mapeo_ocupaciones = {\n",
    "    'admin.': [' Adm-clerical'],\n",
    "    'unknown': [' Other-service',' Priv-house-serv', ' Armed-Forces'],\n",
    "    'unemployed': [],\n",
    "    'management': [' Exec-managerial'],\n",
    "    'housemaid': [],\n",
    "    'entrepreneur': [],\n",
    "    'student': [],\n",
    "    'blue-collar': [' Craft-repair', ' Farming-fishing', ' Transport-moving'],\n",
    "    'self-employed': [' Sales', ' Machine-op-inspct', ' Protective-serv'],\n",
    "    'retired': [],\n",
    "    'technician': [' Tech-support'],\n",
    "    'services': [' Prof-specialty', ' Handlers-cleaners']\n",
    "}\n"
   ]
  }
 ],
 "metadata": {
  "kernelspec": {
   "display_name": "Python 3",
   "language": "python",
   "name": "python3"
  },
  "language_info": {
   "codemirror_mode": {
    "name": "ipython",
    "version": 3
   },
   "file_extension": ".py",
   "mimetype": "text/x-python",
   "name": "python",
   "nbconvert_exporter": "python",
   "pygments_lexer": "ipython3",
   "version": "3.8.8"
  }
 },
 "nbformat": 4,
 "nbformat_minor": 5
}

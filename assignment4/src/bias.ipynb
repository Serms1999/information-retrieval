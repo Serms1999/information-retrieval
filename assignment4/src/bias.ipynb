{
 "cells": [
  {
   "cell_type": "code",
   "metadata": {
    "colab": {
     "base_uri": "https://localhost:8080/"
    },
    "id": "3P12Gr-RQW2e",
    "outputId": "4a6126f9-198f-4b88-c9cf-f44a932ecaf0",
    "ExecuteTime": {
     "end_time": "2024-04-11T17:59:14.222304Z",
     "start_time": "2024-04-11T17:59:11.174120Z"
    }
   },
   "source": [
    "#Install AIF360\n",
    "!pip install 'aif360[all]'\n",
    "\n",
    "random_state = 42"
   ],
   "outputs": [
    {
     "name": "stdout",
     "output_type": "stream",
     "text": [
      "Requirement already satisfied: aif360[all] in /Users/serms/.config/pyenv/versions/3.11.9/envs/information-retrieval/lib/python3.11/site-packages (0.6.1)\r\n",
      "Requirement already satisfied: numpy>=1.16 in /Users/serms/.config/pyenv/versions/3.11.9/envs/information-retrieval/lib/python3.11/site-packages (from aif360[all]) (1.26.4)\r\n",
      "Requirement already satisfied: scipy>=1.2.0 in /Users/serms/.config/pyenv/versions/3.11.9/envs/information-retrieval/lib/python3.11/site-packages (from aif360[all]) (1.10.1)\r\n",
      "Requirement already satisfied: pandas>=0.24.0 in /Users/serms/.config/pyenv/versions/3.11.9/envs/information-retrieval/lib/python3.11/site-packages (from aif360[all]) (2.2.1)\r\n",
      "Requirement already satisfied: scikit-learn>=1.0 in /Users/serms/.config/pyenv/versions/3.11.9/envs/information-retrieval/lib/python3.11/site-packages (from aif360[all]) (1.4.2)\r\n",
      "Requirement already satisfied: matplotlib in /Users/serms/.config/pyenv/versions/3.11.9/envs/information-retrieval/lib/python3.11/site-packages (from aif360[all]) (3.8.4)\r\n",
      "Requirement already satisfied: skorch in /Users/serms/.config/pyenv/versions/3.11.9/envs/information-retrieval/lib/python3.11/site-packages (from aif360[all]) (0.15.0)\r\n",
      "Requirement already satisfied: jupyter in /Users/serms/.config/pyenv/versions/3.11.9/envs/information-retrieval/lib/python3.11/site-packages (from aif360[all]) (1.0.0)\r\n",
      "Requirement already satisfied: sphinx-rtd-theme in /Users/serms/.config/pyenv/versions/3.11.9/envs/information-retrieval/lib/python3.11/site-packages (from aif360[all]) (2.0.0)\r\n",
      "Requirement already satisfied: igraph[plotting] in /Users/serms/.config/pyenv/versions/3.11.9/envs/information-retrieval/lib/python3.11/site-packages (from aif360[all]) (0.11.4)\r\n",
      "Requirement already satisfied: lime in /Users/serms/.config/pyenv/versions/3.11.9/envs/information-retrieval/lib/python3.11/site-packages (from aif360[all]) (0.2.0.1)\r\n",
      "Requirement already satisfied: tqdm in /Users/serms/.config/pyenv/versions/3.11.9/envs/information-retrieval/lib/python3.11/site-packages (from aif360[all]) (4.66.2)\r\n",
      "Requirement already satisfied: fairlearn~=0.7 in /Users/serms/.config/pyenv/versions/3.11.9/envs/information-retrieval/lib/python3.11/site-packages (from aif360[all]) (0.10.0)\r\n",
      "Requirement already satisfied: colorama in /Users/serms/.config/pyenv/versions/3.11.9/envs/information-retrieval/lib/python3.11/site-packages (from aif360[all]) (0.4.6)\r\n",
      "Requirement already satisfied: tensorflow>=1.13.1 in /Users/serms/.config/pyenv/versions/3.11.9/envs/information-retrieval/lib/python3.11/site-packages (from aif360[all]) (2.16.1)\r\n",
      "Requirement already satisfied: sphinx in /Users/serms/.config/pyenv/versions/3.11.9/envs/information-retrieval/lib/python3.11/site-packages (from aif360[all]) (7.2.6)\r\n",
      "Requirement already satisfied: mlxtend in /Users/serms/.config/pyenv/versions/3.11.9/envs/information-retrieval/lib/python3.11/site-packages (from aif360[all]) (0.23.1)\r\n",
      "Requirement already satisfied: inFairness>=0.2.2 in /Users/serms/.config/pyenv/versions/3.11.9/envs/information-retrieval/lib/python3.11/site-packages (from aif360[all]) (0.2.3)\r\n",
      "Requirement already satisfied: pytest-cov>=2.8.1 in /Users/serms/.config/pyenv/versions/3.11.9/envs/information-retrieval/lib/python3.11/site-packages (from aif360[all]) (5.0.0)\r\n",
      "Requirement already satisfied: ipympl in /Users/serms/.config/pyenv/versions/3.11.9/envs/information-retrieval/lib/python3.11/site-packages (from aif360[all]) (0.9.3)\r\n",
      "Requirement already satisfied: torch in /Users/serms/.config/pyenv/versions/3.11.9/envs/information-retrieval/lib/python3.11/site-packages (from aif360[all]) (2.2.2)\r\n",
      "Requirement already satisfied: jinja2>3.1.0 in /Users/serms/.config/pyenv/versions/3.11.9/envs/information-retrieval/lib/python3.11/site-packages (from aif360[all]) (3.1.3)\r\n",
      "Requirement already satisfied: adversarial-robustness-toolbox>=1.0.0 in /Users/serms/.config/pyenv/versions/3.11.9/envs/information-retrieval/lib/python3.11/site-packages (from aif360[all]) (1.17.1)\r\n",
      "Requirement already satisfied: BlackBoxAuditing in /Users/serms/.config/pyenv/versions/3.11.9/envs/information-retrieval/lib/python3.11/site-packages (from aif360[all]) (0.1.54)\r\n",
      "Requirement already satisfied: seaborn in /Users/serms/.config/pyenv/versions/3.11.9/envs/information-retrieval/lib/python3.11/site-packages (from aif360[all]) (0.13.2)\r\n",
      "Requirement already satisfied: rpy2 in /Users/serms/.config/pyenv/versions/3.11.9/envs/information-retrieval/lib/python3.11/site-packages (from aif360[all]) (3.5.16)\r\n",
      "Requirement already satisfied: lightgbm in /Users/serms/.config/pyenv/versions/3.11.9/envs/information-retrieval/lib/python3.11/site-packages (from aif360[all]) (4.3.0)\r\n",
      "Requirement already satisfied: pytest>=3.5 in /Users/serms/.config/pyenv/versions/3.11.9/envs/information-retrieval/lib/python3.11/site-packages (from aif360[all]) (8.1.1)\r\n",
      "Requirement already satisfied: pot in /Users/serms/.config/pyenv/versions/3.11.9/envs/information-retrieval/lib/python3.11/site-packages (from aif360[all]) (0.9.3)\r\n",
      "Requirement already satisfied: cvxpy>=1.0 in /Users/serms/.config/pyenv/versions/3.11.9/envs/information-retrieval/lib/python3.11/site-packages (from aif360[all]) (1.4.2)\r\n",
      "Requirement already satisfied: six in /Users/serms/.config/pyenv/versions/3.11.9/envs/information-retrieval/lib/python3.11/site-packages (from adversarial-robustness-toolbox>=1.0.0->aif360[all]) (1.16.0)\r\n",
      "Requirement already satisfied: setuptools in /Users/serms/.config/pyenv/versions/3.11.9/envs/information-retrieval/lib/python3.11/site-packages (from adversarial-robustness-toolbox>=1.0.0->aif360[all]) (65.5.0)\r\n",
      "Requirement already satisfied: osqp>=0.6.2 in /Users/serms/.config/pyenv/versions/3.11.9/envs/information-retrieval/lib/python3.11/site-packages (from cvxpy>=1.0->aif360[all]) (0.6.5)\r\n",
      "Requirement already satisfied: ecos>=2 in /Users/serms/.config/pyenv/versions/3.11.9/envs/information-retrieval/lib/python3.11/site-packages (from cvxpy>=1.0->aif360[all]) (2.0.13)\r\n",
      "Requirement already satisfied: clarabel>=0.5.0 in /Users/serms/.config/pyenv/versions/3.11.9/envs/information-retrieval/lib/python3.11/site-packages (from cvxpy>=1.0->aif360[all]) (0.7.1)\r\n",
      "Requirement already satisfied: scs>=3.0 in /Users/serms/.config/pyenv/versions/3.11.9/envs/information-retrieval/lib/python3.11/site-packages (from cvxpy>=1.0->aif360[all]) (3.2.4.post1)\r\n",
      "Requirement already satisfied: pybind11 in /Users/serms/.config/pyenv/versions/3.11.9/envs/information-retrieval/lib/python3.11/site-packages (from cvxpy>=1.0->aif360[all]) (2.12.0)\r\n",
      "Requirement already satisfied: MarkupSafe>=2.0 in /Users/serms/.config/pyenv/versions/3.11.9/envs/information-retrieval/lib/python3.11/site-packages (from jinja2>3.1.0->aif360[all]) (2.1.5)\r\n",
      "Requirement already satisfied: python-dateutil>=2.8.2 in /Users/serms/.config/pyenv/versions/3.11.9/envs/information-retrieval/lib/python3.11/site-packages (from pandas>=0.24.0->aif360[all]) (2.9.0.post0)\r\n",
      "Requirement already satisfied: pytz>=2020.1 in /Users/serms/.config/pyenv/versions/3.11.9/envs/information-retrieval/lib/python3.11/site-packages (from pandas>=0.24.0->aif360[all]) (2024.1)\r\n",
      "Requirement already satisfied: tzdata>=2022.7 in /Users/serms/.config/pyenv/versions/3.11.9/envs/information-retrieval/lib/python3.11/site-packages (from pandas>=0.24.0->aif360[all]) (2024.1)\r\n",
      "Requirement already satisfied: iniconfig in /Users/serms/.config/pyenv/versions/3.11.9/envs/information-retrieval/lib/python3.11/site-packages (from pytest>=3.5->aif360[all]) (2.0.0)\r\n",
      "Requirement already satisfied: packaging in /Users/serms/.config/pyenv/versions/3.11.9/envs/information-retrieval/lib/python3.11/site-packages (from pytest>=3.5->aif360[all]) (24.0)\r\n",
      "Requirement already satisfied: pluggy<2.0,>=1.4 in /Users/serms/.config/pyenv/versions/3.11.9/envs/information-retrieval/lib/python3.11/site-packages (from pytest>=3.5->aif360[all]) (1.4.0)\r\n",
      "Requirement already satisfied: coverage>=5.2.1 in /Users/serms/.config/pyenv/versions/3.11.9/envs/information-retrieval/lib/python3.11/site-packages (from coverage[toml]>=5.2.1->pytest-cov>=2.8.1->aif360[all]) (7.4.4)\r\n",
      "Requirement already satisfied: joblib>=1.2.0 in /Users/serms/.config/pyenv/versions/3.11.9/envs/information-retrieval/lib/python3.11/site-packages (from scikit-learn>=1.0->aif360[all]) (1.4.0)\r\n",
      "Requirement already satisfied: threadpoolctl>=2.0.0 in /Users/serms/.config/pyenv/versions/3.11.9/envs/information-retrieval/lib/python3.11/site-packages (from scikit-learn>=1.0->aif360[all]) (3.4.0)\r\n",
      "Requirement already satisfied: absl-py>=1.0.0 in /Users/serms/.config/pyenv/versions/3.11.9/envs/information-retrieval/lib/python3.11/site-packages (from tensorflow>=1.13.1->aif360[all]) (2.1.0)\r\n",
      "Requirement already satisfied: astunparse>=1.6.0 in /Users/serms/.config/pyenv/versions/3.11.9/envs/information-retrieval/lib/python3.11/site-packages (from tensorflow>=1.13.1->aif360[all]) (1.6.3)\r\n",
      "Requirement already satisfied: flatbuffers>=23.5.26 in /Users/serms/.config/pyenv/versions/3.11.9/envs/information-retrieval/lib/python3.11/site-packages (from tensorflow>=1.13.1->aif360[all]) (24.3.25)\r\n",
      "Requirement already satisfied: gast!=0.5.0,!=0.5.1,!=0.5.2,>=0.2.1 in /Users/serms/.config/pyenv/versions/3.11.9/envs/information-retrieval/lib/python3.11/site-packages (from tensorflow>=1.13.1->aif360[all]) (0.5.4)\r\n",
      "Requirement already satisfied: google-pasta>=0.1.1 in /Users/serms/.config/pyenv/versions/3.11.9/envs/information-retrieval/lib/python3.11/site-packages (from tensorflow>=1.13.1->aif360[all]) (0.2.0)\r\n",
      "Requirement already satisfied: h5py>=3.10.0 in /Users/serms/.config/pyenv/versions/3.11.9/envs/information-retrieval/lib/python3.11/site-packages (from tensorflow>=1.13.1->aif360[all]) (3.11.0)\r\n",
      "Requirement already satisfied: libclang>=13.0.0 in /Users/serms/.config/pyenv/versions/3.11.9/envs/information-retrieval/lib/python3.11/site-packages (from tensorflow>=1.13.1->aif360[all]) (18.1.1)\r\n",
      "Requirement already satisfied: ml-dtypes~=0.3.1 in /Users/serms/.config/pyenv/versions/3.11.9/envs/information-retrieval/lib/python3.11/site-packages (from tensorflow>=1.13.1->aif360[all]) (0.3.2)\r\n",
      "Requirement already satisfied: opt-einsum>=2.3.2 in /Users/serms/.config/pyenv/versions/3.11.9/envs/information-retrieval/lib/python3.11/site-packages (from tensorflow>=1.13.1->aif360[all]) (3.3.0)\r\n",
      "Requirement already satisfied: protobuf!=4.21.0,!=4.21.1,!=4.21.2,!=4.21.3,!=4.21.4,!=4.21.5,<5.0.0dev,>=3.20.3 in /Users/serms/.config/pyenv/versions/3.11.9/envs/information-retrieval/lib/python3.11/site-packages (from tensorflow>=1.13.1->aif360[all]) (4.25.3)\r\n",
      "Requirement already satisfied: requests<3,>=2.21.0 in /Users/serms/.config/pyenv/versions/3.11.9/envs/information-retrieval/lib/python3.11/site-packages (from tensorflow>=1.13.1->aif360[all]) (2.31.0)\r\n",
      "Requirement already satisfied: termcolor>=1.1.0 in /Users/serms/.config/pyenv/versions/3.11.9/envs/information-retrieval/lib/python3.11/site-packages (from tensorflow>=1.13.1->aif360[all]) (2.4.0)\r\n",
      "Requirement already satisfied: typing-extensions>=3.6.6 in /Users/serms/.config/pyenv/versions/3.11.9/envs/information-retrieval/lib/python3.11/site-packages (from tensorflow>=1.13.1->aif360[all]) (4.11.0)\r\n",
      "Requirement already satisfied: wrapt>=1.11.0 in /Users/serms/.config/pyenv/versions/3.11.9/envs/information-retrieval/lib/python3.11/site-packages (from tensorflow>=1.13.1->aif360[all]) (1.16.0)\r\n",
      "Requirement already satisfied: grpcio<2.0,>=1.24.3 in /Users/serms/.config/pyenv/versions/3.11.9/envs/information-retrieval/lib/python3.11/site-packages (from tensorflow>=1.13.1->aif360[all]) (1.62.1)\r\n",
      "Requirement already satisfied: tensorboard<2.17,>=2.16 in /Users/serms/.config/pyenv/versions/3.11.9/envs/information-retrieval/lib/python3.11/site-packages (from tensorflow>=1.13.1->aif360[all]) (2.16.2)\r\n",
      "Requirement already satisfied: keras>=3.0.0 in /Users/serms/.config/pyenv/versions/3.11.9/envs/information-retrieval/lib/python3.11/site-packages (from tensorflow>=1.13.1->aif360[all]) (3.2.1)\r\n",
      "Requirement already satisfied: tensorflow-io-gcs-filesystem>=0.23.1 in /Users/serms/.config/pyenv/versions/3.11.9/envs/information-retrieval/lib/python3.11/site-packages (from tensorflow>=1.13.1->aif360[all]) (0.36.0)\r\n",
      "Requirement already satisfied: filelock in /Users/serms/.config/pyenv/versions/3.11.9/envs/information-retrieval/lib/python3.11/site-packages (from torch->aif360[all]) (3.13.4)\r\n",
      "Requirement already satisfied: sympy in /Users/serms/.config/pyenv/versions/3.11.9/envs/information-retrieval/lib/python3.11/site-packages (from torch->aif360[all]) (1.12)\r\n",
      "Requirement already satisfied: networkx in /Users/serms/.config/pyenv/versions/3.11.9/envs/information-retrieval/lib/python3.11/site-packages (from torch->aif360[all]) (3.3)\r\n",
      "Requirement already satisfied: fsspec in /Users/serms/.config/pyenv/versions/3.11.9/envs/information-retrieval/lib/python3.11/site-packages (from torch->aif360[all]) (2024.3.1)\r\n",
      "Requirement already satisfied: texttable>=1.6.2 in /Users/serms/.config/pyenv/versions/3.11.9/envs/information-retrieval/lib/python3.11/site-packages (from igraph[plotting]; extra == \"all\"->aif360[all]) (1.7.0)\r\n",
      "Requirement already satisfied: cairocffi>=1.2.0 in /Users/serms/.config/pyenv/versions/3.11.9/envs/information-retrieval/lib/python3.11/site-packages (from igraph[plotting]; extra == \"all\"->aif360[all]) (1.6.1)\r\n",
      "Requirement already satisfied: ipython<9 in /Users/serms/.config/pyenv/versions/3.11.9/envs/information-retrieval/lib/python3.11/site-packages (from ipympl->aif360[all]) (8.23.0)\r\n",
      "Requirement already satisfied: ipython-genutils in /Users/serms/.config/pyenv/versions/3.11.9/envs/information-retrieval/lib/python3.11/site-packages (from ipympl->aif360[all]) (0.2.0)\r\n",
      "Requirement already satisfied: pillow in /Users/serms/.config/pyenv/versions/3.11.9/envs/information-retrieval/lib/python3.11/site-packages (from ipympl->aif360[all]) (10.3.0)\r\n",
      "Requirement already satisfied: traitlets<6 in /Users/serms/.config/pyenv/versions/3.11.9/envs/information-retrieval/lib/python3.11/site-packages (from ipympl->aif360[all]) (5.14.2)\r\n",
      "Requirement already satisfied: ipywidgets<9,>=7.6.0 in /Users/serms/.config/pyenv/versions/3.11.9/envs/information-retrieval/lib/python3.11/site-packages (from ipympl->aif360[all]) (8.1.2)\r\n",
      "Requirement already satisfied: contourpy>=1.0.1 in /Users/serms/.config/pyenv/versions/3.11.9/envs/information-retrieval/lib/python3.11/site-packages (from matplotlib->aif360[all]) (1.2.1)\r\n",
      "Requirement already satisfied: cycler>=0.10 in /Users/serms/.config/pyenv/versions/3.11.9/envs/information-retrieval/lib/python3.11/site-packages (from matplotlib->aif360[all]) (0.12.1)\r\n",
      "Requirement already satisfied: fonttools>=4.22.0 in /Users/serms/.config/pyenv/versions/3.11.9/envs/information-retrieval/lib/python3.11/site-packages (from matplotlib->aif360[all]) (4.51.0)\r\n",
      "Requirement already satisfied: kiwisolver>=1.3.1 in /Users/serms/.config/pyenv/versions/3.11.9/envs/information-retrieval/lib/python3.11/site-packages (from matplotlib->aif360[all]) (1.4.5)\r\n",
      "Requirement already satisfied: pyparsing>=2.3.1 in /Users/serms/.config/pyenv/versions/3.11.9/envs/information-retrieval/lib/python3.11/site-packages (from matplotlib->aif360[all]) (3.1.2)\r\n",
      "Requirement already satisfied: notebook in /Users/serms/.config/pyenv/versions/3.11.9/envs/information-retrieval/lib/python3.11/site-packages (from jupyter->aif360[all]) (7.1.2)\r\n",
      "Requirement already satisfied: qtconsole in /Users/serms/.config/pyenv/versions/3.11.9/envs/information-retrieval/lib/python3.11/site-packages (from jupyter->aif360[all]) (5.5.1)\r\n",
      "Requirement already satisfied: jupyter-console in /Users/serms/.config/pyenv/versions/3.11.9/envs/information-retrieval/lib/python3.11/site-packages (from jupyter->aif360[all]) (6.6.3)\r\n",
      "Requirement already satisfied: nbconvert in /Users/serms/.config/pyenv/versions/3.11.9/envs/information-retrieval/lib/python3.11/site-packages (from jupyter->aif360[all]) (7.16.3)\r\n",
      "Requirement already satisfied: ipykernel in /Users/serms/.config/pyenv/versions/3.11.9/envs/information-retrieval/lib/python3.11/site-packages (from jupyter->aif360[all]) (6.29.4)\r\n",
      "Requirement already satisfied: scikit-image>=0.12 in /Users/serms/.config/pyenv/versions/3.11.9/envs/information-retrieval/lib/python3.11/site-packages (from lime->aif360[all]) (0.23.1)\r\n",
      "Requirement already satisfied: cffi>=1.15.1 in /Users/serms/.config/pyenv/versions/3.11.9/envs/information-retrieval/lib/python3.11/site-packages (from rpy2->aif360[all]) (1.16.0)\r\n",
      "Requirement already satisfied: tzlocal in /Users/serms/.config/pyenv/versions/3.11.9/envs/information-retrieval/lib/python3.11/site-packages (from rpy2->aif360[all]) (5.2)\r\n",
      "Requirement already satisfied: tabulate>=0.7.7 in /Users/serms/.config/pyenv/versions/3.11.9/envs/information-retrieval/lib/python3.11/site-packages (from skorch->aif360[all]) (0.9.0)\r\n",
      "Requirement already satisfied: sphinxcontrib-applehelp in /Users/serms/.config/pyenv/versions/3.11.9/envs/information-retrieval/lib/python3.11/site-packages (from sphinx->aif360[all]) (1.0.8)\r\n",
      "Requirement already satisfied: sphinxcontrib-devhelp in /Users/serms/.config/pyenv/versions/3.11.9/envs/information-retrieval/lib/python3.11/site-packages (from sphinx->aif360[all]) (1.0.6)\r\n",
      "Requirement already satisfied: sphinxcontrib-jsmath in /Users/serms/.config/pyenv/versions/3.11.9/envs/information-retrieval/lib/python3.11/site-packages (from sphinx->aif360[all]) (1.0.1)\r\n",
      "Requirement already satisfied: sphinxcontrib-htmlhelp>=2.0.0 in /Users/serms/.config/pyenv/versions/3.11.9/envs/information-retrieval/lib/python3.11/site-packages (from sphinx->aif360[all]) (2.0.5)\r\n",
      "Requirement already satisfied: sphinxcontrib-serializinghtml>=1.1.9 in /Users/serms/.config/pyenv/versions/3.11.9/envs/information-retrieval/lib/python3.11/site-packages (from sphinx->aif360[all]) (1.1.10)\r\n",
      "Requirement already satisfied: sphinxcontrib-qthelp in /Users/serms/.config/pyenv/versions/3.11.9/envs/information-retrieval/lib/python3.11/site-packages (from sphinx->aif360[all]) (1.0.7)\r\n",
      "Requirement already satisfied: Pygments>=2.14 in /Users/serms/.config/pyenv/versions/3.11.9/envs/information-retrieval/lib/python3.11/site-packages (from sphinx->aif360[all]) (2.17.2)\r\n",
      "Requirement already satisfied: docutils<0.21,>=0.18.1 in /Users/serms/.config/pyenv/versions/3.11.9/envs/information-retrieval/lib/python3.11/site-packages (from sphinx->aif360[all]) (0.20.1)\r\n",
      "Requirement already satisfied: snowballstemmer>=2.0 in /Users/serms/.config/pyenv/versions/3.11.9/envs/information-retrieval/lib/python3.11/site-packages (from sphinx->aif360[all]) (2.2.0)\r\n",
      "Requirement already satisfied: babel>=2.9 in /Users/serms/.config/pyenv/versions/3.11.9/envs/information-retrieval/lib/python3.11/site-packages (from sphinx->aif360[all]) (2.14.0)\r\n",
      "Requirement already satisfied: alabaster<0.8,>=0.7 in /Users/serms/.config/pyenv/versions/3.11.9/envs/information-retrieval/lib/python3.11/site-packages (from sphinx->aif360[all]) (0.7.16)\r\n",
      "Requirement already satisfied: imagesize>=1.3 in /Users/serms/.config/pyenv/versions/3.11.9/envs/information-retrieval/lib/python3.11/site-packages (from sphinx->aif360[all]) (1.4.1)\r\n",
      "Requirement already satisfied: sphinxcontrib-jquery<5,>=4 in /Users/serms/.config/pyenv/versions/3.11.9/envs/information-retrieval/lib/python3.11/site-packages (from sphinx-rtd-theme->aif360[all]) (4.1)\r\n",
      "Requirement already satisfied: wheel<1.0,>=0.23.0 in /Users/serms/.config/pyenv/versions/3.11.9/envs/information-retrieval/lib/python3.11/site-packages (from astunparse>=1.6.0->tensorflow>=1.13.1->aif360[all]) (0.43.0)\r\n",
      "Requirement already satisfied: pycparser in /Users/serms/.config/pyenv/versions/3.11.9/envs/information-retrieval/lib/python3.11/site-packages (from cffi>=1.15.1->rpy2->aif360[all]) (2.22)\r\n",
      "Requirement already satisfied: decorator in /Users/serms/.config/pyenv/versions/3.11.9/envs/information-retrieval/lib/python3.11/site-packages (from ipython<9->ipympl->aif360[all]) (5.1.1)\r\n",
      "Requirement already satisfied: jedi>=0.16 in /Users/serms/.config/pyenv/versions/3.11.9/envs/information-retrieval/lib/python3.11/site-packages (from ipython<9->ipympl->aif360[all]) (0.19.1)\r\n",
      "Requirement already satisfied: matplotlib-inline in /Users/serms/.config/pyenv/versions/3.11.9/envs/information-retrieval/lib/python3.11/site-packages (from ipython<9->ipympl->aif360[all]) (0.1.6)\r\n",
      "Requirement already satisfied: prompt-toolkit<3.1.0,>=3.0.41 in /Users/serms/.config/pyenv/versions/3.11.9/envs/information-retrieval/lib/python3.11/site-packages (from ipython<9->ipympl->aif360[all]) (3.0.43)\r\n",
      "Requirement already satisfied: stack-data in /Users/serms/.config/pyenv/versions/3.11.9/envs/information-retrieval/lib/python3.11/site-packages (from ipython<9->ipympl->aif360[all]) (0.6.3)\r\n",
      "Requirement already satisfied: pexpect>4.3 in /Users/serms/.config/pyenv/versions/3.11.9/envs/information-retrieval/lib/python3.11/site-packages (from ipython<9->ipympl->aif360[all]) (4.9.0)\r\n",
      "Requirement already satisfied: comm>=0.1.3 in /Users/serms/.config/pyenv/versions/3.11.9/envs/information-retrieval/lib/python3.11/site-packages (from ipywidgets<9,>=7.6.0->ipympl->aif360[all]) (0.2.2)\r\n",
      "Requirement already satisfied: widgetsnbextension~=4.0.10 in /Users/serms/.config/pyenv/versions/3.11.9/envs/information-retrieval/lib/python3.11/site-packages (from ipywidgets<9,>=7.6.0->ipympl->aif360[all]) (4.0.10)\r\n",
      "Requirement already satisfied: jupyterlab-widgets~=3.0.10 in /Users/serms/.config/pyenv/versions/3.11.9/envs/information-retrieval/lib/python3.11/site-packages (from ipywidgets<9,>=7.6.0->ipympl->aif360[all]) (3.0.10)\r\n",
      "Requirement already satisfied: rich in /Users/serms/.config/pyenv/versions/3.11.9/envs/information-retrieval/lib/python3.11/site-packages (from keras>=3.0.0->tensorflow>=1.13.1->aif360[all]) (13.7.1)\r\n",
      "Requirement already satisfied: namex in /Users/serms/.config/pyenv/versions/3.11.9/envs/information-retrieval/lib/python3.11/site-packages (from keras>=3.0.0->tensorflow>=1.13.1->aif360[all]) (0.0.7)\r\n",
      "Requirement already satisfied: optree in /Users/serms/.config/pyenv/versions/3.11.9/envs/information-retrieval/lib/python3.11/site-packages (from keras>=3.0.0->tensorflow>=1.13.1->aif360[all]) (0.11.0)\r\n",
      "Requirement already satisfied: qdldl in /Users/serms/.config/pyenv/versions/3.11.9/envs/information-retrieval/lib/python3.11/site-packages (from osqp>=0.6.2->cvxpy>=1.0->aif360[all]) (0.1.7.post1)\r\n",
      "Requirement already satisfied: charset-normalizer<4,>=2 in /Users/serms/.config/pyenv/versions/3.11.9/envs/information-retrieval/lib/python3.11/site-packages (from requests<3,>=2.21.0->tensorflow>=1.13.1->aif360[all]) (3.3.2)\r\n",
      "Requirement already satisfied: idna<4,>=2.5 in /Users/serms/.config/pyenv/versions/3.11.9/envs/information-retrieval/lib/python3.11/site-packages (from requests<3,>=2.21.0->tensorflow>=1.13.1->aif360[all]) (3.6)\r\n",
      "Requirement already satisfied: urllib3<3,>=1.21.1 in /Users/serms/.config/pyenv/versions/3.11.9/envs/information-retrieval/lib/python3.11/site-packages (from requests<3,>=2.21.0->tensorflow>=1.13.1->aif360[all]) (2.2.1)\r\n",
      "Requirement already satisfied: certifi>=2017.4.17 in /Users/serms/.config/pyenv/versions/3.11.9/envs/information-retrieval/lib/python3.11/site-packages (from requests<3,>=2.21.0->tensorflow>=1.13.1->aif360[all]) (2024.2.2)\r\n",
      "Requirement already satisfied: imageio>=2.33 in /Users/serms/.config/pyenv/versions/3.11.9/envs/information-retrieval/lib/python3.11/site-packages (from scikit-image>=0.12->lime->aif360[all]) (2.34.0)\r\n",
      "Requirement already satisfied: tifffile>=2022.8.12 in /Users/serms/.config/pyenv/versions/3.11.9/envs/information-retrieval/lib/python3.11/site-packages (from scikit-image>=0.12->lime->aif360[all]) (2024.2.12)\r\n",
      "Requirement already satisfied: lazy-loader>=0.4 in /Users/serms/.config/pyenv/versions/3.11.9/envs/information-retrieval/lib/python3.11/site-packages (from scikit-image>=0.12->lime->aif360[all]) (0.4)\r\n",
      "Requirement already satisfied: markdown>=2.6.8 in /Users/serms/.config/pyenv/versions/3.11.9/envs/information-retrieval/lib/python3.11/site-packages (from tensorboard<2.17,>=2.16->tensorflow>=1.13.1->aif360[all]) (3.6)\r\n",
      "Requirement already satisfied: tensorboard-data-server<0.8.0,>=0.7.0 in /Users/serms/.config/pyenv/versions/3.11.9/envs/information-retrieval/lib/python3.11/site-packages (from tensorboard<2.17,>=2.16->tensorflow>=1.13.1->aif360[all]) (0.7.2)\r\n",
      "Requirement already satisfied: werkzeug>=1.0.1 in /Users/serms/.config/pyenv/versions/3.11.9/envs/information-retrieval/lib/python3.11/site-packages (from tensorboard<2.17,>=2.16->tensorflow>=1.13.1->aif360[all]) (3.0.2)\r\n",
      "Requirement already satisfied: appnope in /Users/serms/.config/pyenv/versions/3.11.9/envs/information-retrieval/lib/python3.11/site-packages (from ipykernel->jupyter->aif360[all]) (0.1.4)\r\n",
      "Requirement already satisfied: debugpy>=1.6.5 in /Users/serms/.config/pyenv/versions/3.11.9/envs/information-retrieval/lib/python3.11/site-packages (from ipykernel->jupyter->aif360[all]) (1.8.1)\r\n",
      "Requirement already satisfied: jupyter-client>=6.1.12 in /Users/serms/.config/pyenv/versions/3.11.9/envs/information-retrieval/lib/python3.11/site-packages (from ipykernel->jupyter->aif360[all]) (8.6.1)\r\n",
      "Requirement already satisfied: jupyter-core!=5.0.*,>=4.12 in /Users/serms/.config/pyenv/versions/3.11.9/envs/information-retrieval/lib/python3.11/site-packages (from ipykernel->jupyter->aif360[all]) (5.7.2)\r\n",
      "Requirement already satisfied: nest-asyncio in /Users/serms/.config/pyenv/versions/3.11.9/envs/information-retrieval/lib/python3.11/site-packages (from ipykernel->jupyter->aif360[all]) (1.6.0)\r\n",
      "Requirement already satisfied: psutil in /Users/serms/.config/pyenv/versions/3.11.9/envs/information-retrieval/lib/python3.11/site-packages (from ipykernel->jupyter->aif360[all]) (5.9.8)\r\n",
      "Requirement already satisfied: pyzmq>=24 in /Users/serms/.config/pyenv/versions/3.11.9/envs/information-retrieval/lib/python3.11/site-packages (from ipykernel->jupyter->aif360[all]) (25.1.2)\r\n",
      "Requirement already satisfied: tornado>=6.1 in /Users/serms/.config/pyenv/versions/3.11.9/envs/information-retrieval/lib/python3.11/site-packages (from ipykernel->jupyter->aif360[all]) (6.4)\r\n",
      "Requirement already satisfied: beautifulsoup4 in /Users/serms/.config/pyenv/versions/3.11.9/envs/information-retrieval/lib/python3.11/site-packages (from nbconvert->jupyter->aif360[all]) (4.12.3)\r\n",
      "Requirement already satisfied: bleach!=5.0.0 in /Users/serms/.config/pyenv/versions/3.11.9/envs/information-retrieval/lib/python3.11/site-packages (from nbconvert->jupyter->aif360[all]) (6.1.0)\r\n",
      "Requirement already satisfied: defusedxml in /Users/serms/.config/pyenv/versions/3.11.9/envs/information-retrieval/lib/python3.11/site-packages (from nbconvert->jupyter->aif360[all]) (0.7.1)\r\n",
      "Requirement already satisfied: jupyterlab-pygments in /Users/serms/.config/pyenv/versions/3.11.9/envs/information-retrieval/lib/python3.11/site-packages (from nbconvert->jupyter->aif360[all]) (0.3.0)\r\n",
      "Requirement already satisfied: mistune<4,>=2.0.3 in /Users/serms/.config/pyenv/versions/3.11.9/envs/information-retrieval/lib/python3.11/site-packages (from nbconvert->jupyter->aif360[all]) (3.0.2)\r\n",
      "Requirement already satisfied: nbclient>=0.5.0 in /Users/serms/.config/pyenv/versions/3.11.9/envs/information-retrieval/lib/python3.11/site-packages (from nbconvert->jupyter->aif360[all]) (0.10.0)\r\n",
      "Requirement already satisfied: nbformat>=5.7 in /Users/serms/.config/pyenv/versions/3.11.9/envs/information-retrieval/lib/python3.11/site-packages (from nbconvert->jupyter->aif360[all]) (5.10.4)\r\n",
      "Requirement already satisfied: pandocfilters>=1.4.1 in /Users/serms/.config/pyenv/versions/3.11.9/envs/information-retrieval/lib/python3.11/site-packages (from nbconvert->jupyter->aif360[all]) (1.5.1)\r\n",
      "Requirement already satisfied: tinycss2 in /Users/serms/.config/pyenv/versions/3.11.9/envs/information-retrieval/lib/python3.11/site-packages (from nbconvert->jupyter->aif360[all]) (1.2.1)\r\n",
      "Requirement already satisfied: jupyter-server<3,>=2.4.0 in /Users/serms/.config/pyenv/versions/3.11.9/envs/information-retrieval/lib/python3.11/site-packages (from notebook->jupyter->aif360[all]) (2.13.0)\r\n",
      "Requirement already satisfied: jupyterlab-server<3,>=2.22.1 in /Users/serms/.config/pyenv/versions/3.11.9/envs/information-retrieval/lib/python3.11/site-packages (from notebook->jupyter->aif360[all]) (2.26.0)\r\n",
      "Requirement already satisfied: jupyterlab<4.2,>=4.1.1 in /Users/serms/.config/pyenv/versions/3.11.9/envs/information-retrieval/lib/python3.11/site-packages (from notebook->jupyter->aif360[all]) (4.1.6)\r\n",
      "Requirement already satisfied: notebook-shim<0.3,>=0.2 in /Users/serms/.config/pyenv/versions/3.11.9/envs/information-retrieval/lib/python3.11/site-packages (from notebook->jupyter->aif360[all]) (0.2.4)\r\n",
      "Requirement already satisfied: qtpy>=2.4.0 in /Users/serms/.config/pyenv/versions/3.11.9/envs/information-retrieval/lib/python3.11/site-packages (from qtconsole->jupyter->aif360[all]) (2.4.1)\r\n",
      "Requirement already satisfied: mpmath>=0.19 in /Users/serms/.config/pyenv/versions/3.11.9/envs/information-retrieval/lib/python3.11/site-packages (from sympy->torch->aif360[all]) (1.3.0)\r\n",
      "Requirement already satisfied: webencodings in /Users/serms/.config/pyenv/versions/3.11.9/envs/information-retrieval/lib/python3.11/site-packages (from bleach!=5.0.0->nbconvert->jupyter->aif360[all]) (0.5.1)\r\n",
      "Requirement already satisfied: parso<0.9.0,>=0.8.3 in /Users/serms/.config/pyenv/versions/3.11.9/envs/information-retrieval/lib/python3.11/site-packages (from jedi>=0.16->ipython<9->ipympl->aif360[all]) (0.8.4)\r\n",
      "Requirement already satisfied: platformdirs>=2.5 in /Users/serms/.config/pyenv/versions/3.11.9/envs/information-retrieval/lib/python3.11/site-packages (from jupyter-core!=5.0.*,>=4.12->ipykernel->jupyter->aif360[all]) (4.2.0)\r\n",
      "Requirement already satisfied: anyio>=3.1.0 in /Users/serms/.config/pyenv/versions/3.11.9/envs/information-retrieval/lib/python3.11/site-packages (from jupyter-server<3,>=2.4.0->notebook->jupyter->aif360[all]) (4.3.0)\r\n",
      "Requirement already satisfied: argon2-cffi in /Users/serms/.config/pyenv/versions/3.11.9/envs/information-retrieval/lib/python3.11/site-packages (from jupyter-server<3,>=2.4.0->notebook->jupyter->aif360[all]) (23.1.0)\r\n",
      "Requirement already satisfied: jupyter-events>=0.9.0 in /Users/serms/.config/pyenv/versions/3.11.9/envs/information-retrieval/lib/python3.11/site-packages (from jupyter-server<3,>=2.4.0->notebook->jupyter->aif360[all]) (0.10.0)\r\n",
      "Requirement already satisfied: jupyter-server-terminals in /Users/serms/.config/pyenv/versions/3.11.9/envs/information-retrieval/lib/python3.11/site-packages (from jupyter-server<3,>=2.4.0->notebook->jupyter->aif360[all]) (0.5.3)\r\n",
      "Requirement already satisfied: overrides in /Users/serms/.config/pyenv/versions/3.11.9/envs/information-retrieval/lib/python3.11/site-packages (from jupyter-server<3,>=2.4.0->notebook->jupyter->aif360[all]) (7.7.0)\r\n",
      "Requirement already satisfied: prometheus-client in /Users/serms/.config/pyenv/versions/3.11.9/envs/information-retrieval/lib/python3.11/site-packages (from jupyter-server<3,>=2.4.0->notebook->jupyter->aif360[all]) (0.20.0)\r\n",
      "Requirement already satisfied: send2trash>=1.8.2 in /Users/serms/.config/pyenv/versions/3.11.9/envs/information-retrieval/lib/python3.11/site-packages (from jupyter-server<3,>=2.4.0->notebook->jupyter->aif360[all]) (1.8.3)\r\n",
      "Requirement already satisfied: terminado>=0.8.3 in /Users/serms/.config/pyenv/versions/3.11.9/envs/information-retrieval/lib/python3.11/site-packages (from jupyter-server<3,>=2.4.0->notebook->jupyter->aif360[all]) (0.18.1)\r\n",
      "Requirement already satisfied: websocket-client in /Users/serms/.config/pyenv/versions/3.11.9/envs/information-retrieval/lib/python3.11/site-packages (from jupyter-server<3,>=2.4.0->notebook->jupyter->aif360[all]) (1.7.0)\r\n",
      "Requirement already satisfied: async-lru>=1.0.0 in /Users/serms/.config/pyenv/versions/3.11.9/envs/information-retrieval/lib/python3.11/site-packages (from jupyterlab<4.2,>=4.1.1->notebook->jupyter->aif360[all]) (2.0.4)\r\n",
      "Requirement already satisfied: httpx>=0.25.0 in /Users/serms/.config/pyenv/versions/3.11.9/envs/information-retrieval/lib/python3.11/site-packages (from jupyterlab<4.2,>=4.1.1->notebook->jupyter->aif360[all]) (0.27.0)\r\n",
      "Requirement already satisfied: jupyter-lsp>=2.0.0 in /Users/serms/.config/pyenv/versions/3.11.9/envs/information-retrieval/lib/python3.11/site-packages (from jupyterlab<4.2,>=4.1.1->notebook->jupyter->aif360[all]) (2.2.4)\r\n",
      "Requirement already satisfied: json5>=0.9.0 in /Users/serms/.config/pyenv/versions/3.11.9/envs/information-retrieval/lib/python3.11/site-packages (from jupyterlab-server<3,>=2.22.1->notebook->jupyter->aif360[all]) (0.9.24)\r\n",
      "Requirement already satisfied: jsonschema>=4.18.0 in /Users/serms/.config/pyenv/versions/3.11.9/envs/information-retrieval/lib/python3.11/site-packages (from jupyterlab-server<3,>=2.22.1->notebook->jupyter->aif360[all]) (4.21.1)\r\n",
      "Requirement already satisfied: fastjsonschema>=2.15 in /Users/serms/.config/pyenv/versions/3.11.9/envs/information-retrieval/lib/python3.11/site-packages (from nbformat>=5.7->nbconvert->jupyter->aif360[all]) (2.19.1)\r\n",
      "Requirement already satisfied: ptyprocess>=0.5 in /Users/serms/.config/pyenv/versions/3.11.9/envs/information-retrieval/lib/python3.11/site-packages (from pexpect>4.3->ipython<9->ipympl->aif360[all]) (0.7.0)\r\n",
      "Requirement already satisfied: wcwidth in /Users/serms/.config/pyenv/versions/3.11.9/envs/information-retrieval/lib/python3.11/site-packages (from prompt-toolkit<3.1.0,>=3.0.41->ipython<9->ipympl->aif360[all]) (0.2.13)\r\n",
      "Requirement already satisfied: soupsieve>1.2 in /Users/serms/.config/pyenv/versions/3.11.9/envs/information-retrieval/lib/python3.11/site-packages (from beautifulsoup4->nbconvert->jupyter->aif360[all]) (2.5)\r\n",
      "Requirement already satisfied: markdown-it-py>=2.2.0 in /Users/serms/.config/pyenv/versions/3.11.9/envs/information-retrieval/lib/python3.11/site-packages (from rich->keras>=3.0.0->tensorflow>=1.13.1->aif360[all]) (3.0.0)\r\n",
      "Requirement already satisfied: executing>=1.2.0 in /Users/serms/.config/pyenv/versions/3.11.9/envs/information-retrieval/lib/python3.11/site-packages (from stack-data->ipython<9->ipympl->aif360[all]) (2.0.1)\r\n",
      "Requirement already satisfied: asttokens>=2.1.0 in /Users/serms/.config/pyenv/versions/3.11.9/envs/information-retrieval/lib/python3.11/site-packages (from stack-data->ipython<9->ipympl->aif360[all]) (2.4.1)\r\n",
      "Requirement already satisfied: pure-eval in /Users/serms/.config/pyenv/versions/3.11.9/envs/information-retrieval/lib/python3.11/site-packages (from stack-data->ipython<9->ipympl->aif360[all]) (0.2.2)\r\n",
      "Requirement already satisfied: sniffio>=1.1 in /Users/serms/.config/pyenv/versions/3.11.9/envs/information-retrieval/lib/python3.11/site-packages (from anyio>=3.1.0->jupyter-server<3,>=2.4.0->notebook->jupyter->aif360[all]) (1.3.1)\r\n",
      "Requirement already satisfied: httpcore==1.* in /Users/serms/.config/pyenv/versions/3.11.9/envs/information-retrieval/lib/python3.11/site-packages (from httpx>=0.25.0->jupyterlab<4.2,>=4.1.1->notebook->jupyter->aif360[all]) (1.0.5)\r\n",
      "Requirement already satisfied: h11<0.15,>=0.13 in /Users/serms/.config/pyenv/versions/3.11.9/envs/information-retrieval/lib/python3.11/site-packages (from httpcore==1.*->httpx>=0.25.0->jupyterlab<4.2,>=4.1.1->notebook->jupyter->aif360[all]) (0.14.0)\r\n",
      "Requirement already satisfied: attrs>=22.2.0 in /Users/serms/.config/pyenv/versions/3.11.9/envs/information-retrieval/lib/python3.11/site-packages (from jsonschema>=4.18.0->jupyterlab-server<3,>=2.22.1->notebook->jupyter->aif360[all]) (23.2.0)\r\n",
      "Requirement already satisfied: jsonschema-specifications>=2023.03.6 in /Users/serms/.config/pyenv/versions/3.11.9/envs/information-retrieval/lib/python3.11/site-packages (from jsonschema>=4.18.0->jupyterlab-server<3,>=2.22.1->notebook->jupyter->aif360[all]) (2023.12.1)\r\n",
      "Requirement already satisfied: referencing>=0.28.4 in /Users/serms/.config/pyenv/versions/3.11.9/envs/information-retrieval/lib/python3.11/site-packages (from jsonschema>=4.18.0->jupyterlab-server<3,>=2.22.1->notebook->jupyter->aif360[all]) (0.34.0)\r\n",
      "Requirement already satisfied: rpds-py>=0.7.1 in /Users/serms/.config/pyenv/versions/3.11.9/envs/information-retrieval/lib/python3.11/site-packages (from jsonschema>=4.18.0->jupyterlab-server<3,>=2.22.1->notebook->jupyter->aif360[all]) (0.18.0)\r\n",
      "Requirement already satisfied: python-json-logger>=2.0.4 in /Users/serms/.config/pyenv/versions/3.11.9/envs/information-retrieval/lib/python3.11/site-packages (from jupyter-events>=0.9.0->jupyter-server<3,>=2.4.0->notebook->jupyter->aif360[all]) (2.0.7)\r\n",
      "Requirement already satisfied: pyyaml>=5.3 in /Users/serms/.config/pyenv/versions/3.11.9/envs/information-retrieval/lib/python3.11/site-packages (from jupyter-events>=0.9.0->jupyter-server<3,>=2.4.0->notebook->jupyter->aif360[all]) (6.0.1)\r\n",
      "Requirement already satisfied: rfc3339-validator in /Users/serms/.config/pyenv/versions/3.11.9/envs/information-retrieval/lib/python3.11/site-packages (from jupyter-events>=0.9.0->jupyter-server<3,>=2.4.0->notebook->jupyter->aif360[all]) (0.1.4)\r\n",
      "Requirement already satisfied: rfc3986-validator>=0.1.1 in /Users/serms/.config/pyenv/versions/3.11.9/envs/information-retrieval/lib/python3.11/site-packages (from jupyter-events>=0.9.0->jupyter-server<3,>=2.4.0->notebook->jupyter->aif360[all]) (0.1.1)\r\n",
      "Requirement already satisfied: mdurl~=0.1 in /Users/serms/.config/pyenv/versions/3.11.9/envs/information-retrieval/lib/python3.11/site-packages (from markdown-it-py>=2.2.0->rich->keras>=3.0.0->tensorflow>=1.13.1->aif360[all]) (0.1.2)\r\n",
      "Requirement already satisfied: argon2-cffi-bindings in /Users/serms/.config/pyenv/versions/3.11.9/envs/information-retrieval/lib/python3.11/site-packages (from argon2-cffi->jupyter-server<3,>=2.4.0->notebook->jupyter->aif360[all]) (21.2.0)\r\n",
      "Requirement already satisfied: fqdn in /Users/serms/.config/pyenv/versions/3.11.9/envs/information-retrieval/lib/python3.11/site-packages (from jsonschema[format-nongpl]>=4.18.0->jupyter-events>=0.9.0->jupyter-server<3,>=2.4.0->notebook->jupyter->aif360[all]) (1.5.1)\r\n",
      "Requirement already satisfied: isoduration in /Users/serms/.config/pyenv/versions/3.11.9/envs/information-retrieval/lib/python3.11/site-packages (from jsonschema[format-nongpl]>=4.18.0->jupyter-events>=0.9.0->jupyter-server<3,>=2.4.0->notebook->jupyter->aif360[all]) (20.11.0)\r\n",
      "Requirement already satisfied: jsonpointer>1.13 in /Users/serms/.config/pyenv/versions/3.11.9/envs/information-retrieval/lib/python3.11/site-packages (from jsonschema[format-nongpl]>=4.18.0->jupyter-events>=0.9.0->jupyter-server<3,>=2.4.0->notebook->jupyter->aif360[all]) (2.4)\r\n",
      "Requirement already satisfied: uri-template in /Users/serms/.config/pyenv/versions/3.11.9/envs/information-retrieval/lib/python3.11/site-packages (from jsonschema[format-nongpl]>=4.18.0->jupyter-events>=0.9.0->jupyter-server<3,>=2.4.0->notebook->jupyter->aif360[all]) (1.3.0)\r\n",
      "Requirement already satisfied: webcolors>=1.11 in /Users/serms/.config/pyenv/versions/3.11.9/envs/information-retrieval/lib/python3.11/site-packages (from jsonschema[format-nongpl]>=4.18.0->jupyter-events>=0.9.0->jupyter-server<3,>=2.4.0->notebook->jupyter->aif360[all]) (1.13)\r\n",
      "Requirement already satisfied: arrow>=0.15.0 in /Users/serms/.config/pyenv/versions/3.11.9/envs/information-retrieval/lib/python3.11/site-packages (from isoduration->jsonschema[format-nongpl]>=4.18.0->jupyter-events>=0.9.0->jupyter-server<3,>=2.4.0->notebook->jupyter->aif360[all]) (1.3.0)\r\n",
      "Requirement already satisfied: types-python-dateutil>=2.8.10 in /Users/serms/.config/pyenv/versions/3.11.9/envs/information-retrieval/lib/python3.11/site-packages (from arrow>=0.15.0->isoduration->jsonschema[format-nongpl]>=4.18.0->jupyter-events>=0.9.0->jupyter-server<3,>=2.4.0->notebook->jupyter->aif360[all]) (2.9.0.20240316)\r\n"
     ]
    }
   ],
   "execution_count": 22
  },
  {
   "cell_type": "code",
   "metadata": {
    "colab": {
     "base_uri": "https://localhost:8080/"
    },
    "id": "KFgI8U9ZQX7g",
    "outputId": "b47381c9-8f71-4e59-ee4d-e63730211573",
    "ExecuteTime": {
     "end_time": "2024-04-11T17:59:14.230141Z",
     "start_time": "2024-04-11T17:59:14.223579Z"
    }
   },
   "source": [
    "%matplotlib inline\n",
    "from matplotlib import pyplot as plt\n",
    "from os import getenv\n",
    "import os.path as path\n",
    "import numpy as np\n",
    "import pandas as pd\n",
    "\n",
    "import tensorflow.compat.v1 as tf\n",
    "tf.disable_eager_execution()\n",
    "tf.logging.set_verbosity(tf.compat.v1.logging.ERROR)\n",
    "\n",
    "from sklearn.compose import make_column_transformer\n",
    "from sklearn.linear_model import LogisticRegression\n",
    "from sklearn.metrics import accuracy_score\n",
    "from sklearn.model_selection import GridSearchCV, train_test_split\n",
    "from sklearn.preprocessing import OneHotEncoder\n",
    "\n",
    "from aif360.sklearn.preprocessing import Reweighing, ReweighingMeta\n",
    "from aif360.sklearn.inprocessing import AdversarialDebiasing\n",
    "from aif360.sklearn.postprocessing import CalibratedEqualizedOdds, PostProcessingMeta\n",
    "from aif360.sklearn.datasets import fetch_adult\n",
    "from aif360.sklearn.metrics import disparate_impact_ratio, average_odds_error, generalized_fpr\n",
    "from aif360.sklearn.metrics import generalized_fnr, difference"
   ],
   "outputs": [],
   "execution_count": 23
  },
  {
   "cell_type": "markdown",
   "metadata": {
    "id": "zHi_Esd7QKUW"
   },
   "source": [
    "## Loading data"
   ]
  },
  {
   "metadata": {},
   "cell_type": "markdown",
   "source": "### Adult dataset"
  },
  {
   "cell_type": "markdown",
   "metadata": {
    "id": "JBSgJWDJQKUX"
   },
   "source": [
    "Datasets are formatted as separate `X` (# samples x # features) and `y` (# samples x # labels) DataFrames. The index of each DataFrame contains protected attribute values per sample. Datasets may also load a `sample_weight` object to be used with certain algorithms/metrics. All of this makes it so that aif360 is compatible with scikit-learn objects.\n",
    "\n",
    "For example, we can easily load the Adult dataset from UCI with the following line:"
   ]
  },
  {
   "cell_type": "code",
   "metadata": {
    "colab": {
     "base_uri": "https://localhost:8080/",
     "height": 238
    },
    "id": "CVuqa6BpQKUX",
    "outputId": "cc44625b-359a-46cd-fc15-cc15e90412b3",
    "ExecuteTime": {
     "end_time": "2024-04-11T17:59:14.278133Z",
     "start_time": "2024-04-11T17:59:14.231038Z"
    }
   },
   "source": [
    "adult_names = ['age', 'workclass', 'fnlwgt', 'education', 'education-num', 'marital-status',\n",
    "               'occupation', 'relationship', 'race', 'sex', 'capital-gain', 'capital-loss',\n",
    "                'hours-per-week', 'native-country', 'income']\n",
    "\n",
    "adult_dtypes = {\n",
    "    'age': 'int64',\n",
    "    'workclass': 'category',\n",
    "    'fnlwgt': 'int64',\n",
    "    'education': 'category',\n",
    "    'education-num': 'int64',\n",
    "    'marital-status': 'category',\n",
    "    'occupation': 'category',\n",
    "    'relationship': 'category',\n",
    "    'race': 'category',\n",
    "    'sex': 'category',\n",
    "    'capital-gain': 'int64',\n",
    "    'capital-loss': 'int64',\n",
    "    'hours-per-week': 'int64',\n",
    "    'native-country': 'category',\n",
    "    'income': 'category'\n",
    "}\n",
    "\n",
    "adult_data = pd.read_csv(path.join(path.pardir, 'data', 'adult', 'adult.data'), index_col=None, header=None, dtype=adult_dtypes, na_values=' ?', names=adult_names, skipinitialspace=True)\n",
    "\n",
    "adult_data.set_index(['race', 'sex'], inplace=True)\n",
    "adult_data.head(10)"
   ],
   "outputs": [
    {
     "data": {
      "text/plain": [
       "              age         workclass  fnlwgt  education  education-num  \\\n",
       "race  sex                                                               \n",
       "White Male     39         State-gov   77516  Bachelors             13   \n",
       "      Male     50  Self-emp-not-inc   83311  Bachelors             13   \n",
       "      Male     38           Private  215646    HS-grad              9   \n",
       "Black Male     53           Private  234721       11th              7   \n",
       "      Female   28           Private  338409  Bachelors             13   \n",
       "White Female   37           Private  284582    Masters             14   \n",
       "Black Female   49           Private  160187        9th              5   \n",
       "White Male     52  Self-emp-not-inc  209642    HS-grad              9   \n",
       "      Female   31           Private   45781    Masters             14   \n",
       "      Male     42           Private  159449  Bachelors             13   \n",
       "\n",
       "                     marital-status         occupation   relationship  \\\n",
       "race  sex                                                               \n",
       "White Male            Never-married       Adm-clerical  Not-in-family   \n",
       "      Male       Married-civ-spouse    Exec-managerial        Husband   \n",
       "      Male                 Divorced  Handlers-cleaners  Not-in-family   \n",
       "Black Male       Married-civ-spouse  Handlers-cleaners        Husband   \n",
       "      Female     Married-civ-spouse     Prof-specialty           Wife   \n",
       "White Female     Married-civ-spouse    Exec-managerial           Wife   \n",
       "Black Female  Married-spouse-absent      Other-service  Not-in-family   \n",
       "White Male       Married-civ-spouse    Exec-managerial        Husband   \n",
       "      Female          Never-married     Prof-specialty  Not-in-family   \n",
       "      Male       Married-civ-spouse    Exec-managerial        Husband   \n",
       "\n",
       "              capital-gain  capital-loss  hours-per-week native-country income  \n",
       "race  sex                                                                       \n",
       "White Male            2174             0              40  United-States  <=50K  \n",
       "      Male               0             0              13  United-States  <=50K  \n",
       "      Male               0             0              40  United-States  <=50K  \n",
       "Black Male               0             0              40  United-States  <=50K  \n",
       "      Female             0             0              40           Cuba  <=50K  \n",
       "White Female             0             0              40  United-States  <=50K  \n",
       "Black Female             0             0              16        Jamaica  <=50K  \n",
       "White Male               0             0              45  United-States   >50K  \n",
       "      Female         14084             0              50  United-States   >50K  \n",
       "      Male            5178             0              40  United-States   >50K  "
      ],
      "text/html": [
       "<div>\n",
       "<style scoped>\n",
       "    .dataframe tbody tr th:only-of-type {\n",
       "        vertical-align: middle;\n",
       "    }\n",
       "\n",
       "    .dataframe tbody tr th {\n",
       "        vertical-align: top;\n",
       "    }\n",
       "\n",
       "    .dataframe thead th {\n",
       "        text-align: right;\n",
       "    }\n",
       "</style>\n",
       "<table border=\"1\" class=\"dataframe\">\n",
       "  <thead>\n",
       "    <tr style=\"text-align: right;\">\n",
       "      <th></th>\n",
       "      <th></th>\n",
       "      <th>age</th>\n",
       "      <th>workclass</th>\n",
       "      <th>fnlwgt</th>\n",
       "      <th>education</th>\n",
       "      <th>education-num</th>\n",
       "      <th>marital-status</th>\n",
       "      <th>occupation</th>\n",
       "      <th>relationship</th>\n",
       "      <th>capital-gain</th>\n",
       "      <th>capital-loss</th>\n",
       "      <th>hours-per-week</th>\n",
       "      <th>native-country</th>\n",
       "      <th>income</th>\n",
       "    </tr>\n",
       "    <tr>\n",
       "      <th>race</th>\n",
       "      <th>sex</th>\n",
       "      <th></th>\n",
       "      <th></th>\n",
       "      <th></th>\n",
       "      <th></th>\n",
       "      <th></th>\n",
       "      <th></th>\n",
       "      <th></th>\n",
       "      <th></th>\n",
       "      <th></th>\n",
       "      <th></th>\n",
       "      <th></th>\n",
       "      <th></th>\n",
       "      <th></th>\n",
       "    </tr>\n",
       "  </thead>\n",
       "  <tbody>\n",
       "    <tr>\n",
       "      <th rowspan=\"3\" valign=\"top\">White</th>\n",
       "      <th>Male</th>\n",
       "      <td>39</td>\n",
       "      <td>State-gov</td>\n",
       "      <td>77516</td>\n",
       "      <td>Bachelors</td>\n",
       "      <td>13</td>\n",
       "      <td>Never-married</td>\n",
       "      <td>Adm-clerical</td>\n",
       "      <td>Not-in-family</td>\n",
       "      <td>2174</td>\n",
       "      <td>0</td>\n",
       "      <td>40</td>\n",
       "      <td>United-States</td>\n",
       "      <td>&lt;=50K</td>\n",
       "    </tr>\n",
       "    <tr>\n",
       "      <th>Male</th>\n",
       "      <td>50</td>\n",
       "      <td>Self-emp-not-inc</td>\n",
       "      <td>83311</td>\n",
       "      <td>Bachelors</td>\n",
       "      <td>13</td>\n",
       "      <td>Married-civ-spouse</td>\n",
       "      <td>Exec-managerial</td>\n",
       "      <td>Husband</td>\n",
       "      <td>0</td>\n",
       "      <td>0</td>\n",
       "      <td>13</td>\n",
       "      <td>United-States</td>\n",
       "      <td>&lt;=50K</td>\n",
       "    </tr>\n",
       "    <tr>\n",
       "      <th>Male</th>\n",
       "      <td>38</td>\n",
       "      <td>Private</td>\n",
       "      <td>215646</td>\n",
       "      <td>HS-grad</td>\n",
       "      <td>9</td>\n",
       "      <td>Divorced</td>\n",
       "      <td>Handlers-cleaners</td>\n",
       "      <td>Not-in-family</td>\n",
       "      <td>0</td>\n",
       "      <td>0</td>\n",
       "      <td>40</td>\n",
       "      <td>United-States</td>\n",
       "      <td>&lt;=50K</td>\n",
       "    </tr>\n",
       "    <tr>\n",
       "      <th rowspan=\"2\" valign=\"top\">Black</th>\n",
       "      <th>Male</th>\n",
       "      <td>53</td>\n",
       "      <td>Private</td>\n",
       "      <td>234721</td>\n",
       "      <td>11th</td>\n",
       "      <td>7</td>\n",
       "      <td>Married-civ-spouse</td>\n",
       "      <td>Handlers-cleaners</td>\n",
       "      <td>Husband</td>\n",
       "      <td>0</td>\n",
       "      <td>0</td>\n",
       "      <td>40</td>\n",
       "      <td>United-States</td>\n",
       "      <td>&lt;=50K</td>\n",
       "    </tr>\n",
       "    <tr>\n",
       "      <th>Female</th>\n",
       "      <td>28</td>\n",
       "      <td>Private</td>\n",
       "      <td>338409</td>\n",
       "      <td>Bachelors</td>\n",
       "      <td>13</td>\n",
       "      <td>Married-civ-spouse</td>\n",
       "      <td>Prof-specialty</td>\n",
       "      <td>Wife</td>\n",
       "      <td>0</td>\n",
       "      <td>0</td>\n",
       "      <td>40</td>\n",
       "      <td>Cuba</td>\n",
       "      <td>&lt;=50K</td>\n",
       "    </tr>\n",
       "    <tr>\n",
       "      <th>White</th>\n",
       "      <th>Female</th>\n",
       "      <td>37</td>\n",
       "      <td>Private</td>\n",
       "      <td>284582</td>\n",
       "      <td>Masters</td>\n",
       "      <td>14</td>\n",
       "      <td>Married-civ-spouse</td>\n",
       "      <td>Exec-managerial</td>\n",
       "      <td>Wife</td>\n",
       "      <td>0</td>\n",
       "      <td>0</td>\n",
       "      <td>40</td>\n",
       "      <td>United-States</td>\n",
       "      <td>&lt;=50K</td>\n",
       "    </tr>\n",
       "    <tr>\n",
       "      <th>Black</th>\n",
       "      <th>Female</th>\n",
       "      <td>49</td>\n",
       "      <td>Private</td>\n",
       "      <td>160187</td>\n",
       "      <td>9th</td>\n",
       "      <td>5</td>\n",
       "      <td>Married-spouse-absent</td>\n",
       "      <td>Other-service</td>\n",
       "      <td>Not-in-family</td>\n",
       "      <td>0</td>\n",
       "      <td>0</td>\n",
       "      <td>16</td>\n",
       "      <td>Jamaica</td>\n",
       "      <td>&lt;=50K</td>\n",
       "    </tr>\n",
       "    <tr>\n",
       "      <th rowspan=\"3\" valign=\"top\">White</th>\n",
       "      <th>Male</th>\n",
       "      <td>52</td>\n",
       "      <td>Self-emp-not-inc</td>\n",
       "      <td>209642</td>\n",
       "      <td>HS-grad</td>\n",
       "      <td>9</td>\n",
       "      <td>Married-civ-spouse</td>\n",
       "      <td>Exec-managerial</td>\n",
       "      <td>Husband</td>\n",
       "      <td>0</td>\n",
       "      <td>0</td>\n",
       "      <td>45</td>\n",
       "      <td>United-States</td>\n",
       "      <td>&gt;50K</td>\n",
       "    </tr>\n",
       "    <tr>\n",
       "      <th>Female</th>\n",
       "      <td>31</td>\n",
       "      <td>Private</td>\n",
       "      <td>45781</td>\n",
       "      <td>Masters</td>\n",
       "      <td>14</td>\n",
       "      <td>Never-married</td>\n",
       "      <td>Prof-specialty</td>\n",
       "      <td>Not-in-family</td>\n",
       "      <td>14084</td>\n",
       "      <td>0</td>\n",
       "      <td>50</td>\n",
       "      <td>United-States</td>\n",
       "      <td>&gt;50K</td>\n",
       "    </tr>\n",
       "    <tr>\n",
       "      <th>Male</th>\n",
       "      <td>42</td>\n",
       "      <td>Private</td>\n",
       "      <td>159449</td>\n",
       "      <td>Bachelors</td>\n",
       "      <td>13</td>\n",
       "      <td>Married-civ-spouse</td>\n",
       "      <td>Exec-managerial</td>\n",
       "      <td>Husband</td>\n",
       "      <td>5178</td>\n",
       "      <td>0</td>\n",
       "      <td>40</td>\n",
       "      <td>United-States</td>\n",
       "      <td>&gt;50K</td>\n",
       "    </tr>\n",
       "  </tbody>\n",
       "</table>\n",
       "</div>"
      ]
     },
     "execution_count": 24,
     "metadata": {},
     "output_type": "execute_result"
    }
   ],
   "execution_count": 24
  },
  {
   "cell_type": "markdown",
   "metadata": {
    "id": "YoUxNPTHQKUY"
   },
   "source": [
    "We can then map the protected attributes to integers,"
   ]
  },
  {
   "cell_type": "code",
   "metadata": {
    "id": "KoIzyUpIQKUY",
    "ExecuteTime": {
     "end_time": "2024-04-11T17:59:14.283254Z",
     "start_time": "2024-04-11T17:59:14.279148Z"
    }
   },
   "source": [
    "y = adult_data['income']\n",
    "X = adult_data.drop(columns='income')\n",
    "\n",
    "X.index = pd.MultiIndex.from_arrays(X.index.codes, names=X.index.names)\n",
    "y.index = pd.MultiIndex.from_arrays(y.index.codes, names=y.index.names)"
   ],
   "outputs": [],
   "execution_count": 25
  },
  {
   "cell_type": "markdown",
   "metadata": {
    "id": "FpMD-pRaQKUY"
   },
   "source": [
    "and the target classes to 0/1,"
   ]
  },
  {
   "cell_type": "code",
   "metadata": {
    "id": "4FuupoA3QKUY",
    "ExecuteTime": {
     "end_time": "2024-04-11T17:59:14.286391Z",
     "start_time": "2024-04-11T17:59:14.284058Z"
    }
   },
   "source": "y = pd.Series(y.factorize(sort=True)[0], index=y.index, name=y.name)",
   "outputs": [],
   "execution_count": 26
  },
  {
   "cell_type": "markdown",
   "metadata": {
    "id": "3T-NvfWyQKUZ"
   },
   "source": [
    "split the dataset,"
   ]
  },
  {
   "cell_type": "code",
   "metadata": {
    "id": "Vc4qGCNGQKUZ",
    "ExecuteTime": {
     "end_time": "2024-04-11T17:59:14.292072Z",
     "start_time": "2024-04-11T17:59:14.287079Z"
    }
   },
   "source": "X_train, X_test, y_train, y_test = train_test_split(X, y, train_size=0.7, random_state=random_state)",
   "outputs": [],
   "execution_count": 27
  },
  {
   "cell_type": "markdown",
   "metadata": {
    "id": "1YBoWRhSQKUZ"
   },
   "source": [
    "and finally, one-hot encode the categorical features:"
   ]
  },
  {
   "cell_type": "code",
   "metadata": {
    "colab": {
     "base_uri": "https://localhost:8080/",
     "height": 366
    },
    "id": "D1RI5-mUQKUZ",
    "outputId": "633dc1a0-c526-4d4f-9af0-21550a873740",
    "ExecuteTime": {
     "end_time": "2024-04-11T17:59:14.343080Z",
     "start_time": "2024-04-11T17:59:14.292904Z"
    }
   },
   "source": [
    "ohe = make_column_transformer(\n",
    "        (OneHotEncoder(sparse_output=False), X_train.dtypes == 'category'),\n",
    "        remainder='passthrough', verbose_feature_names_out=False)\n",
    "X_train  = pd.DataFrame(ohe.fit_transform(X_train), columns=ohe.get_feature_names_out(), index=X_train.index)\n",
    "X_test = pd.DataFrame(ohe.transform(X_test), columns=ohe.get_feature_names_out(), index=X_test.index)\n",
    "\n",
    "X_train.head(10)"
   ],
   "outputs": [
    {
     "data": {
      "text/plain": [
       "          workclass_?  workclass_Federal-gov  workclass_Local-gov  \\\n",
       "race sex                                                            \n",
       "4    0            0.0                    0.0                  0.0   \n",
       "0    1            0.0                    0.0                  0.0   \n",
       "4    1            0.0                    0.0                  0.0   \n",
       "     0            0.0                    0.0                  1.0   \n",
       "     0            0.0                    0.0                  0.0   \n",
       "     1            0.0                    0.0                  0.0   \n",
       "     0            0.0                    0.0                  0.0   \n",
       "0    0            0.0                    0.0                  0.0   \n",
       "2    1            0.0                    0.0                  0.0   \n",
       "4    1            0.0                    0.0                  0.0   \n",
       "\n",
       "          workclass_Never-worked  workclass_Private  workclass_Self-emp-inc  \\\n",
       "race sex                                                                      \n",
       "4    0                       0.0                0.0                     0.0   \n",
       "0    1                       0.0                0.0                     0.0   \n",
       "4    1                       0.0                0.0                     0.0   \n",
       "     0                       0.0                0.0                     0.0   \n",
       "     0                       0.0                1.0                     0.0   \n",
       "     1                       0.0                1.0                     0.0   \n",
       "     0                       0.0                1.0                     0.0   \n",
       "0    0                       0.0                0.0                     0.0   \n",
       "2    1                       0.0                1.0                     0.0   \n",
       "4    1                       0.0                1.0                     0.0   \n",
       "\n",
       "          workclass_Self-emp-not-inc  workclass_State-gov  \\\n",
       "race sex                                                    \n",
       "4    0                           1.0                  0.0   \n",
       "0    1                           1.0                  0.0   \n",
       "4    1                           0.0                  1.0   \n",
       "     0                           0.0                  0.0   \n",
       "     0                           0.0                  0.0   \n",
       "     1                           0.0                  0.0   \n",
       "     0                           0.0                  0.0   \n",
       "0    0                           1.0                  0.0   \n",
       "2    1                           0.0                  0.0   \n",
       "4    1                           0.0                  0.0   \n",
       "\n",
       "          workclass_Without-pay  education_10th  ...  \\\n",
       "race sex                                         ...   \n",
       "4    0                      0.0             0.0  ...   \n",
       "0    1                      0.0             0.0  ...   \n",
       "4    1                      0.0             0.0  ...   \n",
       "     0                      0.0             0.0  ...   \n",
       "     0                      0.0             0.0  ...   \n",
       "     1                      0.0             0.0  ...   \n",
       "     0                      0.0             0.0  ...   \n",
       "0    0                      0.0             0.0  ...   \n",
       "2    1                      0.0             0.0  ...   \n",
       "4    1                      0.0             0.0  ...   \n",
       "\n",
       "          native-country_Trinadad&Tobago  native-country_United-States  \\\n",
       "race sex                                                                 \n",
       "4    0                               0.0                           1.0   \n",
       "0    1                               0.0                           1.0   \n",
       "4    1                               0.0                           1.0   \n",
       "     0                               0.0                           1.0   \n",
       "     0                               0.0                           1.0   \n",
       "     1                               0.0                           0.0   \n",
       "     0                               0.0                           1.0   \n",
       "0    0                               0.0                           1.0   \n",
       "2    1                               0.0                           0.0   \n",
       "4    1                               0.0                           1.0   \n",
       "\n",
       "          native-country_Vietnam  native-country_Yugoslavia   age    fnlwgt  \\\n",
       "race sex                                                                      \n",
       "4    0                       0.0                        0.0  34.0   56460.0   \n",
       "0    1                       0.0                        0.0  48.0  243631.0   \n",
       "4    1                       0.0                        0.0  23.0   56402.0   \n",
       "     0                       0.0                        0.0  56.0  255406.0   \n",
       "     0                       0.0                        0.0  17.0  297246.0   \n",
       "     1                       0.0                        0.0  34.0  152453.0   \n",
       "     0                       0.0                        0.0  37.0  140673.0   \n",
       "0    0                       0.0                        0.0  49.0  162856.0   \n",
       "2    1                       0.0                        0.0  55.0  132887.0   \n",
       "4    1                       0.0                        0.0  25.0  131463.0   \n",
       "\n",
       "          education-num  capital-gain  capital-loss  hours-per-week  \n",
       "race sex                                                             \n",
       "4    0              9.0           0.0        2179.0            12.0  \n",
       "0    1             10.0        7688.0           0.0            40.0  \n",
       "4    1             10.0           0.0           0.0            30.0  \n",
       "     0              9.0           0.0           0.0            40.0  \n",
       "     0              7.0           0.0           0.0             9.0  \n",
       "     1              8.0           0.0           0.0            40.0  \n",
       "     0             10.0           0.0           0.0            40.0  \n",
       "0    0             10.0           0.0           0.0            40.0  \n",
       "2    1              9.0        3411.0           0.0            40.0  \n",
       "4    1             13.0           0.0           0.0            40.0  \n",
       "\n",
       "[10 rows x 101 columns]"
      ],
      "text/html": [
       "<div>\n",
       "<style scoped>\n",
       "    .dataframe tbody tr th:only-of-type {\n",
       "        vertical-align: middle;\n",
       "    }\n",
       "\n",
       "    .dataframe tbody tr th {\n",
       "        vertical-align: top;\n",
       "    }\n",
       "\n",
       "    .dataframe thead th {\n",
       "        text-align: right;\n",
       "    }\n",
       "</style>\n",
       "<table border=\"1\" class=\"dataframe\">\n",
       "  <thead>\n",
       "    <tr style=\"text-align: right;\">\n",
       "      <th></th>\n",
       "      <th></th>\n",
       "      <th>workclass_?</th>\n",
       "      <th>workclass_Federal-gov</th>\n",
       "      <th>workclass_Local-gov</th>\n",
       "      <th>workclass_Never-worked</th>\n",
       "      <th>workclass_Private</th>\n",
       "      <th>workclass_Self-emp-inc</th>\n",
       "      <th>workclass_Self-emp-not-inc</th>\n",
       "      <th>workclass_State-gov</th>\n",
       "      <th>workclass_Without-pay</th>\n",
       "      <th>education_10th</th>\n",
       "      <th>...</th>\n",
       "      <th>native-country_Trinadad&amp;Tobago</th>\n",
       "      <th>native-country_United-States</th>\n",
       "      <th>native-country_Vietnam</th>\n",
       "      <th>native-country_Yugoslavia</th>\n",
       "      <th>age</th>\n",
       "      <th>fnlwgt</th>\n",
       "      <th>education-num</th>\n",
       "      <th>capital-gain</th>\n",
       "      <th>capital-loss</th>\n",
       "      <th>hours-per-week</th>\n",
       "    </tr>\n",
       "    <tr>\n",
       "      <th>race</th>\n",
       "      <th>sex</th>\n",
       "      <th></th>\n",
       "      <th></th>\n",
       "      <th></th>\n",
       "      <th></th>\n",
       "      <th></th>\n",
       "      <th></th>\n",
       "      <th></th>\n",
       "      <th></th>\n",
       "      <th></th>\n",
       "      <th></th>\n",
       "      <th></th>\n",
       "      <th></th>\n",
       "      <th></th>\n",
       "      <th></th>\n",
       "      <th></th>\n",
       "      <th></th>\n",
       "      <th></th>\n",
       "      <th></th>\n",
       "      <th></th>\n",
       "      <th></th>\n",
       "      <th></th>\n",
       "    </tr>\n",
       "  </thead>\n",
       "  <tbody>\n",
       "    <tr>\n",
       "      <th>4</th>\n",
       "      <th>0</th>\n",
       "      <td>0.0</td>\n",
       "      <td>0.0</td>\n",
       "      <td>0.0</td>\n",
       "      <td>0.0</td>\n",
       "      <td>0.0</td>\n",
       "      <td>0.0</td>\n",
       "      <td>1.0</td>\n",
       "      <td>0.0</td>\n",
       "      <td>0.0</td>\n",
       "      <td>0.0</td>\n",
       "      <td>...</td>\n",
       "      <td>0.0</td>\n",
       "      <td>1.0</td>\n",
       "      <td>0.0</td>\n",
       "      <td>0.0</td>\n",
       "      <td>34.0</td>\n",
       "      <td>56460.0</td>\n",
       "      <td>9.0</td>\n",
       "      <td>0.0</td>\n",
       "      <td>2179.0</td>\n",
       "      <td>12.0</td>\n",
       "    </tr>\n",
       "    <tr>\n",
       "      <th>0</th>\n",
       "      <th>1</th>\n",
       "      <td>0.0</td>\n",
       "      <td>0.0</td>\n",
       "      <td>0.0</td>\n",
       "      <td>0.0</td>\n",
       "      <td>0.0</td>\n",
       "      <td>0.0</td>\n",
       "      <td>1.0</td>\n",
       "      <td>0.0</td>\n",
       "      <td>0.0</td>\n",
       "      <td>0.0</td>\n",
       "      <td>...</td>\n",
       "      <td>0.0</td>\n",
       "      <td>1.0</td>\n",
       "      <td>0.0</td>\n",
       "      <td>0.0</td>\n",
       "      <td>48.0</td>\n",
       "      <td>243631.0</td>\n",
       "      <td>10.0</td>\n",
       "      <td>7688.0</td>\n",
       "      <td>0.0</td>\n",
       "      <td>40.0</td>\n",
       "    </tr>\n",
       "    <tr>\n",
       "      <th rowspan=\"5\" valign=\"top\">4</th>\n",
       "      <th>1</th>\n",
       "      <td>0.0</td>\n",
       "      <td>0.0</td>\n",
       "      <td>0.0</td>\n",
       "      <td>0.0</td>\n",
       "      <td>0.0</td>\n",
       "      <td>0.0</td>\n",
       "      <td>0.0</td>\n",
       "      <td>1.0</td>\n",
       "      <td>0.0</td>\n",
       "      <td>0.0</td>\n",
       "      <td>...</td>\n",
       "      <td>0.0</td>\n",
       "      <td>1.0</td>\n",
       "      <td>0.0</td>\n",
       "      <td>0.0</td>\n",
       "      <td>23.0</td>\n",
       "      <td>56402.0</td>\n",
       "      <td>10.0</td>\n",
       "      <td>0.0</td>\n",
       "      <td>0.0</td>\n",
       "      <td>30.0</td>\n",
       "    </tr>\n",
       "    <tr>\n",
       "      <th>0</th>\n",
       "      <td>0.0</td>\n",
       "      <td>0.0</td>\n",
       "      <td>1.0</td>\n",
       "      <td>0.0</td>\n",
       "      <td>0.0</td>\n",
       "      <td>0.0</td>\n",
       "      <td>0.0</td>\n",
       "      <td>0.0</td>\n",
       "      <td>0.0</td>\n",
       "      <td>0.0</td>\n",
       "      <td>...</td>\n",
       "      <td>0.0</td>\n",
       "      <td>1.0</td>\n",
       "      <td>0.0</td>\n",
       "      <td>0.0</td>\n",
       "      <td>56.0</td>\n",
       "      <td>255406.0</td>\n",
       "      <td>9.0</td>\n",
       "      <td>0.0</td>\n",
       "      <td>0.0</td>\n",
       "      <td>40.0</td>\n",
       "    </tr>\n",
       "    <tr>\n",
       "      <th>0</th>\n",
       "      <td>0.0</td>\n",
       "      <td>0.0</td>\n",
       "      <td>0.0</td>\n",
       "      <td>0.0</td>\n",
       "      <td>1.0</td>\n",
       "      <td>0.0</td>\n",
       "      <td>0.0</td>\n",
       "      <td>0.0</td>\n",
       "      <td>0.0</td>\n",
       "      <td>0.0</td>\n",
       "      <td>...</td>\n",
       "      <td>0.0</td>\n",
       "      <td>1.0</td>\n",
       "      <td>0.0</td>\n",
       "      <td>0.0</td>\n",
       "      <td>17.0</td>\n",
       "      <td>297246.0</td>\n",
       "      <td>7.0</td>\n",
       "      <td>0.0</td>\n",
       "      <td>0.0</td>\n",
       "      <td>9.0</td>\n",
       "    </tr>\n",
       "    <tr>\n",
       "      <th>1</th>\n",
       "      <td>0.0</td>\n",
       "      <td>0.0</td>\n",
       "      <td>0.0</td>\n",
       "      <td>0.0</td>\n",
       "      <td>1.0</td>\n",
       "      <td>0.0</td>\n",
       "      <td>0.0</td>\n",
       "      <td>0.0</td>\n",
       "      <td>0.0</td>\n",
       "      <td>0.0</td>\n",
       "      <td>...</td>\n",
       "      <td>0.0</td>\n",
       "      <td>0.0</td>\n",
       "      <td>0.0</td>\n",
       "      <td>0.0</td>\n",
       "      <td>34.0</td>\n",
       "      <td>152453.0</td>\n",
       "      <td>8.0</td>\n",
       "      <td>0.0</td>\n",
       "      <td>0.0</td>\n",
       "      <td>40.0</td>\n",
       "    </tr>\n",
       "    <tr>\n",
       "      <th>0</th>\n",
       "      <td>0.0</td>\n",
       "      <td>0.0</td>\n",
       "      <td>0.0</td>\n",
       "      <td>0.0</td>\n",
       "      <td>1.0</td>\n",
       "      <td>0.0</td>\n",
       "      <td>0.0</td>\n",
       "      <td>0.0</td>\n",
       "      <td>0.0</td>\n",
       "      <td>0.0</td>\n",
       "      <td>...</td>\n",
       "      <td>0.0</td>\n",
       "      <td>1.0</td>\n",
       "      <td>0.0</td>\n",
       "      <td>0.0</td>\n",
       "      <td>37.0</td>\n",
       "      <td>140673.0</td>\n",
       "      <td>10.0</td>\n",
       "      <td>0.0</td>\n",
       "      <td>0.0</td>\n",
       "      <td>40.0</td>\n",
       "    </tr>\n",
       "    <tr>\n",
       "      <th>0</th>\n",
       "      <th>0</th>\n",
       "      <td>0.0</td>\n",
       "      <td>0.0</td>\n",
       "      <td>0.0</td>\n",
       "      <td>0.0</td>\n",
       "      <td>0.0</td>\n",
       "      <td>0.0</td>\n",
       "      <td>1.0</td>\n",
       "      <td>0.0</td>\n",
       "      <td>0.0</td>\n",
       "      <td>0.0</td>\n",
       "      <td>...</td>\n",
       "      <td>0.0</td>\n",
       "      <td>1.0</td>\n",
       "      <td>0.0</td>\n",
       "      <td>0.0</td>\n",
       "      <td>49.0</td>\n",
       "      <td>162856.0</td>\n",
       "      <td>10.0</td>\n",
       "      <td>0.0</td>\n",
       "      <td>0.0</td>\n",
       "      <td>40.0</td>\n",
       "    </tr>\n",
       "    <tr>\n",
       "      <th>2</th>\n",
       "      <th>1</th>\n",
       "      <td>0.0</td>\n",
       "      <td>0.0</td>\n",
       "      <td>0.0</td>\n",
       "      <td>0.0</td>\n",
       "      <td>1.0</td>\n",
       "      <td>0.0</td>\n",
       "      <td>0.0</td>\n",
       "      <td>0.0</td>\n",
       "      <td>0.0</td>\n",
       "      <td>0.0</td>\n",
       "      <td>...</td>\n",
       "      <td>0.0</td>\n",
       "      <td>0.0</td>\n",
       "      <td>0.0</td>\n",
       "      <td>0.0</td>\n",
       "      <td>55.0</td>\n",
       "      <td>132887.0</td>\n",
       "      <td>9.0</td>\n",
       "      <td>3411.0</td>\n",
       "      <td>0.0</td>\n",
       "      <td>40.0</td>\n",
       "    </tr>\n",
       "    <tr>\n",
       "      <th>4</th>\n",
       "      <th>1</th>\n",
       "      <td>0.0</td>\n",
       "      <td>0.0</td>\n",
       "      <td>0.0</td>\n",
       "      <td>0.0</td>\n",
       "      <td>1.0</td>\n",
       "      <td>0.0</td>\n",
       "      <td>0.0</td>\n",
       "      <td>0.0</td>\n",
       "      <td>0.0</td>\n",
       "      <td>0.0</td>\n",
       "      <td>...</td>\n",
       "      <td>0.0</td>\n",
       "      <td>1.0</td>\n",
       "      <td>0.0</td>\n",
       "      <td>0.0</td>\n",
       "      <td>25.0</td>\n",
       "      <td>131463.0</td>\n",
       "      <td>13.0</td>\n",
       "      <td>0.0</td>\n",
       "      <td>0.0</td>\n",
       "      <td>40.0</td>\n",
       "    </tr>\n",
       "  </tbody>\n",
       "</table>\n",
       "<p>10 rows × 101 columns</p>\n",
       "</div>"
      ]
     },
     "execution_count": 28,
     "metadata": {},
     "output_type": "execute_result"
    }
   ],
   "execution_count": 28
  },
  {
   "cell_type": "markdown",
   "metadata": {
    "id": "TsmP5ozGQKUa"
   },
   "source": [
    "Note: the column names are lost in this transformation. The same encoding can be done with Pandas, but this cannot be combined with other preprocessing in a Pipeline."
   ]
  },
  {
   "cell_type": "code",
   "metadata": {
    "colab": {
     "base_uri": "https://localhost:8080/",
     "height": 366
    },
    "id": "_pBLAXtIQKUa",
    "outputId": "b18a38cf-fa47-4728-c66b-0c258b625e21",
    "ExecuteTime": {
     "end_time": "2024-04-11T17:59:14.355668Z",
     "start_time": "2024-04-11T17:59:14.343827Z"
    }
   },
   "source": "pd.get_dummies(X).head(10)",
   "outputs": [
    {
     "data": {
      "text/plain": [
       "          age  fnlwgt  education-num  capital-gain  capital-loss  \\\n",
       "race sex                                                           \n",
       "4    1     39   77516             13          2174             0   \n",
       "     1     50   83311             13             0             0   \n",
       "     1     38  215646              9             0             0   \n",
       "2    1     53  234721              7             0             0   \n",
       "     0     28  338409             13             0             0   \n",
       "4    0     37  284582             14             0             0   \n",
       "2    0     49  160187              5             0             0   \n",
       "4    1     52  209642              9             0             0   \n",
       "     0     31   45781             14         14084             0   \n",
       "     1     42  159449             13          5178             0   \n",
       "\n",
       "          hours-per-week  workclass_?  workclass_Federal-gov  \\\n",
       "race sex                                                       \n",
       "4    1                40        False                  False   \n",
       "     1                13        False                  False   \n",
       "     1                40        False                  False   \n",
       "2    1                40        False                  False   \n",
       "     0                40        False                  False   \n",
       "4    0                40        False                  False   \n",
       "2    0                16        False                  False   \n",
       "4    1                45        False                  False   \n",
       "     0                50        False                  False   \n",
       "     1                40        False                  False   \n",
       "\n",
       "          workclass_Local-gov  workclass_Never-worked  ...  \\\n",
       "race sex                                               ...   \n",
       "4    1                  False                   False  ...   \n",
       "     1                  False                   False  ...   \n",
       "     1                  False                   False  ...   \n",
       "2    1                  False                   False  ...   \n",
       "     0                  False                   False  ...   \n",
       "4    0                  False                   False  ...   \n",
       "2    0                  False                   False  ...   \n",
       "4    1                  False                   False  ...   \n",
       "     0                  False                   False  ...   \n",
       "     1                  False                   False  ...   \n",
       "\n",
       "          native-country_Portugal  native-country_Puerto-Rico  \\\n",
       "race sex                                                        \n",
       "4    1                      False                       False   \n",
       "     1                      False                       False   \n",
       "     1                      False                       False   \n",
       "2    1                      False                       False   \n",
       "     0                      False                       False   \n",
       "4    0                      False                       False   \n",
       "2    0                      False                       False   \n",
       "4    1                      False                       False   \n",
       "     0                      False                       False   \n",
       "     1                      False                       False   \n",
       "\n",
       "          native-country_Scotland  native-country_South  \\\n",
       "race sex                                                  \n",
       "4    1                      False                 False   \n",
       "     1                      False                 False   \n",
       "     1                      False                 False   \n",
       "2    1                      False                 False   \n",
       "     0                      False                 False   \n",
       "4    0                      False                 False   \n",
       "2    0                      False                 False   \n",
       "4    1                      False                 False   \n",
       "     0                      False                 False   \n",
       "     1                      False                 False   \n",
       "\n",
       "          native-country_Taiwan  native-country_Thailand  \\\n",
       "race sex                                                   \n",
       "4    1                    False                    False   \n",
       "     1                    False                    False   \n",
       "     1                    False                    False   \n",
       "2    1                    False                    False   \n",
       "     0                    False                    False   \n",
       "4    0                    False                    False   \n",
       "2    0                    False                    False   \n",
       "4    1                    False                    False   \n",
       "     0                    False                    False   \n",
       "     1                    False                    False   \n",
       "\n",
       "          native-country_Trinadad&Tobago  native-country_United-States  \\\n",
       "race sex                                                                 \n",
       "4    1                             False                          True   \n",
       "     1                             False                          True   \n",
       "     1                             False                          True   \n",
       "2    1                             False                          True   \n",
       "     0                             False                         False   \n",
       "4    0                             False                          True   \n",
       "2    0                             False                         False   \n",
       "4    1                             False                          True   \n",
       "     0                             False                          True   \n",
       "     1                             False                          True   \n",
       "\n",
       "          native-country_Vietnam  native-country_Yugoslavia  \n",
       "race sex                                                     \n",
       "4    1                     False                      False  \n",
       "     1                     False                      False  \n",
       "     1                     False                      False  \n",
       "2    1                     False                      False  \n",
       "     0                     False                      False  \n",
       "4    0                     False                      False  \n",
       "2    0                     False                      False  \n",
       "4    1                     False                      False  \n",
       "     0                     False                      False  \n",
       "     1                     False                      False  \n",
       "\n",
       "[10 rows x 101 columns]"
      ],
      "text/html": [
       "<div>\n",
       "<style scoped>\n",
       "    .dataframe tbody tr th:only-of-type {\n",
       "        vertical-align: middle;\n",
       "    }\n",
       "\n",
       "    .dataframe tbody tr th {\n",
       "        vertical-align: top;\n",
       "    }\n",
       "\n",
       "    .dataframe thead th {\n",
       "        text-align: right;\n",
       "    }\n",
       "</style>\n",
       "<table border=\"1\" class=\"dataframe\">\n",
       "  <thead>\n",
       "    <tr style=\"text-align: right;\">\n",
       "      <th></th>\n",
       "      <th></th>\n",
       "      <th>age</th>\n",
       "      <th>fnlwgt</th>\n",
       "      <th>education-num</th>\n",
       "      <th>capital-gain</th>\n",
       "      <th>capital-loss</th>\n",
       "      <th>hours-per-week</th>\n",
       "      <th>workclass_?</th>\n",
       "      <th>workclass_Federal-gov</th>\n",
       "      <th>workclass_Local-gov</th>\n",
       "      <th>workclass_Never-worked</th>\n",
       "      <th>...</th>\n",
       "      <th>native-country_Portugal</th>\n",
       "      <th>native-country_Puerto-Rico</th>\n",
       "      <th>native-country_Scotland</th>\n",
       "      <th>native-country_South</th>\n",
       "      <th>native-country_Taiwan</th>\n",
       "      <th>native-country_Thailand</th>\n",
       "      <th>native-country_Trinadad&amp;Tobago</th>\n",
       "      <th>native-country_United-States</th>\n",
       "      <th>native-country_Vietnam</th>\n",
       "      <th>native-country_Yugoslavia</th>\n",
       "    </tr>\n",
       "    <tr>\n",
       "      <th>race</th>\n",
       "      <th>sex</th>\n",
       "      <th></th>\n",
       "      <th></th>\n",
       "      <th></th>\n",
       "      <th></th>\n",
       "      <th></th>\n",
       "      <th></th>\n",
       "      <th></th>\n",
       "      <th></th>\n",
       "      <th></th>\n",
       "      <th></th>\n",
       "      <th></th>\n",
       "      <th></th>\n",
       "      <th></th>\n",
       "      <th></th>\n",
       "      <th></th>\n",
       "      <th></th>\n",
       "      <th></th>\n",
       "      <th></th>\n",
       "      <th></th>\n",
       "      <th></th>\n",
       "      <th></th>\n",
       "    </tr>\n",
       "  </thead>\n",
       "  <tbody>\n",
       "    <tr>\n",
       "      <th rowspan=\"3\" valign=\"top\">4</th>\n",
       "      <th>1</th>\n",
       "      <td>39</td>\n",
       "      <td>77516</td>\n",
       "      <td>13</td>\n",
       "      <td>2174</td>\n",
       "      <td>0</td>\n",
       "      <td>40</td>\n",
       "      <td>False</td>\n",
       "      <td>False</td>\n",
       "      <td>False</td>\n",
       "      <td>False</td>\n",
       "      <td>...</td>\n",
       "      <td>False</td>\n",
       "      <td>False</td>\n",
       "      <td>False</td>\n",
       "      <td>False</td>\n",
       "      <td>False</td>\n",
       "      <td>False</td>\n",
       "      <td>False</td>\n",
       "      <td>True</td>\n",
       "      <td>False</td>\n",
       "      <td>False</td>\n",
       "    </tr>\n",
       "    <tr>\n",
       "      <th>1</th>\n",
       "      <td>50</td>\n",
       "      <td>83311</td>\n",
       "      <td>13</td>\n",
       "      <td>0</td>\n",
       "      <td>0</td>\n",
       "      <td>13</td>\n",
       "      <td>False</td>\n",
       "      <td>False</td>\n",
       "      <td>False</td>\n",
       "      <td>False</td>\n",
       "      <td>...</td>\n",
       "      <td>False</td>\n",
       "      <td>False</td>\n",
       "      <td>False</td>\n",
       "      <td>False</td>\n",
       "      <td>False</td>\n",
       "      <td>False</td>\n",
       "      <td>False</td>\n",
       "      <td>True</td>\n",
       "      <td>False</td>\n",
       "      <td>False</td>\n",
       "    </tr>\n",
       "    <tr>\n",
       "      <th>1</th>\n",
       "      <td>38</td>\n",
       "      <td>215646</td>\n",
       "      <td>9</td>\n",
       "      <td>0</td>\n",
       "      <td>0</td>\n",
       "      <td>40</td>\n",
       "      <td>False</td>\n",
       "      <td>False</td>\n",
       "      <td>False</td>\n",
       "      <td>False</td>\n",
       "      <td>...</td>\n",
       "      <td>False</td>\n",
       "      <td>False</td>\n",
       "      <td>False</td>\n",
       "      <td>False</td>\n",
       "      <td>False</td>\n",
       "      <td>False</td>\n",
       "      <td>False</td>\n",
       "      <td>True</td>\n",
       "      <td>False</td>\n",
       "      <td>False</td>\n",
       "    </tr>\n",
       "    <tr>\n",
       "      <th rowspan=\"2\" valign=\"top\">2</th>\n",
       "      <th>1</th>\n",
       "      <td>53</td>\n",
       "      <td>234721</td>\n",
       "      <td>7</td>\n",
       "      <td>0</td>\n",
       "      <td>0</td>\n",
       "      <td>40</td>\n",
       "      <td>False</td>\n",
       "      <td>False</td>\n",
       "      <td>False</td>\n",
       "      <td>False</td>\n",
       "      <td>...</td>\n",
       "      <td>False</td>\n",
       "      <td>False</td>\n",
       "      <td>False</td>\n",
       "      <td>False</td>\n",
       "      <td>False</td>\n",
       "      <td>False</td>\n",
       "      <td>False</td>\n",
       "      <td>True</td>\n",
       "      <td>False</td>\n",
       "      <td>False</td>\n",
       "    </tr>\n",
       "    <tr>\n",
       "      <th>0</th>\n",
       "      <td>28</td>\n",
       "      <td>338409</td>\n",
       "      <td>13</td>\n",
       "      <td>0</td>\n",
       "      <td>0</td>\n",
       "      <td>40</td>\n",
       "      <td>False</td>\n",
       "      <td>False</td>\n",
       "      <td>False</td>\n",
       "      <td>False</td>\n",
       "      <td>...</td>\n",
       "      <td>False</td>\n",
       "      <td>False</td>\n",
       "      <td>False</td>\n",
       "      <td>False</td>\n",
       "      <td>False</td>\n",
       "      <td>False</td>\n",
       "      <td>False</td>\n",
       "      <td>False</td>\n",
       "      <td>False</td>\n",
       "      <td>False</td>\n",
       "    </tr>\n",
       "    <tr>\n",
       "      <th>4</th>\n",
       "      <th>0</th>\n",
       "      <td>37</td>\n",
       "      <td>284582</td>\n",
       "      <td>14</td>\n",
       "      <td>0</td>\n",
       "      <td>0</td>\n",
       "      <td>40</td>\n",
       "      <td>False</td>\n",
       "      <td>False</td>\n",
       "      <td>False</td>\n",
       "      <td>False</td>\n",
       "      <td>...</td>\n",
       "      <td>False</td>\n",
       "      <td>False</td>\n",
       "      <td>False</td>\n",
       "      <td>False</td>\n",
       "      <td>False</td>\n",
       "      <td>False</td>\n",
       "      <td>False</td>\n",
       "      <td>True</td>\n",
       "      <td>False</td>\n",
       "      <td>False</td>\n",
       "    </tr>\n",
       "    <tr>\n",
       "      <th>2</th>\n",
       "      <th>0</th>\n",
       "      <td>49</td>\n",
       "      <td>160187</td>\n",
       "      <td>5</td>\n",
       "      <td>0</td>\n",
       "      <td>0</td>\n",
       "      <td>16</td>\n",
       "      <td>False</td>\n",
       "      <td>False</td>\n",
       "      <td>False</td>\n",
       "      <td>False</td>\n",
       "      <td>...</td>\n",
       "      <td>False</td>\n",
       "      <td>False</td>\n",
       "      <td>False</td>\n",
       "      <td>False</td>\n",
       "      <td>False</td>\n",
       "      <td>False</td>\n",
       "      <td>False</td>\n",
       "      <td>False</td>\n",
       "      <td>False</td>\n",
       "      <td>False</td>\n",
       "    </tr>\n",
       "    <tr>\n",
       "      <th rowspan=\"3\" valign=\"top\">4</th>\n",
       "      <th>1</th>\n",
       "      <td>52</td>\n",
       "      <td>209642</td>\n",
       "      <td>9</td>\n",
       "      <td>0</td>\n",
       "      <td>0</td>\n",
       "      <td>45</td>\n",
       "      <td>False</td>\n",
       "      <td>False</td>\n",
       "      <td>False</td>\n",
       "      <td>False</td>\n",
       "      <td>...</td>\n",
       "      <td>False</td>\n",
       "      <td>False</td>\n",
       "      <td>False</td>\n",
       "      <td>False</td>\n",
       "      <td>False</td>\n",
       "      <td>False</td>\n",
       "      <td>False</td>\n",
       "      <td>True</td>\n",
       "      <td>False</td>\n",
       "      <td>False</td>\n",
       "    </tr>\n",
       "    <tr>\n",
       "      <th>0</th>\n",
       "      <td>31</td>\n",
       "      <td>45781</td>\n",
       "      <td>14</td>\n",
       "      <td>14084</td>\n",
       "      <td>0</td>\n",
       "      <td>50</td>\n",
       "      <td>False</td>\n",
       "      <td>False</td>\n",
       "      <td>False</td>\n",
       "      <td>False</td>\n",
       "      <td>...</td>\n",
       "      <td>False</td>\n",
       "      <td>False</td>\n",
       "      <td>False</td>\n",
       "      <td>False</td>\n",
       "      <td>False</td>\n",
       "      <td>False</td>\n",
       "      <td>False</td>\n",
       "      <td>True</td>\n",
       "      <td>False</td>\n",
       "      <td>False</td>\n",
       "    </tr>\n",
       "    <tr>\n",
       "      <th>1</th>\n",
       "      <td>42</td>\n",
       "      <td>159449</td>\n",
       "      <td>13</td>\n",
       "      <td>5178</td>\n",
       "      <td>0</td>\n",
       "      <td>40</td>\n",
       "      <td>False</td>\n",
       "      <td>False</td>\n",
       "      <td>False</td>\n",
       "      <td>False</td>\n",
       "      <td>...</td>\n",
       "      <td>False</td>\n",
       "      <td>False</td>\n",
       "      <td>False</td>\n",
       "      <td>False</td>\n",
       "      <td>False</td>\n",
       "      <td>False</td>\n",
       "      <td>False</td>\n",
       "      <td>True</td>\n",
       "      <td>False</td>\n",
       "      <td>False</td>\n",
       "    </tr>\n",
       "  </tbody>\n",
       "</table>\n",
       "<p>10 rows × 101 columns</p>\n",
       "</div>"
      ]
     },
     "execution_count": 29,
     "metadata": {},
     "output_type": "execute_result"
    }
   ],
   "execution_count": 29
  },
  {
   "cell_type": "markdown",
   "metadata": {
    "id": "8bMlpomVQKUa"
   },
   "source": [
    "The protected attribute information is also replicated in the labels:"
   ]
  },
  {
   "cell_type": "code",
   "metadata": {
    "colab": {
     "base_uri": "https://localhost:8080/"
    },
    "id": "HSpthk1lQKUa",
    "outputId": "b98fb738-2dd1-44b7-fe64-2dbbcb59a6a2",
    "ExecuteTime": {
     "end_time": "2024-04-11T17:59:14.360009Z",
     "start_time": "2024-04-11T17:59:14.356411Z"
    }
   },
   "source": "y_train.head(10)",
   "outputs": [
    {
     "data": {
      "text/plain": [
       "race  sex\n",
       "4     0      0\n",
       "0     1      1\n",
       "4     1      0\n",
       "      0      0\n",
       "      0      0\n",
       "      1      0\n",
       "      0      1\n",
       "0     0      0\n",
       "2     1      0\n",
       "4     1      0\n",
       "Name: income, dtype: int64"
      ]
     },
     "execution_count": 30,
     "metadata": {},
     "output_type": "execute_result"
    }
   ],
   "execution_count": 30
  },
  {
   "cell_type": "markdown",
   "metadata": {
    "id": "13UfQJx_QKUb"
   },
   "source": [
    "## Running metrics"
   ]
  },
  {
   "cell_type": "markdown",
   "metadata": {
    "id": "iMTOzFVLQKUb"
   },
   "source": [
    "With the data in this format, we can easily train a scikit-learn model and get predictions for the test data:"
   ]
  },
  {
   "cell_type": "code",
   "metadata": {
    "colab": {
     "base_uri": "https://localhost:8080/"
    },
    "id": "tHeMqub4QKUb",
    "outputId": "7b06fd6c-bbc9-45d4-b6f2-daf3455a44fa",
    "ExecuteTime": {
     "end_time": "2024-04-11T17:59:14.426771Z",
     "start_time": "2024-04-11T17:59:14.360711Z"
    }
   },
   "source": [
    "y_pred = LogisticRegression(solver='liblinear').fit(X_train, y_train).predict(X_test)\n",
    "accuracy_score(y_test, y_pred)"
   ],
   "outputs": [
    {
     "data": {
      "text/plain": [
       "0.8021291841539564"
      ]
     },
     "execution_count": 31,
     "metadata": {},
     "output_type": "execute_result"
    }
   ],
   "execution_count": 31
  },
  {
   "cell_type": "markdown",
   "metadata": {
    "id": "aVu8VzgpQKUb"
   },
   "source": "Now, we can analyze our predictions and quickly calculate the disparate impact for females vs. males:"
  },
  {
   "cell_type": "code",
   "metadata": {
    "colab": {
     "base_uri": "https://localhost:8080/"
    },
    "id": "8mVD0ZWSQKUb",
    "outputId": "204a3f64-8306-469f-c39a-2fbf90f17039",
    "ExecuteTime": {
     "end_time": "2024-04-11T17:59:14.468327Z",
     "start_time": "2024-04-11T17:59:14.448214Z"
    }
   },
   "source": [
    "disparate_impact_ratio(y_test, y_pred, prot_attr='sex')"
   ],
   "outputs": [
    {
     "data": {
      "text/plain": [
       "0.4937724865882336"
      ]
     },
     "execution_count": 32,
     "metadata": {},
     "output_type": "execute_result"
    }
   ],
   "execution_count": 32
  },
  {
   "cell_type": "markdown",
   "metadata": {
    "id": "cNonH6t1QKUc"
   },
   "source": [
    "And similarly, we can assess how close the predictions are to equality of odds.\n",
    "\n",
    "`average_odds_error()` computes the (unweighted) average of the absolute values of the true positive rate (TPR) difference and false positive rate (FPR) difference, i.e.:\n",
    "\n",
    "$$ \\tfrac{1}{2}\\left(|FPR_{D = \\text{unprivileged}} - FPR_{D = \\text{privileged}}| + |TPR_{D = \\text{unprivileged}} - TPR_{D = \\text{privileged}}|\\right) $$"
   ]
  },
  {
   "cell_type": "code",
   "metadata": {
    "colab": {
     "base_uri": "https://localhost:8080/"
    },
    "id": "C5_ZlM4dQKUc",
    "outputId": "2fd17013-5f9f-4131-8826-d3a50b7ef713",
    "ExecuteTime": {
     "end_time": "2024-04-11T17:59:14.491302Z",
     "start_time": "2024-04-11T17:59:14.470567Z"
    }
   },
   "source": [
    "average_odds_error(y_test, y_pred, priv_group=(1, 1))"
   ],
   "outputs": [
    {
     "data": {
      "text/plain": [
       "0.04298455872306367"
      ]
     },
     "execution_count": 33,
     "metadata": {},
     "output_type": "execute_result"
    }
   ],
   "execution_count": 33
  },
  {
   "cell_type": "markdown",
   "metadata": {
    "id": "H0VZVtSrQKUc"
   },
   "source": [
    "In that case, we chose to look at the intersection of all protected attributes (race and sex) and designate a single combination (white males) as privileged.\n",
    "\n",
    "If we wish to do something more complex, we can pass a custom array of protected attributes, like so (note: this choice of protected groups is just for demonstration):"
   ]
  },
  {
   "cell_type": "code",
   "metadata": {
    "colab": {
     "base_uri": "https://localhost:8080/"
    },
    "id": "LmcK2STxQKUc",
    "outputId": "eccc550b-b7cb-49c7-dca7-5ef1f2d621c2",
    "ExecuteTime": {
     "end_time": "2024-04-11T17:59:14.503265Z",
     "start_time": "2024-04-11T17:59:14.493046Z"
    }
   },
   "source": [
    "race = y_test.index.get_level_values('race').to_numpy()\n",
    "sex = y_test.index.get_level_values('sex').to_numpy()\n",
    "prot_attr = np.where(race ^ sex, 0, 1)\n",
    "disparate_impact_ratio(y_test, y_pred, prot_attr=prot_attr)"
   ],
   "outputs": [
    {
     "data": {
      "text/plain": [
       "0.6026490933864375"
      ]
     },
     "execution_count": 34,
     "metadata": {},
     "output_type": "execute_result"
    }
   ],
   "execution_count": 34
  },
  {
   "cell_type": "markdown",
   "metadata": {
    "id": "vZRn0EJiQKUd"
   },
   "source": [
    "## Debiasing algorithms"
   ]
  },
  {
   "cell_type": "markdown",
   "metadata": {
    "id": "FJhOugvqQKUd"
   },
   "source": [
    "`ReweighingMeta` is a workaround until changing sample weights can be handled properly in `Pipeline`/`GridSearchCV`"
   ]
  },
  {
   "cell_type": "code",
   "metadata": {
    "colab": {
     "base_uri": "https://localhost:8080/"
    },
    "id": "KyGPWqeVQKUd",
    "outputId": "83e7a7b8-a6a5-4c27-fd73-fb300bb00b58",
    "ExecuteTime": {
     "end_time": "2024-04-11T17:59:15.227009Z",
     "start_time": "2024-04-11T17:59:14.505186Z"
    }
   },
   "source": [
    "rew = ReweighingMeta(estimator=LogisticRegression(solver='liblinear'),\n",
    "                     reweigher=Reweighing('sex'))\n",
    "\n",
    "params = {'estimator__C': [1, 10]}\n",
    "\n",
    "clf = GridSearchCV(rew, params, scoring='accuracy', cv=5)\n",
    "clf.fit(X_train, y_train)\n",
    "print(clf.score(X_test, y_test))\n",
    "print(clf.best_params_)"
   ],
   "outputs": [
    {
     "name": "stdout",
     "output_type": "stream",
     "text": [
      "0.8015149964172382\n",
      "{'estimator__C': 1}\n"
     ]
    }
   ],
   "execution_count": 35
  },
  {
   "cell_type": "code",
   "metadata": {
    "colab": {
     "base_uri": "https://localhost:8080/"
    },
    "id": "WGz3Hn8UQKUd",
    "outputId": "7f2e11c0-dd77-4a0b-b813-02961a3f756a",
    "ExecuteTime": {
     "end_time": "2024-04-11T17:59:15.286312Z",
     "start_time": "2024-04-11T17:59:15.246464Z"
    }
   },
   "source": [
    "disparate_impact_ratio(y_test, clf.predict(X_test), prot_attr='sex')"
   ],
   "outputs": [
    {
     "data": {
      "text/plain": [
       "0.4867537360361544"
      ]
     },
     "execution_count": 36,
     "metadata": {},
     "output_type": "execute_result"
    }
   ],
   "execution_count": 36
  },
  {
   "cell_type": "markdown",
   "metadata": {
    "id": "svwzVk2DQKUe"
   },
   "source": [
    "Rather than trying to weight accuracy and fairness, we can try a fair in-processing algorithm:"
   ]
  },
  {
   "cell_type": "code",
   "metadata": {
    "colab": {
     "base_uri": "https://localhost:8080/"
    },
    "id": "waeF--xEQKUe",
    "outputId": "e68f4dbc-b526-49f2-e859-10d3e1f7d59a",
    "ExecuteTime": {
     "end_time": "2024-04-11T17:59:25.106255Z",
     "start_time": "2024-04-11T17:59:15.288984Z"
    }
   },
   "source": [
    "adv_deb = AdversarialDebiasing(prot_attr='sex', random_state=random_state)\n",
    "adv_deb.fit(X_train, y_train)\n",
    "adv_deb.score(X_test, y_test)"
   ],
   "outputs": [
    {
     "data": {
      "text/plain": [
       "0.7631282628723514"
      ]
     },
     "execution_count": 37,
     "metadata": {},
     "output_type": "execute_result"
    }
   ],
   "execution_count": 37
  },
  {
   "cell_type": "code",
   "metadata": {
    "colab": {
     "base_uri": "https://localhost:8080/"
    },
    "id": "PEXZO3CsQKUe",
    "outputId": "31b00ed9-8ccd-4cb6-b55a-a45bbca77368",
    "ExecuteTime": {
     "end_time": "2024-04-11T17:59:25.154055Z",
     "start_time": "2024-04-11T17:59:25.106935Z"
    }
   },
   "source": [
    "average_odds_error(y_test, adv_deb.predict(X_test), prot_attr='sex')"
   ],
   "outputs": [
    {
     "data": {
      "text/plain": [
       "0.0"
      ]
     },
     "execution_count": 38,
     "metadata": {},
     "output_type": "execute_result"
    }
   ],
   "execution_count": 38
  },
  {
   "cell_type": "markdown",
   "metadata": {
    "id": "ihLM59GVQKUe"
   },
   "source": [
    "Note that `AdversarialDebiasing` creates a TensorFlow session which we should close when we're finished to free up resources:"
   ]
  },
  {
   "cell_type": "code",
   "metadata": {
    "id": "pm75UZQEQKUe",
    "ExecuteTime": {
     "end_time": "2024-04-11T17:59:25.157791Z",
     "start_time": "2024-04-11T17:59:25.154793Z"
    }
   },
   "source": [
    "adv_deb.sess_.close()"
   ],
   "outputs": [],
   "execution_count": 39
  },
  {
   "cell_type": "markdown",
   "metadata": {
    "id": "MwUp9d4GQKUf"
   },
   "source": [
    "Finally, let's try a post-processor, `CalibratedEqualizedOdds`.\n",
    "\n",
    "Since the post-processor needs to be trained on data unseen by the original estimator, we will use the `PostProcessingMeta` class which splits the data and trains the estimator and post-processor with their own split."
   ]
  },
  {
   "cell_type": "code",
   "metadata": {
    "colab": {
     "base_uri": "https://localhost:8080/"
    },
    "id": "dCcMevWgQKUf",
    "outputId": "213d4a62-3898-4fb8-a61e-c56395d53660",
    "ExecuteTime": {
     "end_time": "2024-04-11T17:59:25.227269Z",
     "start_time": "2024-04-11T17:59:25.162685Z"
    }
   },
   "source": [
    "cal_eq_odds = CalibratedEqualizedOdds('sex', cost_constraint='fnr', random_state=random_state)\n",
    "log_reg = LogisticRegression(solver='liblinear')\n",
    "postproc = PostProcessingMeta(estimator=log_reg, postprocessor=cal_eq_odds, random_state=random_state)\n",
    "\n",
    "postproc.fit(X_train, y_train)\n",
    "accuracy_score(y_test, postproc.predict(X_test))"
   ],
   "outputs": [
    {
     "data": {
      "text/plain": [
       "0.7967038591462791"
      ]
     },
     "execution_count": 40,
     "metadata": {},
     "output_type": "execute_result"
    }
   ],
   "execution_count": 40
  },
  {
   "cell_type": "code",
   "metadata": {
    "colab": {
     "base_uri": "https://localhost:8080/",
     "height": 283
    },
    "id": "oSElX6mEQKUf",
    "outputId": "7c6189a7-b615-4ce1-bf6a-ffdac35b0d49",
    "ExecuteTime": {
     "end_time": "2024-04-11T17:59:25.551435Z",
     "start_time": "2024-04-11T17:59:25.228595Z"
    }
   },
   "source": [
    "y_pred = postproc.predict_proba(X_test)[:, 1]\n",
    "y_lr = postproc.estimator_.predict_proba(X_test)[:, 1]\n",
    "br = postproc.postprocessor_.base_rates_\n",
    "i = X_test.index.get_level_values('sex') == 1\n",
    "\n",
    "plt.style.use('seaborn-v0_8-darkgrid')\n",
    "if getenv('TEXLIVE_HOME') is not None:\n",
    "    plt.style.use('tex')\n",
    "    plt.rcParams['legend.fontsize'] = 10\n",
    "\n",
    "plt.plot([0, br[0]], [0, 1-br[0]], '-b', label='All calibrated classifiers (Females)')\n",
    "plt.plot([0, br[1]], [0, 1-br[1]], '-r', label='All calibrated classifiers (Males)')\n",
    "\n",
    "plt.scatter(generalized_fpr(y_test[~i], y_lr[~i]),\n",
    "            generalized_fnr(y_test[~i], y_lr[~i]),\n",
    "            300, c='blue', marker='.', label='Original classifier (Females)')\n",
    "plt.scatter(generalized_fpr(y_test[i], y_lr[i]),\n",
    "            generalized_fnr(y_test[i], y_lr[i]),\n",
    "            300, c='red', marker='.', label='Original classifier (Males)')\n",
    "\n",
    "plt.scatter(generalized_fpr(y_test[~i], y_pred[~i]),\n",
    "            generalized_fnr(y_test[~i], y_pred[~i]),\n",
    "            100, c='blue', marker='d', label='Post-processed classifier (Females)')\n",
    "plt.scatter(generalized_fpr(y_test[i], y_pred[i]),\n",
    "            generalized_fnr(y_test[i], y_pred[i]),\n",
    "            100, c='red', marker='d', label='Post-processed classifier (Males)')\n",
    "\n",
    "plt.plot([0, 1], [generalized_fnr(y_test, y_pred)]*2, '--', c='0.5')\n",
    "\n",
    "plt.axis('square')\n",
    "plt.xlim([0.0, 0.4])\n",
    "plt.ylim([0.3, 0.7])\n",
    "plt.xlabel('generalized fpr')\n",
    "plt.ylabel('generalized fnr')\n",
    "plt.legend(bbox_to_anchor=(1.04,1), loc='upper left');"
   ],
   "outputs": [
    {
     "data": {
      "text/plain": [
       "<Figure size 640x480 with 1 Axes>"
      ],
      "image/png": "[encoded data removed]"
     },
     "metadata": {},
     "output_type": "display_data"
    }
   ],
   "execution_count": 41
  },
  {
   "cell_type": "markdown",
   "metadata": {
    "id": "na2YWDICQKUg"
   },
   "source": [
    "We can see the generalized false negative rate is approximately equalized and the classifiers remain close to the calibration lines.\n",
    "\n",
    "We can quanitify the discrepancy between protected groups using the `difference` operator:"
   ]
  },
  {
   "cell_type": "code",
   "metadata": {
    "colab": {
     "base_uri": "https://localhost:8080/"
    },
    "id": "smrTomVyQKUg",
    "outputId": "6add1353-fae6-474a-b9e8-5d1be8cd8a39",
    "ExecuteTime": {
     "end_time": "2024-04-11T17:59:25.555960Z",
     "start_time": "2024-04-11T17:59:25.552171Z"
    }
   },
   "source": [
    "difference(generalized_fnr, y_test, y_pred, prot_attr='sex')"
   ],
   "outputs": [
    {
     "data": {
      "text/plain": [
       "-0.014760297113748155"
      ]
     },
     "execution_count": 42,
     "metadata": {},
     "output_type": "execute_result"
    }
   ],
   "execution_count": 42
  },
  {
   "cell_type": "code",
   "metadata": {
    "ExecuteTime": {
     "end_time": "2024-04-11T17:59:25.557692Z",
     "start_time": "2024-04-11T17:59:25.556612Z"
    }
   },
   "source": [],
   "outputs": [],
   "execution_count": 42
  }
 ],
 "metadata": {
  "kernelspec": {
   "display_name": "Python 3",
   "language": "python",
   "name": "python3"
  },
  "language_info": {
   "codemirror_mode": {
    "name": "ipython",
    "version": 3
   },
   "file_extension": ".py",
   "mimetype": "text/x-python",
   "name": "python",
   "nbconvert_exporter": "python",
   "pygments_lexer": "ipython3",
   "version": "3.9.7"
  },
  "vscode": {
   "interpreter": {
    "hash": "d0c5ced7753e77a483fec8ff7063075635521cce6e0bd54998c8f174742209dd"
   }
  }
 },
 "nbformat": 4,
 "nbformat_minor": 2
}
